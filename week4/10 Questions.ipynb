{
 "metadata": {
  "name": "",
  "signature": "sha256:596d564946698e69ed16f32834a9f0d2ec0f1a5a0834b694cfeb69cdb58c4c81"
 },
 "nbformat": 3,
 "nbformat_minor": 0,
 "worksheets": [
  {
   "cells": [
    {
     "cell_type": "markdown",
     "metadata": {},
     "source": [
      "## Task1 (3 points) \n",
      "You have a list of integers. If an element is even and its index in the list is even then you append it to the end. However, you are asked not to check these new elements that you appended to the end. That is the only elements that are checked are those that are in the original array. You are not allowed to use another list.\n",
      "\n",
      "Note: while debugging use a condition that prevents infinite loops.\n",
      "\n",
      "Example: $[0, 1, 2, 3, 4] -> [0, 1, 2, 3, 4, 0, 2, 4]$"
     ]
    },
    {
     "cell_type": "markdown",
     "metadata": {},
     "source": [
      "##Task2 (3 points)\n",
      "Write a function that swaps elements that are in position $i$ and $n - i - 1$, where $n$ is the length of the input list, if element in position $i$ is greater than element in position $n-i-1$.\n",
      "\n",
      "Example: \n",
      "\n",
      "swap_lst([3,1,2,0]) --> [0, 1, 2, 3]\n",
      "\n",
      "swap_lst([3,1,2,0,5]) --> [3, 0, 2, 1, 5]\n"
     ]
    },
    {
     "cell_type": "markdown",
     "metadata": {},
     "source": [
      "##Task3 (4 points)\n",
      "Write a function that takes 2 lists, and an integer $k$ as an input. It groups corresponding chunks of 2 lists together, each of which of size $k$ (except maybe the last chunks of smaller size). If $k$ is greater that length of an array, it should raise ValuError exception. \n",
      "\n",
      "Note: use *zip* function to group corresponding elements of lists together. \n",
      "\n",
      "Example: \n",
      "\n",
      "group_lsts([0,1,2,3], [4,5,6,7], 2) --> [([0,1], [4,5]), ([2,3],[6,7])]\n",
      "\n",
      "group_lsts(range(4), range(4,8), 3) --> [([0, 1, 2], [4, 5, 6]), ([3], [7])]"
     ]
    },
    {
     "cell_type": "code",
     "collapsed": false,
     "input": [],
     "language": "python",
     "metadata": {},
     "outputs": []
    }
   ],
   "metadata": {}
  }
 ]
}