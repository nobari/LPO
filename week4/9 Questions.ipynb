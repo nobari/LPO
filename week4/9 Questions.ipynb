{
 "metadata": {
  "name": "",
  "signature": "sha256:37bca1c7f02ce2cae00dfcaf5947977211fcd42e7225b511521de629c4b6fc40"
 },
 "nbformat": 3,
 "nbformat_minor": 0,
 "worksheets": [
  {
   "cells": [
    {
     "cell_type": "markdown",
     "metadata": {},
     "source": [
      "1.How to read from a text file?"
     ]
    },
    {
     "cell_type": "markdown",
     "metadata": {},
     "source": [
      "2.What readline method does?"
     ]
    },
    {
     "cell_type": "markdown",
     "metadata": {},
     "source": [
      "3.Make at least 5 examples of file methods in Python."
     ]
    },
    {
     "cell_type": "markdown",
     "metadata": {},
     "source": [
      "4.What is the longest word in English language (write a program to answer this question.words.txt)?"
     ]
    },
    {
     "cell_type": "markdown",
     "metadata": {},
     "source": [
      "5.Make at least 5 examples of english words with 3 vowels in a row."
     ]
    },
    {
     "cell_type": "markdown",
     "metadata": {},
     "source": [
      "6.How many palindromes words.txt does contain?"
     ]
    },
    {
     "cell_type": "markdown",
     "metadata": {},
     "source": [
      "7.Write a function called has_no_e that returns True if the given word doesn\u2019t have the letter \u201ce\u201d in it."
     ]
    },
    {
     "cell_type": "markdown",
     "metadata": {},
     "source": [
      "8.Write a function named uses_only that takes a word and a string of letters, and that returns True if the word contains only letters in the list. "
     ]
    },
    {
     "cell_type": "markdown",
     "metadata": {},
     "source": [
      "9.How many words with 3 and more 'k' you can find? Write a program "
     ]
    },
    {
     "cell_type": "markdown",
     "metadata": {},
     "source": [
      "10.Write a function named avoids that takes a word and a string of forbidden letters, and that returns True if the word doesn\u2019t use any of the forbidden letters."
     ]
    },
    {
     "cell_type": "code",
     "collapsed": false,
     "input": [],
     "language": "python",
     "metadata": {},
     "outputs": []
    }
   ],
   "metadata": {}
  }
 ]
}