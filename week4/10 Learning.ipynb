{
 "metadata": {
  "name": "",
  "signature": "sha256:dfb497517df15d3a91a5fd543810cbe010680a0f61c3c2d1c85471207b99520c"
 },
 "nbformat": 3,
 "nbformat_minor": 0,
 "worksheets": [
  {
   "cells": [
    {
     "cell_type": "markdown",
     "metadata": {},
     "source": [
      "## Lists\n",
      "Like a string, a list is a sequence of values. In a string, the values are characters; in a list,\n",
      "they can be any type. The values in a list are called elements or sometimes items."
     ]
    },
    {
     "cell_type": "code",
     "collapsed": false,
     "input": [
      "lst = [1,2,3]\n",
      "s = set([3,2,1,-2,-3,2])\n",
      "\n",
      "lst = ['1', 1, 'str']\n",
      "set(lst)\n",
      "\n",
      "tuple([1,2,3])"
     ],
     "language": "python",
     "metadata": {},
     "outputs": [
      {
       "metadata": {},
       "output_type": "pyout",
       "prompt_number": 27,
       "text": [
        "(1, 2, 3)"
       ]
      }
     ],
     "prompt_number": 27
    },
    {
     "cell_type": "markdown",
     "metadata": {},
     "source": [
      "## Lists are mutable\n",
      "Unlike strings, lists are mutable. When the bracket operator appears on the left side of an\n",
      "assignment, it identifies the element of the list that will be assigned."
     ]
    },
    {
     "cell_type": "code",
     "collapsed": false,
     "input": [
      "lst = [1,2,3]\n",
      "lst[0] = 2\n",
      "\n",
      "t = tuple([1,2,3])"
     ],
     "language": "python",
     "metadata": {},
     "outputs": [
      {
       "output_type": "stream",
       "stream": "stdout",
       "text": [
        "{1: 0, 2: 1}\n"
       ]
      }
     ],
     "prompt_number": 38
    },
    {
     "cell_type": "markdown",
     "metadata": {},
     "source": [
      "##Traversing a list\n",
      "The most common way to traverse the elements of a list is with a for loop. "
     ]
    },
    {
     "cell_type": "code",
     "collapsed": false,
     "input": [
      "xs = ['a', 'b', 'c']\n",
      "\n",
      "# for x in xs[::-1]:\n",
      "#     print x\n",
      "# for i, x in enumerate(xs):\n",
      "#     print i, x\n",
      "\n",
      "def f(xs):\n",
      "    return map(lambda x: 3*x, xs)\n",
      "\n",
      "xs = [1,2,3]\n",
      "i = 0 \n",
      "for x in xs:\n",
      "    print x,\n",
      "    xs.append(x)\n",
      "    i += 1\n",
      "    if i == 7:\n",
      "       break \n",
      "\n",
      "# for x in xs[:]:\n",
      "#     print x,\n",
      "#     xs.append(x)\n",
      "\n",
      "# print \n",
      "# print xs"
     ],
     "language": "python",
     "metadata": {},
     "outputs": [
      {
       "output_type": "stream",
       "stream": "stdout",
       "text": [
        "1 2 3 1 2 3 1\n"
       ]
      }
     ],
     "prompt_number": 58
    },
    {
     "cell_type": "markdown",
     "metadata": {},
     "source": [
      "##List operations\n",
      "The + operator concatenates lists. Similarly, the * operator repeats a list a given number of times"
     ]
    },
    {
     "cell_type": "code",
     "collapsed": false,
     "input": [
      "xs = [1,2,3]\n",
      "\n",
      "import time\n",
      "start = time.time()\n",
      "xs += range(10**6)\n",
      "print time.time() - start \n",
      "start = time.time()\n",
      "xs = xs + range(10**6)\n",
      "print time.time() - start\n",
      "    \n",
      "\n"
     ],
     "language": "python",
     "metadata": {},
     "outputs": [
      {
       "output_type": "stream",
       "stream": "stdout",
       "text": [
        "None\n"
       ]
      }
     ],
     "prompt_number": 64
    },
    {
     "cell_type": "markdown",
     "metadata": {},
     "source": [
      " ##List slices\n",
      "If you omit the first index, the slice starts at the beginning. If you omit the second, the slice\n",
      "goes to the end. So if you omit both, the slice is a copy of the whole list."
     ]
    },
    {
     "cell_type": "code",
     "collapsed": false,
     "input": [
      "xs = [1,2,3,4,5]\n",
      "n = len(xs)"
     ],
     "language": "python",
     "metadata": {},
     "outputs": [
      {
       "metadata": {},
       "output_type": "pyout",
       "prompt_number": 21,
       "text": [
        "True"
       ]
      }
     ],
     "prompt_number": 21
    },
    {
     "cell_type": "markdown",
     "metadata": {},
     "source": [
      "##Deleting elements\n",
      "There are several ways to delete elements from a list. If you know the index of the element\n",
      "you want, you can use pop. If you don\u2019t need the removed value, you can use the del operator. \n",
      "If you know the element you want to remove (but not the index), you can use remove. "
     ]
    },
    {
     "cell_type": "code",
     "collapsed": false,
     "input": [
      "xs = [1,2,3]\n",
      "del xs[1]\n",
      "xs"
     ],
     "language": "python",
     "metadata": {},
     "outputs": [
      {
       "metadata": {},
       "output_type": "pyout",
       "prompt_number": 10,
       "text": [
        "[1, 3]"
       ]
      }
     ],
     "prompt_number": 10
    },
    {
     "cell_type": "markdown",
     "metadata": {},
     "source": [
      "##Aliasing\n",
      "If a refers to an object and you assign b = a, then both variables refer to the same object."
     ]
    },
    {
     "cell_type": "code",
     "collapsed": false,
     "input": [
      "# a = [1,2,3]\n",
      "# b = a\n",
      "a = [[]]*3\n",
      "a[1] = a[1][:]\n",
      "a[1].append(2)\n",
      "print a\n",
      "# a\n",
      "# import copy\n",
      "# b = copy.deepcopy(a)\n",
      "# print a\n",
      "# b[1].append(3)\n",
      "# print b"
     ],
     "language": "python",
     "metadata": {},
     "outputs": [
      {
       "output_type": "stream",
       "stream": "stdout",
       "text": [
        "[[], [2], []]\n"
       ]
      }
     ],
     "prompt_number": 35
    },
    {
     "cell_type": "code",
     "collapsed": false,
     "input": [],
     "language": "python",
     "metadata": {},
     "outputs": []
    }
   ],
   "metadata": {}
  }
 ]
}