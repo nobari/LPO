{
 "metadata": {
  "name": "",
  "signature": "sha256:5ca1b209fdc503db240098f540a7727ce69dca9a5e48602ce2ae66bb7909c5f7"
 },
 "nbformat": 3,
 "nbformat_minor": 0,
 "worksheets": [
  {
   "cells": [
    {
     "cell_type": "heading",
     "level": 1,
     "metadata": {},
     "source": [
      "Main info about tuples"
     ]
    },
    {
     "cell_type": "markdown",
     "metadata": {},
     "source": [
      "Tuples are immutable sequences, which means that individual elements of a tuple can not be reassigned after initializing he tuple."
     ]
    },
    {
     "cell_type": "heading",
     "level": 2,
     "metadata": {},
     "source": [
      "Tuple packing"
     ]
    },
    {
     "cell_type": "markdown",
     "metadata": {},
     "source": [
      "The usual thing to do with tuples is 'pack' elements into a tuple:"
     ]
    },
    {
     "cell_type": "code",
     "collapsed": false,
     "input": [
      "sample_tuple = ('a', 1, 5.0, \"string\", (\"another\", \"tuple\")) # this is called 'tuple packing'\n",
      "print(sample_tuple)"
     ],
     "language": "python",
     "metadata": {},
     "outputs": [
      {
       "output_type": "stream",
       "stream": "stdout",
       "text": [
        "('a', 1, 5.0, 'string', ('another', 'tuple'))\n"
       ]
      }
     ],
     "prompt_number": 68
    },
    {
     "cell_type": "code",
     "collapsed": false,
     "input": [
      "t = (1, [2,3])\n",
      "t[0] += 1\n",
      "\n",
      "t[1].append(1)\n",
      "print(t)"
     ],
     "language": "python",
     "metadata": {},
     "outputs": [
      {
       "output_type": "stream",
       "stream": "stdout",
       "text": [
        "[2, [2, 3, 1]]\n"
       ]
      }
     ],
     "prompt_number": 96
    },
    {
     "cell_type": "code",
     "collapsed": false,
     "input": [
      "# initialize a tuple\n",
      "simple = 1,2,3\n",
      "print(simple)\n",
      "\n",
      "# initialize an empty tuple\n",
      "empty = ()\n",
      "print(empty)\n",
      "\n",
      "#initialize a single-element tuple\n",
      "singleton = (1,) # note the comma after the only element\n",
      "print(singleton)\n",
      "print(len(singleton))"
     ],
     "language": "python",
     "metadata": {},
     "outputs": [
      {
       "output_type": "stream",
       "stream": "stdout",
       "text": [
        "(1, 2, 3)\n",
        "()\n",
        "(1,)\n",
        "1\n"
       ]
      }
     ],
     "prompt_number": 101
    },
    {
     "cell_type": "markdown",
     "metadata": {},
     "source": [
      "As you see, on output tuples are always enclosed in parentheses, so that nested tuples are interpreted correctly; they may be input with or without surrounding parentheses, although often parentheses are necessary anyway (if the tuple is part of a larger expression). It is not possible to assign to the individual items of a tuple, however it is possible to create tuples which contain mutable objects, such as lists. (from https://docs.python.org/3/tutorial/datastructures.html)"
     ]
    },
    {
     "cell_type": "markdown",
     "metadata": {},
     "source": [
      "As noted before, tuples are immutable (code adapted from http://www.greenteapress.com/thinkpython/html/thinkpython013.html):"
     ]
    },
    {
     "cell_type": "code",
     "collapsed": true,
     "input": [
      "no_parentheses = 1,2,3 \n",
      "print(no_parentheses)"
     ],
     "language": "python",
     "metadata": {},
     "outputs": [
      {
       "output_type": "stream",
       "stream": "stdout",
       "text": [
        "(1, 2, 3)\n"
       ]
      }
     ],
     "prompt_number": 70
    },
    {
     "cell_type": "heading",
     "level": 2,
     "metadata": {},
     "source": [
      "Tuple unpacking"
     ]
    },
    {
     "cell_type": "markdown",
     "metadata": {},
     "source": [
      "Tuples could be \"unpacked\" into separate variables:"
     ]
    },
    {
     "cell_type": "code",
     "collapsed": false,
     "input": [
      "sample_tuple = ('a', 1, 5.0, \"string\", (\"another\", \"tuple\")) # this is called 'tuple packing'\n",
      "print(sample_tuple)\n",
      "\n",
      "x1,x2,x3,x4, x5 = sample_tuple # this operation is called \"tuple unpacking\"\n",
      "print(x1,x2,x3,x4)"
     ],
     "language": "python",
     "metadata": {},
     "outputs": [
      {
       "output_type": "stream",
       "stream": "stdout",
       "text": [
        "('a', 1, 5.0, 'string', ('another', 'tuple'))\n",
        "a 1 5.0 string\n"
       ]
      }
     ],
     "prompt_number": 104
    },
    {
     "cell_type": "heading",
     "level": 3,
     "metadata": {},
     "source": [
      "Example: swap variables"
     ]
    },
    {
     "cell_type": "markdown",
     "metadata": {},
     "source": [
      "Adapted from http://www.greenteapress.com/thinkpython/html/thinkpython013.html"
     ]
    },
    {
     "cell_type": "code",
     "collapsed": false,
     "input": [
      "a = 1\n",
      "b = 2\n",
      "\n",
      "# It is often useful to swap the values of two variables. With conventional assignments, you have to use a temporary variable. For example, to swap a and b:\n",
      "temp = a\n",
      "a = b\n",
      "b = temp\n",
      "\n",
      "# This solution is cumbersome; tuple assignment is more elegant:\n",
      "a, b = b, a\n",
      "\n",
      "tmp = b,a #pack\n",
      "a,b = tmp #unpack"
     ],
     "language": "python",
     "metadata": {},
     "outputs": [],
     "prompt_number": 106
    },
    {
     "cell_type": "heading",
     "level": 2,
     "metadata": {},
     "source": [
      "Tuple operations"
     ]
    },
    {
     "cell_type": "markdown",
     "metadata": {},
     "source": [
      "Tuple has only two standard methods: count and index"
     ]
    },
    {
     "cell_type": "code",
     "collapsed": false,
     "input": [
      "a = (1, 2, 3, 3, 4)\n",
      "print(dir(a))\n",
      "\n",
      "print(a.count(3)) # number of times we find 3\n",
      "print(a.index(4)) # first index of 4"
     ],
     "language": "python",
     "metadata": {},
     "outputs": [
      {
       "output_type": "stream",
       "stream": "stdout",
       "text": [
        "['__add__', '__class__', '__contains__', '__delattr__', '__dir__', '__doc__', '__eq__', '__format__', '__ge__', '__getattribute__', '__getitem__', '__getnewargs__', '__gt__', '__hash__', '__init__', '__iter__', '__le__', '__len__', '__lt__', '__mul__', '__ne__', '__new__', '__reduce__', '__reduce_ex__', '__repr__', '__rmul__', '__setattr__', '__sizeof__', '__str__', '__subclasshook__', 'count', 'index']\n",
        "2\n",
        "4\n"
       ]
      }
     ],
     "prompt_number": 73
    },
    {
     "cell_type": "code",
     "collapsed": false,
     "input": [
      "# Most list operators also work on tuples. The bracket operator indexes an element:\n",
      "t = ('a', 'b', 'c', 'd', 'e')\n",
      "print (t[0])\n",
      "\n",
      "# And the slice operator selects a range of elements.\n",
      "print (t[1:3])"
     ],
     "language": "python",
     "metadata": {},
     "outputs": [
      {
       "output_type": "stream",
       "stream": "stdout",
       "text": [
        "a\n",
        "('b', 'c')\n"
       ]
      }
     ],
     "prompt_number": 74
    },
    {
     "cell_type": "code",
     "collapsed": false,
     "input": [
      "t = ('a', 'b', 'c', 'd', 'e')\n",
      "# if you try to modify one of the elements of the tuple, you get an error:\n",
      "t[0] = 'A'"
     ],
     "language": "python",
     "metadata": {},
     "outputs": [
      {
       "ename": "TypeError",
       "evalue": "'tuple' object does not support item assignment",
       "output_type": "pyerr",
       "traceback": [
        "\u001b[0;31m---------------------------------------------------------------------------\u001b[0m\n\u001b[0;31mTypeError\u001b[0m                                 Traceback (most recent call last)",
        "\u001b[0;32m<ipython-input-108-9d09aed0fcef>\u001b[0m in \u001b[0;36m<module>\u001b[0;34m()\u001b[0m\n\u001b[1;32m      1\u001b[0m \u001b[0mt\u001b[0m \u001b[0;34m=\u001b[0m \u001b[0;34m(\u001b[0m\u001b[0;34m'a'\u001b[0m\u001b[0;34m,\u001b[0m \u001b[0;34m'b'\u001b[0m\u001b[0;34m,\u001b[0m \u001b[0;34m'c'\u001b[0m\u001b[0;34m,\u001b[0m \u001b[0;34m'd'\u001b[0m\u001b[0;34m,\u001b[0m \u001b[0;34m'e'\u001b[0m\u001b[0;34m)\u001b[0m\u001b[0;34m\u001b[0m\u001b[0m\n\u001b[1;32m      2\u001b[0m \u001b[0;31m# if you try to modify one of the elements of the tuple, you get an error:\u001b[0m\u001b[0;34m\u001b[0m\u001b[0;34m\u001b[0m\u001b[0m\n\u001b[0;32m----> 3\u001b[0;31m \u001b[0mt\u001b[0m\u001b[0;34m[\u001b[0m\u001b[0;36m0\u001b[0m\u001b[0;34m]\u001b[0m \u001b[0;34m=\u001b[0m \u001b[0;34m'A'\u001b[0m\u001b[0;34m\u001b[0m\u001b[0m\n\u001b[0m",
        "\u001b[0;31mTypeError\u001b[0m: 'tuple' object does not support item assignment"
       ]
      }
     ],
     "prompt_number": 108
    },
    {
     "cell_type": "heading",
     "level": 1,
     "metadata": {},
     "source": [
      "Tuples and functions"
     ]
    },
    {
     "cell_type": "heading",
     "level": 2,
     "metadata": {},
     "source": [
      "Tuples as return values"
     ]
    },
    {
     "cell_type": "markdown",
     "metadata": {},
     "source": [
      "Adapted from http://www.greenteapress.com/thinkpython/html/thinkpython013.html"
     ]
    },
    {
     "cell_type": "markdown",
     "metadata": {},
     "source": [
      "Strictly speaking, a function can only return one value, but if the value is a tuple, the effect is the same as returning multiple values. For example, if you want to divide two integers and compute the quotient and remainder, it is inefficient to compute x/y and then x%y. It is better to compute them both at the same time.\n",
      "    \n",
      "The built-in function divmod takes two arguments and returns a tuple of two values, the quotient and remainder."
     ]
    },
    {
     "cell_type": "code",
     "collapsed": false,
     "input": [
      "# You can store the result as a tuple:\n",
      "t = divmod(7, 3)\n",
      "print (t)\n",
      "\n",
      "# Or use tuple assignment to store the elements separately:\n",
      "quot, rem = divmod(7, 3)\n",
      "print (quot)\n",
      "print (rem)"
     ],
     "language": "python",
     "metadata": {},
     "outputs": [
      {
       "output_type": "stream",
       "stream": "stdout",
       "text": [
        "(2, 1)\n",
        "2\n",
        "1\n"
       ]
      }
     ],
     "prompt_number": 76
    },
    {
     "cell_type": "heading",
     "level": 2,
     "metadata": {},
     "source": [
      "Tuples as arguments, gather and scatter"
     ]
    },
    {
     "cell_type": "markdown",
     "metadata": {},
     "source": [
      "Adapted from http://www.greenteapress.com/thinkpython/html/thinkpython013.html"
     ]
    },
    {
     "cell_type": "heading",
     "level": 3,
     "metadata": {},
     "source": [
      "Argument gather"
     ]
    },
    {
     "cell_type": "markdown",
     "metadata": {},
     "source": [
      "Functions can take a variable number of arguments. A parameter name that begins with * gathers arguments into a tuple. For example, printall takes any number of arguments and prints them:"
     ]
    },
    {
     "cell_type": "code",
     "collapsed": false,
     "input": [
      "def printall(*args):\n",
      "    print (args)"
     ],
     "language": "python",
     "metadata": {},
     "outputs": [
      {
       "output_type": "stream",
       "stream": "stdout",
       "text": [
        "(1, '4', 'str', [])\n"
       ]
      }
     ],
     "prompt_number": 112
    },
    {
     "cell_type": "markdown",
     "metadata": {},
     "source": [
      "The gather parameter can have any name you like, but args is conventional. Here\u2019s how the function works:"
     ]
    },
    {
     "cell_type": "code",
     "collapsed": false,
     "input": [
      "def printall(*args):\n",
      "    print (args)\n",
      "\n",
      "printall(1, 2.0, '3')"
     ],
     "language": "python",
     "metadata": {},
     "outputs": [
      {
       "output_type": "stream",
       "stream": "stdout",
       "text": [
        "(1, 2.0, '3')\n"
       ]
      }
     ],
     "prompt_number": 78
    },
    {
     "cell_type": "heading",
     "level": 3,
     "metadata": {},
     "source": [
      "Argument scatter"
     ]
    },
    {
     "cell_type": "markdown",
     "metadata": {},
     "source": [
      "The complement of gather is scatter. If you have a sequence of values and you want to pass it to a function as multiple arguments, you can use the * operator. For example, divmod takes exactly two arguments; it doesn\u2019t work with a tuple:"
     ]
    },
    {
     "cell_type": "code",
     "collapsed": false,
     "input": [
      "t = (7, 3)\n",
      "divmod(t[0], t[1])\n",
      "#divmod(t)\n"
     ],
     "language": "python",
     "metadata": {},
     "outputs": [
      {
       "metadata": {},
       "output_type": "pyout",
       "prompt_number": 114,
       "text": [
        "(2, 1)"
       ]
      }
     ],
     "prompt_number": 114
    },
    {
     "cell_type": "markdown",
     "metadata": {},
     "source": [
      "Correct way is to scatter the tuple:"
     ]
    },
    {
     "cell_type": "code",
     "collapsed": false,
     "input": [
      "t = (7, 3)\n",
      "print (divmod(*t))\n",
      "\n",
      "divmod(*divmod(*t))"
     ],
     "language": "python",
     "metadata": {},
     "outputs": [
      {
       "output_type": "stream",
       "stream": "stdout",
       "text": [
        "(2, 1)\n"
       ]
      },
      {
       "metadata": {},
       "output_type": "pyout",
       "prompt_number": 119,
       "text": [
        "(2, 0)"
       ]
      }
     ],
     "prompt_number": 119
    },
    {
     "cell_type": "heading",
     "level": 3,
     "metadata": {},
     "source": [
      "Gotcha \u2014 Mutable default arguments"
     ]
    },
    {
     "cell_type": "markdown",
     "metadata": {},
     "source": [
      "Source: http://pythonconquerstheuniverse.wordpress.com/2012/02/15/mutable-default-arguments/"
     ]
    },
    {
     "cell_type": "markdown",
     "metadata": {},
     "source": [
      "Consider the following function definition:"
     ]
    },
    {
     "cell_type": "code",
     "collapsed": false,
     "input": [
      "def foobar(arg_string = \"abc\", arg_list = []):\n",
      "    arg_string = arg_string + \"def\"\n",
      "    return arg_string\n",
      "\n",
      "print(foobar())\n",
      "print(foobar())"
     ],
     "language": "python",
     "metadata": {},
     "outputs": [
      {
       "output_type": "stream",
       "stream": "stdout",
       "text": [
        "abcdef\n",
        "abcdef\n"
       ]
      }
     ],
     "prompt_number": 136
    },
    {
     "cell_type": "code",
     "collapsed": false,
     "input": [
      "def foobar(arg_string = \"abc\", arg_list = []):\n",
      "    arg_list.append(\"X\")\n",
      "    return arg_list\n",
      "\n",
      "print(foobar())\n",
      "print(foobar())\n",
      "print(foobar())"
     ],
     "language": "python",
     "metadata": {},
     "outputs": [
      {
       "output_type": "stream",
       "stream": "stdout",
       "text": [
        "['X']\n",
        "['X', 'X']\n",
        "['X', 'X', 'X']\n",
        "['X', 'X', 'X', 'X']\n",
        "['X', 'X', 'X', 'X', 'X']\n",
        "['X', 'X', 'X', 'X', 'X', 'X']\n",
        "True\n"
       ]
      }
     ],
     "prompt_number": 140
    },
    {
     "cell_type": "markdown",
     "metadata": {},
     "source": [
      "Main thing to remember: expressions in default arguments are calculated when the function is defined, not when it\u2019s called.\n",
      "\n",
      "If foobar, for example, is contained in a module named foo_module, then the statement that defines foobar will probably be executed at the time when foo_module is imported.\n",
      "\n",
      "When the def statement that creates foobar is executed:\n",
      "\n",
      "- A new function object is created, bound to the name foobar, and stored in the namespace of foo_module.\n",
      "- Within the foobar function object, for each argument with a default value, an object is created to hold the default object. In the case of foobar, a string object containing \u201cabc\u201d is created as the default for the arg_string argument, and an empty list object is created as the default for the arg_list argument."
     ]
    },
    {
     "cell_type": "code",
     "collapsed": false,
     "input": [
      "def foobar(arg_string=\"abc\", arg_list = []): \n",
      "    print (arg_string, arg_list)\n",
      "    arg_string = arg_string + \"xyz\"\n",
      "    arg_list.append(\"F\")\n",
      " \n",
      "for i in range(4): \n",
      "    foobar()"
     ],
     "language": "python",
     "metadata": {},
     "outputs": [
      {
       "output_type": "stream",
       "stream": "stdout",
       "text": [
        "abc []\n",
        "abc ['F']\n",
        "abc ['F', 'F']\n",
        "abc ['F', 'F', 'F']\n"
       ]
      }
     ],
     "prompt_number": 82
    },
    {
     "cell_type": "markdown",
     "metadata": {},
     "source": [
      "So how to avoid such behaviour? \n",
      "\n",
      "- Never use a mutable object \u2014 that is: a list, a dictionary, or a class instance \u2014 as the default value of an argument.\n",
      "- Ignore rule 1 only if you really, really, REALLY know what you\u2019re doing."
     ]
    },
    {
     "cell_type": "heading",
     "level": 4,
     "metadata": {},
     "source": [
      "Correct example"
     ]
    },
    {
     "cell_type": "code",
     "collapsed": false,
     "input": [
      "def foobar(arg_string=\"abc\", arg_list = None): \n",
      "    if arg_list is None: arg_list = [] \n",
      "    print (arg_string, arg_list)\n",
      "    arg_string = arg_string + \"xyz\"\n",
      "    arg_list.append(\"F\")\n",
      " \n",
      "for i in range(4): \n",
      "    foobar()"
     ],
     "language": "python",
     "metadata": {},
     "outputs": [
      {
       "output_type": "stream",
       "stream": "stdout",
       "text": [
        "abc []\n",
        "abc []\n",
        "abc []\n",
        "abc []\n"
       ]
      }
     ],
     "prompt_number": 83
    },
    {
     "cell_type": "heading",
     "level": 1,
     "metadata": {},
     "source": [
      "List-tuple conversion"
     ]
    },
    {
     "cell_type": "code",
     "collapsed": false,
     "input": [
      "l = ['X', 'X', 'X', 'X', 'X', 'X']\n",
      "tuple(l)\n",
      "print(l)\n",
      "t = tuple(list(tuple(l)))\n",
      "list(t)\n",
      "print(t)\n",
      "print(type(t))"
     ],
     "language": "python",
     "metadata": {},
     "outputs": [
      {
       "output_type": "stream",
       "stream": "stdout",
       "text": [
        "['X', 'X', 'X', 'X', 'X', 'X']\n",
        "('X', 'X', 'X', 'X', 'X', 'X')\n",
        "<class 'tuple'>\n"
       ]
      }
     ],
     "prompt_number": 150
    },
    {
     "cell_type": "heading",
     "level": 1,
     "metadata": {},
     "source": [
      "Tuples as indices"
     ]
    },
    {
     "cell_type": "markdown",
     "metadata": {},
     "source": [
      "Lists can't be used as indices, but tuples can be used:"
     ]
    },
    {
     "cell_type": "code",
     "collapsed": false,
     "input": [
      "a = [1,2]\n",
      "dct = {a:1, 2:3}"
     ],
     "language": "python",
     "metadata": {},
     "outputs": [
      {
       "ename": "TypeError",
       "evalue": "unhashable type: 'list'",
       "output_type": "pyerr",
       "traceback": [
        "\u001b[0;31m---------------------------------------------------------------------------\u001b[0m\n\u001b[0;31mTypeError\u001b[0m                                 Traceback (most recent call last)",
        "\u001b[0;32m<ipython-input-84-d7a8f0a5a2e1>\u001b[0m in \u001b[0;36m<module>\u001b[0;34m()\u001b[0m\n\u001b[1;32m      1\u001b[0m \u001b[0ma\u001b[0m \u001b[0;34m=\u001b[0m \u001b[0;34m[\u001b[0m\u001b[0;36m1\u001b[0m\u001b[0;34m,\u001b[0m\u001b[0;36m2\u001b[0m\u001b[0;34m]\u001b[0m\u001b[0;34m\u001b[0m\u001b[0m\n\u001b[0;32m----> 2\u001b[0;31m \u001b[0mdct\u001b[0m \u001b[0;34m=\u001b[0m \u001b[0;34m{\u001b[0m\u001b[0ma\u001b[0m\u001b[0;34m:\u001b[0m\u001b[0;36m1\u001b[0m\u001b[0;34m,\u001b[0m \u001b[0;36m2\u001b[0m\u001b[0;34m:\u001b[0m\u001b[0;36m3\u001b[0m\u001b[0;34m}\u001b[0m\u001b[0;34m\u001b[0m\u001b[0m\n\u001b[0m",
        "\u001b[0;31mTypeError\u001b[0m: unhashable type: 'list'"
       ]
      }
     ],
     "prompt_number": 84
    },
    {
     "cell_type": "code",
     "collapsed": false,
     "input": [
      "a = (1,2)\n",
      "dct = {a:1, 2:3}\n",
      "print(dct)"
     ],
     "language": "python",
     "metadata": {},
     "outputs": [
      {
       "output_type": "stream",
       "stream": "stdout",
       "text": [
        "{(1, 2): 1, 2: 3}\n"
       ]
      }
     ],
     "prompt_number": 85
    },
    {
     "cell_type": "heading",
     "level": 1,
     "metadata": {},
     "source": [
      "Tuples as dictionary items"
     ]
    },
    {
     "cell_type": "markdown",
     "metadata": {},
     "source": [
      "We had that in the dictionary lecture"
     ]
    },
    {
     "cell_type": "heading",
     "level": 1,
     "metadata": {},
     "source": [
      "Tuple sorting, DSU - decorate, sort, undecorate"
     ]
    },
    {
     "cell_type": "markdown",
     "metadata": {},
     "source": [
      "Adapted from: http://www.greenteapress.com/thinkpython/html/thinkpython013.html"
     ]
    },
    {
     "cell_type": "markdown",
     "metadata": {},
     "source": [
      "The relational operators work with tuples and other sequences; Python starts by comparing the first element from each sequence. If they are equal, it goes on to the next elements, and so on, until it finds elements that differ. Subsequent elements are not considered (even if they are really big)."
     ]
    },
    {
     "cell_type": "code",
     "collapsed": false,
     "input": [
      "print ((0, 1, 2) < (0, 3, 4))\n",
      "print ((0, 1, 2000000) < (0, 3, 4))"
     ],
     "language": "python",
     "metadata": {},
     "outputs": [
      {
       "output_type": "stream",
       "stream": "stdout",
       "text": [
        "True\n",
        "True\n"
       ]
      }
     ],
     "prompt_number": 86
    },
    {
     "cell_type": "markdown",
     "metadata": {},
     "source": [
      "The *sort* function works the same way. It sorts primarily by first element, but in the case of a tie, it sorts by second element, and so on.\n",
      "This feature lends itself to a pattern called ***DSU*** for\n",
      "\n",
      "**Decorate**\n",
      "a sequence by building a list of tuples with one or more sort keys preceding the elements from the sequence,\n",
      "\n",
      "**Sort**\n",
      "the list of tuples, and\n",
      "\n",
      "**Undecorate**\n",
      "by extracting the sorted elements of the sequence.\n",
      "\n",
      "\n",
      "For example, suppose you have a list of words and you want to sort them from longest to shortest:"
     ]
    },
    {
     "cell_type": "code",
     "collapsed": false,
     "input": [
      "def sort_by_length(words):\n",
      "    t = []\n",
      "    for word in words:\n",
      "       t.append((len(word), word))\n",
      "        \n",
      "    print(t)\n",
      "\n",
      "    t.sort(reverse=True)\n",
      "\n",
      "    print(t)\n",
      "    \n",
      "    res = []\n",
      "    for length, word in t:\n",
      "        res.append(word)\n",
      "    #return res\n",
      "    return [word for length, word in t] # alternative way to unpack\n",
      "\n",
      "words = [\"string1\", \"longstring\"]\n",
      "sort_by_length(words)"
     ],
     "language": "python",
     "metadata": {},
     "outputs": [
      {
       "output_type": "stream",
       "stream": "stdout",
       "text": [
        "[(7, 'string1'), (10, 'longstring')]\n",
        "[(10, 'longstring'), (7, 'string1')]\n"
       ]
      },
      {
       "metadata": {},
       "output_type": "pyout",
       "prompt_number": 153,
       "text": [
        "['longstring', 'string1']"
       ]
      }
     ],
     "prompt_number": 153
    },
    {
     "cell_type": "markdown",
     "metadata": {},
     "source": [
      "The first loop builds a list of tuples, where each tuple is a word preceded by its length.\n",
      "sort compares the first element, length, first, and only considers the second element to break ties. The keyword argument reverse=True tells sort to go in decreasing order.\n",
      "\n",
      "The second loop traverses the list of tuples and builds a list of words in descending order of length."
     ]
    },
    {
     "cell_type": "heading",
     "level": 1,
     "metadata": {},
     "source": [
      "Named tuples"
     ]
    },
    {
     "cell_type": "markdown",
     "metadata": {},
     "source": [
      "Adapted from: http://stackoverflow.com/questions/2970608/what-are-named-tuples-in-python, answer by user *fmark*"
     ]
    },
    {
     "cell_type": "markdown",
     "metadata": {},
     "source": [
      "Named tuples are basically easy to create, lightweight object types. Named tuple instances can be referenced using object like variable deferencing or the standard tuple syntax. They can be used similarly to struct or other common record types, except that they are immutable. They were added in Python 2.6 and Python 3.0, although there is a recipe for implementation in Python 2.4.\n",
      "\n",
      "For example, it is common to represent a point, for example as a tuple (x, y). This leads to code like the following:"
     ]
    },
    {
     "cell_type": "code",
     "collapsed": false,
     "input": [
      "pt1 = (1.0, 5.0)\n",
      "pt2 = (2.5, 1.5)\n",
      "\n",
      "from math import sqrt\n",
      "line_length = sqrt((pt1[0]-pt2[0])**2 + (pt1[1]-pt2[1])**2)"
     ],
     "language": "python",
     "metadata": {},
     "outputs": [],
     "prompt_number": 88
    },
    {
     "cell_type": "markdown",
     "metadata": {},
     "source": [
      "Using a named tuple it becomes more readable:"
     ]
    },
    {
     "cell_type": "code",
     "collapsed": false,
     "input": [
      "from collections import namedtuple\n",
      "Point = namedtuple('Point', 'x y')\n",
      "pt1 = Point(1.0, 5.0)\n",
      "pt2 = Point(2.5, 1.5)\n",
      "\n",
      "from math import sqrt\n",
      "line_length = sqrt((pt1.x-pt2.x)**2 + (pt1.y-pt2.y)**2)"
     ],
     "language": "python",
     "metadata": {},
     "outputs": [],
     "prompt_number": 156
    },
    {
     "cell_type": "markdown",
     "metadata": {},
     "source": [
      "However, named tuples are still backwards compatible with normal tuples, so the following will still work:"
     ]
    },
    {
     "cell_type": "code",
     "collapsed": false,
     "input": [
      "Point = namedtuple('Point', 'x y')\n",
      "pt1 = Point(1.0, 5.0)\n",
      "pt2 = Point(2.5, 1.5)\n",
      "\n",
      "from math import sqrt\n",
      "# use index referencing\n",
      "line_length = sqrt((pt1[0]-pt2[0])**2 + (pt1[1]-pt2[1])**2)\n",
      " # use tuple unpacking\n",
      "x1, y1 = pt1"
     ],
     "language": "python",
     "metadata": {},
     "outputs": [],
     "prompt_number": 90
    },
    {
     "cell_type": "markdown",
     "metadata": {},
     "source": [
      "More information is available in https://docs.python.org/3.4/library/collections.html#collections.namedtuple"
     ]
    },
    {
     "cell_type": "heading",
     "level": 3,
     "metadata": {},
     "source": [
      "An example of using function arguments - packs arguments into a dictionary or tuple"
     ]
    },
    {
     "cell_type": "code",
     "collapsed": false,
     "input": [
      "def d(**args):\n",
      "    print (args[\"arg1\"])\n",
      "    print (args.items())\n",
      "    return args\n",
      "print(d(arg1 = 1, arg2 = 'a', arg3 = 5, arg4 = 'string'))\n",
      "\n",
      "\n",
      "def d(*args):\n",
      "    return args\n",
      "print(d(1, 'a', 5, 'string'))"
     ],
     "language": "python",
     "metadata": {},
     "outputs": [
      {
       "output_type": "stream",
       "stream": "stdout",
       "text": [
        "1\n",
        "dict_items([('arg2', 'a'), ('arg4', 'string'), ('arg1', 1), ('arg3', 5)])\n",
        "{'arg2': 'a', 'arg4': 'string', 'arg1': 1, 'arg3': 5}\n",
        "(1, 'a', 5, 'string')\n"
       ]
      }
     ],
     "prompt_number": 168
    },
    {
     "cell_type": "code",
     "collapsed": false,
     "input": [],
     "language": "python",
     "metadata": {},
     "outputs": []
    }
   ],
   "metadata": {}
  }
 ]
}