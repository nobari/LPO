{
 "metadata": {
  "name": "",
  "signature": "sha256:a728716e3d1851843dbbb947c8fb5ce5f639fd1f0cdde8e185bd9522f44b4a17"
 },
 "nbformat": 3,
 "nbformat_minor": 0,
 "worksheets": [
  {
   "cells": [
    {
     "cell_type": "heading",
     "level": 1,
     "metadata": {},
     "source": [
      "Dictionaries"
     ]
    },
    {
     "cell_type": "markdown",
     "metadata": {},
     "source": [
      "A **dictionary d** is a collection of pairs of the form **key:value** enclosed in curly brackets {}."
     ]
    },
    {
     "cell_type": "code",
     "collapsed": false,
     "input": [
      "test = {}\n",
      "test1 = dict()\n",
      "test2 = {\n",
      "    'key1': 'val1',\n",
      "    'key2': 'val2',\n",
      "    'key3': 'val3'\n",
      "}\n",
      "eng2sp = {'one': 'uno', 'two': 'dos', 'three': 'tres'}\n",
      "print test \n",
      "print test1\n",
      "print test2\n",
      "print eng2sp"
     ],
     "language": "python",
     "metadata": {},
     "outputs": [
      {
       "output_type": "stream",
       "stream": "stdout",
       "text": [
        "{}\n",
        "{}\n",
        "{'key3': 'val3', 'key2': 'val2', 'key1': 'val1'}\n",
        "{'three': 'tres', 'two': 'dos', 'one': 'uno'}\n"
       ]
      }
     ],
     "prompt_number": 6
    },
    {
     "cell_type": "markdown",
     "metadata": {},
     "source": [
      "The function **dict** creates a new dictionary with no items. Because dict is the name of a built-in function, you should avoid using it as a variable name."
     ]
    },
    {
     "cell_type": "markdown",
     "metadata": {},
     "source": [
      "**IMPORTANT**:\n",
      "\n",
      "The order of the key-value pairs is not the same. In fact, if you type the same example on your computer, you might get a different result. In general, **the order of items in a dictionary is unpredictable**."
     ]
    },
    {
     "cell_type": "markdown",
     "metadata": {},
     "source": [
      "But that\u2019s not a problem because the elements of a dictionary are never indexed with integer indices. Given a key **k**, the Python expression **d[k]** returns the value **v** associated with the key."
     ]
    },
    {
     "cell_type": "code",
     "collapsed": false,
     "input": [
      "eng2sp['two']"
     ],
     "language": "python",
     "metadata": {},
     "outputs": [
      {
       "metadata": {},
       "output_type": "pyout",
       "prompt_number": 7,
       "text": [
        "'dos'"
       ]
      }
     ],
     "prompt_number": 7
    },
    {
     "cell_type": "markdown",
     "metadata": {},
     "source": [
      "New items can be added to the dictionary via assignments **d[key] = val**."
     ]
    },
    {
     "cell_type": "code",
     "collapsed": false,
     "input": [
      "eng2sp['three']='cuatro'\n",
      "print eng2sp"
     ],
     "language": "python",
     "metadata": {},
     "outputs": [
      {
       "output_type": "stream",
       "stream": "stdout",
       "text": [
        "{'four': 'cuatro', 'three': 'cuatro', 'two': 'dos', 'one': 'uno'}\n"
       ]
      }
     ],
     "prompt_number": 9
    },
    {
     "cell_type": "markdown",
     "metadata": {},
     "source": [
      "Sometimes we are interested in just the **values**, or just the **keys**, or both at \n",
      "the same time (**items**)!"
     ]
    },
    {
     "cell_type": "code",
     "collapsed": false,
     "input": [
      "print eng2sp.values()\n",
      "print eng2sp.keys()\n",
      "print eng2sp.items()"
     ],
     "language": "python",
     "metadata": {},
     "outputs": [
      {
       "output_type": "stream",
       "stream": "stdout",
       "text": [
        "['cuatro', 'cuatro', 'dos', 'uno']\n",
        "['four', 'three', 'two', 'one']\n",
        "[('four', 'cuatro'), ('three', 'cuatro'), ('two', 'dos'), ('one', 'uno')]\n"
       ]
      }
     ],
     "prompt_number": 10
    },
    {
     "cell_type": "markdown",
     "metadata": {},
     "source": [
      "Knowing this, you can also iterate over a dictionary\u2019s **keys**, **values** or **items**"
     ]
    },
    {
     "cell_type": "code",
     "collapsed": false,
     "input": [
      "for k in eng2sp.keys():\n",
      "    print k, eng2sp[k]"
     ],
     "language": "python",
     "metadata": {},
     "outputs": [
      {
       "output_type": "stream",
       "stream": "stdout",
       "text": [
        "four cuatro\n",
        "three cuatro\n",
        "two dos\n",
        "one uno\n"
       ]
      }
     ],
     "prompt_number": 11
    },
    {
     "cell_type": "markdown",
     "metadata": {},
     "source": [
      "The **len** function works on dictionaries; it returns the number of key-value pairs:"
     ]
    },
    {
     "cell_type": "code",
     "collapsed": false,
     "input": [
      "len(eng2sp)"
     ],
     "language": "python",
     "metadata": {},
     "outputs": [
      {
       "metadata": {},
       "output_type": "pyout",
       "prompt_number": 12,
       "text": [
        "4"
       ]
      }
     ],
     "prompt_number": 12
    },
    {
     "cell_type": "markdown",
     "metadata": {},
     "source": [
      "The **in** operator works on dictionaries; it tells you whether something appears as a key in the dictionary (appearing as a value is not good enough)."
     ]
    },
    {
     "cell_type": "code",
     "collapsed": false,
     "input": [
      "'one' in eng2sp"
     ],
     "language": "python",
     "metadata": {},
     "outputs": [
      {
       "metadata": {},
       "output_type": "pyout",
       "prompt_number": 13,
       "text": [
        "True"
       ]
      }
     ],
     "prompt_number": 13
    },
    {
     "cell_type": "code",
     "collapsed": false,
     "input": [
      "'siete' in eng2sp # 7"
     ],
     "language": "python",
     "metadata": {},
     "outputs": [
      {
       "metadata": {},
       "output_type": "pyout",
       "prompt_number": 14,
       "text": [
        "False"
       ]
      }
     ],
     "prompt_number": 14
    },
    {
     "cell_type": "markdown",
     "metadata": {},
     "source": [
      "**IMPORTANT:**\n",
      "* The **in** operator uses different algorithms for lists and dictionaries. \n",
      " * For lists, it uses a search algorithm (as here http://www.greenteapress.com/thinkpython/html/thinkpython009.html#find). \n",
      "  * As the list gets longer, the search time gets longer in direct proportion. \n",
      " * For dictionaries, Python uses an algorithm called a **hashtable** that has a remarkable property: the **in** operator takes **about the same amount of time** no matter how many items there are in a dictionary. Details are below."
     ]
    },
    {
     "cell_type": "heading",
     "level": 2,
     "metadata": {},
     "source": [
      "Hashing"
     ]
    },
    {
     "cell_type": "markdown",
     "metadata": {},
     "source": [
      "Adopted from: http://interactivepython.org/runestone/static/pythonds/SortSearch/Hashing.html\n",
      "\n",
      "We are able to make improvements in our search algorithms by taking advantage of information about where items are stored in the collection with respect to one another. For example, by knowing that a list was ordered, we could search in logarithmic time using a binary search. In this section we will attempt to go one step further by building a data structure that can be searched in O(1) time. This concept is referred to as **hashing**.\n",
      "\n",
      "A **hash table** is a collection of items which are stored in such a way as to make it easy to find them later. Each position of the hash table, often called a **slot**, can hold an item and is named by an integer value starting at 0. For example, we will have a slot named 0, a slot named 1, a slot named 2, and so on. Initially, the hash table contains no items so every slot is empty. We can implement a hash table by using a list with each element initialized to the special Python value None. Figure shows a hash table of size m=11. In other words, there are m slots in the table, named 0 through 10."
     ]
    },
    {
     "cell_type": "code",
     "collapsed": false,
     "input": [
      "from IPython.display import Image\n",
      "Image(filename='hashtable.png')\n",
      "# Hash Table with 11 Empty Slots"
     ],
     "language": "python",
     "metadata": {},
     "outputs": [
      {
       "metadata": {},
       "output_type": "pyout",
       "png": "[encoded data removed]",
       "prompt_number": 45,
       "text": [
        "<IPython.core.display.Image at 0xa5d34e0>"
       ]
      }
     ],
     "prompt_number": 45
    },
    {
     "cell_type": "markdown",
     "metadata": {},
     "source": [
      "The mapping between an item and the slot where that item belongs in the hash table is called the **hash function**. The hash function will take any item in the collection and return an integer in the range of slot names, between 0 and m-1. Assume that we have the set of integer items 54, 26, 93, 17, 77, and 31. Our first hash function, sometimes referred to as the \u201c**remainder method**,\u201d simply takes an item and divides it by the table size, returning the remainder as its hash value **(h(item)=item%11)**. Results below gives all of the hash values for our example items. Note that this remainder method (modulo arithmetic) will typically be present in some form in all hash functions, since the result must be in the range of slot names."
     ]
    },
    {
     "cell_type": "code",
     "collapsed": false,
     "input": [
      "lst = [54, 26, 93, 17, 77, 31]\n",
      "divider = 11\n",
      "lst_hash = [i%divider for i in lst]\n",
      "print lst_hash"
     ],
     "language": "python",
     "metadata": {},
     "outputs": [
      {
       "output_type": "stream",
       "stream": "stdout",
       "text": [
        "[10, 4, 5, 6, 0, 9]\n"
       ]
      }
     ],
     "prompt_number": 50
    },
    {
     "cell_type": "markdown",
     "metadata": {},
     "source": [
      "Once the hash values have been computed, we can insert each item into the hash table at the designated position as shown in the next figure. Note that 6 of the 11 slots are now occupied. This is referred to as the load factor, and is commonly denoted by \u03bb=numberofitems/tablesize. For this example, \u03bb=6/11."
     ]
    },
    {
     "cell_type": "code",
     "collapsed": false,
     "input": [
      "from IPython.display import Image\n",
      "Image(filename='hashtable2.png')\n",
      "# Hash Table with 6 elements"
     ],
     "language": "python",
     "metadata": {},
     "outputs": [
      {
       "metadata": {},
       "output_type": "pyout",
       "png": "[encoded data removed]",
       "prompt_number": 51,
       "text": [
        "<IPython.core.display.Image at 0xa5d3e48>"
       ]
      }
     ],
     "prompt_number": 51
    },
    {
     "cell_type": "markdown",
     "metadata": {},
     "source": [
      "Now when we want to search for an item, we simply use the hash function to compute the slot name for the item and then check the hash table to see if it is present. This searching operation is O(1), since a constant amount of time is required to compute the hash value and then index the hash table at that location. If everything is where it should be, we have found a constant time search algorithm."
     ]
    },
    {
     "cell_type": "heading",
     "level": 1,
     "metadata": {},
     "source": [
      "Dictionary as a set of counters"
     ]
    },
    {
     "cell_type": "markdown",
     "metadata": {},
     "source": [
      "Suppose you are given a string and you want to count how many times each letter appears. \n",
      "\n",
      "You could create a dictionary with characters as keys and counters as the corresponding values. The first time you see a character, you would add an item to the dictionary. After that you would increment the value of an existing item.\n",
      "\n",
      "An advantage of the dictionary implementation is that we don\u2019t have to know ahead of time which letters appear in the string and we only have to make room for the letters that do appear."
     ]
    },
    {
     "cell_type": "code",
     "collapsed": false,
     "input": [
      "import matplotlib.pyplot as plt # importing plotting package\n",
      "\n",
      "%matplotlib inline\n",
      "\n",
      "def histogram(s):\n",
      "    d = dict()\n",
      "    for c in s:\n",
      "        d[c]=d.get(c,0)+1\n",
      "    return d\n",
      "\n",
      "h = histogram('skolkovo institute of science and technology is the best university in the world! innovation rulezz!')\n",
      "\n",
      "print h\n",
      "\n",
      "plt.bar(range(len(h)), h.values(), align='center')\n",
      "plt.xticks(range(len(h)), h.keys())\n",
      "\n",
      "plt.show()"
     ],
     "language": "python",
     "metadata": {},
     "outputs": [
      {
       "output_type": "stream",
       "stream": "stdout",
       "text": [
        "{'!': 2, ' ': 14, 'a': 2, 'c': 3, 'b': 1, 'e': 9, 'd': 2, 'g': 1, 'f': 1, 'i': 9, 'h': 3, 'k': 2, 'l': 4, 'o': 9, 'n': 9, 's': 6, 'r': 3, 'u': 3, 't': 9, 'w': 1, 'v': 3, 'y': 2, 'z': 2}\n"
       ]
      },
      {
       "metadata": {},
       "output_type": "display_data",
       "png": "[encoded data removed]",
       "text": [
        "<matplotlib.figure.Figure at 0xa5d31d0>"
       ]
      }
     ],
     "prompt_number": 19
    },
    {
     "cell_type": "heading",
     "level": 3,
     "metadata": {},
     "source": [
      "Looping and dictionaries"
     ]
    },
    {
     "cell_type": "markdown",
     "metadata": {},
     "source": [
      "If you use a dictionary in a **for** statement, it traverses the keys of the dictionary. For example, **print_hist** prints each key and the corresponding value:"
     ]
    },
    {
     "cell_type": "code",
     "collapsed": false,
     "input": [
      "def print_hist(test):\n",
      "    for c in test:\n",
      "        print c, test[c]\n",
      "print_hist(h)"
     ],
     "language": "python",
     "metadata": {},
     "outputs": [
      {
       "output_type": "stream",
       "stream": "stdout",
       "text": [
        "! 2\n",
        "  14\n",
        "a 2\n",
        "c 3\n",
        "b 1\n",
        "e 9\n",
        "d 2\n",
        "g 1\n",
        "f 1\n",
        "i 9\n",
        "h 3\n",
        "k 2\n",
        "l 4\n",
        "o 9\n",
        "n 9\n",
        "s 6\n",
        "r 3\n",
        "u 3\n",
        "t 9\n",
        "w 1\n",
        "v 3\n",
        "y 2\n",
        "z 2\n"
       ]
      }
     ],
     "prompt_number": 20
    },
    {
     "cell_type": "markdown",
     "metadata": {},
     "source": [
      "**Exercise**:\n",
      "\n",
      "Suppose that you know your dictionary contains only integer values, how do you calculate the average of those values?"
     ]
    },
    {
     "cell_type": "code",
     "collapsed": false,
     "input": [
      "new = {'A': 10, 'C':13, 'G': 5, 'T': 20}"
     ],
     "language": "python",
     "metadata": {},
     "outputs": [],
     "prompt_number": 64
    },
    {
     "cell_type": "code",
     "collapsed": false,
     "input": [
      "# answer\n",
      "# temp = 0\n",
      "# for i, g in new.items():\n",
      "#     temp += g\n",
      "# print temp/new.__len__()\n",
      "\n",
      "# sum(new.values())/len(new)\n",
      "\n",
      "# v = new.values()\n",
      "# avg = sum(v)/float(len(v))\n",
      "# print avg\n",
      "\n",
      "v = [j for i, j in new.items()]"
     ],
     "language": "python",
     "metadata": {},
     "outputs": [],
     "prompt_number": 26
    },
    {
     "cell_type": "heading",
     "level": 3,
     "metadata": {},
     "source": [
      "Reverse lookup"
     ]
    },
    {
     "cell_type": "markdown",
     "metadata": {},
     "source": [
      "Given a dictionary d and a key k, it is easy to find the corresponding value v = d[k]. This operation is called a **lookup**.\n",
      "\n",
      "But what if you have v and you want to find k? You have two problems: first, there might be more than one key that maps to the value v. Depending on the application, you might be able to pick one, or you might have to make a list that contains all of them. Second, there is no simple syntax to do a **reverse lookup**; you have to search.\n",
      "\n",
      "Here is a function that takes a value and returns the first key that maps to that value:"
     ]
    },
    {
     "cell_type": "code",
     "collapsed": false,
     "input": [
      "def reverse_lookup(d, v):\n",
      "    for k in d:\n",
      "        if d[k] == v:\n",
      "            return k\n",
      "    raise ValueError, 'Ooops! There is no such value in the given dictionary!'\n",
      "#     raise ValueError\n",
      "\n",
      "new = {'A': 10, 'C':13, 'G': 5, 'T': 20}\n",
      "\n",
      "reverse_lookup(new, 10)\n",
      "# reverse_lookup(new, 100)"
     ],
     "language": "python",
     "metadata": {},
     "outputs": [
      {
       "metadata": {},
       "output_type": "pyout",
       "prompt_number": 29,
       "text": [
        "'A'"
       ]
      }
     ],
     "prompt_number": 29
    },
    {
     "cell_type": "markdown",
     "metadata": {},
     "source": [
      "This function is yet another example of the search pattern, but it uses a feature we haven\u2019t seen before, raise. The raise statement causes an exception; in this case it causes a ValueError, which generally indicates that there is something wrong with the value of a parameter.\n",
      "\n",
      "If we get to the end of the loop, that means v doesn\u2019t appear in the dictionary as a value, so we raise an exception."
     ]
    },
    {
     "cell_type": "heading",
     "level": 3,
     "metadata": {},
     "source": [
      "Dictionaries and lists"
     ]
    },
    {
     "cell_type": "markdown",
     "metadata": {},
     "source": [
      "Lists can appear as values in a dictionary. For example, if you were given a dictionary that maps from letters to frequencies, you might want to invert it; that is, create a dictionary that maps from frequencies to letters. Since there might be several letters with the same frequency, each value in the inverted dictionary should be a list of letters.\n",
      "\n",
      "Here is a function that inverts a dictionary:"
     ]
    },
    {
     "cell_type": "code",
     "collapsed": false,
     "input": [
      "# def invert_dict(d):\n",
      "#     inverse = dict()\n",
      "#     for key in d:\n",
      "#         val = d[key]\n",
      "#         if val not in inverse:\n",
      "#             inverse[val] = [key]\n",
      "#         else:\n",
      "#             inverse[val].append(key)\n",
      "#     return inverse\n",
      "\n",
      "def invert_dict(d):\n",
      "    inverse = dict()\n",
      "    for key in d:\n",
      "        val = d[key]\n",
      "        inverse.setdefault(val,[]).append(key)\n",
      "    return inverse\n",
      "\n",
      "hist = histogram('parrot')\n",
      "print hist\n",
      "\n",
      "inverse = invert_dict(hist)\n",
      "print inverse"
     ],
     "language": "python",
     "metadata": {},
     "outputs": [
      {
       "output_type": "stream",
       "stream": "stdout",
       "text": [
        "{'a': 1, 'p': 1, 'r': 2, 't': 1, 'o': 1}\n",
        "{1: ['a', 'p', 't', 'o'], 2: ['r']}\n"
       ]
      }
     ],
     "prompt_number": 33
    },
    {
     "cell_type": "code",
     "collapsed": false,
     "input": [
      "from IPython.display import Image\n",
      "Image(filename='thinkpython018.png')"
     ],
     "language": "python",
     "metadata": {},
     "outputs": [
      {
       "metadata": {},
       "output_type": "pyout",
       "png": "[encoded data removed]",
       "prompt_number": 107,
       "text": [
        "<IPython.core.display.Image at 0x9f19dd8>"
       ]
      }
     ],
     "prompt_number": 107
    },
    {
     "cell_type": "markdown",
     "metadata": {},
     "source": [
      "Each time through the loop, key gets a key from d and val gets the corresponding value. If val is not in inverse, that means we haven\u2019t seen it before, so we create a new item and initialize it with a singleton (a list that contains a single element). Otherwise we have seen this value before, so we append the corresponding key to the list."
     ]
    },
    {
     "cell_type": "heading",
     "level": 3,
     "metadata": {},
     "source": [
      "Memos"
     ]
    },
    {
     "cell_type": "markdown",
     "metadata": {},
     "source": [
      "Consider a recursive function calculating fibonacci numbers"
     ]
    },
    {
     "cell_type": "code",
     "collapsed": false,
     "input": [
      "def fibonacci (n):\n",
      "    if n == 0:\n",
      "        return 0\n",
      "    elif  n == 1:\n",
      "        return 1\n",
      "    else:\n",
      "        return fibonacci(n-1) + fibonacci(n-2)\n",
      "\n",
      "# fibonacci(100) - could kill the kernel"
     ],
     "language": "python",
     "metadata": {},
     "outputs": [],
     "prompt_number": 115
    },
    {
     "cell_type": "markdown",
     "metadata": {},
     "source": [
      "You might have noticed that the bigger the argument you provide, the longer the function takes to run. Furthermore, the run time increases very quickly."
     ]
    },
    {
     "cell_type": "code",
     "collapsed": false,
     "input": [
      "Image(filename='thinkpython019.png')"
     ],
     "language": "python",
     "metadata": {},
     "outputs": [
      {
       "metadata": {},
       "output_type": "pyout",
       "png": "[encoded data removed]",
       "prompt_number": 110,
       "text": [
        "<IPython.core.display.Image at 0x9f19358>"
       ]
      }
     ],
     "prompt_number": 110
    },
    {
     "cell_type": "markdown",
     "metadata": {},
     "source": [
      "A call graph shows a set of function frames, with lines connecting each frame to the frames of the functions it calls. At the top of the graph, fibonacci with n=4 calls fibonacci with n=3 and n=2. In turn, fibonacci with n=3 calls fibonacci with n=2 and n=1. And so on.\n",
      "\n",
      "Count how many times fibonacci(0) and fibonacci(1) are called. This is an inefficient solution to the problem, and it gets worse as the argument gets bigger.\n",
      "\n",
      "One solution is to keep track of values that have already been computed by storing them in a dictionary. A previously computed value that is stored for later use is called a **memo**. Here is an implementation of fibonacci using **memos**:"
     ]
    },
    {
     "cell_type": "code",
     "collapsed": false,
     "input": [
      "known = {0:0, 1:1}\n",
      "\n",
      "def fibonacci(n):\n",
      "    if n in known:\n",
      "        return known[n]\n",
      "\n",
      "    res = fibonacci(n-1) + fibonacci(n-2)\n",
      "    known[n] = res\n",
      "    return res\n",
      "\n",
      "fibonacci(500)"
     ],
     "language": "python",
     "metadata": {},
     "outputs": [
      {
       "metadata": {},
       "output_type": "pyout",
       "prompt_number": 34,
       "text": [
        "139423224561697880139724382870407283950070256587697307264108962948325571622863290691557658876222521294125L"
       ]
      }
     ],
     "prompt_number": 34
    },
    {
     "cell_type": "markdown",
     "metadata": {},
     "source": [
      "**known** is a dictionary that keeps track of the Fibonacci numbers we already know. It starts with two items: 0 maps to 0 and 1 maps to 1.\n",
      "\n",
      "Whenever **fibonacci** is called, it checks **known**. If the result is already there, it can return immediately. Otherwise it has to compute the new value, add it to the dictionary, and return it."
     ]
    },
    {
     "cell_type": "heading",
     "level": 2,
     "metadata": {},
     "source": [
      "Order of complexity"
     ]
    },
    {
     "cell_type": "markdown",
     "metadata": {},
     "source": [
      "Adopted from: https://wiki.python.org/moin/TimeComplexity\n",
      "\n",
      "The Average Case times listed for dict objects assume that the hash function for the objects is sufficiently robust to make collisions uncommon. The Average Case assumes the keys used in parameters are selected uniformly at random from the set of all keys.\n",
      "\n",
      "Note that there is a fast-path for dicts that (in practice) only deal with str keys; this doesn't affect the algorithmic complexity, but it can significantly affect the constant factors: how quickly a typical program finishes."
     ]
    },
    {
     "cell_type": "code",
     "collapsed": false,
     "input": [
      "from IPython.display import Image\n",
      "Image(filename='orderComplexity.png')"
     ],
     "language": "python",
     "metadata": {},
     "outputs": [
      {
       "metadata": {},
       "output_type": "pyout",
       "png": "[encoded data removed]",
       "prompt_number": 41,
       "text": [
        "<IPython.core.display.Image at 0xa5d3fd0>"
       ]
      }
     ],
     "prompt_number": 41
    },
    {
     "cell_type": "markdown",
     "metadata": {},
     "source": [
      "**Notes:**\n",
      "\n",
      "[1] = These operations rely on the \"Amortized\" part of \"Amortized Worst Case\". Individual actions may take surprisingly long, depending on the history of the container.\n",
      "\n",
      "[2] = For these operations, the worst case n is the maximum size the container ever achieved, rather than just the current size. For example, if N objects are added to a dictionary, then N-1 are deleted, the dictionary will still be sized for N objects (at least) until another insertion is made."
     ]
    },
    {
     "cell_type": "heading",
     "level": 3,
     "metadata": {},
     "source": [
      "Usage of single and double asterisk"
     ]
    },
    {
     "cell_type": "markdown",
     "metadata": {},
     "source": [
      "The single star * unpacks the sequence/collection into positional arguments, so you can do this"
     ]
    },
    {
     "cell_type": "code",
     "collapsed": false,
     "input": [
      "def sum(a, b):\n",
      "    return a + b\n",
      "values = (1, 2)\n",
      "s = sum(*values)\n",
      "s"
     ],
     "language": "python",
     "metadata": {},
     "outputs": [
      {
       "metadata": {},
       "output_type": "pyout",
       "prompt_number": 2,
       "text": [
        "3"
       ]
      }
     ],
     "prompt_number": 2
    },
    {
     "cell_type": "markdown",
     "metadata": {},
     "source": [
      "This will unpack the tuple so that it actually executes as:"
     ]
    },
    {
     "cell_type": "code",
     "collapsed": false,
     "input": [
      "s = sum(1, 2)\n",
      "s"
     ],
     "language": "python",
     "metadata": {},
     "outputs": [
      {
       "metadata": {},
       "output_type": "pyout",
       "prompt_number": 4,
       "text": [
        "3"
       ]
      }
     ],
     "prompt_number": 4
    },
    {
     "cell_type": "markdown",
     "metadata": {},
     "source": [
      "The double star ** does the same, only using a dictionary and thus named arguments:"
     ]
    },
    {
     "cell_type": "code",
     "collapsed": false,
     "input": [
      "values = { 'a': 1, 'b': 2 }\n",
      "s = sum(**values)\n",
      "s"
     ],
     "language": "python",
     "metadata": {},
     "outputs": [
      {
       "metadata": {},
       "output_type": "pyout",
       "prompt_number": 5,
       "text": [
        "3"
       ]
      }
     ],
     "prompt_number": 5
    },
    {
     "cell_type": "markdown",
     "metadata": {},
     "source": [
      "You can also combine:"
     ]
    },
    {
     "cell_type": "code",
     "collapsed": false,
     "input": [
      "def sum(a, b, c, d):\n",
      "    return a + b + c + d\n",
      "\n",
      "values1 = (1, 2)\n",
      "values2 = { 'c': 10, 'd': 15 }\n",
      "s = sum(*values1, **values2)\n",
      "s"
     ],
     "language": "python",
     "metadata": {},
     "outputs": [
      {
       "metadata": {},
       "output_type": "pyout",
       "prompt_number": 6,
       "text": [
        "28"
       ]
      }
     ],
     "prompt_number": 6
    },
    {
     "cell_type": "markdown",
     "metadata": {},
     "source": [
      "will execute as:"
     ]
    },
    {
     "cell_type": "code",
     "collapsed": false,
     "input": [
      "s = sum(1, 2, c=10, d=15)\n",
      "s"
     ],
     "language": "python",
     "metadata": {},
     "outputs": [
      {
       "metadata": {},
       "output_type": "pyout",
       "prompt_number": 8,
       "text": [
        "28"
       ]
      }
     ],
     "prompt_number": 8
    },
    {
     "cell_type": "markdown",
     "metadata": {},
     "source": [
      "Also see section 4.7.4 - Unpacking Argument Lists of the Python documentation: http://docs.python.org/tutorial/controlflow.html#unpacking-argument-lists"
     ]
    },
    {
     "cell_type": "raw",
     "metadata": {},
     "source": [
      "Additionally you can define functions to take *x and **y arguments, this allows a function to accept any number of positional and/or named arguments that aren't specifically named in the declaration.\n",
      "\n",
      "Example:"
     ]
    },
    {
     "cell_type": "code",
     "collapsed": false,
     "input": [
      "def sum(*values):\n",
      "    s = 0\n",
      "    for v in values:\n",
      "        s = s + v\n",
      "    return s\n",
      "\n",
      "s = sum(1, 2, 3, 4, 5)\n",
      "s"
     ],
     "language": "python",
     "metadata": {},
     "outputs": [
      {
       "metadata": {},
       "output_type": "pyout",
       "prompt_number": 10,
       "text": [
        "15"
       ]
      }
     ],
     "prompt_number": 10
    },
    {
     "cell_type": "markdown",
     "metadata": {},
     "source": [
      "or with **:"
     ]
    },
    {
     "cell_type": "code",
     "collapsed": false,
     "input": [
      "def get_a(**values):\n",
      "    return values['a']\n",
      "\n",
      "s = get_a(a=1, b=2)      # returns 1\n",
      "s"
     ],
     "language": "python",
     "metadata": {},
     "outputs": [
      {
       "metadata": {},
       "output_type": "pyout",
       "prompt_number": 11,
       "text": [
        "1"
       ]
      }
     ],
     "prompt_number": 11
    },
    {
     "cell_type": "markdown",
     "metadata": {},
     "source": [
      "This can allow you to specify a large number of optional parameters without having to declare them.\n",
      "\n",
      "And again, you can combine:"
     ]
    },
    {
     "cell_type": "code",
     "collapsed": false,
     "input": [
      "def sum(*values, **options):\n",
      "    s = 0\n",
      "    for i in values:\n",
      "        s = s + i\n",
      "    if \"neg\" in options:\n",
      "        if options[\"neg\"]:\n",
      "            s = -s\n",
      "    return s\n",
      "\n",
      "s = sum(1, 2, 3, 4, 5)            # returns 15\n",
      "print s\n",
      "s = sum(1, 2, 3, 4, 5, neg=True)  # returns -15\n",
      "print s\n",
      "s = sum(1, 2, 3, 4, 5, neg=False) # returns 15\n",
      "print s"
     ],
     "language": "python",
     "metadata": {},
     "outputs": [
      {
       "output_type": "stream",
       "stream": "stdout",
       "text": [
        "15\n",
        "-15\n",
        "15\n"
       ]
      }
     ],
     "prompt_number": 19
    }
   ],
   "metadata": {}
  }
 ]
}