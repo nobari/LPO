{
 "metadata": {
  "name": "",
  "signature": "sha256:a0fe334ca0a426f91ebbc92694cc3d7f0a34d7b2737ddef17344167fdd251ca7"
 },
 "nbformat": 3,
 "nbformat_minor": 0,
 "worksheets": [
  {
   "cells": [
    {
     "cell_type": "heading",
     "level": 1,
     "metadata": {},
     "source": [
      "Exercise 1 - Decorators"
     ]
    },
    {
     "cell_type": "markdown",
     "metadata": {},
     "source": [
      "Using the DSU pattern create a function to sort sentences by number of words in them. Use the template below:"
     ]
    },
    {
     "cell_type": "code",
     "collapsed": false,
     "input": [
      "def sort_by_number_of_words(sentences):\n",
      "    \n",
      "    # Decorate\n",
      "    t = []\n",
      "    # put your code here to fill the list t\n",
      "        \n",
      "    # Sort\n",
      "    t.sort(reverse=True)\n",
      "    \n",
      "    # Undecorate\n",
      "    res = []\n",
      "    # put your code here to undecorate t into res\n",
      "    \n",
      "    return res\n",
      "\n",
      "sentences = [\"Two couples realize their friend has dreams which are visions of past happenings.\", \n",
      "             \"David Dean's election bid for Sheriff becomes complicated after ten-year-old Martha discovers a skeleton in an abandoned mine.\",\n",
      "             \"Book I in the Anshan Saga.\",\n",
      "             \"A sentence is a linguistic unit consisting of one or more words that are grammatically linked.\",\n",
      "             \"Only an orthographic definition encompasses this variation.\"]\n",
      "\n",
      "sort_by_number_of_words(sentences)"
     ],
     "language": "python",
     "metadata": {},
     "outputs": [
      {
       "metadata": {},
       "output_type": "pyout",
       "prompt_number": 3,
       "text": [
        "[]"
       ]
      }
     ],
     "prompt_number": 3
    },
    {
     "cell_type": "heading",
     "level": 1,
     "metadata": {},
     "source": [
      "Exercise 2 - Named tuples"
     ]
    },
    {
     "cell_type": "markdown",
     "metadata": {},
     "source": [
      "* Create three examples of named tuples\n",
      "\n",
      "* Use pack/unpack on each of the tuples\n",
      "\n",
      "* Get single elements from each tuple:\n",
      "     * using standard numerical tuple selectors\n",
      "     * using named selectors\n",
      "\n",
      "* Pick one of the namedtuple classes you created and write a function that checks if it's argument is of that class"
     ]
    },
    {
     "cell_type": "heading",
     "level": 1,
     "metadata": {},
     "source": [
      "Exercise 3 - mutable default function arguments"
     ]
    },
    {
     "cell_type": "markdown",
     "metadata": {},
     "source": [
      "* Come up with an example where mutable default function argument is a natural or convenient choice\n",
      "* Code this example\n",
      "* Code an alternative solution without mutable default arguments"
     ]
    },
    {
     "cell_type": "code",
     "collapsed": false,
     "input": [],
     "language": "python",
     "metadata": {},
     "outputs": [],
     "prompt_number": 3
    }
   ],
   "metadata": {}
  }
 ]
}