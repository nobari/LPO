{
 "metadata": {
  "name": "",
  "signature": "sha256:08f0c0dc5f06356781feb7551649a44057b124903842509f088f6405fd23b469"
 },
 "nbformat": 3,
 "nbformat_minor": 0,
 "worksheets": [
  {
   "cells": [
    {
     "cell_type": "markdown",
     "metadata": {},
     "source": [
      "1. Create a function that translates a number from English to Italian.\n",
      " * **Input :** an English number (string) from 1 to 10 (e.g. \"four\"). \n",
      " * **Output :** an Italian number (string) equialent to the English one (e.g. input \"four\" => output \"quattro\")\n",
      "2. Create a program that:\n",
      "    1. That takes your \"Name SecondName LastName\" as an **input** (e.g. \"Roman Alekseevich Prilepskiy\")\n",
      "    2. Calculates the frequencies of every character in the string.\n",
      "    3. Calculates the average of all frequencies. \n",
      "    4. Outputs frequencies; average number.\n",
      "    5. Plots a histogram of all frequences. \n",
      "3. Create a **Date Decoder**. \n",
      "    1. A date of the form 8-MAR-85 includes the name of the month, which must be translated to a number. \n",
      "    2. Create a dict suitable for decoding month names to numbers. \n",
      "    3. Create a function which uses string operations to split the date into 3 items using the \"-\" character. \n",
      "    4. Translate the month, correct the year to include all of the digits.\n",
      "    5. The function will accept a date in the \"dd-MMM-yy\" format and outputs:\n",
      "        * day\n",
      "        * month number\n",
      "        * full year"
     ]
    },
    {
     "cell_type": "code",
     "collapsed": false,
     "input": [],
     "language": "python",
     "metadata": {},
     "outputs": []
    }
   ],
   "metadata": {}
  }
 ]
}