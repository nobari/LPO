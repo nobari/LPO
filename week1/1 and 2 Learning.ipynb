{
 "metadata": {
  "name": "",
  "signature": "sha256:324dc259feff77e43e412ab8762b0624e5f3d7c55fe8ddb45e1a2b7d669ac33b"
 },
 "nbformat": 3,
 "nbformat_minor": 0,
 "worksheets": [
  {
   "cells": [
    {
     "cell_type": "heading",
     "level": 1,
     "metadata": {},
     "source": [
      "Welcome to iPython Notebook"
     ]
    },
    {
     "cell_type": "code",
     "collapsed": false,
     "input": [
      "from IPython.display import Image\n",
      "Image(url='http://ipython.org/_static/IPy_header.png')"
     ],
     "language": "python",
     "metadata": {},
     "outputs": [
      {
       "html": [
        "<img src=\"http://ipython.org/_static/IPy_header.png\"/>"
       ],
       "metadata": {},
       "output_type": "pyout",
       "prompt_number": 10,
       "text": [
        "<IPython.core.display.Image at 0x7f6c5755b610>"
       ]
      }
     ],
     "prompt_number": 10
    },
    {
     "cell_type": "markdown",
     "metadata": {},
     "source": [
      "*The **IPython Notebook** is a web-based interactive computational environment where you can combine code execution, text, mathematics, plots and rich media into a single document*"
     ]
    },
    {
     "cell_type": "markdown",
     "metadata": {},
     "source": [
      "*These notebook is a normal file that can be shared with colleagues, converted to other formats such as HTML or PDF, etc.*"
     ]
    },
    {
     "cell_type": "markdown",
     "metadata": {},
     "source": [
      " "
     ]
    },
    {
     "cell_type": "heading",
     "level": 1,
     "metadata": {},
     "source": [
      "Chapter 1. Introduction to the way of program on Python"
     ]
    },
    {
     "cell_type": "code",
     "collapsed": false,
     "input": [
      "from IPython.display import Image\n",
      "Image(url='https://www.python.org/static/img/python-logo.png')"
     ],
     "language": "python",
     "metadata": {},
     "outputs": [
      {
       "html": [
        "<img src=\"https://www.python.org/static/img/python-logo.png\"/>"
       ],
       "metadata": {},
       "output_type": "pyout",
       "prompt_number": 11,
       "text": [
        "<IPython.core.display.Image at 0x7f6c5755b1d0>"
       ]
      }
     ],
     "prompt_number": 11
    },
    {
     "cell_type": "markdown",
     "metadata": {},
     "source": [
      "*Python is an interpreted language (Python programs are executed by an interpreter)*"
     ]
    },
    {
     "cell_type": "markdown",
     "metadata": {},
     "source": [
      "*There are two ways to use the interpreter:*\n",
      "* **interactive mode**"
     ]
    },
    {
     "cell_type": "code",
     "collapsed": false,
     "input": [
      "1+1"
     ],
     "language": "python",
     "metadata": {},
     "outputs": [
      {
       "metadata": {},
       "output_type": "pyout",
       "prompt_number": 9,
       "text": [
        "2"
       ]
      }
     ],
     "prompt_number": 9
    },
    {
     "cell_type": "markdown",
     "metadata": {},
     "source": [
      "* **script mode**\n",
      "\n",
      "You can store code in a file and use the interpreter to execute the contents of the file, which is called a **script**. By convention, Python scripts have names that end with **.py**\n"
     ]
    },
    {
     "cell_type": "markdown",
     "metadata": {},
     "source": [
      "Working in interactive mode is convenient for testing small pieces of code because you can type and execute them immediately. But for anything more than a few lines, you should save your code as a script so you can modify and execute it in the future."
     ]
    },
    {
     "cell_type": "markdown",
     "metadata": {},
     "source": [
      " "
     ]
    },
    {
     "cell_type": "markdown",
     "metadata": {},
     "source": [
      "*Program on Python is quite similar to other languages. It could have **input, output, math, conditional executions, repetions** *"
     ]
    },
    {
     "cell_type": "markdown",
     "metadata": {},
     "source": [
      "*Three kinds of errors can occur in a program: *\n",
      "* **syntax errors**\n",
      "* **runtime errors**\n",
      "\n",
      "the runtime error does not appear until after the program has started running. These errors are also called exceptions because they usually indicate that something exceptional (and bad) has happened.\n",
      "* **semantic errors**\n",
      "\n",
      "the computer will not generate any error messages, but program will not do the right thing. It will do something else"
     ]
    },
    {
     "cell_type": "heading",
     "level": 1,
     "metadata": {},
     "source": [
      "Chapter 2.  Variables, expressions and statements"
     ]
    },
    {
     "cell_type": "heading",
     "level": 3,
     "metadata": {},
     "source": [
      "Values and types"
     ]
    },
    {
     "cell_type": "code",
     "collapsed": false,
     "input": [
      "counter = 100          # An integer assignment\n",
      "miles   = 1000.0       # A floating point\n",
      "name    = \"John\"       # A string\n",
      "\n",
      "print counter\n",
      "print miles\n",
      "print name"
     ],
     "language": "python",
     "metadata": {},
     "outputs": [
      {
       "output_type": "stream",
       "stream": "stdout",
       "text": [
        "100\n",
        "1000.0\n",
        "John\n"
       ]
      }
     ],
     "prompt_number": 53
    },
    {
     "cell_type": "markdown",
     "metadata": {},
     "source": [
      "*If you are not sure what type a value has, the interpreter can tell you.*"
     ]
    },
    {
     "cell_type": "code",
     "collapsed": false,
     "input": [
      "type('Hello, World!')"
     ],
     "language": "python",
     "metadata": {},
     "outputs": [
      {
       "metadata": {},
       "output_type": "pyout",
       "prompt_number": 47,
       "text": [
        "str"
       ]
      }
     ],
     "prompt_number": 47
    },
    {
     "cell_type": "code",
     "collapsed": false,
     "input": [
      "type('3.2')"
     ],
     "language": "python",
     "metadata": {},
     "outputs": [
      {
       "metadata": {},
       "output_type": "pyout",
       "prompt_number": 48,
       "text": [
        "str"
       ]
      }
     ],
     "prompt_number": 48
    },
    {
     "cell_type": "heading",
     "level": 3,
     "metadata": {},
     "source": [
      "Variables"
     ]
    },
    {
     "cell_type": "markdown",
     "metadata": {},
     "source": [
      "Python has strict rules for variable names. Also it has 31 keywords"
     ]
    },
    {
     "cell_type": "code",
     "collapsed": false,
     "input": [
      "print ('''\n",
      "and       del       from      not       while   \n",
      "as        elif      global    or        with      \n",
      "assert    else      if        pass      yield    \n",
      "break     except    import    print              \n",
      "class     exec      in        raise              \n",
      "continue  finally   is        return              \n",
      "def       for       lambda    try \n",
      "\n",
      "In Python 3, exec is no longer a keyword, but nonlocal is.''')"
     ],
     "language": "python",
     "metadata": {},
     "outputs": [
      {
       "output_type": "stream",
       "stream": "stdout",
       "text": [
        "\n",
        "and       del       from      not       while   \n",
        "as        elif      global    or        with      \n",
        "assert    else      if        pass      yield    \n",
        "break     except    import    print              \n",
        "class     exec      in        raise              \n",
        "continue  finally   is        return              \n",
        "def       for       lambda    try \n",
        "\n",
        "In Python 3, exec is no longer a keyword, but nonlocal is.\n"
       ]
      }
     ],
     "prompt_number": 17
    },
    {
     "cell_type": "heading",
     "level": 3,
     "metadata": {},
     "source": [
      "Operators and Operands"
     ]
    },
    {
     "cell_type": "markdown",
     "metadata": {},
     "source": [
      "*Operators are special symbols that represent computations like addition and multiplication. The values the operator is applied to are called operands*"
     ]
    },
    {
     "cell_type": "code",
     "collapsed": false,
     "input": [
      "print '''The operators +, -, *, / and ** perform addition, subtraction, multiplication, division and exponentiation'''"
     ],
     "language": "python",
     "metadata": {},
     "outputs": [
      {
       "output_type": "stream",
       "stream": "stdout",
       "text": [
        "The operators +, -, *, / and ** perform addition, subtraction, multiplication, division and exponentiation\n"
       ]
      }
     ],
     "prompt_number": 15
    },
    {
     "cell_type": "markdown",
     "metadata": {},
     "source": [
      "An expression is a combination of values, variables, and operators. A value all by itself is considered an expression, and so is a variable, so the following are all legal expressions (assuming that the variable x has been assigned a value):"
     ]
    },
    {
     "cell_type": "code",
     "collapsed": false,
     "input": [
      "x = 5\n",
      "17\n",
      "x\n",
      "x + 17"
     ],
     "language": "python",
     "metadata": {},
     "outputs": [
      {
       "metadata": {},
       "output_type": "pyout",
       "prompt_number": 1,
       "text": [
        "22"
       ]
      }
     ],
     "prompt_number": 1
    },
    {
     "cell_type": "markdown",
     "metadata": {},
     "source": [
      "Python actually evaluates the expression, but it doesn\u2019t display the value unless you tell it to"
     ]
    },
    {
     "cell_type": "markdown",
     "metadata": {},
     "source": [
      "For mathematical operators, Python follows mathematical convention. The acronym PEMDAS is a useful way to remember the rules\n",
      "* **P**arentheses \n",
      "* **E**xponentiation \n",
      "* **M**ultiplication = Division \n",
      "\n",
      "Operators with the same precedence are evaluated from left to right"
     ]
    },
    {
     "cell_type": "raw",
     "metadata": {},
     "source": [
      "Operations with strings use of + and * makes sense by analogy with addition and multiplication Just as 4*3 is equivalent to 4+4+4, we expect 'Spam'*3 to be the same as 'Spam'+'Spam'+'Spam', and it is."
     ]
    },
    {
     "cell_type": "markdown",
     "metadata": {},
     "source": [
      "comments in Python start with the # symbol"
     ]
    },
    {
     "cell_type": "heading",
     "level": 3,
     "metadata": {},
     "source": [
      "PEP 267, PEP 8. Naming conventions for variables"
     ]
    },
    {
     "cell_type": "markdown",
     "metadata": {},
     "source": [
      "Never use the characters 'l' (lowercase letter el), 'O' (uppercase letter oh), or 'I' (uppercase letter eye) as single character variable names.\n",
      "\n",
      "In some fonts, these characters are indistinguishable from the numerals one and zero. When tempted to use 'l', use 'L' instead."
     ]
    },
    {
     "cell_type": "markdown",
     "metadata": {},
     "source": [
      "(Let's hope that these variables are meant for use inside one module only.) The conventions are about the same as those for functions.\n",
      "\n",
      "Modules that are designed for use via from M import * should use the __all__ mechanism to prevent exporting globals, or use the older convention of prefixing such globals with an underscore (which you might want to do to indicate these globals are \"module non-public\").\n",
      "\n",
      "Use one leading underscore only for non-public methods and instance variables.\n",
      "\n",
      "Always decide whether a class's methods and instance variables (collectively: \"attributes\") should be public or non-public. If in doubt, choose non-public; it's easier to make it public later than to make a public attribute non-public.\n",
      "\n",
      "If your public attribute name collides with a reserved keyword, append a single trailing underscore to your attribute name. This is preferable to an abbreviation or corrupted spelling. (However, notwithstanding this rule, 'cls' is the preferred spelling for any variable or argument which is known to be a class, especially the first argument to a class method.)\n",
      "\n",
      "Also, beware of writing if x when you really mean if x is not None -- e.g. when testing whether a variable or argument that defaults to None was set to some other value. The other value might have a type (such as a container) that could be false in a boolean context!"
     ]
    },
    {
     "cell_type": "heading",
     "level": 3,
     "metadata": {},
     "source": [
      "BIN, OCT, DEC, HEX formats"
     ]
    },
    {
     "cell_type": "markdown",
     "metadata": {},
     "source": [
      "The easiest way is to use oct(number), bin(number), ...\n",
      "\n",
      "But other way is shorter.\n",
      "\n",
      "0b100\n",
      "\n",
      "0x4F\n",
      "\n",
      "0100\n"
     ]
    },
    {
     "cell_type": "heading",
     "level": 3,
     "metadata": {},
     "source": [
      "Complex numbers"
     ]
    },
    {
     "cell_type": "markdown",
     "metadata": {},
     "source": [
      "A number followed by \u201cj\u201d is treated as an imaginary number. Python displays complex numbers in parentheses when they have a nonzero real part."
     ]
    },
    {
     "cell_type": "code",
     "collapsed": false,
     "input": [
      "5j"
     ],
     "language": "python",
     "metadata": {},
     "outputs": [
      {
       "metadata": {},
       "output_type": "pyout",
       "prompt_number": 2,
       "text": [
        "5j"
       ]
      }
     ],
     "prompt_number": 2
    },
    {
     "cell_type": "code",
     "collapsed": false,
     "input": [],
     "language": "python",
     "metadata": {},
     "outputs": []
    }
   ],
   "metadata": {}
  }
 ]
}