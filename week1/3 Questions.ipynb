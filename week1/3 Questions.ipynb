{
 "metadata": {
  "name": "",
  "signature": "sha256:91113164a11d0ea62fc64d00896d5db2efc30a77a55263d617defbac081684b4"
 },
 "nbformat": 3,
 "nbformat_minor": 0,
 "worksheets": [
  {
   "cells": [
    {
     "cell_type": "markdown",
     "metadata": {},
     "source": [
      "1. What is function?\n",
      "2. What do we need to define a function?\n",
      "3. What is module?\n",
      "4. What does the concept of scoping mean?\n",
      "5. Why functions help us?\n",
      "6. What is dot notation?\n",
      "7. Can we execute function before defining it?\n",
      "8. What is the difference between arguments and parameters?\n",
      "9. What two concepts are connected with writing specifications?\n",
      "10. What notation should we use to pass unknown number of arguments into function?"
     ]
    },
    {
     "cell_type": "code",
     "collapsed": false,
     "input": [],
     "language": "python",
     "metadata": {},
     "outputs": []
    }
   ],
   "metadata": {}
  }
 ]
}