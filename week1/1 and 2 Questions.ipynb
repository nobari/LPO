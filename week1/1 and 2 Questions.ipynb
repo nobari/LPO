{
 "metadata": {
  "name": "",
  "signature": "sha256:06a9e46215d09bf660a7106657a71298cf4ccb9f0d34160ec9f3bd850b2a4b93"
 },
 "nbformat": 3,
 "nbformat_minor": 0,
 "worksheets": [
  {
   "cells": [
    {
     "cell_type": "heading",
     "level": 1,
     "metadata": {},
     "source": [
      "Question Kit"
     ]
    },
    {
     "cell_type": "markdown",
     "metadata": {},
     "source": [
      "*1 How to check value type in Python?*"
     ]
    },
    {
     "cell_type": "markdown",
     "metadata": {},
     "source": [
      "*2 Which listed below variable names are illegal, non-recommended?*"
     ]
    },
    {
     "cell_type": "markdown",
     "metadata": {},
     "source": [
      "* 0bject1\n",
      "* @age\n",
      "* lambda\n",
      "* First_Group\n",
      "* 1Class"
     ]
    },
    {
     "cell_type": "markdown",
     "metadata": {},
     "source": [
      "*3 What is difference bitween syntax and semantic errors? *"
     ]
    },
    {
     "cell_type": "markdown",
     "metadata": {},
     "source": [
      "*4 How many data types Python has?*"
     ]
    },
    {
     "cell_type": "markdown",
     "metadata": {},
     "source": [
      "*5 How many different numerical types Python supports?*"
     ]
    },
    {
     "cell_type": "markdown",
     "metadata": {},
     "source": [
      "*6 How does python interpret numbers with leading zeroes?*"
     ]
    },
    {
     "cell_type": "markdown",
     "metadata": {},
     "source": [
      "*7 Which mathematical operation has the highest precedence in Python?*"
     ]
    },
    {
     "cell_type": "markdown",
     "metadata": {},
     "source": [
      "*8 Which operator is used for exponentiation in Python?*"
     ]
    },
    {
     "cell_type": "markdown",
     "metadata": {},
     "source": [
      "*9 How results differ in interactive mode and script mode?*"
     ]
    },
    {
     "cell_type": "markdown",
     "metadata": {},
     "source": [
      "*10 What will be results of listed below statements?*"
     ]
    },
    {
     "cell_type": "markdown",
     "metadata": {},
     "source": [
      "'2'+'1'\n",
      "'spam'*3\n",
      "'eggs'/'easy'"
     ]
    }
   ],
   "metadata": {}
  }
 ]
}