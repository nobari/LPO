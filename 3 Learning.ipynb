{
 "metadata": {
  "name": "",
  "signature": "sha256:bbbc54c14c5501dc54d2c20c3955248a46dedc71f05034e0a73db7e472d7b78f"
 },
 "nbformat": 3,
 "nbformat_minor": 0,
 "worksheets": [
  {
   "cells": [
    {
     "cell_type": "heading",
     "level": 1,
     "metadata": {},
     "source": [
      "FUNCTIONS"
     ]
    },
    {
     "cell_type": "markdown",
     "metadata": {},
     "source": [
      "A **function** is a named sequence of statements that performs a computation.\n",
      "To **define** a function = to specify the name and the sequence of statements.\n",
      " Later, you can **\u201ccall\u201d** the function by name."
     ]
    },
    {
     "cell_type": "code",
     "collapsed": false,
     "input": [
      "type(32)"
     ],
     "language": "python",
     "metadata": {},
     "outputs": [
      {
       "metadata": {},
       "output_type": "pyout",
       "prompt_number": 2,
       "text": [
        "int"
       ]
      }
     ],
     "prompt_number": 2
    },
    {
     "cell_type": "markdown",
     "metadata": {},
     "source": [
      "The **name** of the function  -  \"type\". The expression in parentheses - **\"the argument\"**. The result  (for this function) is the type of the argument."
     ]
    },
    {
     "cell_type": "markdown",
     "metadata": {},
     "source": [
      "COMMON EXPRESSION: a function **\u201ctakes\u201d** an argument and **\u201creturns\u201d** a result. The result is called the return value."
     ]
    },
    {
     "cell_type": "heading",
     "level": 2,
     "metadata": {},
     "source": [
      "Module"
     ]
    },
    {
     "cell_type": "markdown",
     "metadata": {},
     "source": [
      "Module is a file that contains a collection of related functions.\n",
      "\n",
      "Before we can use the module, we have to import it."
     ]
    },
    {
     "cell_type": "code",
     "collapsed": false,
     "input": [
      "import math\n",
      "math.sqrt(4)"
     ],
     "language": "python",
     "metadata": {},
     "outputs": [
      {
       "metadata": {},
       "output_type": "pyout",
       "prompt_number": 67,
       "text": [
        "2.0"
       ]
      }
     ],
     "prompt_number": 67
    },
    {
     "cell_type": "markdown",
     "metadata": {},
     "source": [
      "Dot notation"
     ]
    },
    {
     "cell_type": "code",
     "collapsed": false,
     "input": [
      "from math import *\n",
      "sqrt(4)"
     ],
     "language": "python",
     "metadata": {},
     "outputs": [
      {
       "metadata": {},
       "output_type": "pyout",
       "prompt_number": 8,
       "text": [
        "2.0"
       ]
      }
     ],
     "prompt_number": 8
    },
    {
     "cell_type": "heading",
     "level": 2,
     "metadata": {},
     "source": [
      "Arguments"
     ]
    },
    {
     "cell_type": "markdown",
     "metadata": {},
     "source": [
      "The argument of a function can be any kind of expression, including arithmetic operators and function calls."
     ]
    },
    {
     "cell_type": "code",
     "collapsed": false,
     "input": [
      "sin(5*2+43)"
     ],
     "language": "python",
     "metadata": {},
     "outputs": [
      {
       "metadata": {},
       "output_type": "pyout",
       "prompt_number": 10,
       "text": [
        "0.3959251501818342"
       ]
      }
     ],
     "prompt_number": 10
    },
    {
     "cell_type": "code",
     "collapsed": false,
     "input": [
      "sqrt(sin(120))"
     ],
     "language": "python",
     "metadata": {},
     "outputs": [
      {
       "metadata": {},
       "output_type": "pyout",
       "prompt_number": 14,
       "text": [
        "0.7619784670266702"
       ]
      }
     ],
     "prompt_number": 14
    },
    {
     "cell_type": "markdown",
     "metadata": {},
     "source": [
      "Assignment should be on the left hand side."
     ]
    },
    {
     "cell_type": "code",
     "collapsed": false,
     "input": [
      "a = sin(120)\n",
      "a"
     ],
     "language": "python",
     "metadata": {},
     "outputs": [
      {
       "metadata": {},
       "output_type": "pyout",
       "prompt_number": 15,
       "text": [
        "0.5806111842123143"
       ]
      }
     ],
     "prompt_number": 15
    },
    {
     "cell_type": "code",
     "collapsed": false,
     "input": [
      "sin(120) = b\n",
      "b"
     ],
     "language": "python",
     "metadata": {},
     "outputs": [
      {
       "ename": "SyntaxError",
       "evalue": "can't assign to function call (<ipython-input-18-93f0fb1b358f>, line 1)",
       "output_type": "pyerr",
       "traceback": [
        "\u001b[0;36m  File \u001b[0;32m\"<ipython-input-18-93f0fb1b358f>\"\u001b[0;36m, line \u001b[0;32m1\u001b[0m\n\u001b[0;31m    sin(120) = b\u001b[0m\n\u001b[0;31mSyntaxError\u001b[0m\u001b[0;31m:\u001b[0m can't assign to function call\n"
       ]
      }
     ],
     "prompt_number": 18
    },
    {
     "cell_type": "heading",
     "level": 2,
     "metadata": {},
     "source": [
      "Function definition"
     ]
    },
    {
     "cell_type": "markdown",
     "metadata": {},
     "source": [
      "Adding new functions - function definition."
     ]
    },
    {
     "cell_type": "code",
     "collapsed": false,
     "input": [
      "#head:\n",
      "def print_lyrics():\n",
      "#body (\"has to be indented\"):\n",
      "    print \"All you need is love \\n\"\n",
      "    print \"Love is all you need \\n\""
     ],
     "language": "python",
     "metadata": {},
     "outputs": [],
     "prompt_number": 25
    },
    {
     "cell_type": "code",
     "collapsed": false,
     "input": [
      "print_lyrics()"
     ],
     "language": "python",
     "metadata": {},
     "outputs": [
      {
       "output_type": "stream",
       "stream": "stdout",
       "text": [
        "All you need is love \n",
        "\n",
        "Love is all you need \n",
        "\n"
       ]
      }
     ],
     "prompt_number": 26
    },
    {
     "cell_type": "markdown",
     "metadata": {},
     "source": [
      "The rules for function names are the same as for variable names: letters, numbers and some punctuation marks are legal, but the first character can\u2019t be a number. You can\u2019t use a keyword as the name of a function, and you should avoid having a variable and a function with the same name."
     ]
    },
    {
     "cell_type": "code",
     "collapsed": false,
     "input": [
      "def repeat_lyrics():\n",
      "    print_lyrics()\n",
      "    print_lyrics()"
     ],
     "language": "python",
     "metadata": {},
     "outputs": [],
     "prompt_number": 27
    },
    {
     "cell_type": "code",
     "collapsed": false,
     "input": [
      "repeat_lyrics()"
     ],
     "language": "python",
     "metadata": {},
     "outputs": [
      {
       "output_type": "stream",
       "stream": "stdout",
       "text": [
        "All you need is love \n",
        "\n",
        "Love is all you need \n",
        "\n",
        "All you need is love \n",
        "\n",
        "Love is all you need \n",
        "\n"
       ]
      }
     ],
     "prompt_number": 28
    },
    {
     "cell_type": "markdown",
     "metadata": {},
     "source": [
      "!!! You have to create a function before you can execute it. In other words, the function definition has to be executed before the first time it is called."
     ]
    },
    {
     "cell_type": "code",
     "collapsed": false,
     "input": [
      "call_me()\n",
      "\n",
      "def call_me():\n",
      "    print \"hey, Tatiana\""
     ],
     "language": "python",
     "metadata": {},
     "outputs": [
      {
       "ename": "NameError",
       "evalue": "name 'call_me' is not defined",
       "output_type": "pyerr",
       "traceback": [
        "\u001b[0;31m---------------------------------------------------------------------------\u001b[0m\n\u001b[0;31mNameError\u001b[0m                                 Traceback (most recent call last)",
        "\u001b[0;32m<ipython-input-29-67ea08ba235b>\u001b[0m in \u001b[0;36m<module>\u001b[0;34m()\u001b[0m\n\u001b[0;32m----> 1\u001b[0;31m \u001b[0mcall_me\u001b[0m\u001b[0;34m(\u001b[0m\u001b[0;34m)\u001b[0m\u001b[0;34m\u001b[0m\u001b[0m\n\u001b[0m\u001b[1;32m      2\u001b[0m \u001b[0;34m\u001b[0m\u001b[0m\n\u001b[1;32m      3\u001b[0m \u001b[0;32mdef\u001b[0m \u001b[0mcall_me\u001b[0m\u001b[0;34m(\u001b[0m\u001b[0;34m)\u001b[0m\u001b[0;34m:\u001b[0m\u001b[0;34m\u001b[0m\u001b[0m\n\u001b[1;32m      4\u001b[0m     \u001b[0;32mprint\u001b[0m \u001b[0;34m\"hey, Tatiana\"\u001b[0m\u001b[0;34m\u001b[0m\u001b[0m\n",
        "\u001b[0;31mNameError\u001b[0m: name 'call_me' is not defined"
       ]
      }
     ],
     "prompt_number": 29
    },
    {
     "cell_type": "markdown",
     "metadata": {},
     "source": [
      "name 'call_me' is not defined"
     ]
    },
    {
     "cell_type": "markdown",
     "metadata": {},
     "source": [
      "Inside the function, the arguments are assigned to variables called parameters."
     ]
    },
    {
     "cell_type": "code",
     "collapsed": false,
     "input": [
      "def print_twice(thing): #Function does not know type(thing)\n",
      "    print thing\n",
      "    print thing"
     ],
     "language": "python",
     "metadata": {},
     "outputs": [],
     "prompt_number": 35
    },
    {
     "cell_type": "code",
     "collapsed": false,
     "input": [
      "print_twice('Yay')"
     ],
     "language": "python",
     "metadata": {},
     "outputs": [
      {
       "output_type": "stream",
       "stream": "stdout",
       "text": [
        "Yay\n",
        "Yay\n"
       ]
      }
     ],
     "prompt_number": 36
    },
    {
     "cell_type": "code",
     "collapsed": false,
     "input": [
      "print_twice(pi)"
     ],
     "language": "python",
     "metadata": {},
     "outputs": [
      {
       "output_type": "stream",
       "stream": "stdout",
       "text": [
        "3.14159265359\n",
        "3.14159265359\n"
       ]
      }
     ],
     "prompt_number": 37
    },
    {
     "cell_type": "code",
     "collapsed": false,
     "input": [
      "my_variable = \"I am variable\""
     ],
     "language": "python",
     "metadata": {},
     "outputs": [],
     "prompt_number": 38
    },
    {
     "cell_type": "code",
     "collapsed": false,
     "input": [
      "print_twice(my_variable)"
     ],
     "language": "python",
     "metadata": {},
     "outputs": [
      {
       "output_type": "stream",
       "stream": "stdout",
       "text": [
        "I am variable\n",
        "I am variable\n"
       ]
      }
     ],
     "prompt_number": 39
    },
    {
     "cell_type": "heading",
     "level": 2,
     "metadata": {},
     "source": [
      "SCOPING"
     ]
    },
    {
     "cell_type": "markdown",
     "metadata": {},
     "source": [
      "When you create a variable inside a function, it is local, which means that it only exists inside the function. = SCOPING"
     ]
    },
    {
     "cell_type": "code",
     "collapsed": false,
     "input": [
      "def cat_twice(part1, part2):\n",
      "    cat = part1 + part2\n",
      "    print_twice(cat)"
     ],
     "language": "python",
     "metadata": {},
     "outputs": [],
     "prompt_number": 40
    },
    {
     "cell_type": "markdown",
     "metadata": {},
     "source": [
      "By the way, what does this function do?"
     ]
    },
    {
     "cell_type": "code",
     "collapsed": false,
     "input": [
      "line1 = \"Conca\"\n",
      "line2 = \"tenate\"\n",
      "cat_twice(line1, line2)"
     ],
     "language": "python",
     "metadata": {},
     "outputs": [
      {
       "output_type": "stream",
       "stream": "stdout",
       "text": [
        "Concatenate\n",
        "Concatenate\n"
       ]
      }
     ],
     "prompt_number": 42
    },
    {
     "cell_type": "code",
     "collapsed": false,
     "input": [
      "print cat"
     ],
     "language": "python",
     "metadata": {},
     "outputs": [
      {
       "ename": "NameError",
       "evalue": "name 'cat' is not defined",
       "output_type": "pyerr",
       "traceback": [
        "\u001b[0;31m---------------------------------------------------------------------------\u001b[0m\n\u001b[0;31mNameError\u001b[0m                                 Traceback (most recent call last)",
        "\u001b[0;32m<ipython-input-43-1a29d5e57f81>\u001b[0m in \u001b[0;36m<module>\u001b[0;34m()\u001b[0m\n\u001b[0;32m----> 1\u001b[0;31m \u001b[0;32mprint\u001b[0m \u001b[0mcat\u001b[0m\u001b[0;34m\u001b[0m\u001b[0m\n\u001b[0m",
        "\u001b[0;31mNameError\u001b[0m: name 'cat' is not defined"
       ]
      }
     ],
     "prompt_number": 43
    },
    {
     "cell_type": "markdown",
     "metadata": {},
     "source": [
      "Fruitful function return some value, void functions do not. Printing is action not a value."
     ]
    },
    {
     "cell_type": "code",
     "collapsed": false,
     "input": [
      "a = cos(90)\n",
      "a"
     ],
     "language": "python",
     "metadata": {},
     "outputs": [
      {
       "metadata": {},
       "output_type": "pyout",
       "prompt_number": 44,
       "text": [
        "-0.4480736161291701"
       ]
      }
     ],
     "prompt_number": 44
    },
    {
     "cell_type": "code",
     "collapsed": false,
     "input": [
      "b = print_twice(\"No way\")\n",
      "b"
     ],
     "language": "python",
     "metadata": {},
     "outputs": [
      {
       "output_type": "stream",
       "stream": "stdout",
       "text": [
        "No way\n",
        "No way\n"
       ]
      }
     ],
     "prompt_number": 46
    },
    {
     "cell_type": "code",
     "collapsed": false,
     "input": [
      "print b"
     ],
     "language": "python",
     "metadata": {},
     "outputs": [
      {
       "output_type": "stream",
       "stream": "stdout",
       "text": [
        "None\n"
       ]
      }
     ],
     "prompt_number": 47
    },
    {
     "cell_type": "heading",
     "level": 2,
     "metadata": {},
     "source": [
      "Why in the world do we need functions?"
     ]
    },
    {
     "cell_type": "code",
     "collapsed": false,
     "input": [
      "#Print twice\n",
      "print \"My name\"\n",
      "print \"My name\"\n",
      "\n",
      "#Calculate max from two numbers\n",
      "x = 25\n",
      "y = 26\n",
      "if y>x:\n",
      "    maximum = y\n",
      "else:\n",
      "    maximum = x\n",
      "print maximum"
     ],
     "language": "python",
     "metadata": {},
     "outputs": [
      {
       "output_type": "stream",
       "stream": "stdout",
       "text": [
        "My name\n",
        "My name\n",
        "26\n"
       ]
      }
     ],
     "prompt_number": 49
    },
    {
     "cell_type": "markdown",
     "metadata": {},
     "source": [
      "What if I want to print twice something else?\n",
      "What if I want to calculate maximum of two random numbers? Or of N random numbers?"
     ]
    },
    {
     "cell_type": "markdown",
     "metadata": {},
     "source": [
      "$\n",
      "\\text{Functions help us to generalize and reuse code}\n",
      "$"
     ]
    },
    {
     "cell_type": "heading",
     "level": 2,
     "metadata": {},
     "source": [
      "Additional details"
     ]
    },
    {
     "cell_type": "markdown",
     "metadata": {},
     "source": [
      "Function's arguments can be of different types:"
     ]
    },
    {
     "cell_type": "code",
     "collapsed": false,
     "input": [
      "def print_name(Name, Surname, reverse):\n",
      "    if reverse == True:\n",
      "        print Name, Surname\n",
      "    else:\n",
      "        print Surname, Name\n",
      "        \n",
      "print_name(\"Tatiana\", \"Smirnova\", True)\n",
      "print_name(\"Tatiana\", \"Smirnova\", reverse = True)\n",
      "print_name(\"Tatiana\", \"Smirnova\", False)"
     ],
     "language": "python",
     "metadata": {},
     "outputs": [
      {
       "output_type": "stream",
       "stream": "stdout",
       "text": [
        "Tatiana Smirnova\n",
        "Tatiana Smirnova\n",
        "Smirnova Tatiana\n"
       ]
      }
     ],
     "prompt_number": 52
    },
    {
     "cell_type": "heading",
     "level": 2,
     "metadata": {},
     "source": [
      "Specifications"
     ]
    },
    {
     "cell_type": "code",
     "collapsed": false,
     "input": [
      "def write_specs(specs):\n",
      "    \"\"\" specs boolean,\n",
      "    prints \"Thank you\" if specs == True and \"Oh why?\" otherwise\"\"\"\n",
      "    if specs == True:\n",
      "        print \"Thank you\"\n",
      "    else:\n",
      "        print \"Oh why?\"\n",
      "        \n",
      "write_specs(True)\n",
      "\n",
      "write_specs(False)\n",
      "\n",
      "        \n",
      "    "
     ],
     "language": "python",
     "metadata": {},
     "outputs": [
      {
       "output_type": "stream",
       "stream": "stdout",
       "text": [
        "Thank you\n",
        "Oh why?\n"
       ]
      }
     ],
     "prompt_number": 54
    },
    {
     "cell_type": "code",
     "collapsed": false,
     "input": [
      "write_specs(5)"
     ],
     "language": "python",
     "metadata": {},
     "outputs": [
      {
       "output_type": "stream",
       "stream": "stdout",
       "text": [
        "Oh why?\n"
       ]
      }
     ],
     "prompt_number": 55
    },
    {
     "cell_type": "markdown",
     "metadata": {},
     "source": [
      "This is due to **Assumptions and Guarantees**."
     ]
    },
    {
     "cell_type": "heading",
     "level": 3,
     "metadata": {},
     "source": [
      "Important notation: Decomposition and Abstraction"
     ]
    },
    {
     "cell_type": "heading",
     "level": 2,
     "metadata": {},
     "source": [
      "Tips, Tricks, and Hacks"
     ]
    },
    {
     "cell_type": "markdown",
     "metadata": {},
     "source": [
      "If you have no idea how many arguments you will need:"
     ]
    },
    {
     "cell_type": "code",
     "collapsed": false,
     "input": [
      "def many_args(a, b, c, *args):\n",
      "    print a, b, c, args\n",
      "    \n",
      "many_args(1, 2, 3, 4, 5, 6, 7, 8)"
     ],
     "language": "python",
     "metadata": {},
     "outputs": [
      {
       "output_type": "stream",
       "stream": "stdout",
       "text": [
        "1 2 3 (4, 5, 6, 7, 8)\n"
       ]
      }
     ],
     "prompt_number": 56
    },
    {
     "cell_type": "code",
     "collapsed": false,
     "input": [
      "def sum_all(*args):\n",
      "    \n",
      "    print sum(args)\n",
      "    \n",
      "    \n",
      "sum_all(1, 1, 1, 1, 1, 1)"
     ],
     "language": "python",
     "metadata": {},
     "outputs": [
      {
       "output_type": "stream",
       "stream": "stdout",
       "text": [
        "6\n"
       ]
      }
     ],
     "prompt_number": 59
    },
    {
     "cell_type": "code",
     "collapsed": false,
     "input": [
      "def function(item, stuff = []):\n",
      "    stuff.append(item)\n",
      "    print stuff"
     ],
     "language": "python",
     "metadata": {},
     "outputs": [],
     "prompt_number": 60
    },
    {
     "cell_type": "code",
     "collapsed": false,
     "input": [
      "function(1)"
     ],
     "language": "python",
     "metadata": {},
     "outputs": [
      {
       "output_type": "stream",
       "stream": "stdout",
       "text": [
        "[1]\n"
       ]
      }
     ],
     "prompt_number": 61
    },
    {
     "cell_type": "code",
     "collapsed": false,
     "input": [
      "function(2)"
     ],
     "language": "python",
     "metadata": {},
     "outputs": [
      {
       "output_type": "stream",
       "stream": "stdout",
       "text": [
        "[1, 2]\n"
       ]
      }
     ],
     "prompt_number": 62
    },
    {
     "cell_type": "markdown",
     "metadata": {},
     "source": [
      "DO NOT USE CHANGEABLE OBJECTS AS DEFAULT"
     ]
    },
    {
     "cell_type": "code",
     "collapsed": false,
     "input": [
      "def function(item, stuff = None):\n",
      "    if stuff is None:\n",
      "        stuff = []\n",
      "    stuff.append(item)\n",
      "    print stuff"
     ],
     "language": "python",
     "metadata": {},
     "outputs": [],
     "prompt_number": 64
    },
    {
     "cell_type": "code",
     "collapsed": false,
     "input": [
      "function(1)"
     ],
     "language": "python",
     "metadata": {},
     "outputs": [
      {
       "output_type": "stream",
       "stream": "stdout",
       "text": [
        "[1]\n"
       ]
      }
     ],
     "prompt_number": 65
    },
    {
     "cell_type": "code",
     "collapsed": false,
     "input": [
      "function(2)"
     ],
     "language": "python",
     "metadata": {},
     "outputs": [
      {
       "output_type": "stream",
       "stream": "stdout",
       "text": [
        "[2]\n"
       ]
      }
     ],
     "prompt_number": 66
    },
    {
     "cell_type": "heading",
     "level": 2,
     "metadata": {},
     "source": [
      "Resources used:"
     ]
    },
    {
     "cell_type": "markdown",
     "metadata": {},
     "source": [
      "\n",
      "    \n",
      "    Think Python chapter 3 \"functions\"\n",
      "    http://www.greenteapress.com/thinkpython/html/thinkpython004.html\n",
      "    \n",
      "    Introduction to Computer Science using Python chapters 4.1 Functions and 4.2 Specifications\n",
      "    \n",
      "    Habrahabr website, Python Tricks, Tips and Hacks, Part 5 \"Functions\"\n",
      "    http://habrahabr.ru/post/86706/"
     ]
    },
    {
     "cell_type": "code",
     "collapsed": false,
     "input": [],
     "language": "python",
     "metadata": {},
     "outputs": []
    }
   ],
   "metadata": {}
  }
 ]
}