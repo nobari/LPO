{
 "metadata": {
  "name": "",
  "signature": "sha256:de73dfbfff31bb0e61fd7a9aa17f8e125bb3b9a6c8f144db6bc8ebe6ddca1944"
 },
 "nbformat": 3,
 "nbformat_minor": 0,
 "worksheets": [
  {
   "cells": [
    {
     "cell_type": "heading",
     "level": 1,
     "metadata": {},
     "source": [
      "Inheritance"
     ]
    },
    {
     "cell_type": "heading",
     "level": 2,
     "metadata": {},
     "source": [
      "Card objects"
     ]
    },
    {
     "cell_type": "markdown",
     "metadata": {},
     "source": [
      "There are fifty-two cards in a deck, each of which belongs to one of four suits and one of thirteen ranks. The suits are Spades, Hearts, Diamonds, and Clubs (in descending order in bridge). The ranks are Ace, 2, 3, 4, 5, 6, 7, 8, 9, 10, Jack, Queen, and King. Depending on the game that you are playing, an Ace may be higher than King or lower than 2.\n",
      "If we want to define a new object to represent a playing card, it is obvious what the attributes should be: rank and suit. It is not as obvious what type the attributes should be. One possibility is to use strings containing words like 'Spade' for suits and 'Queen' for ranks. One problem with this implementation is that it would not be easy to compare cards to see which had a higher rank or suit.\n",
      "\n",
      "An alternative is to use integers to encode the ranks and suits. In this context, \u201cencode\u201d means that we are going to define a mapping between numbers and suits, or between numbers and ranks. This kind of encoding is not meant to be a secret (that would be \u201cencryption\u201d).\n",
      "\n",
      "For example, this table shows the suits and the corresponding integer codes:\n",
      "\n",
      "Spades\t\u21a6\t3\n",
      "\n",
      "Hearts\t\u21a6\t2\n",
      "\n",
      "Diamonds\t\u21a6\t1\n",
      "\n",
      "Clubs\t\u21a6\t0\n",
      "\n",
      "This code makes it easy to compare cards; because higher suits map to higher numbers, we can compare suits by comparing their codes.\n",
      "The mapping for ranks is fairly obvious; each of the numerical ranks maps to the corresponding integer, and for face cards:\n",
      "\n",
      "Jack\t\u21a6\t11\n",
      "\n",
      "Queen\t\u21a6\t12\n",
      "\n",
      "King\t\u21a6\t13\n",
      "\n",
      "The class definition for Card looks like this:"
     ]
    },
    {
     "cell_type": "code",
     "collapsed": false,
     "input": [
      "class Card(object):\n",
      "    \"\"\"Represents a standard playing card.\"\"\"\n",
      "\n",
      "    def __init__(self, suit=0, rank=2):\n",
      "        self.suit = suit\n",
      "        self.rank = rank"
     ],
     "language": "python",
     "metadata": {},
     "outputs": [],
     "prompt_number": 3
    },
    {
     "cell_type": "markdown",
     "metadata": {},
     "source": [
      "As usual, the init method takes an optional parameter for each attribute. The default card is the 2 of Clubs.\n",
      "\n",
      "To create a Card, you call Card with the suit and rank of the card you want."
     ]
    },
    {
     "cell_type": "code",
     "collapsed": false,
     "input": [
      "queen_of_diamonds = Card(1, 12)"
     ],
     "language": "python",
     "metadata": {},
     "outputs": [],
     "prompt_number": 4
    },
    {
     "cell_type": "heading",
     "level": 2,
     "metadata": {},
     "source": [
      "Class attributes"
     ]
    },
    {
     "cell_type": "markdown",
     "metadata": {},
     "source": [
      "In order to print Card objects in a way that people can easily read, we need a mapping from the integer codes to the corresponding ranks and suits. A natural way to do that is with lists of strings. We assign these lists to class attributes:"
     ]
    },
    {
     "cell_type": "code",
     "collapsed": false,
     "input": [
      "# inside class Card:\n",
      "\n",
      "    suit_names = ['Clubs', 'Diamonds', 'Hearts', 'Spades']\n",
      "    rank_names = [None, 'Ace', '2', '3', '4', '5', '6', '7', \n",
      "              '8', '9', '10', 'Jack', 'Queen', 'King']\n",
      "\n",
      "    def __str__(self):\n",
      "        return '%s of %s' % (Card.rank_names[self.rank],\n",
      "                             Card.suit_names[self.suit])"
     ],
     "language": "python",
     "metadata": {},
     "outputs": [],
     "prompt_number": 5
    },
    {
     "cell_type": "markdown",
     "metadata": {},
     "source": [
      "Variables like suit_names and rank_names, which are defined inside a class but outside of any method, are called class attributes because they are associated with the class object Card.\n",
      "\n",
      "This term distinguishes them from variables like suit and rank, which are called instance attributes because they are associated with a particular instance.\n",
      "\n",
      "Both kinds of attribute are accessed using dot notation. For example, in __str__, self is a Card object, and self.rank is its rank. \n",
      "\n",
      "Similarly, Card is a class object, and Card.rank_names is a list of strings associated with the class.\n",
      "\n",
      "Every card has its own suit and rank, but there is only one copy of suit_names and rank_names.\n",
      "\n",
      "Putting it all together, the expression Card.rank_names[self.rank] means \u201cuse the attribute rank from the object self as an index into the list rank_names from the class Card, and select the appropriate string.\u201d\n",
      "\n",
      "The first element of rank_names is None because there is no card with rank zero. By including None as a place-keeper, we get a mapping with the nice property that the index 2 maps to the string '2', and so on. To avoid this tweak, we could have used a dictionary instead of a list.\n",
      "\n",
      "With the methods we have so far, we can create and print cards:"
     ]
    },
    {
     "cell_type": "code",
     "collapsed": false,
     "input": [
      ">>> card1 = Card(2, 11)\n",
      ">>> print card1\n",
      "Jack of Hearts"
     ],
     "language": "python",
     "metadata": {},
     "outputs": []
    },
    {
     "cell_type": "heading",
     "level": 2,
     "metadata": {},
     "source": [
      "Comparing cards"
     ]
    },
    {
     "cell_type": "markdown",
     "metadata": {},
     "source": [
      "For built-in types, there are relational operators (<, >, ==, etc.) that compare values and determine when one is greater than, less than, or equal to another. For user-defined types, we can override the behavior of the built-in operators by providing a method named __cmp__.\n",
      "\n",
      "__cmp__ takes two parameters, self and other, and returns a positive number if the first object is greater, a negative number if the second object is greater, and 0 if they are equal to each other.\n",
      "\n",
      "The correct ordering for cards is not obvious. For example, which is better, the 3 of Clubs or the 2 of Diamonds? One has a higher rank, but the other has a higher suit. In order to compare cards, you have to decide whether rank or suit is more important.\n",
      "\n",
      "The answer might depend on what game you are playing, but to keep things simple, we\u2019ll make the arbitrary choice that suit is more important, so all of the Spades outrank all of the Diamonds, and so on.\n",
      "\n",
      "With that decided, we can write __cmp__:"
     ]
    },
    {
     "cell_type": "code",
     "collapsed": false,
     "input": [
      "# inside class Card:\n",
      "\n",
      "    def __cmp__(self, other):\n",
      "        # check the suits\n",
      "        if self.suit > other.suit: return 1\n",
      "        if self.suit < other.suit: return -1\n",
      "\n",
      "        # suits are the same... check ranks\n",
      "        if self.rank > other.rank: return 1\n",
      "        if self.rank < other.rank: return -1\n",
      "\n",
      "        # ranks are the same... it's a tie\n",
      "        return 0  "
     ],
     "language": "python",
     "metadata": {},
     "outputs": []
    },
    {
     "cell_type": "markdown",
     "metadata": {},
     "source": [
      "You can write this more concisely using tuple comparison:"
     ]
    },
    {
     "cell_type": "code",
     "collapsed": false,
     "input": [
      "# inside class Card:\n",
      "\n",
      "    def __cmp__(self, other):\n",
      "        t1 = self.suit, self.rank\n",
      "        t2 = other.suit, other.rank\n",
      "        return cmp(t1, t2)"
     ],
     "language": "python",
     "metadata": {},
     "outputs": []
    },
    {
     "cell_type": "markdown",
     "metadata": {},
     "source": [
      "The built-in function cmp has the same interface as the method __cmp__: it takes two values and returns a positive number if the first is larger, a negative number if the second is larger, and 0 if they are equal.\n",
      "\n",
      "In Python 3, cmp no longer exists, and the __cmp__ method is not supported. Instead you should provide __lt__, which returns True if self is less than other. You can implement __lt__ using tuples and the < operator."
     ]
    },
    {
     "cell_type": "heading",
     "level": 2,
     "metadata": {},
     "source": [
      "Decks"
     ]
    },
    {
     "cell_type": "markdown",
     "metadata": {},
     "source": [
      "Now that we have Cards, the next step is to define Decks. Since a deck is made up of cards, it is natural for each Deck to contain a list of cards as an attribute.\n",
      "\n",
      "The following is a class definition for Deck. The init method creates the attribute cards and generates the standard set of fifty-two cards:"
     ]
    },
    {
     "cell_type": "code",
     "collapsed": false,
     "input": [
      "class Deck(object):\n",
      "\n",
      "    def __init__(self):\n",
      "        self.cards = []\n",
      "        for suit in range(4):\n",
      "            for rank in range(1, 14):\n",
      "                card = Card(suit, rank)\n",
      "                self.cards.append(card)"
     ],
     "language": "python",
     "metadata": {},
     "outputs": []
    },
    {
     "cell_type": "markdown",
     "metadata": {},
     "source": [
      "The easiest way to populate the deck is with a nested loop. The outer loop enumerates the suits from 0 to 3. The inner loop enumerates the ranks from 1 to 13. Each iteration creates a new Card with the current suit and rank, and appends it to self.cards."
     ]
    },
    {
     "cell_type": "heading",
     "level": 2,
     "metadata": {},
     "source": [
      "Printing the deck"
     ]
    },
    {
     "cell_type": "markdown",
     "metadata": {},
     "source": [
      "Here is a __str__ method for Deck:"
     ]
    },
    {
     "cell_type": "code",
     "collapsed": false,
     "input": [
      "#inside class Deck:\n",
      "\n",
      "    def __str__(self):\n",
      "        res = []\n",
      "        for card in self.cards:\n",
      "            res.append(str(card))\n",
      "        return '\\n'.join(res)"
     ],
     "language": "python",
     "metadata": {},
     "outputs": []
    },
    {
     "cell_type": "markdown",
     "metadata": {},
     "source": [
      "This method demonstrates an efficient way to accumulate a large string: building a list of strings and then using join. The built-in function str invokes the __str__ method on each card and returns the string representation.\n",
      "\n",
      "Since we invoke join on a newline character, the cards are separated by newlines. Here\u2019s what the result looks like:"
     ]
    },
    {
     "cell_type": "code",
     "collapsed": false,
     "input": [
      ">>> deck = Deck()\n",
      ">>> print deck\n",
      "Ace of Clubs\n",
      "2 of Clubs\n",
      "3 of Clubs\n",
      "...\n",
      "10 of Spades\n",
      "Jack of Spades\n",
      "Queen of Spades\n",
      "King of Spades"
     ],
     "language": "python",
     "metadata": {},
     "outputs": []
    },
    {
     "cell_type": "markdown",
     "metadata": {},
     "source": [
      "Even though the result appears on 52 lines, it is one long string that contains newlines."
     ]
    },
    {
     "cell_type": "heading",
     "level": 2,
     "metadata": {},
     "source": [
      "Add, remove, shuffle and sort"
     ]
    },
    {
     "cell_type": "markdown",
     "metadata": {},
     "source": [
      "To deal cards, we would like a method that removes a card from the deck and returns it. The list method pop provides a convenient way to do that:"
     ]
    },
    {
     "cell_type": "code",
     "collapsed": false,
     "input": [
      "#inside class Deck:\n",
      "\n",
      "    def pop_card(self):\n",
      "        return self.cards.pop()"
     ],
     "language": "python",
     "metadata": {},
     "outputs": []
    },
    {
     "cell_type": "markdown",
     "metadata": {},
     "source": [
      "Since pop removes the last card in the list, we are dealing from the bottom of the deck. In real life \u201cbottom dealing\u201d is frowned upon, but in this context it\u2019s ok.\n",
      "\n",
      "To add a card, we can use the list method append:"
     ]
    },
    {
     "cell_type": "code",
     "collapsed": false,
     "input": [
      "#inside class Deck:\n",
      "\n",
      "    def add_card(self, card):\n",
      "        self.cards.append(card)"
     ],
     "language": "python",
     "metadata": {},
     "outputs": []
    },
    {
     "cell_type": "markdown",
     "metadata": {},
     "source": [
      "A method like this that uses another function without doing much real work is sometimes called a veneer. The metaphor comes from woodworking, where it is common to glue a thin layer of good quality wood to the surface of a cheaper piece of wood.\n",
      "In this case we are defining a \u201cthin\u201d method that expresses a list operation in terms that are appropriate for decks.\n",
      "\n",
      "As another example, we can write a Deck method named shuffle using the function shuffle from the random module:"
     ]
    },
    {
     "cell_type": "code",
     "collapsed": false,
     "input": [
      "# inside class Deck:\n",
      "            \n",
      "    def shuffle(self):\n",
      "        random.shuffle(self.cards)"
     ],
     "language": "python",
     "metadata": {},
     "outputs": []
    },
    {
     "cell_type": "heading",
     "level": 2,
     "metadata": {},
     "source": [
      "Inheritance"
     ]
    },
    {
     "cell_type": "markdown",
     "metadata": {},
     "source": [
      "The language feature most often associated with object-oriented programming is inheritance. Inheritance is the ability to define a new class that is a modified version of an existing class.\n",
      "\n",
      "It is called \u201cinheritance\u201d because the new class inherits the methods of the existing class. Extending this metaphor, the existing class is called the parent and the new class is called the child.\n",
      "\n",
      "As an example, let\u2019s say we want a class to represent a \u201chand,\u201d that is, the set of cards held by one player. A hand is similar to a deck: both are made up of a set of cards, and both require operations like adding and removing cards.\n",
      "\n",
      "A hand is also different from a deck; there are operations we want for hands that don\u2019t make sense for a deck. For example, in poker we might compare two hands to see which one wins. In bridge, we might compute a score for a hand in order to make a bid.\n",
      "\n",
      "This relationship between classes\u2014similar, but different\u2014lends itself to inheritance.\n",
      "\n",
      "The definition of a child class is like other class definitions, but the name of the parent class appears in parentheses:"
     ]
    },
    {
     "cell_type": "code",
     "collapsed": false,
     "input": [
      "class Hand(Deck):\n",
      "    \"\"\"Represents a hand of playing cards.\"\"\""
     ],
     "language": "python",
     "metadata": {},
     "outputs": []
    },
    {
     "cell_type": "markdown",
     "metadata": {},
     "source": [
      "This definition indicates that Hand inherits from Deck; that means we can use methods like pop_card and add_card for Hands as well as Decks.\n",
      "Hand also inherits __init__ from Deck, but it doesn\u2019t really do what we want: instead of populating the hand with 52 new cards, the init method for Hands should initialize cards with an empty list.\n",
      "\n",
      "If we provide an init method in the Hand class, it overrides the one in the Deck class:"
     ]
    },
    {
     "cell_type": "code",
     "collapsed": false,
     "input": [
      "# inside class Hand:\n",
      "\n",
      "    def __init__(self, label=''):\n",
      "        self.cards = []\n",
      "        self.label = label"
     ],
     "language": "python",
     "metadata": {},
     "outputs": []
    },
    {
     "cell_type": "markdown",
     "metadata": {},
     "source": [
      "So when you create a Hand, Python invokes this init method:"
     ]
    },
    {
     "cell_type": "code",
     "collapsed": false,
     "input": [
      ">>> hand = Hand('new hand')\n",
      ">>> print hand.cards\n",
      "[]\n",
      ">>> print hand.label\n",
      "new hand"
     ],
     "language": "python",
     "metadata": {},
     "outputs": []
    },
    {
     "cell_type": "markdown",
     "metadata": {},
     "source": [
      "But the other methods are inherited from Deck, so we can use pop_card and add_card to deal a card:"
     ]
    },
    {
     "cell_type": "code",
     "collapsed": false,
     "input": [
      ">>> deck = Deck()\n",
      ">>> card = deck.pop_card()\n",
      ">>> hand.add_card(card)\n",
      ">>> print hand\n",
      "King of Spades"
     ],
     "language": "python",
     "metadata": {},
     "outputs": []
    },
    {
     "cell_type": "markdown",
     "metadata": {},
     "source": [
      "A natural next step is to encapsulate this code in a method called move_cards:"
     ]
    },
    {
     "cell_type": "code",
     "collapsed": false,
     "input": [
      "#inside class Deck:\n",
      "\n",
      "    def move_cards(self, hand, num):\n",
      "        for i in range(num):\n",
      "            hand.add_card(self.pop_card())"
     ],
     "language": "python",
     "metadata": {},
     "outputs": []
    },
    {
     "cell_type": "markdown",
     "metadata": {},
     "source": [
      "move_cards takes two arguments, a Hand object and the number of cards to deal. It modifies both self and hand, and returns None.\n",
      "\n",
      "In some games, cards are moved from one hand to another, or from a hand back to the deck. You can use move_cards for any of these operations: self can be either a Deck or a Hand, and hand, despite the name, can also be a Deck.\n",
      "\n",
      "Inheritance is a useful feature. Some programs that would be repetitive without inheritance can be written more elegantly with it. Inheritance can facilitate code reuse, since you can customize the behavior of parent classes without having to modify them. In some cases, the inheritance structure reflects the natural structure of the problem, which makes the program easier to understand.\n",
      "\n",
      "On the other hand, inheritance can make programs difficult to read. When a method is invoked, it is sometimes not clear where to find its definition. The relevant code may be scattered among several modules. Also, many of the things that can be done using inheritance can be done as well or better without it."
     ]
    },
    {
     "cell_type": "heading",
     "level": 2,
     "metadata": {},
     "source": [
      " Debugging"
     ]
    },
    {
     "cell_type": "markdown",
     "metadata": {},
     "source": [
      "Inheritance can make debugging a challenge because when you invoke a method on an object, you might not know which method will be invoked.\n",
      "\n",
      "Suppose you are writing a function that works with Hand objects. You would like it to work with all kinds of Hands, like PokerHands, BridgeHands, etc. If you invoke a method like shuffle, you might get the one defined in Deck, but if any of the subclasses override this method, you\u2019ll get that version instead.\n",
      "\n",
      "Any time you are unsure about the flow of execution through your program, the simplest solution is to add print statements at the beginning of the relevant methods. If Deck.shuffle prints a message that says something like Running Deck.shuffle, then as the program runs it traces the flow of execution.\n",
      "\n",
      "As an alternative, you could use this function, which takes an object and a method name (as a string) and returns the class that provides the definition of the method:"
     ]
    },
    {
     "cell_type": "code",
     "collapsed": false,
     "input": [
      "def find_defining_class(obj, meth_name):\n",
      "    for ty in type(obj).mro():\n",
      "        if meth_name in ty.__dict__:\n",
      "            return ty"
     ],
     "language": "python",
     "metadata": {},
     "outputs": []
    },
    {
     "cell_type": "markdown",
     "metadata": {},
     "source": [
      "Here\u2019s an example:"
     ]
    },
    {
     "cell_type": "code",
     "collapsed": false,
     "input": [
      ">>> hand = Hand()\n",
      ">>> print find_defining_class(hand, 'shuffle')\n",
      "<class 'Card.Deck'>"
     ],
     "language": "python",
     "metadata": {},
     "outputs": []
    },
    {
     "cell_type": "markdown",
     "metadata": {},
     "source": [
      "So the shuffle method for this Hand is the one in Deck.\n",
      "find_defining_class uses the mro method to get the list of class objects (types) that will be searched for methods. \u201cMRO\u201d stands for \u201cmethod resolution order.\u201d\n",
      "\n",
      "Here\u2019s a program design suggestion: whenever you override a method, the interface of the new method should be the same as the old. It should take the same parameters, return the same type, and obey the same preconditions and postconditions. If you obey this rule, you will find that any function designed to work with an instance of a superclass, like a Deck, will also work with instances of subclasses like a Hand or PokerHand.\n",
      "\n",
      "If you violate this rule, your code will collapse like (sorry) a house of cards."
     ]
    },
    {
     "cell_type": "heading",
     "level": 2,
     "metadata": {},
     "source": [
      "The full code"
     ]
    },
    {
     "cell_type": "code",
     "collapsed": false,
     "input": [
      "import random\n",
      "\n",
      "\n",
      "class Card(object):\n",
      "    \"\"\"Represents a standard playing card.\n",
      "    \n",
      "    Attributes:\n",
      "      suit: integer 0-3\n",
      "      rank: integer 1-13\n",
      "    \"\"\"\n",
      "\n",
      "    suit_names = [\"Clubs\", \"Diamonds\", \"Hearts\", \"Spades\"]\n",
      "    rank_names = [None, \"Ace\", \"2\", \"3\", \"4\", \"5\", \"6\", \"7\", \n",
      "              \"8\", \"9\", \"10\", \"Jack\", \"Queen\", \"King\"]\n",
      "\n",
      "    def __init__(self, suit=0, rank=2):\n",
      "        self.suit = suit\n",
      "        self.rank = rank\n",
      "\n",
      "    def __str__(self):\n",
      "        \"\"\"Returns a human-readable string representation.\"\"\"\n",
      "        return '%s of %s' % (Card.rank_names[self.rank],\n",
      "                             Card.suit_names[self.suit])\n",
      "\n",
      "    def __cmp__(self, other):\n",
      "        \"\"\"Compares this card to other, first by suit, then rank.\n",
      "\n",
      "        Returns a positive number if this > other; negative if other > this;\n",
      "        and 0 if they are equivalent.\n",
      "        \"\"\"\n",
      "        t1 = self.suit, self.rank\n",
      "        t2 = other.suit, other.rank\n",
      "        return cmp(t1, t2)\n",
      "\n",
      "\n",
      "class Deck(object):\n",
      "    \"\"\"Represents a deck of cards.\n",
      "\n",
      "    Attributes:\n",
      "      cards: list of Card objects.\n",
      "    \"\"\"\n",
      "    \n",
      "    def __init__(self):\n",
      "        self.cards = []\n",
      "        for suit in range(4):\n",
      "            for rank in range(1, 14):\n",
      "                card = Card(suit, rank)\n",
      "                self.cards.append(card)\n",
      "\n",
      "    def __str__(self):\n",
      "        res = []\n",
      "        for card in self.cards:\n",
      "            res.append(str(card))\n",
      "        return '\\na'.join(res)\n",
      "\n",
      "    def add_card(self, card):\n",
      "        \"\"\"Adds a card to the deck.\"\"\"\n",
      "        self.cards.append(card)\n",
      "\n",
      "    def remove_card(self, card):\n",
      "        \"\"\"Removes a card from the deck.\"\"\"\n",
      "        self.cards.remove(card)\n",
      "\n",
      "    def pop_card(self, i=-1):\n",
      "        \"\"\"Removes and returns a card from the deck.\n",
      "\n",
      "        i: index of the card to pop; by default, pops the last card.\n",
      "        \"\"\"\n",
      "        return self.cards.pop(i)\n",
      "\n",
      "    def shuffle(self):\n",
      "        \"\"\"Shuffles the cards in this deck.\"\"\"\n",
      "        random.shuffle(self.cards)\n",
      "\n",
      "    def sort(self):\n",
      "        \"\"\"Sorts the cards in ascending order.\"\"\"\n",
      "        self.cards.sort()\n",
      "\n",
      "    def move_cards(self, hand, num):\n",
      "        \"\"\"Moves the given number of cards from the deck into the Hand.\n",
      "\n",
      "        hand: destination Hand object\n",
      "        num: integer number of cards to move\n",
      "        \"\"\"\n",
      "        for i in range(num):\n",
      "            hand.add_card(self.pop_card())\n",
      "\n",
      "\n",
      "class Hand(Deck):\n",
      "    \"\"\"Represents a hand of playing cards.\"\"\"\n",
      "    \n",
      "    def __init__(self, label=''):\n",
      "        self.cards = []\n",
      "        self.label = label\n",
      "\n",
      "\n",
      "def find_defining_class(obj, method_name):\n",
      "    \"\"\"Finds and returns the class object that will provide \n",
      "    the definition of method_name (as a string) if it is\n",
      "    invoked on obj.\n",
      "\n",
      "    obj: any python object\n",
      "    method_name: string method name\n",
      "    \"\"\"\n",
      "    for ty in type(obj).mro():\n",
      "        if method_name in ty.__dict__:\n",
      "            return ty\n",
      "    return None\n",
      "\n",
      "\n",
      "if __name__ == '__main__':\n",
      "    deck = Deck()\n",
      "    deck.shuffle()\n",
      "\n",
      "    hand = Hand()\n",
      "    print find_defining_class(hand, 'shuffle')\n",
      "\n",
      "    deck.move_cards(hand, 5)\n",
      "    hand.sort()\n",
      "    print hand"
     ],
     "language": "python",
     "metadata": {},
     "outputs": [
      {
       "output_type": "stream",
       "stream": "stdout",
       "text": [
        "<class '__main__.Deck'>\n",
        "5 of Clubs\n",
        "aAce of Diamonds\n",
        "a7 of Diamonds\n",
        "a7 of Spades\n",
        "a8 of Spades\n"
       ]
      }
     ],
     "prompt_number": 2
    },
    {
     "cell_type": "code",
     "collapsed": false,
     "input": [],
     "language": "python",
     "metadata": {},
     "outputs": []
    }
   ],
   "metadata": {}
  }
 ]
}