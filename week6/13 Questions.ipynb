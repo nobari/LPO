{
 "metadata": {
  "name": "",
  "signature": "sha256:96a4e0f1b1e7d8e6ddb0beba40bca843b18001df9910d3f4daf9daaeeb22ab7b"
 },
 "nbformat": 3,
 "nbformat_minor": 0,
 "worksheets": [
  {
   "cells": [
    {
     "cell_type": "heading",
     "level": 1,
     "metadata": {},
     "source": [
      "Chapter 13 tasks (each task = 10 points)"
     ]
    },
    {
     "cell_type": "markdown",
     "metadata": {},
     "source": [
      "Choose any book you wish (you can use http://gutenberg.org). "
     ]
    },
    {
     "cell_type": "markdown",
     "metadata": {},
     "source": [
      "1.Count total number of words, numbers, dots and commas in the text"
     ]
    },
    {
     "cell_type": "markdown",
     "metadata": {},
     "source": [
      "2.Find top 5 and top 10 of the most common words in the text"
     ]
    },
    {
     "cell_type": "markdown",
     "metadata": {},
     "source": [
      "3.Find top 5 and top 10 of the longest words in the text"
     ]
    },
    {
     "cell_type": "markdown",
     "metadata": {},
     "source": [
      "4.Use words.txt (see lecture 9) and find which words from text of your choice are not in the words.txt file."
     ]
    },
    {
     "cell_type": "markdown",
     "metadata": {},
     "source": [
      "5.Write a function to get a random words, to get 3 random words from text of your choice"
     ]
    }
   ],
   "metadata": {}
  }
 ]
}