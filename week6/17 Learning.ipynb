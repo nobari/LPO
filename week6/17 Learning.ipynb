{
 "metadata": {
  "name": "",
  "signature": "sha256:bef4ea68aba0927d06b7e697eaf4b6c466d8ab7781b97c61b95f027408849dac"
 },
 "nbformat": 3,
 "nbformat_minor": 0,
 "worksheets": [
  {
   "cells": [
    {
     "cell_type": "heading",
     "level": 1,
     "metadata": {},
     "source": [
      "Classes and methods"
     ]
    },
    {
     "cell_type": "heading",
     "level": 2,
     "metadata": {},
     "source": [
      "Object-oriented features"
     ]
    },
    {
     "cell_type": "markdown",
     "metadata": {},
     "source": [
      "Python is an **object-oriented programming language**, which means that it provides features that support object-oriented programming with the following characteristics:"
     ]
    },
    {
     "cell_type": "markdown",
     "metadata": {},
     "source": [
      "- Programs are made up of object definitions and function definitions, and most of the computation is expressed in terms of operations on objects.\n",
      "- Each object definition corresponds to some object or concept in the real world, and the functions that operate on that object correspond to the ways real-world objects interact."
     ]
    },
    {
     "cell_type": "code",
     "collapsed": false,
     "input": [
      "class Time(object):\n",
      "    \"\"\"Represents the time of day.\n",
      "       \n",
      "    attributes: hour, minute, second\n",
      "    \"\"\"\n",
      "time = Time()\n",
      "time.hour = 11\n",
      "time.minute = 59\n",
      "time.second = 30\n",
      "\n",
      "time1 = Time()\n",
      "time1.years = 1000\n",
      "\n",
      "print time\n",
      "print time.hour\n",
      "print time.minute\n",
      "print time.second\n",
      "print time1.years"
     ],
     "language": "python",
     "metadata": {},
     "outputs": [
      {
       "output_type": "stream",
       "stream": "stdout",
       "text": [
        "<__main__.Time object at 0x00000000037C72B0>\n",
        "11\n",
        "59\n",
        "30\n",
        "1000\n"
       ]
      }
     ],
     "prompt_number": 11
    },
    {
     "cell_type": "markdown",
     "metadata": {},
     "source": [
      "Python provides some advanced features to support object-oriented programming. These features are not strictly necessary; most of them provide alternative syntax for things we have already done. But in many cases, the alternative is more concise and more accurately conveys the structure of the program."
     ]
    },
    {
     "cell_type": "markdown",
     "metadata": {},
     "source": [
      "This observation is the motivation for methods; a **method** is a function that is associated with a particular class. We have seen methods for strings, lists, dictionaries and tuples. Here we define methods for user-defined types.\n",
      "\n",
      "Methods are semantically the same as functions, but there are two syntactic differences:\n",
      "- Methods are defined inside a class definition in order to make the relationship between the class and the method explicit.\n",
      "- The syntax for invoking a method is different from the syntax for calling a function."
     ]
    },
    {
     "cell_type": "heading",
     "level": 2,
     "metadata": {},
     "source": [
      "Printing objects"
     ]
    },
    {
     "cell_type": "markdown",
     "metadata": {},
     "source": [
      "Simple example with creating an object and calling the function with this object as an argument:"
     ]
    },
    {
     "cell_type": "code",
     "collapsed": false,
     "input": [
      "class Time:\n",
      "    \"\"\"Represents the time of day.\"\"\"\n",
      "\n",
      "def print_time(time):\n",
      "    print '%.2d:%.2d:%.2d' % (time.hour, time.minute, time.second)\n",
      "\n",
      "start = Time()\n",
      "start.hour = 9\n",
      "start.minute = 45\n",
      "start.second = 00\n",
      "print_time(start)"
     ],
     "language": "python",
     "metadata": {},
     "outputs": [
      {
       "output_type": "stream",
       "stream": "stdout",
       "text": [
        "09:45:00\n"
       ]
      }
     ],
     "prompt_number": 13
    },
    {
     "cell_type": "markdown",
     "metadata": {},
     "source": [
      "To make print_time a method, all we have to do is move the function definition inside the class definition. Notice the change in indentation."
     ]
    },
    {
     "cell_type": "code",
     "collapsed": false,
     "input": [
      "class Time(object):\n",
      "    def print_time(time, x):\n",
      "        print '%.2d:%.2d:%.2d%s' % (time.hour, time.minute, time.second,x)\n",
      "        \n",
      "start = Time()\n",
      "start.hour = 9\n",
      "start.minute = 45\n",
      "start.second = 00"
     ],
     "language": "python",
     "metadata": {},
     "outputs": [],
     "prompt_number": 17
    },
    {
     "cell_type": "markdown",
     "metadata": {},
     "source": [
      "Now there are two ways to call print_time. The first (and less common) way is to use function syntax:"
     ]
    },
    {
     "cell_type": "code",
     "collapsed": false,
     "input": [
      "Time.print_time(start)"
     ],
     "language": "python",
     "metadata": {},
     "outputs": [
      {
       "ename": "TypeError",
       "evalue": "print_time() takes exactly 2 arguments (1 given)",
       "output_type": "pyerr",
       "traceback": [
        "\u001b[1;31m---------------------------------------------------------------------------\u001b[0m\n\u001b[1;31mTypeError\u001b[0m                                 Traceback (most recent call last)",
        "\u001b[1;32m<ipython-input-15-538baa208492>\u001b[0m in \u001b[0;36m<module>\u001b[1;34m()\u001b[0m\n\u001b[1;32m----> 1\u001b[1;33m \u001b[0mTime\u001b[0m\u001b[1;33m.\u001b[0m\u001b[0mprint_time\u001b[0m\u001b[1;33m(\u001b[0m\u001b[0mstart\u001b[0m\u001b[1;33m)\u001b[0m\u001b[1;33m\u001b[0m\u001b[0m\n\u001b[0m",
        "\u001b[1;31mTypeError\u001b[0m: print_time() takes exactly 2 arguments (1 given)"
       ]
      }
     ],
     "prompt_number": 15
    },
    {
     "cell_type": "markdown",
     "metadata": {},
     "source": [
      "In this use of dot notation, Time is the name of the class, and print_time is the name of the method. start is passed as a parameter.\n",
      "\n",
      "The second (and more concise) way is to use **method syntax**:"
     ]
    },
    {
     "cell_type": "code",
     "collapsed": false,
     "input": [
      "start.print_time('sdfasd')\n",
      "print type(Time)\n",
      "print type(start)"
     ],
     "language": "python",
     "metadata": {},
     "outputs": [
      {
       "output_type": "stream",
       "stream": "stdout",
       "text": [
        "09:45:00:sdfasd\n",
        "<type 'type'>\n",
        "<class '__main__.Time'>\n"
       ]
      }
     ],
     "prompt_number": 20
    },
    {
     "cell_type": "markdown",
     "metadata": {},
     "source": [
      "In this use of dot notation, print_time is the name of the method (again), and start is the object the method is invoked on, which is called the subject. Just as the subject of a sentence is what the sentence is about, the subject of a method invocation is what the method is about.\n",
      "\n",
      "Inside the method, the subject is assigned to the first parameter, so in this case start is assigned to time.\n",
      "\n",
      "By convention, the first parameter of a method is called **self**, so it would be more common to write print_time like this:"
     ]
    },
    {
     "cell_type": "code",
     "collapsed": false,
     "input": [
      "class Time(object):\n",
      "    def print_time(self):\n",
      "        print '%.2d:%.2d:%.2d' % (self.hour, self.minute, self.second)"
     ],
     "language": "python",
     "metadata": {},
     "outputs": [],
     "prompt_number": 10
    },
    {
     "cell_type": "heading",
     "level": 2,
     "metadata": {},
     "source": [
      "Another example"
     ]
    },
    {
     "cell_type": "code",
     "collapsed": false,
     "input": [
      "class Time(object):\n",
      "    def print_time(self):\n",
      "        print '%.2d:%.2d:%.2d' % (self.hour, self.minute, self.second)\n",
      "        \n",
      "    def increment(self, seconds):\n",
      "        seconds += self.time_to_int()\n",
      "        return int_to_time(seconds)\n",
      "    \n",
      "    def time_to_int(time):\n",
      "        minutes = time.hour * 60 + time.minute\n",
      "        seconds = minutes * 60 + time.second\n",
      "        return seconds\n",
      "\n",
      "def int_to_time(seconds):\n",
      "    time = Time()\n",
      "    minutes, time.second = divmod(seconds, 60)\n",
      "    time.hour, time.minute = divmod(minutes, 60)\n",
      "    return time\n",
      "\n",
      "start = Time()\n",
      "start.hour = 9\n",
      "start.minute = 45\n",
      "start.second = 00\n",
      "\n",
      "start.print_time()"
     ],
     "language": "python",
     "metadata": {},
     "outputs": [
      {
       "output_type": "stream",
       "stream": "stdout",
       "text": [
        "09:45:00\n"
       ]
      }
     ],
     "prompt_number": 19
    },
    {
     "cell_type": "code",
     "collapsed": false,
     "input": [
      "end = start.increment(1337)\n",
      "end.print_time()"
     ],
     "language": "python",
     "metadata": {},
     "outputs": [
      {
       "output_type": "stream",
       "stream": "stdout",
       "text": [
        "10:07:17\n"
       ]
      }
     ],
     "prompt_number": 20
    },
    {
     "cell_type": "markdown",
     "metadata": {},
     "source": [
      "The subject, start, gets assigned to the first parameter, self. The argument, 1337, gets assigned to the second parameter, seconds.\n",
      "\n",
      "This mechanism can be confusing, especially if you make an error. For example, if you invoke increment with two arguments, you get:"
     ]
    },
    {
     "cell_type": "code",
     "collapsed": false,
     "input": [
      "end = start.increment(1337, 460)"
     ],
     "language": "python",
     "metadata": {},
     "outputs": [
      {
       "ename": "TypeError",
       "evalue": "increment() takes exactly 2 arguments (3 given)",
       "output_type": "pyerr",
       "traceback": [
        "\u001b[1;31m---------------------------------------------------------------------------\u001b[0m\n\u001b[1;31mTypeError\u001b[0m                                 Traceback (most recent call last)",
        "\u001b[1;32m<ipython-input-21-fc6b983fb3d4>\u001b[0m in \u001b[0;36m<module>\u001b[1;34m()\u001b[0m\n\u001b[1;32m----> 1\u001b[1;33m \u001b[0mend\u001b[0m \u001b[1;33m=\u001b[0m \u001b[0mstart\u001b[0m\u001b[1;33m.\u001b[0m\u001b[0mincrement\u001b[0m\u001b[1;33m(\u001b[0m\u001b[1;36m1337\u001b[0m\u001b[1;33m,\u001b[0m \u001b[1;36m460\u001b[0m\u001b[1;33m)\u001b[0m\u001b[1;33m\u001b[0m\u001b[0m\n\u001b[0m",
        "\u001b[1;31mTypeError\u001b[0m: increment() takes exactly 2 arguments (3 given)"
       ]
      }
     ],
     "prompt_number": 21
    },
    {
     "cell_type": "heading",
     "level": 2,
     "metadata": {},
     "source": [
      "A more complicated example"
     ]
    },
    {
     "cell_type": "markdown",
     "metadata": {},
     "source": [
      "is_after is slightly more complicated because it takes two Time objects as parameters. In this case it is conventional to name the first parameter self and the second parameter other:"
     ]
    },
    {
     "cell_type": "code",
     "collapsed": false,
     "input": [
      "class Time(object):\n",
      "    def is_after(self, other):\n",
      "        return self.time_to_int() > other.time_to_int()\n",
      "    \n",
      "    def print_time(self):\n",
      "        print '%.2d:%.2d:%.2d' % (self.hour, self.minute, self.second)\n",
      "        \n",
      "    def increment(self, seconds):\n",
      "        seconds += self.time_to_int()\n",
      "        return int_to_time(seconds)\n",
      "    \n",
      "    def time_to_int(time):\n",
      "        minutes = time.hour * 60 + time.minute\n",
      "        seconds = minutes * 60 + time.second\n",
      "        return seconds\n",
      "\n",
      "def int_to_time(seconds):\n",
      "    time = Time()\n",
      "    minutes, time.second = divmod(seconds, 60)\n",
      "    time.hour, time.minute = divmod(minutes, 60)\n",
      "    return time\n",
      "       \n",
      "start = Time()\n",
      "start.hour = 9\n",
      "start.minute = 45\n",
      "start.second = 00\n",
      "\n",
      "end = start.increment(1337)"
     ],
     "language": "python",
     "metadata": {},
     "outputs": [],
     "prompt_number": 29
    },
    {
     "cell_type": "markdown",
     "metadata": {},
     "source": [
      "To use this method, you have to invoke it on one object and pass the other as an argument:"
     ]
    },
    {
     "cell_type": "code",
     "collapsed": false,
     "input": [
      "print end.is_after(start)\n",
      "print start.is_after(end)"
     ],
     "language": "python",
     "metadata": {},
     "outputs": [
      {
       "output_type": "stream",
       "stream": "stdout",
       "text": [
        "True\n",
        "False\n"
       ]
      }
     ],
     "prompt_number": 30
    },
    {
     "cell_type": "heading",
     "level": 2,
     "metadata": {},
     "source": [
      "The init method"
     ]
    },
    {
     "cell_type": "markdown",
     "metadata": {},
     "source": [
      "The init method (short for \u201cinitialization\u201d) is a special method that gets invoked when an object is instantiated. Its full name is __init__ (two underscore characters, followed by init, and then two more underscores). An init method for the Time class might look like this:"
     ]
    },
    {
     "cell_type": "code",
     "collapsed": false,
     "input": [
      "class Time(object):\n",
      "    def print_time(self):\n",
      "        print '%.2d:%.2d:%.2d' % (self.hour, self.minute, self.second)\n",
      "    def __init__(self, hour=0, minute=0, second=0): #constructor in other programming languages\n",
      "        self.hour = hour\n",
      "        self.minute = minute\n",
      "        self.second = second"
     ],
     "language": "python",
     "metadata": {},
     "outputs": [],
     "prompt_number": 31
    },
    {
     "cell_type": "markdown",
     "metadata": {},
     "source": [
      "It is common for the parameters of __init__ to have the same names as the attributes. The statement **self.hour = hour** stores the value of the parameter hour as an attribute of self."
     ]
    },
    {
     "cell_type": "markdown",
     "metadata": {},
     "source": [
      "The parameters are optional, so if you call Time with no arguments, you get the default values."
     ]
    },
    {
     "cell_type": "code",
     "collapsed": false,
     "input": [
      "time = Time()\n",
      "time.print_time()"
     ],
     "language": "python",
     "metadata": {},
     "outputs": [
      {
       "output_type": "stream",
       "stream": "stdout",
       "text": [
        "00:00:00\n"
       ]
      }
     ],
     "prompt_number": 32
    },
    {
     "cell_type": "markdown",
     "metadata": {},
     "source": [
      "If you provide one argument, it overrides hour:"
     ]
    },
    {
     "cell_type": "code",
     "collapsed": false,
     "input": [
      "time = Time (9)\n",
      "time.print_time()"
     ],
     "language": "python",
     "metadata": {},
     "outputs": [
      {
       "output_type": "stream",
       "stream": "stdout",
       "text": [
        "09:00:00\n"
       ]
      }
     ],
     "prompt_number": 33
    },
    {
     "cell_type": "markdown",
     "metadata": {},
     "source": [
      "If you provide two arguments, they override hour and minute."
     ]
    },
    {
     "cell_type": "code",
     "collapsed": false,
     "input": [
      "time = Time(9, 45)\n",
      "time.print_time()"
     ],
     "language": "python",
     "metadata": {},
     "outputs": [
      {
       "output_type": "stream",
       "stream": "stdout",
       "text": [
        "09:45:00\n"
       ]
      }
     ],
     "prompt_number": 34
    },
    {
     "cell_type": "heading",
     "level": 2,
     "metadata": {},
     "source": [
      "The __ str __ method"
     ]
    },
    {
     "cell_type": "markdown",
     "metadata": {},
     "source": [
      "__str__ is a special method, like __init__, that is supposed to return a string representation of an object.\n",
      "\n",
      "For example, here is a str method for Time objects:"
     ]
    },
    {
     "cell_type": "code",
     "collapsed": false,
     "input": [
      "class Time(object):\n",
      "    def __init__(self, hour=0, minute=0, second=0):\n",
      "        self.hour = hour\n",
      "        self.minute = minute\n",
      "        self.second = second\n",
      "    def __str__(self):\n",
      "        return '%.2d:%.2d:%.2d' % (self.hour, self.minute, self.second)"
     ],
     "language": "python",
     "metadata": {},
     "outputs": [],
     "prompt_number": 37
    },
    {
     "cell_type": "markdown",
     "metadata": {},
     "source": [
      "When you print an object, Python invokes the str method:"
     ]
    },
    {
     "cell_type": "code",
     "collapsed": false,
     "input": [
      "time = Time(9, 45)\n",
      "print time"
     ],
     "language": "python",
     "metadata": {},
     "outputs": [
      {
       "output_type": "stream",
       "stream": "stdout",
       "text": [
        "09:45:00\n"
       ]
      }
     ],
     "prompt_number": 38
    },
    {
     "cell_type": "markdown",
     "metadata": {},
     "source": [
      "When you start writing a new class, you can start by writing __init__, which makes it easier to instantiate objects, and __str__, which is useful for debugging."
     ]
    },
    {
     "cell_type": "heading",
     "level": 2,
     "metadata": {},
     "source": [
      "Operator overloading"
     ]
    },
    {
     "cell_type": "markdown",
     "metadata": {},
     "source": [
      "By defining other special methods, you can specify the behavior of operators on user-defined types. For example, if you define a method named __add__ for the Time class, you can use the + operator on Time objects.\n",
      "\n",
      "Here is what the definition might look like:"
     ]
    },
    {
     "cell_type": "code",
     "collapsed": false,
     "input": [
      "class Time(object):\n",
      "    def __init__(self, hour=0, minute=0, second=0):\n",
      "        self.hour = hour\n",
      "        self.minute = minute\n",
      "        self.second = second\n",
      "    def __str__(self):\n",
      "        return '%.2d:%.2d:%.2d' % (self.hour, self.minute, self.second)\n",
      "    def __add__(self, other):\n",
      "        seconds = self.time_to_int() + other.time_to_int()\n",
      "        return int_to_time(seconds)\n",
      "    def time_to_int(time):\n",
      "        minutes = time.hour * 60 + time.minute\n",
      "        seconds = minutes * 60 + time.second\n",
      "        return seconds\n",
      "    \n",
      "def int_to_time(seconds):\n",
      "    time = Time()\n",
      "    minutes, time.second = divmod(seconds, 60)\n",
      "    time.hour, time.minute = divmod(minutes, 60)\n",
      "    return time"
     ],
     "language": "python",
     "metadata": {},
     "outputs": [],
     "prompt_number": 5
    },
    {
     "cell_type": "markdown",
     "metadata": {},
     "source": [
      "And here is how you could use it:"
     ]
    },
    {
     "cell_type": "code",
     "collapsed": false,
     "input": [
      "start = Time(9, 45)\n",
      "duration = Time(1, 35)\n",
      "print start + duration"
     ],
     "language": "python",
     "metadata": {},
     "outputs": [
      {
       "output_type": "stream",
       "stream": "stdout",
       "text": [
        "11:20:00\n"
       ]
      }
     ],
     "prompt_number": 6
    },
    {
     "cell_type": "markdown",
     "metadata": {},
     "source": [
      "When you apply the + operator to Time objects, Python invokes __add__. When you print the result, Python invokes __str__. So there is quite a lot happening behind the scenes!\n",
      "\n",
      "Changing the behavior of an operator so that it works with user-defined types is called operator overloading. For every operator in Python there is a corresponding special method, like __add__. For more details, see http://docs.python.org/2/reference/datamodel.html#specialnames."
     ]
    },
    {
     "cell_type": "heading",
     "level": 2,
     "metadata": {},
     "source": [
      "Type-based dispatch"
     ]
    },
    {
     "cell_type": "markdown",
     "metadata": {},
     "source": [
      "In the previous section we added two Time objects, but you also might want to add an integer to a Time object. The following is a version of __add__ that checks the type of other and invokes either add_time or increment:"
     ]
    },
    {
     "cell_type": "code",
     "collapsed": false,
     "input": [
      "class Time(object):\n",
      "    def __init__(self, hour=0, minute=0, second=0):\n",
      "        self.hour = hour\n",
      "        self.minute = minute\n",
      "        self.second = second\n",
      "    def time_to_int(time):\n",
      "        minutes = time.hour * 60 + time.minute\n",
      "        seconds = minutes * 60 + time.second\n",
      "        return seconds\n",
      "    def __add__(self, other):\n",
      "        if isinstance(other, Time):\n",
      "            return self.add_time(other)\n",
      "        else:\n",
      "            return self.increment(other)\n",
      "\n",
      "    def add_time(self, other):\n",
      "        seconds = self.time_to_int() + other.time_to_int()\n",
      "        return int_to_time(seconds)\n",
      "\n",
      "    def increment(self, seconds):\n",
      "        seconds += self.time_to_int()\n",
      "        return int_to_time(seconds)\n",
      "    \n",
      "    def __str__(self):\n",
      "        return '%.2d:%.2d:%.2d' % (self.hour, self.minute, self.second)\n",
      "\n",
      "def int_to_time(seconds):\n",
      "    time = Time()\n",
      "    minutes, time.second = divmod(seconds, 60)\n",
      "    time.hour, time.minute = divmod(minutes, 60)\n",
      "    return time"
     ],
     "language": "python",
     "metadata": {},
     "outputs": [],
     "prompt_number": 3
    },
    {
     "cell_type": "markdown",
     "metadata": {},
     "source": [
      "The built-in function isinstance takes a value and a class object, and returns True if the value is an instance of the class.\n",
      "If other is a Time object, __add__ invokes add_time. Otherwise it assumes that the parameter is a number and invokes increment. This operation is called a **type-based dispatch** because it dispatches the computation to different methods based on the type of the arguments.\n",
      "\n",
      "Here are examples that use the + operator with different types:"
     ]
    },
    {
     "cell_type": "code",
     "collapsed": false,
     "input": [
      "start = Time(9, 45)\n",
      "duration = Time(1, 35)\n",
      "print start + duration\n",
      "print start + 1337"
     ],
     "language": "python",
     "metadata": {},
     "outputs": [
      {
       "output_type": "stream",
       "stream": "stdout",
       "text": [
        "11:20:00\n",
        "10:07:17\n"
       ]
      }
     ],
     "prompt_number": 4
    },
    {
     "cell_type": "markdown",
     "metadata": {},
     "source": [
      "Unfortunately, this implementation of addition is not commutative. If the integer is the first operand, you get"
     ]
    },
    {
     "cell_type": "code",
     "collapsed": false,
     "input": [
      "print 1337 + start"
     ],
     "language": "python",
     "metadata": {},
     "outputs": [
      {
       "ename": "TypeError",
       "evalue": "unsupported operand type(s) for +: 'int' and 'Time'",
       "output_type": "pyerr",
       "traceback": [
        "\u001b[1;31m---------------------------------------------------------------------------\u001b[0m\n\u001b[1;31mTypeError\u001b[0m                                 Traceback (most recent call last)",
        "\u001b[1;32m<ipython-input-5-843bc27e3074>\u001b[0m in \u001b[0;36m<module>\u001b[1;34m()\u001b[0m\n\u001b[1;32m----> 1\u001b[1;33m \u001b[1;32mprint\u001b[0m \u001b[1;36m1337\u001b[0m \u001b[1;33m+\u001b[0m \u001b[0mstart\u001b[0m\u001b[1;33m\u001b[0m\u001b[0m\n\u001b[0m",
        "\u001b[1;31mTypeError\u001b[0m: unsupported operand type(s) for +: 'int' and 'Time'"
       ]
      }
     ],
     "prompt_number": 5
    },
    {
     "cell_type": "markdown",
     "metadata": {},
     "source": [
      "The problem is, instead of asking the Time object to add an integer, Python is asking an integer to add a Time object, and it doesn\u2019t know how to do that. But there is a clever solution for this problem: the special method __radd__, which stands for \u201cright-side add.\u201d This method is invoked when a Time object appears on the right side of the + operator. Here\u2019s the definition:"
     ]
    },
    {
     "cell_type": "code",
     "collapsed": false,
     "input": [
      "class Time(object):\n",
      "    def __init__(self, hour=0, minute=0, second=0):\n",
      "        self.hour = hour\n",
      "        self.minute = minute\n",
      "        self.second = second\n",
      "\n",
      "    def __str__(self):\n",
      "        return '%.2d:%.2d:%.2d' % (self.hour, self.minute, self.second)\n",
      "\n",
      "    def print_time(self):\n",
      "        print str(self)\n",
      "\n",
      "    def time_to_int(self):\n",
      "        minutes = self.hour * 60 + self.minute\n",
      "        seconds = minutes * 60 + self.second\n",
      "        return seconds\n",
      "\n",
      "    def is_after(self, other):\n",
      "        return self.time_to_int() > other.time_to_int()\n",
      "\n",
      "    def __add__(self, other):\n",
      "        if isinstance(other, Time):\n",
      "            return self.add_time(other)\n",
      "        else:\n",
      "            return self.increment(other)\n",
      "\n",
      "    def __radd__(self, other):\n",
      "        return self.__add__(other)\n",
      "\n",
      "    def add_time(self, other):\n",
      "        assert self.is_valid() and other.is_valid()\n",
      "        seconds = self.time_to_int() + other.time_to_int()\n",
      "        return int_to_time(seconds)\n",
      "\n",
      "    def increment(self, seconds):\n",
      "        seconds += self.time_to_int()\n",
      "        return int_to_time(seconds)\n",
      "\n",
      "    def is_valid(self):\n",
      "        if self.hour < 0 or self.minute < 0 or self.second < 0:\n",
      "            return False\n",
      "        if self.minute >= 60 or self.second >= 60:\n",
      "            return False\n",
      "        return True\n",
      "\n",
      "\n",
      "def int_to_time(seconds):\n",
      "    minutes, second = divmod(seconds, 60)\n",
      "    hour, minute = divmod(minutes, 60)\n",
      "    time = Time(hour, minute, second)\n",
      "    return time"
     ],
     "language": "python",
     "metadata": {},
     "outputs": [],
     "prompt_number": 5
    },
    {
     "cell_type": "code",
     "collapsed": false,
     "input": [
      "start = Time(9, 45)\n",
      "print 1337 + start"
     ],
     "language": "python",
     "metadata": {},
     "outputs": [
      {
       "output_type": "stream",
       "stream": "stdout",
       "text": [
        "10:07:17\n"
       ]
      }
     ],
     "prompt_number": 6
    },
    {
     "cell_type": "code",
     "collapsed": false,
     "input": [
      "# TODO: t1 (__add__ overloaded), t2 (__radd__ overloaded) - which method will be called?\n",
      "\n",
      "class Time(object):\n",
      "    def __init__(self, hour=0, minute=0, second=0):\n",
      "        self.hour = hour\n",
      "        self.minute = minute\n",
      "        self.second = second\n",
      "\n",
      "    def __str__(self):\n",
      "        return '%.2d:%.2d:%.2d' % (self.hour, self.minute, self.second)\n",
      "\n",
      "    def print_time(self):\n",
      "        print str(self)\n",
      "\n",
      "    def time_to_int(self):\n",
      "        minutes = self.hour * 60 + self.minute\n",
      "        seconds = minutes * 60 + self.second\n",
      "        return seconds\n",
      "\n",
      "    def is_after(self, other):\n",
      "        return self.time_to_int() > other.time_to_int()\n",
      "\n",
      "    def __add__(self, other):\n",
      "        if isinstance(other, Time):\n",
      "            return self.add_time(other)\n",
      "        else:\n",
      "            return self.increment(other)\n",
      "\n",
      "    def __radd__(self, other):\n",
      "        return self.__add__(other)\n",
      "\n",
      "    def add_time(self, other):\n",
      "        assert self.is_valid() and other.is_valid()\n",
      "        seconds = self.time_to_int() + other.time_to_int()\n",
      "        return int_to_time(seconds)\n",
      "\n",
      "    def increment(self, seconds):\n",
      "        seconds += self.time_to_int()\n",
      "        return int_to_time(seconds)\n",
      "\n",
      "    def is_valid(self):\n",
      "        if self.hour < 0 or self.minute < 0 or self.second < 0:\n",
      "            return False\n",
      "        if self.minute >= 60 or self.second >= 60:\n",
      "            return False\n",
      "        return True\n",
      "\n",
      "\n",
      "def int_to_time(seconds):\n",
      "    minutes, second = divmod(seconds, 60)\n",
      "    hour, minute = divmod(minutes, 60)\n",
      "    time = Time(hour, minute, second)\n",
      "    return time\n",
      "\n",
      "class t1(Time):\n",
      "    def __init__(self, hour=0, minute=0, second=0):\n",
      "        self.hour = hour\n",
      "        self.minute = minute\n",
      "        self.second = second\n",
      "        \n",
      "    def __add__(self, other):\n",
      "        seconds = self.time_to_int() + other.time_to_int()        \n",
      "        print 'It is t1'\n",
      "        return int_to_time(seconds)\n",
      "\n",
      "class t2(Time):\n",
      "    def __init__(self, hour=0, minute=0, second=0):\n",
      "        self.hour = hour\n",
      "        self.minute = minute\n",
      "        self.second = second\n",
      "        \n",
      "    def __add__(self, other):\n",
      "        if isinstance(other, Time):\n",
      "            return self.add_time(other)\n",
      "        else:\n",
      "            return self.increment(other)\n",
      "\n",
      "    def __radd__(self, other):        \n",
      "        print 'It is t2'\n",
      "        return self.__add__(other)\n",
      "        \n",
      "test1 = t1(9, 45)\n",
      "test2 = t2(6, 30)\n",
      "print test1 + test2\n",
      "print\n",
      "print test2 + test1"
     ],
     "language": "python",
     "metadata": {},
     "outputs": [
      {
       "output_type": "stream",
       "stream": "stdout",
       "text": [
        "It is t1\n",
        "16:15:00\n",
        "\n",
        "16:15:00\n"
       ]
      }
     ],
     "prompt_number": 15
    },
    {
     "cell_type": "markdown",
     "metadata": {},
     "source": [
      "ANSWER: Will be called method t1"
     ]
    },
    {
     "cell_type": "heading",
     "level": 4,
     "metadata": {},
     "source": [
      "Polymorphism"
     ]
    },
    {
     "cell_type": "markdown",
     "metadata": {},
     "source": [
      "Type-based dispatch is useful when it is necessary, but (fortunately) it is not always necessary. Often you can avoid it by writing functions that work correctly for arguments with different types.\n",
      "\n",
      "Many of the functions we wrote for strings will actually work for any kind of sequence. "
     ]
    },
    {
     "cell_type": "code",
     "collapsed": false,
     "input": [
      "def histogram(s):\n",
      "    d = dict()\n",
      "    for c in s:\n",
      "        if c not in d:\n",
      "            d[c] = 1\n",
      "        else:\n",
      "            d[c] = d[c]+1\n",
      "    return d"
     ],
     "language": "python",
     "metadata": {},
     "outputs": [],
     "prompt_number": 7
    },
    {
     "cell_type": "markdown",
     "metadata": {},
     "source": [
      "This function also works for lists, tuples, and even dictionaries, as long as the elements of s are hashable, so they can be used as keys in d."
     ]
    },
    {
     "cell_type": "code",
     "collapsed": false,
     "input": [
      "t = ['spam', 'egg', 'spam', 'spam', 'bacon', 'spam']\n",
      "histogram(t)"
     ],
     "language": "python",
     "metadata": {},
     "outputs": [
      {
       "metadata": {},
       "output_type": "pyout",
       "prompt_number": 8,
       "text": [
        "{'bacon': 1, 'egg': 1, 'spam': 4}"
       ]
      }
     ],
     "prompt_number": 8
    },
    {
     "cell_type": "markdown",
     "metadata": {},
     "source": [
      "Functions that can work with several types are called polymorphic. Polymorphism can facilitate code reuse. For example, the built-in function sum, which adds the elements of a sequence, works as long as the elements of the sequence support addition.\n",
      "\n",
      "Since Time objects provide an add method, they work with sum:"
     ]
    },
    {
     "cell_type": "code",
     "collapsed": false,
     "input": [
      "t1 = Time(7, 43)\n",
      "t2 = Time(7, 41)\n",
      "t3 = Time(7, 37)\n",
      "total = sum([t1, t2, t3])\n",
      "print total"
     ],
     "language": "python",
     "metadata": {},
     "outputs": [
      {
       "output_type": "stream",
       "stream": "stdout",
       "text": [
        "23:01:00\n"
       ]
      }
     ],
     "prompt_number": 9
    },
    {
     "cell_type": "markdown",
     "metadata": {},
     "source": [
      "In general, if all of the operations inside a function work with a given type, then the function works with that type.\n",
      "The best kind of polymorphism is the unintentional kind, where you discover that a function you already wrote can be applied to a type you never planned for"
     ]
    },
    {
     "cell_type": "heading",
     "level": 2,
     "metadata": {},
     "source": [
      "Debugging"
     ]
    },
    {
     "cell_type": "markdown",
     "metadata": {},
     "source": [
      "It is legal to add attributes to objects at any point in the execution of a program, but if you are a stickler for type theory, it is a dubious practice to have objects of the same type with different attribute sets. It is usually a good idea to initialize all of an object\u2019s attributes in the init method.\n",
      "\n",
      "If you are not sure whether an object has a particular attribute, you can use the built-in function hasattr.\n",
      "\n",
      "Another way to access the attributes of an object is through the special attribute __dict__, which is a dictionary that maps attribute names (as strings) and values:"
     ]
    },
    {
     "cell_type": "code",
     "collapsed": false,
     "input": [
      "print t1.__dict__"
     ],
     "language": "python",
     "metadata": {},
     "outputs": [
      {
       "output_type": "stream",
       "stream": "stdout",
       "text": [
        "{'second': 0, 'minute': 43, 'hour': 7}\n"
       ]
      }
     ],
     "prompt_number": 10
    },
    {
     "cell_type": "markdown",
     "metadata": {},
     "source": [
      "For purposes of debugging, you might find it useful to keep this function handy:"
     ]
    },
    {
     "cell_type": "code",
     "collapsed": false,
     "input": [
      "def print_attributes(obj):\n",
      "    for attr in obj.__dict__:\n",
      "        print attr, getattr(obj, attr)"
     ],
     "language": "python",
     "metadata": {},
     "outputs": [],
     "prompt_number": 1
    },
    {
     "cell_type": "markdown",
     "metadata": {},
     "source": [
      "print_attributes traverses the items in the object\u2019s dictionary and prints each attribute name and its corresponding value.\n",
      "\n",
      "The built-in function getattr takes an object and an attribute name (as a string) and returns the attribute\u2019s value."
     ]
    },
    {
     "cell_type": "heading",
     "level": 2,
     "metadata": {},
     "source": [
      "Interface and implementation"
     ]
    },
    {
     "cell_type": "markdown",
     "metadata": {},
     "source": [
      "One of the goals of object-oriented design is to make software more maintainable, which means that you can keep the program working when other parts of the system change, and modify the program to meet new requirements.\n",
      "A design principle that helps achieve that goal is to keep interfaces separate from implementations. For objects, that means that the methods a class provides should not depend on how the attributes are represented.\n",
      "\n",
      "For example, in this chapter we developed a class that represents a time of day. Methods provided by this class include time_to_int, is_after, and add_time.\n",
      "\n",
      "We could implement those methods in several ways. The details of the implementation depend on how we represent time. In this chapter, the attributes of a Time object are hour, minute, and second.\n",
      "\n",
      "As an alternative, we could replace these attributes with a single integer representing the number of seconds since midnight. This implementation would make some methods, like is_after, easier to write, but it makes some methods harder.\n",
      "\n",
      "After you deploy a new class, you might discover a better implementation. If other parts of the program are using your class, it might be time-consuming and error-prone to change the interface.\n",
      "\n",
      "But if you designed the interface carefully, you can change the implementation without changing the interface, which means that other parts of the program don\u2019t have to change.\n",
      "\n",
      "Keeping the interface separate from the implementation means that you have to hide the attributes. Code in other parts of the program (outside the class definition) should use methods to read and modify the state of the object. They should not access the attributes directly. This principle is called information hiding; see http://en.wikipedia.org/wiki/Information_hiding."
     ]
    },
    {
     "cell_type": "heading",
     "level": 2,
     "metadata": {},
     "source": [
      "Special Class Methods"
     ]
    },
    {
     "cell_type": "markdown",
     "metadata": {},
     "source": [
      "A class may define any of the following built-in special methods to enhance the class's behaviour. Programs don't normally call these methods directly; instead, Python does so through its operators or built-in functions. As with other instance methods, the first or only parameter must be self."
     ]
    },
    {
     "cell_type": "markdown",
     "metadata": {},
     "source": [
      "\n",
      "__add__(self, other) \n",
      "\n",
      "    Invoked by the addition operator (self + other) and must return an instance of this class: usually the sum of self and other.\n",
      "\n",
      "__and__(self, other) \n",
      "\n",
      "    Invoked by the bitwise AND operator (self & other) and must return an instance of this class: usually the bitwise AND result between self and other.\n",
      "    \n",
      "__cmp__(self, other) \n",
      "\n",
      "    Invoked by any of the comparison operators (==, !=, >, >=, <, <=) if the specific comparison methods (e.g. __eq__(), __gt__()) are not implemented and must return an integer object: usually positive if self is greater-than other, negative if self is less-than other, and zero if self is equal to other.\n",
      "\n",
      "__contains__(self, element) \n",
      "    \n",
      "    Invoked by the membership operator (element in self) and must return a Boolean object: usually True if element is a member of the container object self. The __getitem__() special method normally performs this service for containers that are sequences.\n",
      "\n",
      "__div__(self, other) \n",
      "    \n",
      "    Invoked by the division operator (self / other) and must return an instance of this class: usually the quotient of self and other.\n",
      "\n",
      "__eq__(self, other) \n",
      "    \n",
      "    Invoked by the equality operator (self == other) and must return a Boolean object: usually True self is equal to other. If the class of the instance on the left-hand side of the operator does not implement this method, then the same method is invoked on the instance to the right-hand side.\n",
      "\n",
      "__float__(self) \n",
      "    \n",
      "    Invoked by the built-in float() function and must return a floating-point number object: usually the floating-point form of self.\n",
      "\n",
      "__ge__(self, other) \n",
      "    \n",
      "    Invoked by the greater-than-or-equal operator (self >= other) and must return a Boolean object: usually True self is greater-than-or-equal to other. If the class of the instance on the left-hand side of the operator does not implement this method, then the __lt__() method is invoked on the instance to the right-hand side.\n",
      "\n",
      "__gt__(self, other) \n",
      "    \n",
      "    Invoked by the greater-than operator (self > other) and must return a Boolean object: usually True self is greather-than other. If the class of the instance on the left-hand side of the operator does not implement this method, then the __le__() method is invoked on the instance to the right-hand side.\n",
      "\n",
      "__init__(self, optional_parameters) \n",
      "    \n",
      "    Invoked whenever an instance of the class is created and is the ideal location for initializing an instance with its default or initial values. Arguments passed to the constructor call must correspond to the optional parameters, if any. This method must not return anything; doing so is an error. Instead, an instance of the class will be returned to the code calling the constructor.\n",
      "\n",
      "__int__(self) \n",
      "    \n",
      "    Invoked by the built-in int() function and must return an integer object: usually the integer form of self.\n",
      "\n",
      "__le__(self, other) \n",
      "    \n",
      "    Invoked by the less-than-or-equal operator (self <= other) and must return a Boolean object: usually True self is less-than-or-equal to other. If the class of the instance on the left-hand side of the operator does not implement this method, then the __gt__() method is invoked on the instance to the right-hand side.\n",
      "\n",
      "__len__(self) \n",
      "    \n",
      "    Invoked by the built-in len() function and must return an integer: usually the length or size of the container object self.\n",
      "\n",
      "__lt__(self, other) \n",
      "    \n",
      "    Invoked by the less-than operator (self < other) and must return a Boolean object: usually True self is less-than to other. If the class of the instance on the left-hand side of the operator does not implement this method, then the __ge__() method is invoked on the instance to the right-hand side.\n",
      "\n",
      "__mul__(self, other) \n",
      "    \n",
      "    Invoked by the multiplication operator (self * other) and must return an instance of this class: usually the product of self and other.\n",
      "\n",
      "__or__(self, other) \n",
      "    \n",
      "    Invoked by the bitwise OR operator (self | other) and must return an instance of this class: usually the bitwise OR result between self and other.\n",
      "\n",
      "__ne__(self, other) \n",
      "    \n",
      "    Invoked by the inequality operator (self != other) and must return a Boolean object: usually True self is not equal to other. If the class of the instance on the left-hand side of the operator does not implement this method, then the same method is invoked on the instance to the right-hand side.\n",
      "\n",
      "__neg__(self) \n",
      "    \n",
      "    Invoked by the unary negation operator (-self) and must return an instance of this class: usually the negative of self.\n",
      "\n",
      "__radd__(self, other) \n",
      "\n",
      "    Invoked by the addition operator (other + self) when self appears on the right-hand side of the operator and must return an instance of this class: usually the sum of other and self.\n",
      "\n",
      "__rand__(self, other) \n",
      "    \n",
      "    Invoked by the bitwise AND operator (other & self) when self appears on the right-hand side of the operator and must return an instance of this class: usually the bitwise AND result between other and self.\n",
      "\n",
      "__rdiv__(self, other) \n",
      "    \n",
      "    Invoked by the division operator (other / self) when self appears on the right-hand side of the operator and must return an instance of this class: usually the quotient of other and self.\n",
      "\n",
      "__repr__(self) \n",
      "    \n",
      "    Invoked by the built-in repr() function or by the Python interactive command prompt if the print statement isn't used and must return a string: usually a legal Python expression that could be used to re-create the instance.\n",
      "\n",
      "__rmul__(self, other) \n",
      "    \n",
      "    Invoked by the multiplication operator (other * self) when self appears on the right-hand side of the operator and must return an instance of this class: usually the product of other and self.\n",
      "\n",
      "__ror__(self, other) \n",
      "    \n",
      "    Invoked by the bitwise OR operator (other | self) when self appears on the right-hand side of the operator and must return an instance of this class: usually the bitwise OR result between other and self.\n",
      "\n",
      "__rsub__(self, other) \n",
      "    \n",
      "    Invoked by the subtraction operator (other - self) when self appears on the right-hand side of the operator and must return an instance of this class: usually the difference of other and self.\n",
      "\n",
      "__str__(self) \n",
      "    \n",
      "    Invoked by the built-in str() function and also by the print statement and must return a string: usually one that represents a displayable description of self.\n",
      "\n",
      "__sub__(self, other) \n",
      "    \n",
      "    Invoked by the subtraction operator (self - other) and must return an instance of this class: usually the difference of self and other."
     ]
    }
   ],
   "metadata": {}
  }
 ]
}