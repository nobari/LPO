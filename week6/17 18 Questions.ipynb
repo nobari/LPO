{
 "metadata": {
  "name": "",
  "signature": "sha256:28cd5bd40e13c74147f2bf97d933b0d1170b80b6c55e15ac2e4715e526dfc86e"
 },
 "nbformat": 3,
 "nbformat_minor": 0,
 "worksheets": [
  {
   "cells": [
    {
     "cell_type": "heading",
     "level": 2,
     "metadata": {},
     "source": [
      "1. Designing Your Own Inheritance"
     ]
    },
    {
     "cell_type": "markdown",
     "metadata": {},
     "source": [
      "For this exercise, I want you to describe a generic superclass and at least three subclasses of that superclass, listing\n",
      "at least two attributes that each class would have. It\u2019s easiest to simply describe a real-world object in this manner.\n",
      "An example of what I am looking for would be to describe a generic Shoe class and some specific subclasses with\n",
      "attributes that they might have, as shown here:"
     ]
    },
    {
     "cell_type": "code",
     "collapsed": false,
     "input": [
      "class Shoe:\n",
      "    Attributes: self.color, self.brand\n",
      "class Converse(Shoe): # Inherits from Shoe\n",
      "    Attributes: self.lowOrHighTop, self.tongueColor, self.brand = \"Converse\"\n",
      "class CombatBoot(Shoe): # Inherits from Shoe\n",
      "    Attributes: self.militaryBranch, self.DesertOrJungle\n",
      "class Sandal(Shoe): # Inherits from Shoe\n",
      "    Attributes: self.openOrClosedToe, self.waterproof"
     ],
     "language": "python",
     "metadata": {},
     "outputs": []
    },
    {
     "cell_type": "markdown",
     "metadata": {},
     "source": [
      "You can use any real-world object except a *shoe* for this problem :)"
     ]
    },
    {
     "cell_type": "heading",
     "level": 2,
     "metadata": {},
     "source": [
      "2. More inheritance"
     ]
    },
    {
     "cell_type": "markdown",
     "metadata": {},
     "source": [
      "Consider the following code:"
     ]
    },
    {
     "cell_type": "code",
     "collapsed": false,
     "input": [
      "class Spell:\n",
      "    def __init__(self, incantation, name):\n",
      "        self.name = name\n",
      "        self.incantation = incantation\n",
      "        \n",
      "    def __str__(self):\n",
      "        return self.name + ' ' + self.incantation + '\\n' + self.get_description()\n",
      "\n",
      "    def get_description(self):\n",
      "        return 'No description'\n",
      "\n",
      "    def execute(self):\n",
      "        print self.incantation\n",
      "    \n",
      "class Accio(Spell):\n",
      "    def __init__(self):\n",
      "        Spell.__init__(self, 'Accio', 'Summoning Charm')\n",
      "        \n",
      "class Confundo(Spell):\n",
      "    def __init__(self):\n",
      "        Spell.__init__(self, 'Confundo', 'Confundus Charm')\n",
      "        \n",
      "    def get_description(self):\n",
      "        return 'Causes the victim to become confused and befuddled.'\n",
      "\n",
      "def study_spell(spell):\n",
      "    print spell\n",
      "\n",
      "spell = Accio()\n",
      "spell.execute()\n",
      "study_spell(spell)\n",
      "study_spell(Confundo())"
     ],
     "language": "python",
     "metadata": {},
     "outputs": [],
     "prompt_number": 6
    },
    {
     "cell_type": "markdown",
     "metadata": {},
     "source": [
      "1. What are the parent and child classes here?\n",
      "2. What does the code print out? (Try figuring it out without running it in Python)\n",
      "3. Which get description method is called when \u2018study spell(Confundo())\u2019 is executed? Why?\n",
      "4. What do we need to do so that \u2018print Accio()\u2019 will print the appropriate description (\u2018This charm summons an object to the caster, potentially over a significant distance\u2019)? Write down the code that we need to add and/or change."
     ]
    },
    {
     "cell_type": "heading",
     "level": 1,
     "metadata": {},
     "source": [
      "3. Overriding"
     ]
    },
    {
     "cell_type": "markdown",
     "metadata": {},
     "source": [
      "I made the following Python class:"
     ]
    },
    {
     "cell_type": "code",
     "collapsed": false,
     "input": [
      "class Address:\n",
      "    def __init__(self, street, num):\n",
      "        self.street_name = street\n",
      "        self.number = num"
     ],
     "language": "python",
     "metadata": {},
     "outputs": [],
     "prompt_number": 7
    },
    {
     "cell_type": "markdown",
     "metadata": {},
     "source": [
      "I want to make a subclass of the class Address called **SkoltechAddress** that has a new attribute, **office_number**,\n",
      "that can vary. This subclass will always have the street attribute set to \"Novaya street\" and the num attribute\n",
      "set to 100. I want to use the class as follows:"
     ]
    },
    {
     "cell_type": "code",
     "collapsed": false,
     "input": [
      ">>> Bill_addr = CampusAddress(\"571\")\n",
      ">>> Bill_addr.office_number\n",
      "'571'\n",
      ">>> Bill_addr.street_name\n",
      "'Novaya street'\n",
      ">>> Bill_addr.number\n",
      "100"
     ],
     "language": "python",
     "metadata": {},
     "outputs": []
    },
    {
     "cell_type": "markdown",
     "metadata": {},
     "source": [
      "I am stuck and need your help. Please help me implement the CampusAddress class; look at exercise 2,\n",
      "particularly the implementations of the two subclasses Accio and Confundo, if you\u2019re stuck."
     ]
    }
   ],
   "metadata": {}
  }
 ]
}