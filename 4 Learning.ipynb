{
 "metadata": {
  "name": "",
  "signature": "sha256:2c229511cf7e71d344d9223ce72aa2ff1667371ca4cb1d9f5ed15ce1d1bf7de2"
 },
 "nbformat": 3,
 "nbformat_minor": 0,
 "worksheets": [
  {
   "cells": [
    {
     "cell_type": "heading",
     "level": 2,
     "metadata": {},
     "source": [
      "Chapter 4: Case study. Interface design."
     ]
    },
    {
     "cell_type": "markdown",
     "metadata": {},
     "source": [
      "***Swampy*** is a ***package*** created to accompany the book. A ***package*** is a collection of modules (folder). A ***module*** is a python file that (generally) has only defenitions of variables, functions, and classes."
     ]
    },
    {
     "cell_type": "markdown",
     "metadata": {},
     "source": [
      "E.g. one of the modules in Swampy is TurtleWorld, which provides a set of functions for drawing lines by steering turtles around the screen."
     ]
    },
    {
     "cell_type": "markdown",
     "metadata": {},
     "source": [
      "***Installation***\n",
      "Download Swampy-xx-xx. In command line: pip install swampy. Done!"
     ]
    },
    {
     "cell_type": "markdown",
     "metadata": {},
     "source": [
      "When importing the package, Python searches through the directories looking for the package subdirectory. The __init__.py files are required to make Python treat the directories as containing packages. Swampy folder contains it."
     ]
    },
    {
     "cell_type": "markdown",
     "metadata": {},
     "source": [
      "To check: launch python in command line, then type from swampy.TurtleWorld import *. No error message should appear."
     ]
    },
    {
     "cell_type": "code",
     "collapsed": false,
     "input": [
      "import pylab\n",
      "%pylab inline\n",
      "from swampy.TurtleWorld import *\n",
      "\n",
      "world = TurtleWorld()\n",
      "bob = Turtle()\n",
      "print bob\n",
      "\n",
      "wait_for_user()"
     ],
     "language": "python",
     "metadata": {},
     "outputs": [
      {
       "output_type": "stream",
       "stream": "stderr",
       "text": [
        "Vendor:  Continuum Analytics, Inc.\n",
        "Package: mkl\n",
        "Message: trial mode expires in 19 days\n",
        "Vendor:  Continuum Analytics, Inc.\n",
        "Package: mkl\n",
        "Message: trial mode expires in 19 days\n",
        "WARNING: "
       ]
      },
      {
       "output_type": "stream",
       "stream": "stdout",
       "text": [
        "Populating the interactive namespace from numpy and matplotlib\n",
        "<swampy.TurtleWorld.Turtle object at 0x10cac8b90>"
       ]
      },
      {
       "output_type": "stream",
       "stream": "stdout",
       "text": [
        "\n"
       ]
      },
      {
       "output_type": "stream",
       "stream": "stderr",
       "text": [
        "pylab import has clobbered these variables: ['pylab']\n",
        "`%matplotlib` prevents importing * from pylab and numpy\n"
       ]
      }
     ],
     "prompt_number": 1
    },
    {
     "cell_type": "markdown",
     "metadata": {},
     "source": [
      "The first line imports everything from TurtleWorld module in swampy package. Second line creates TurtleWorld assigned to world and Turtle assigned to bob."
     ]
    },
    {
     "cell_type": "code",
     "collapsed": false,
     "input": [
      "print bob"
     ],
     "language": "python",
     "metadata": {},
     "outputs": [
      {
       "output_type": "stream",
       "stream": "stdout",
       "text": [
        "<swampy.TurtleWorld.Turtle object at 0x104aad8d0>\n"
       ]
      }
     ],
     "prompt_number": 2
    },
    {
     "cell_type": "markdown",
     "metadata": {},
     "source": [
      "This means that bob refers to an instance of a Turtle as defined in module TurtleWorld. In this context, \u201cinstance\u201d means a member of a set; this Turtle is one of the set of possible Turtles."
     ]
    },
    {
     "cell_type": "markdown",
     "metadata": {},
     "source": [
      "TurtleWorld provides several turtle-steering functions: fd and bk for forward and backward, and lt and rt for left and right turns. Also, each Turtle is holding a pen, which is either down or up; if the pen is down, the Turtle leaves a trail when it moves. The functions pu and pd stand for \u201cpen up\u201d and \u201cpen down.\u201d"
     ]
    },
    {
     "cell_type": "code",
     "collapsed": false,
     "input": [
      "fd(bob, 100)\n",
      "lt(bob)\n",
      "fd(bob, 100)"
     ],
     "language": "python",
     "metadata": {},
     "outputs": []
    },
    {
     "cell_type": "code",
     "collapsed": false,
     "input": [
      "for i in range(4):\n",
      "    fd(bob, 100)\n",
      "    lt(bob)"
     ],
     "language": "python",
     "metadata": {},
     "outputs": []
    },
    {
     "cell_type": "markdown",
     "metadata": {},
     "source": [
      "Now we will use Turtle world to study some important concepts in Python."
     ]
    },
    {
     "cell_type": "heading",
     "level": 2,
     "metadata": {},
     "source": [
      "ENCAPSULATION. Wrapping a piece of code up in a function."
     ]
    },
    {
     "cell_type": "markdown",
     "metadata": {},
     "source": [
      "Let's write a function called square that takes a parameter named t, which is a turtle. It should use the turtle to draw a square.\n",
      "Let's write a function call that passes bob as an argument to square, and then run the program again."
     ]
    },
    {
     "cell_type": "code",
     "collapsed": false,
     "input": [
      "def square(t):\n",
      "    for i in range(4):\n",
      "        fd(t, 100)\n",
      "        lt(t)\n",
      "\n",
      "square(bob)"
     ],
     "language": "python",
     "metadata": {},
     "outputs": []
    },
    {
     "cell_type": "heading",
     "level": 2,
     "metadata": {},
     "source": [
      "GENERALIZATION. Adding a parameter to a function."
     ]
    },
    {
     "cell_type": "markdown",
     "metadata": {},
     "source": [
      "Let's add another parameter, named length, to square. Let's modify the body so length of the sides is length, and then modify the function call to provide a second argument. We run the program again and then test your program with a range of values for length."
     ]
    },
    {
     "cell_type": "code",
     "collapsed": false,
     "input": [
      "def square(t, length):\n",
      "    for i in range(4):\n",
      "        fd(t, length)\n",
      "        lt(t)\n",
      "\n",
      "square(bob, 100)"
     ],
     "language": "python",
     "metadata": {},
     "outputs": []
    },
    {
     "cell_type": "markdown",
     "metadata": {},
     "source": [
      "The functions lt and rt make 90-degree turns by default, but we can provide a second argument that specifies the number of degrees. For example, lt(bob, 45) turns bob 45 degrees to the left.\n",
      "Let's make a copy of square and change the name to polygon. We add another parameter named n and modify the body so it draws an n-sided regular polygon."
     ]
    },
    {
     "cell_type": "code",
     "collapsed": false,
     "input": [
      "def polygon(t, n, length):\n",
      "    angle = 360.0 / n\n",
      "    for i in range(n):\n",
      "        fd(t, length)\n",
      "        lt(t, angle)\n",
      "\n",
      "polygon(bob, 7, 70)"
     ],
     "language": "python",
     "metadata": {},
     "outputs": []
    },
    {
     "cell_type": "markdown",
     "metadata": {},
     "source": [
      "It is legal, and sometimes helpful, to include the names of the parameters in the argument list:\n",
      "polygon(bob, n=7, length=70)\n",
      "These are called keyword arguments because they include the parameter names as \u201ckeywords\u201d (not to be confused with Python keywords like while and def).\n",
      "This syntax makes the program more readable. It is also a reminder about how arguments and parameters work: when you call a function, the arguments are assigned to the parameters."
     ]
    },
    {
     "cell_type": "code",
     "collapsed": false,
     "input": [
      "polygon(bob, n=7, length=70)"
     ],
     "language": "python",
     "metadata": {},
     "outputs": []
    },
    {
     "cell_type": "heading",
     "level": 2,
     "metadata": {},
     "source": [
      "INTERFACE DESIGN"
     ]
    },
    {
     "cell_type": "markdown",
     "metadata": {},
     "source": [
      "Let's write a function called circle that takes a turtle, t, and radius, r, as parameters and that draws an approximate circle by invoking polygon with an appropriate length and number of sides."
     ]
    },
    {
     "cell_type": "code",
     "collapsed": false,
     "input": [
      "def circle(t, r):\n",
      "    circumference = 2 * math.pi * r\n",
      "    n = 50\n",
      "    length = circumference / n\n",
      "    polygon(t, n, length)"
     ],
     "language": "python",
     "metadata": {},
     "outputs": []
    },
    {
     "cell_type": "markdown",
     "metadata": {},
     "source": [
      "The interface of a function is a summary of how it is used: what are the parameters? What does the function do? And what is the return value? An interface is \u201cclean\u201d if it is \u201cas simple as possible, but not simpler. (Einstein)\u201d"
     ]
    },
    {
     "cell_type": "markdown",
     "metadata": {},
     "source": [
      "One limitation of this solution is that n is a constant, which means that for very big circles, the line segments are too long, and for small circles, we waste time drawing very small segments. One solution would be to generalize the function by taking n as a parameter. This would give the user (whoever calls circle) more control, but the interface would be less clean."
     ]
    },
    {
     "cell_type": "markdown",
     "metadata": {},
     "source": [
      "In this example, r belongs in the interface because it specifies the circle to be drawn. n is less appropriate because it pertains to the details of how the circle should be rendered.\n",
      "\n",
      "Rather than clutter up the interface, it is better to choose an appropriate value of n depending on circumference"
     ]
    },
    {
     "cell_type": "code",
     "collapsed": false,
     "input": [
      "def circle(t, r):\n",
      "    circumference = 2 * math.pi * r\n",
      "    n = int(circumference / 3) + 1\n",
      "    length = circumference / n\n",
      "    polygon(t, n, length)"
     ],
     "language": "python",
     "metadata": {},
     "outputs": []
    },
    {
     "cell_type": "markdown",
     "metadata": {},
     "source": [
      "Now the number of segments is (approximately) circumference/3, so the length of each segment is (approximately) 3, which is small enough that the circles look good, but big enough to be efficient, and appropriate for any size circle."
     ]
    },
    {
     "cell_type": "heading",
     "level": 2,
     "metadata": {},
     "source": [
      "REFACTORING. Rearranging a program to improve function interfaces and facilitate code re-use"
     ]
    },
    {
     "cell_type": "markdown",
     "metadata": {},
     "source": [
      "Let's make a more general version of circle called arc that takes an additional parameter angle, which determines what fraction of a circle to draw. angle is in units of degrees, so when angle=360, arc should draw a complete circle."
     ]
    },
    {
     "cell_type": "markdown",
     "metadata": {},
     "source": [
      "One alternative is to start with a copy of polygon and transform it into arc. "
     ]
    },
    {
     "cell_type": "code",
     "collapsed": false,
     "input": [
      "def arc(t, r, angle):\n",
      "    arc_length = 2 * math.pi * r * angle / 360\n",
      "    n = int(arc_length / 3) + 1\n",
      "    step_length = arc_length / n\n",
      "    step_angle = float(angle) / n\n",
      "    \n",
      "    for i in range(n):\n",
      "        fd(t, step_length)\n",
      "        lt(t, step_angle)"
     ],
     "language": "python",
     "metadata": {},
     "outputs": []
    },
    {
     "cell_type": "markdown",
     "metadata": {},
     "source": [
      "The second half of this function looks like polygon, but we can\u2019t re-use polygon without changing the interface. We could generalize polygon to take an angle as a third argument, but then polygon would no longer be an appropriate name!"
     ]
    },
    {
     "cell_type": "code",
     "collapsed": false,
     "input": [
      "def polyline(t, n, length, angle):\n",
      "    for i in range(n):\n",
      "        fd(t, length)\n",
      "        lt(t, angle)"
     ],
     "language": "python",
     "metadata": {},
     "outputs": []
    },
    {
     "cell_type": "code",
     "collapsed": false,
     "input": [
      "def polygon(t, n, length):\n",
      "    angle = 360.0 / n\n",
      "    polyline(t, n, length, angle)\n",
      "\n",
      "def arc(t, r, angle):\n",
      "    arc_length = 2 * math.pi * r * angle / 360\n",
      "    n = int(arc_length / 3) + 1\n",
      "    step_length = arc_length / n\n",
      "    step_angle = float(angle) / n\n",
      "    polyline(t, n, step_length, step_angle)"
     ],
     "language": "python",
     "metadata": {},
     "outputs": []
    },
    {
     "cell_type": "code",
     "collapsed": false,
     "input": [
      "def circle(t, r):\n",
      "    arc(t, r, 360)"
     ],
     "language": "python",
     "metadata": {},
     "outputs": []
    },
    {
     "cell_type": "heading",
     "level": 2,
     "metadata": {},
     "source": [
      "DEVELOPMENT PLAN."
     ]
    },
    {
     "cell_type": "markdown",
     "metadata": {},
     "source": [
      " - Start by writing a small program with no function definitions.\n",
      " - Once you get the program working, encapsulate it in a function and give it a name.\n",
      " - Generalize the function by adding appropriate parameters.\n",
      " - Repeat steps 1\u20133 until you have a set of working functions. \n",
      " - Look for opportunities to improve the program by refactoring. For example, if you have similar code in several places, consider factoring it into an appropriately general function."
     ]
    },
    {
     "cell_type": "markdown",
     "metadata": {},
     "source": [
      "Comments: specifications = docstrings"
     ]
    },
    {
     "cell_type": "code",
     "collapsed": false,
     "input": [],
     "language": "python",
     "metadata": {},
     "outputs": []
    }
   ],
   "metadata": {}
  }
 ]
}