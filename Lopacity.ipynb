{
 "cells": [
  {
   "cell_type": "code",
   "execution_count": 1,
   "metadata": {
    "collapsed": false
   },
   "outputs": [],
   "source": [
    "import numpy as np\n",
    "import time as t\n"
   ]
  },
  {
   "cell_type": "code",
   "execution_count": 2,
   "metadata": {
    "collapsed": false
   },
   "outputs": [],
   "source": [
    "import pycuda.autoinit\n",
    "from pycuda.compiler import SourceModule \n",
    "import pycuda.driver as drv\n",
    "import pycuda.gpuarray as gpuarray"
   ]
  },
  {
   "cell_type": "code",
   "execution_count": 3,
   "metadata": {
    "collapsed": false
   },
   "outputs": [
    {
     "name": "stderr",
     "output_type": "stream",
     "text": [
      "/home/bulat/anaconda3/lib/python3.5/site-packages/ipykernel/__main__.py:1: VisibleDeprecationWarning: using a non-integer number instead of an integer will result in an error in the future\n",
      "  if __name__ == '__main__':\n"
     ]
    }
   ],
   "source": [
    "x = np.random.randn(10e8).astype(np.float32)"
   ]
  },
  {
   "cell_type": "code",
   "execution_count": 4,
   "metadata": {
    "collapsed": true
   },
   "outputs": [],
   "source": [
    "import os\n",
    "os.environ[\"PATH\"] = \"/usr/local/sbin:/usr/local/bin:/usr/sbin:/sbin:/bin:/usr/local/cuda-7.5/bin:/usr/local/cuda-7.5\"\n",
    "os.environ[\"LD_LIBRARY_PATH\"] = \"/usr/local/cuda-7.5/lib64\""
   ]
  },
  {
   "cell_type": "code",
   "execution_count": 5,
   "metadata": {
    "collapsed": false
   },
   "outputs": [],
   "source": [
    "kernel = SourceModule(\"\"\"\n",
    "      \n",
    "        __global__ void threshold(float *x, unsigned int len){\n",
    "            const unsigned int idx = blockIdx.x * blockDim.x + threadIdx.x;\n",
    "            const unsigned int numThreads = blockDim.x * gridDim.x;\n",
    "            for(int i=idx;i<len; i+=numThreads){\n",
    "                x[i] = -1 < x[i] && x[i]<+1? 1.0:0.0;\n",
    "            }\n",
    "        }\n",
    "                    \"\"\")\n",
    "\n",
    "threshold = kernel.get_function('threshold')"
   ]
  },
  {
   "cell_type": "code",
   "execution_count": 6,
   "metadata": {
    "collapsed": true
   },
   "outputs": [],
   "source": [
    "x_gpu = gpuarray.to_gpu(x)"
   ]
  },
  {
   "cell_type": "code",
   "execution_count": null,
   "metadata": {
    "collapsed": true
   },
   "outputs": [],
   "source": []
  },
  {
   "cell_type": "code",
   "execution_count": 7,
   "metadata": {
    "collapsed": false
   },
   "outputs": [
    {
     "name": "stdout",
     "output_type": "stream",
     "text": [
      "GPU: Found %d values in %f secs’% (gpuarray.sum(x_gpu).get() 0.002602815628051758\n"
     ]
    }
   ],
   "source": [
    "start = t.time()\n",
    "threshold(x_gpu, np.uint32(len(x)) , block=(256, 1, 1), grid=(16,1))\n",
    "print('GPU: Found %d values in %f secs’% (gpuarray.sum(x_gpu).get()', t.time() - start)"
   ]
  },
  {
   "cell_type": "code",
   "execution_count": 8,
   "metadata": {
    "collapsed": true
   },
   "outputs": [],
   "source": [
    "x_gpu = None"
   ]
  },
  {
   "cell_type": "code",
   "execution_count": 1,
   "metadata": {
    "collapsed": true
   },
   "outputs": [],
   "source": [
    "import gnumpy as g\n",
    "import numpy as np"
   ]
  },
  {
   "cell_type": "code",
   "execution_count": null,
   "metadata": {
    "collapsed": false
   },
   "outputs": [],
   "source": []
  },
  {
   "cell_type": "code",
   "execution_count": 6,
   "metadata": {
    "collapsed": true
   },
   "outputs": [],
   "source": [
    "n = 10e4"
   ]
  },
  {
   "cell_type": "code",
   "execution_count": 7,
   "metadata": {
    "collapsed": false
   },
   "outputs": [
    {
     "data": {
      "text/plain": [
       "100000"
      ]
     },
     "execution_count": 7,
     "metadata": {},
     "output_type": "execute_result"
    }
   ],
   "source": [
    "int(n)"
   ]
  },
  {
   "cell_type": "code",
   "execution_count": 8,
   "metadata": {
    "collapsed": true
   },
   "outputs": [],
   "source": [
    "x_gpu = None"
   ]
  },
  {
   "cell_type": "code",
   "execution_count": 9,
   "metadata": {
    "collapsed": false
   },
   "outputs": [],
   "source": [
    "#g.max_memory_usage = 4.1 * n "
   ]
  },
  {
   "cell_type": "code",
   "execution_count": 10,
   "metadata": {
    "collapsed": false
   },
   "outputs": [
    {
     "data": {
      "text/plain": [
       "0"
      ]
     },
     "execution_count": 10,
     "metadata": {},
     "output_type": "execute_result"
    }
   ],
   "source": [
    "g.memory_in_use(True)"
   ]
  },
  {
   "cell_type": "code",
   "execution_count": null,
   "metadata": {
    "collapsed": false
   },
   "outputs": [],
   "source": []
  },
  {
   "cell_type": "code",
   "execution_count": null,
   "metadata": {
    "collapsed": true
   },
   "outputs": [],
   "source": []
  },
  {
   "cell_type": "code",
   "execution_count": 11,
   "metadata": {
    "collapsed": false
   },
   "outputs": [
    {
     "data": {
      "text/plain": [
       "inf"
      ]
     },
     "execution_count": 11,
     "metadata": {},
     "output_type": "execute_result"
    }
   ],
   "source": [
    "g.memory_available(True)"
   ]
  },
  {
   "cell_type": "code",
   "execution_count": 12,
   "metadata": {
    "collapsed": false
   },
   "outputs": [],
   "source": [
    "#x_gpu = None\n",
    "x_gpu = g.randn(int(n))"
   ]
  },
  {
   "cell_type": "code",
   "execution_count": 39,
   "metadata": {
    "collapsed": false
   },
   "outputs": [],
   "source": [
    "x_gpu.reshape(-1,1);"
   ]
  },
  {
   "cell_type": "code",
   "execution_count": 13,
   "metadata": {
    "collapsed": true
   },
   "outputs": [],
   "source": [
    "import time as t"
   ]
  },
  {
   "cell_type": "code",
   "execution_count": 14,
   "metadata": {
    "collapsed": false
   },
   "outputs": [
    {
     "ename": "ValueError",
     "evalue": "bad axis number (1) specified (the first array has 1 axes)",
     "output_type": "error",
     "traceback": [
      "\u001b[1;31m---------------------------------------------------------------------------\u001b[0m",
      "\u001b[1;31mValueError\u001b[0m                                Traceback (most recent call last)",
      "\u001b[1;32m<ipython-input-14-294141fd96ea>\u001b[0m in \u001b[0;36m<module>\u001b[1;34m()\u001b[0m\n\u001b[0;32m      1\u001b[0m \u001b[0mstart\u001b[0m \u001b[1;33m=\u001b[0m \u001b[0mt\u001b[0m\u001b[1;33m.\u001b[0m\u001b[0mtime\u001b[0m\u001b[1;33m(\u001b[0m\u001b[1;33m)\u001b[0m\u001b[1;33m\u001b[0m\u001b[0m\n\u001b[1;32m----> 2\u001b[1;33m \u001b[0mx_gpu\u001b[0m\u001b[1;33m=\u001b[0m\u001b[0mg\u001b[0m\u001b[1;33m.\u001b[0m\u001b[0mconcatenate\u001b[0m\u001b[1;33m(\u001b[0m\u001b[1;33m(\u001b[0m\u001b[1;33m-\u001b[0m\u001b[1;36m1\u001b[0m\u001b[1;33m<\u001b[0m\u001b[0mx_gpu\u001b[0m\u001b[1;33m,\u001b[0m \u001b[0mx_gpu\u001b[0m\u001b[1;33m<\u001b[0m\u001b[1;33m+\u001b[0m\u001b[1;36m1\u001b[0m\u001b[1;33m)\u001b[0m\u001b[1;33m,\u001b[0m \u001b[1;36m1\u001b[0m\u001b[1;33m)\u001b[0m\u001b[1;33m\u001b[0m\u001b[0m\n\u001b[0m\u001b[0;32m      3\u001b[0m print('GPU: Found %d values in %f secs' %\n\u001b[0;32m      4\u001b[0m       (x_gpu.all2(1).sum(), t.time()-start))\n",
      "\u001b[1;32m/home/bulat/anaconda3/lib/python3.5/site-packages/gnumpy.py\u001b[0m in \u001b[0;36mconcatenate\u001b[1;34m(arrays, axis)\u001b[0m\n\u001b[0;32m    391\u001b[0m  \u001b[1;32mif\u001b[0m \u001b[0maxis\u001b[0m\u001b[1;33m<\u001b[0m\u001b[1;36m0\u001b[0m\u001b[1;33m:\u001b[0m \u001b[0maxis\u001b[0m \u001b[1;33m+=\u001b[0m \u001b[0marrays\u001b[0m\u001b[1;33m[\u001b[0m\u001b[1;36m0\u001b[0m\u001b[1;33m]\u001b[0m\u001b[1;33m.\u001b[0m\u001b[0mndim\u001b[0m\u001b[1;33m\u001b[0m\u001b[0m\n\u001b[0;32m    392\u001b[0m  \u001b[1;32mif\u001b[0m \u001b[1;32mnot\u001b[0m \u001b[0m_isSequence\u001b[0m\u001b[1;33m(\u001b[0m\u001b[0marrays\u001b[0m\u001b[1;33m)\u001b[0m \u001b[1;32mor\u001b[0m \u001b[1;32mnot\u001b[0m \u001b[0mtype\u001b[0m\u001b[1;33m(\u001b[0m\u001b[0maxis\u001b[0m\u001b[1;33m)\u001b[0m \u001b[1;32min\u001b[0m \u001b[0m_numberTypes\u001b[0m\u001b[1;33m:\u001b[0m \u001b[1;32mraise\u001b[0m \u001b[0mValueError\u001b[0m\u001b[1;33m(\u001b[0m\u001b[1;34m'wrong argument types to gnumpy.concatenate: expected <arrays> to be a sequence and <axis> to be a number, but got types %s and %s.'\u001b[0m \u001b[1;33m%\u001b[0m \u001b[1;33m(\u001b[0m\u001b[0mtype\u001b[0m\u001b[1;33m(\u001b[0m\u001b[0marrays\u001b[0m\u001b[1;33m)\u001b[0m\u001b[1;33m,\u001b[0m \u001b[0mtype\u001b[0m\u001b[1;33m(\u001b[0m\u001b[0maxis\u001b[0m\u001b[1;33m)\u001b[0m\u001b[1;33m)\u001b[0m\u001b[1;33m)\u001b[0m\u001b[1;33m\u001b[0m\u001b[0m\n\u001b[1;32m--> 393\u001b[1;33m  \u001b[1;32mif\u001b[0m \u001b[0maxis\u001b[0m \u001b[1;32mnot\u001b[0m \u001b[1;32min\u001b[0m \u001b[0mlist\u001b[0m\u001b[1;33m(\u001b[0m\u001b[0mrange\u001b[0m\u001b[1;33m(\u001b[0m\u001b[0marrays\u001b[0m\u001b[1;33m[\u001b[0m\u001b[1;36m0\u001b[0m\u001b[1;33m]\u001b[0m\u001b[1;33m.\u001b[0m\u001b[0mndim\u001b[0m\u001b[1;33m)\u001b[0m\u001b[1;33m)\u001b[0m\u001b[1;33m:\u001b[0m \u001b[1;32mraise\u001b[0m \u001b[0mValueError\u001b[0m\u001b[1;33m(\u001b[0m\u001b[1;34m'bad axis number (%d) specified (the first array has %d axes)'\u001b[0m \u001b[1;33m%\u001b[0m \u001b[1;33m(\u001b[0m\u001b[0maxis\u001b[0m\u001b[1;33m,\u001b[0m \u001b[0marrays\u001b[0m\u001b[1;33m[\u001b[0m\u001b[1;36m0\u001b[0m\u001b[1;33m]\u001b[0m\u001b[1;33m.\u001b[0m\u001b[0mndim\u001b[0m\u001b[1;33m)\u001b[0m\u001b[1;33m)\u001b[0m\u001b[1;33m\u001b[0m\u001b[0m\n\u001b[0m\u001b[0;32m    394\u001b[0m  \u001b[1;32mif\u001b[0m \u001b[1;32mnot\u001b[0m \u001b[0m_allTheSame\u001b[0m\u001b[1;33m(\u001b[0m \u001b[0m_deleteT2\u001b[0m\u001b[1;33m(\u001b[0m\u001b[0ma\u001b[0m\u001b[1;33m.\u001b[0m\u001b[0mshape\u001b[0m\u001b[1;33m,\u001b[0m \u001b[0maxis\u001b[0m\u001b[1;33m)\u001b[0m \u001b[1;32mfor\u001b[0m \u001b[0ma\u001b[0m \u001b[1;32min\u001b[0m \u001b[0marrays\u001b[0m\u001b[1;33m)\u001b[0m\u001b[1;33m:\u001b[0m \u001b[1;32mraise\u001b[0m \u001b[0mValueError\u001b[0m\u001b[1;33m(\u001b[0m\u001b[1;34m'array dimensions must agree except possibly for axis #%d. The given array shapes are: %s'\u001b[0m \u001b[1;33m%\u001b[0m \u001b[1;33m(\u001b[0m\u001b[0maxis\u001b[0m\u001b[1;33m,\u001b[0m \u001b[0mtuple\u001b[0m\u001b[1;33m(\u001b[0m \u001b[0ma\u001b[0m\u001b[1;33m.\u001b[0m\u001b[0mshape\u001b[0m \u001b[1;32mfor\u001b[0m \u001b[0ma\u001b[0m \u001b[1;32min\u001b[0m \u001b[0marrays\u001b[0m\u001b[1;33m)\u001b[0m\u001b[1;33m)\u001b[0m\u001b[1;33m)\u001b[0m\u001b[1;33m\u001b[0m\u001b[0m\n\u001b[0;32m    395\u001b[0m  \u001b[0mfinalShape\u001b[0m \u001b[1;33m=\u001b[0m \u001b[0m_modifyT\u001b[0m\u001b[1;33m(\u001b[0m\u001b[0marrays\u001b[0m\u001b[1;33m[\u001b[0m\u001b[1;36m0\u001b[0m\u001b[1;33m]\u001b[0m\u001b[1;33m.\u001b[0m\u001b[0mshape\u001b[0m\u001b[1;33m,\u001b[0m \u001b[0maxis\u001b[0m\u001b[1;33m,\u001b[0m\u001b[0mbuiltins\u001b[0m\u001b[1;33m.\u001b[0m\u001b[0msum\u001b[0m\u001b[1;33m(\u001b[0m \u001b[0ma\u001b[0m\u001b[1;33m.\u001b[0m\u001b[0mshape\u001b[0m\u001b[1;33m[\u001b[0m\u001b[0maxis\u001b[0m\u001b[1;33m]\u001b[0m \u001b[1;32mfor\u001b[0m \u001b[0ma\u001b[0m \u001b[1;32min\u001b[0m \u001b[0marrays\u001b[0m\u001b[1;33m)\u001b[0m\u001b[1;33m)\u001b[0m\u001b[1;33m\u001b[0m\u001b[0m\n",
      "\u001b[1;31mValueError\u001b[0m: bad axis number (1) specified (the first array has 1 axes)"
     ]
    }
   ],
   "source": [
    "start = t.time()\n",
    "x_gpu=g.concatenate((-1<x_gpu, x_gpu<+1), 1)\n",
    "print('GPU: Found %d values in %f secs' %\n",
    "      (x_gpu.all2(1).sum(), t.time()-start))"
   ]
  },
  {
   "cell_type": "code",
   "execution_count": null,
   "metadata": {
    "collapsed": true
   },
   "outputs": [],
   "source": []
  },
  {
   "cell_type": "code",
   "execution_count": null,
   "metadata": {
    "collapsed": true
   },
   "outputs": [],
   "source": []
  },
  {
   "cell_type": "code",
   "execution_count": null,
   "metadata": {
    "collapsed": true
   },
   "outputs": [],
   "source": []
  },
  {
   "cell_type": "code",
   "execution_count": null,
   "metadata": {
    "collapsed": true
   },
   "outputs": [],
   "source": [
    "cm."
   ]
  },
  {
   "cell_type": "code",
   "execution_count": 1,
   "metadata": {
    "collapsed": false
   },
   "outputs": [],
   "source": [
    "import gnumpy as gpu"
   ]
  },
  {
   "cell_type": "code",
   "execution_count": null,
   "metadata": {
    "collapsed": false
   },
   "outputs": [],
   "source": [
    "gpu.garray()"
   ]
  },
  {
   "cell_type": "code",
   "execution_count": 2,
   "metadata": {
    "collapsed": true
   },
   "outputs": [],
   "source": [
    "import gnumpy as gpu\n",
    "import numpy as np"
   ]
  },
  {
   "cell_type": "code",
   "execution_count": 3,
   "metadata": {
    "collapsed": true
   },
   "outputs": [],
   "source": [
    "from time import time"
   ]
  },
  {
   "cell_type": "code",
   "execution_count": 15,
   "metadata": {
    "collapsed": false
   },
   "outputs": [
    {
     "ename": "ImportError",
     "evalue": "No module named 'op2'",
     "output_type": "error",
     "traceback": [
      "\u001b[1;31m---------------------------------------------------------------------------\u001b[0m",
      "\u001b[1;31mImportError\u001b[0m                               Traceback (most recent call last)",
      "\u001b[1;32m<ipython-input-15-9bdf3286f82c>\u001b[0m in \u001b[0;36m<module>\u001b[1;34m()\u001b[0m\n\u001b[1;32m----> 1\u001b[1;33m \u001b[1;32mfrom\u001b[0m \u001b[0mop2\u001b[0m \u001b[1;32mimport\u001b[0m \u001b[0mKernel\u001b[0m\u001b[1;33m\u001b[0m\u001b[0m\n\u001b[0m\u001b[0;32m      2\u001b[0m \u001b[1;33m\u001b[0m\u001b[0m\n\u001b[0;32m      3\u001b[0m code = \"\"\"void init(double* edge_weight) {\n\u001b[0;32m      4\u001b[0m   \u001b[1;32mfor\u001b[0m \u001b[1;33m(\u001b[0m\u001b[0mint\u001b[0m \u001b[0mi\u001b[0m \u001b[1;33m=\u001b[0m \u001b[1;36m0\u001b[0m\u001b[1;33m;\u001b[0m \u001b[0mi\u001b[0m \u001b[1;33m<\u001b[0m \u001b[1;36m3\u001b[0m\u001b[1;33m;\u001b[0m \u001b[0mi\u001b[0m\u001b[1;33m+\u001b[0m\u001b[1;33m+\u001b[0m\u001b[1;33m)\u001b[0m\u001b[1;33m\u001b[0m\u001b[0m\n\u001b[0;32m      5\u001b[0m     \u001b[0medge_weight\u001b[0m\u001b[1;33m[\u001b[0m\u001b[0mi\u001b[0m\u001b[1;33m]\u001b[0m \u001b[1;33m=\u001b[0m \u001b[1;36m0.0\u001b[0m\u001b[1;33m;\u001b[0m\u001b[1;33m\u001b[0m\u001b[0m\n",
      "\u001b[1;31mImportError\u001b[0m: No module named 'op2'"
     ]
    }
   ],
   "source": [
    "from op2 import Kernel\n",
    "\n",
    "code = \"\"\"void init(double* edge_weight) {\n",
    "  for (int i = 0; i < 3; i++)\n",
    "    edge_weight[i] = 0.0;\n",
    "}\"\"\"\n",
    "kernel = Kernel(code, \"init\")"
   ]
  },
  {
   "cell_type": "code",
   "execution_count": 5,
   "metadata": {
    "collapsed": false
   },
   "outputs": [
    {
     "name": "stdout",
     "output_type": "stream",
     "text": [
      "GPU time 0.02201056480407715\n",
      "CPU time 0.17503976821899414\n"
     ]
    }
   ],
   "source": [
    "\n",
    "\n",
    "n = 20000\n",
    "\n",
    "a = np.random.uniform(low=0., high=1., size=(n, n)).astype(np.float32)\n",
    "b = np.random.uniform(low=0., high=1., size=(n, n)).astype(np.float32)\n",
    "\n",
    "ga = gpu.garray(a)\n",
    "#gb = gpu.garray(b)\n",
    "t1 = time()\n",
    "ga += ga \n",
    "print(\"GPU time\", time() - t1)\n",
    "t1 = time()\n",
    "a  += a\n",
    "print(\"CPU time\", time() - t1)\n"
   ]
  },
  {
   "cell_type": "code",
   "execution_count": null,
   "metadata": {
    "collapsed": false
   },
   "outputs": [],
   "source": []
  },
  {
   "cell_type": "code",
   "execution_count": null,
   "metadata": {
    "collapsed": false
   },
   "outputs": [],
   "source": []
  },
  {
   "cell_type": "code",
   "execution_count": null,
   "metadata": {
    "collapsed": true
   },
   "outputs": [],
   "source": []
  },
  {
   "cell_type": "code",
   "execution_count": 5,
   "metadata": {
    "collapsed": false
   },
   "outputs": [
    {
     "name": "stderr",
     "output_type": "stream",
     "text": [
      "WARNING (theano.gof.compilelock): Overriding existing lock by dead process '2869' (I am process '39626')\n",
      "Using gpu device 0: GeForce GTX 980 (CNMeM is disabled, cuDNN 5004)\n"
     ]
    }
   ],
   "source": [
    "import theano"
   ]
  },
  {
   "cell_type": "markdown",
   "metadata": {},
   "source": [
    "## Program input"
   ]
  },
  {
   "cell_type": "code",
   "execution_count": null,
   "metadata": {
    "collapsed": true
   },
   "outputs": [],
   "source": [
    "#file_name = 'graph_40_341.txt'\n",
    "#file_name = 'graph_106.txt'\n",
    "#file_name = 'graph_62.txt'\n",
    "#file_name = 'graph_198.txt'\n",
    "#file_name = 'graph_40.txt'\n",
    "#file_name = 'graph_20.txt'\n",
    "#file_name = 'graph_10.txt'\n",
    "#file_name = 'graph_999.txt'\n",
    "file_name = 'graph_62000.txt'"
   ]
  },
  {
   "cell_type": "code",
   "execution_count": null,
   "metadata": {
    "collapsed": true
   },
   "outputs": [],
   "source": [
    "\n"
   ]
  },
  {
   "cell_type": "code",
   "execution_count": null,
   "metadata": {
    "collapsed": true
   },
   "outputs": [],
   "source": []
  },
  {
   "cell_type": "markdown",
   "metadata": {},
   "source": [
    "## Graph Init"
   ]
  },
  {
   "cell_type": "code",
   "execution_count": null,
   "metadata": {
    "collapsed": false
   },
   "outputs": [],
   "source": [
    "import networkx as nx\n",
    "import matplotlib.pyplot as plt\n",
    "\n"
   ]
  },
  {
   "cell_type": "code",
   "execution_count": null,
   "metadata": {
    "collapsed": false
   },
   "outputs": [],
   "source": [
    "\n",
    "f = open(file_name, \"r\")\n",
    "n, m = [int(x) for x in f.readline().split()] # read first line\n",
    "# add nodes\n",
    "edge_list = []\n",
    "# add edges \n",
    "for line in f: # read rest of lines\n",
    "    a1, a2 = [int(x) for x in line.split()]\n",
    "    edge_list.append((a1, a2))\n"
   ]
  },
  {
   "cell_type": "code",
   "execution_count": null,
   "metadata": {
    "collapsed": false
   },
   "outputs": [],
   "source": [
    "# Main graph\n",
    "g = nx.Graph(edge_list)"
   ]
  },
  {
   "cell_type": "code",
   "execution_count": null,
   "metadata": {
    "collapsed": false
   },
   "outputs": [],
   "source": [
    "degrees = {}\n",
    "for i in g.nodes():\n",
    "    degrees[i] = g.degree(i)"
   ]
  },
  {
   "cell_type": "code",
   "execution_count": null,
   "metadata": {
    "collapsed": false
   },
   "outputs": [],
   "source": []
  },
  {
   "cell_type": "code",
   "execution_count": null,
   "metadata": {
    "collapsed": false
   },
   "outputs": [],
   "source": []
  },
  {
   "cell_type": "code",
   "execution_count": null,
   "metadata": {
    "collapsed": false
   },
   "outputs": [],
   "source": [
    " # Animation after removal:\n",
    "pos=nx.spring_layout(g) \n",
    "\n",
    "pylab.figure(1,figsize=(15,12))\n",
    "\n",
    "nx.draw(g,pos,font_size=8, with_labels=True)\n",
    "#nx.draw(G,pos,font_size=10)\n",
    "pylab.show()"
   ]
  },
  {
   "cell_type": "code",
   "execution_count": null,
   "metadata": {
    "collapsed": false
   },
   "outputs": [],
   "source": [
    " # Animation after removal:\n",
    "pos=nx.spring_layout(g) \n",
    "\n",
    "pylab.figure(1,figsize=(15,12))\n",
    "\n",
    "nx.draw(g,pos,font_size=8, with_labels=True)\n",
    "#nx.draw(G,pos,font_size=10)\n",
    "pylab.show()"
   ]
  },
  {
   "cell_type": "code",
   "execution_count": null,
   "metadata": {
    "collapsed": false
   },
   "outputs": [],
   "source": []
  },
  {
   "cell_type": "code",
   "execution_count": null,
   "metadata": {
    "collapsed": false
   },
   "outputs": [],
   "source": [
    "degrees_count = {}\n",
    "for k in degrees.values():\n",
    "    if k not in degrees_count.keys():\n",
    "        degrees_count[k] =1\n",
    "    else:\n",
    "        degrees_count[k] += 1\n"
   ]
  },
  {
   "cell_type": "code",
   "execution_count": null,
   "metadata": {
    "collapsed": false
   },
   "outputs": [],
   "source": [
    "print(degrees_count)"
   ]
  },
  {
   "cell_type": "code",
   "execution_count": null,
   "metadata": {
    "collapsed": false
   },
   "outputs": [],
   "source": []
  },
  {
   "cell_type": "code",
   "execution_count": null,
   "metadata": {
    "collapsed": false
   },
   "outputs": [],
   "source": [
    "print(degrees)"
   ]
  },
  {
   "cell_type": "code",
   "execution_count": null,
   "metadata": {
    "collapsed": false
   },
   "outputs": [],
   "source": []
  },
  {
   "cell_type": "code",
   "execution_count": null,
   "metadata": {
    "collapsed": true
   },
   "outputs": [],
   "source": []
  },
  {
   "cell_type": "code",
   "execution_count": null,
   "metadata": {
    "collapsed": true
   },
   "outputs": [],
   "source": [
    "# Graph Routines: "
   ]
  },
  {
   "cell_type": "code",
   "execution_count": null,
   "metadata": {
    "collapsed": false
   },
   "outputs": [],
   "source": [
    " def opacity_calc(a1, a2, opacity, degrees, degrees_count):\n",
    "        d1 = degrees[a1]\n",
    "        d2 = degrees[a2]\n",
    "        t1 = max(d1, d2)\n",
    "        t2 = min(d1, d2)\n",
    "        added_value = 0.0\n",
    "        if d1 == d2:\n",
    "            added_value = (degrees_count[t1]*(degrees_count[t2]-1))/2\n",
    "        else: \n",
    "            added_value = degrees_count[t1]*degrees_count[t2]\n",
    "        opacity[t1-1][t2-1] += 1.0/added_value\n",
    "        # TODO : fix \n",
    "        if abs(1.0 - opacity[t1-1][t2-1]) < 0.01 :\n",
    "            opacity[t1-1][t2-1] = 1.0 \n",
    "        # ? \n",
    "        if d1 != d2:\n",
    "            opacity[t2-1][t1-1] += 1.0/added_value\n",
    "            \n",
    "        if abs(1.0 - opacity[t2-1][t1-1]) < 0.01:\n",
    "                opacity[t2-1][t1-1] = 1.0 \n"
   ]
  },
  {
   "cell_type": "code",
   "execution_count": null,
   "metadata": {
    "collapsed": false
   },
   "outputs": [],
   "source": [
    " def a_opacity_calc(a1, a2, opacity, degrees, degrees_count):\n",
    "        \n",
    "        d1 = degrees[a1]\n",
    "        d2 = degrees[a2]\n",
    "        t1 = max(d1, d2)\n",
    "        t2 = min(d1, d2)\n",
    "        added_value = 0.0\n",
    "        if d1 == d2:\n",
    "            added_value = (degrees_count[t1]*(degrees_count[t2]-1))/2\n",
    "        else: \n",
    "            added_value = degrees_count[t1]*degrees_count[t2]\n",
    "        opacity[t1-1][t2-1] -= 1.0/added_value\n",
    "        # TODO : fix \n",
    "        if abs(1.0 - opacity[t1-1][t2-1]) < 0.01 :\n",
    "            opacity[t1-1][t2-1] = 1.0 \n",
    "        # ? \n",
    "        if d1 != d2:\n",
    "            opacity[t2-1][t1-1] -= 1.0/added_value\n",
    "            \n",
    "        if abs(1.0 - opacity[t2-1][t1-1]) < 0.01:\n",
    "                opacity[t2-1][t1-1] = 1.0 \n",
    "      "
   ]
  },
  {
   "cell_type": "markdown",
   "metadata": {},
   "source": [
    "### Degree distribution"
   ]
  },
  {
   "cell_type": "code",
   "execution_count": null,
   "metadata": {
    "collapsed": true
   },
   "outputs": [],
   "source": []
  },
  {
   "cell_type": "code",
   "execution_count": null,
   "metadata": {
    "collapsed": false
   },
   "outputs": [],
   "source": []
  },
  {
   "cell_type": "code",
   "execution_count": null,
   "metadata": {
    "collapsed": false
   },
   "outputs": [],
   "source": []
  },
  {
   "cell_type": "code",
   "execution_count": null,
   "metadata": {
    "collapsed": false
   },
   "outputs": [],
   "source": [
    "i"
   ]
  },
  {
   "cell_type": "code",
   "execution_count": null,
   "metadata": {
    "collapsed": false
   },
   "outputs": [],
   "source": []
  },
  {
   "cell_type": "code",
   "execution_count": null,
   "metadata": {
    "collapsed": false
   },
   "outputs": [],
   "source": []
  },
  {
   "cell_type": "code",
   "execution_count": null,
   "metadata": {
    "collapsed": false
   },
   "outputs": [],
   "source": [
    "def lapsp(L, g, degrees, degrees_count):\n",
    "    vals = degrees.values()\n",
    "    opacity = np.zeros((max(vals),max(vals)))\n",
    "    \n",
    "    p = nx.floyd_warshall(g)\n",
    "    n = len(p)\n",
    "    for i in g.nodes():\n",
    "        for k in g.nodes():\n",
    "            if i < k and p[i][k] <= L:\n",
    "                opacity_calc(i, k, opacity, degrees, degrees_count)\n",
    "    return opacity "
   ]
  },
  {
   "cell_type": "code",
   "execution_count": null,
   "metadata": {
    "collapsed": false
   },
   "outputs": [],
   "source": []
  },
  {
   "cell_type": "code",
   "execution_count": null,
   "metadata": {
    "collapsed": false
   },
   "outputs": [],
   "source": []
  },
  {
   "cell_type": "code",
   "execution_count": null,
   "metadata": {
    "collapsed": false
   },
   "outputs": [],
   "source": []
  },
  {
   "cell_type": "code",
   "execution_count": null,
   "metadata": {
    "collapsed": true
   },
   "outputs": [],
   "source": []
  },
  {
   "cell_type": "code",
   "execution_count": null,
   "metadata": {
    "collapsed": false
   },
   "outputs": [],
   "source": [
    "def get_violated_paths(g, opacity, degrees):\n",
    "    k = max(degrees.values())\n",
    "    degs = []\n",
    "    max_val = np.max(opacity)\n",
    "    if max_val <= theta:\n",
    "        return None\n",
    "    for i in range(0, k):\n",
    "        for j in range(i, k):\n",
    "            if opacity[i][j] == max_val:\n",
    "                for k1 in g.nodes():\n",
    "                    if degrees[k1] == i+1:\n",
    "                        for k2 in g.nodes():\n",
    "                            if degrees[k2] == j+1:\n",
    "                                if k1!=k2:\n",
    "                                    degs.append([min(k1,k2), max(k1, k2)])\n",
    "                                \n",
    "                            \n",
    "\n",
    "    return degs "
   ]
  },
  {
   "cell_type": "code",
   "execution_count": null,
   "metadata": {
    "collapsed": true
   },
   "outputs": [],
   "source": [
    "def calc_to_remove(g, cand_edges):\n",
    "    if cand_edges is None:\n",
    "        return None\n",
    "    else: \n",
    "        paths = []\n",
    "        for k in cand_edges:\n",
    "            if nx.has_path(g,k[0],k[1]):\n",
    "                path = nx.shortest_path(g,k[0], k[1])\n",
    "                paths.append(path)\n",
    "        return paths"
   ]
  },
  {
   "cell_type": "code",
   "execution_count": null,
   "metadata": {
    "collapsed": true
   },
   "outputs": [],
   "source": [
    "def calc_effect(op1, op2, n, theta):\n",
    "    total_effect = 0.0\n",
    "    viol_num = 0\n",
    "    for k in range(0, n):\n",
    "        for z in range(0, n):\n",
    "            total_effect += op1[k][z] - op2[k][z]\n",
    "            if op1[k][z] > theta:\n",
    "                viol_num += 1\n",
    "    return [total_effect, viol_num]"
   ]
  },
  {
   "cell_type": "code",
   "execution_count": null,
   "metadata": {
    "collapsed": true
   },
   "outputs": [],
   "source": [
    "def removal_decision(cand):\n",
    "    all_none = True\n",
    "    vertex_pairs = set()\n",
    "    if cand is not None:\n",
    "        # TODO: More interesting! \n",
    "        intersect = cand[0]\n",
    "        for l in cand:\n",
    "            if l is not None:\n",
    "                all_none = False\n",
    "            for i in range(0, len(l)-1):\n",
    "                vertex_pairs.add((l[i], l[i+1]))\n",
    "    if all_none:\n",
    "        vertex_pairs = None\n",
    "    return vertex_pairs"
   ]
  },
  {
   "cell_type": "code",
   "execution_count": null,
   "metadata": {
    "collapsed": false
   },
   "outputs": [],
   "source": []
  },
  {
   "cell_type": "code",
   "execution_count": null,
   "metadata": {
    "collapsed": false
   },
   "outputs": [],
   "source": []
  },
  {
   "cell_type": "code",
   "execution_count": null,
   "metadata": {
    "collapsed": true
   },
   "outputs": [],
   "source": [
    "def clust_coef(g):\n",
    "    cl = []\n",
    "    for i in  g.nodes():\n",
    "        ni = g.degree(i)\n",
    "        cl_locl = 0\n",
    "        for j in g.neighbors(i):\n",
    "            for k in g.neighbors(i):\n",
    "                if nx.has_path(g, j, k):\n",
    "                    cl_locl += 1\n",
    "        cl.append(cl_locl)\n",
    "    return np.array(cl)"
   ]
  },
  {
   "cell_type": "code",
   "execution_count": null,
   "metadata": {
    "collapsed": false
   },
   "outputs": [],
   "source": []
  },
  {
   "cell_type": "code",
   "execution_count": null,
   "metadata": {
    "collapsed": true
   },
   "outputs": [],
   "source": [
    "def tot_opacity_calc(degrees, degrees_count):\n",
    "    vals = degrees.values()\n",
    "    opacity = np.zeros((max(vals),max(vals)))\n",
    "    \n",
    "    for i in g.nodes():\n",
    "        for j in g.neighbors(i):\n",
    "            if i < j:\n",
    "                opacity_calc(i, j, opacity, degrees, degrees_count)\n",
    "    for i in g.nodes():\n",
    "        for j in g.neighbors(i):\n",
    "            if i < j:\n",
    "                for k in g.neighbors(j):\n",
    "                    if i < k and k not in g.neighbors(i):\n",
    "                        opacity_calc(i, k, opacity, degrees, degrees_count)\n",
    "    return opacity\n",
    "    "
   ]
  },
  {
   "cell_type": "code",
   "execution_count": null,
   "metadata": {
    "collapsed": false
   },
   "outputs": [],
   "source": [
    "def calc_incr(theta, g, degrees, degrees_count, opacity):\n",
    "    for i in g.nodes():\n",
    "        for j in g.neighbors(i):\n",
    "            if i < j:\n",
    "                opacity_calc(i, j, opacity, degrees, degrees_count)\n",
    "            \n",
    "                if np.max(opacity) > theta: \n",
    "                    # print(\"edge \", i , \" \", j, \" is violating\")\n",
    "                    g.remove_edge(i, j)\n",
    "                    a_opacity_calc(i, j, opacity, degrees, degrees_count)\n"
   ]
  },
  {
   "cell_type": "code",
   "execution_count": null,
   "metadata": {
    "collapsed": false
   },
   "outputs": [],
   "source": []
  },
  {
   "cell_type": "code",
   "execution_count": null,
   "metadata": {
    "collapsed": false
   },
   "outputs": [],
   "source": [
    "import random"
   ]
  },
  {
   "cell_type": "code",
   "execution_count": null,
   "metadata": {
    "collapsed": true
   },
   "outputs": [],
   "source": [
    "def levl2_em(L, g, degrees, degrees_count, theta):\n",
    "    for i in g.nodes():\n",
    "        for j in g.neighbors(i):\n",
    "            if i < j:\n",
    "                for k in g.neighbors(j):\n",
    "                    if i < k and k not in g.neighbors(i):\n",
    "                        opacity_calc(i, k, opacity, degrees, degrees_count)\n",
    "                        \n",
    "                        if np.max(opacity) > theta: \n",
    "                            # print(\"edge \", i , \" \", j, \" is violating\")\n",
    "                            \n",
    "                            g.remove_edge(j, k)\n",
    "                            op1 = lapsp(L, g, degrees, degrees_count)\n",
    "                            t1 = calc_effect(opacity, op1, max(degrees.values()), theta)\n",
    "                            g.add_edge(j,k)\n",
    "                            \n",
    "                            g.remove_edge(i, j)\n",
    "                            op2 = lapsp(L, g, degrees, degrees_count)\n",
    "                            t2 = calc_effect(opacity, op2, max(degrees.values()), theta)\n",
    "                           \n",
    "                            if t2[0] > t1[0]:\n",
    "                                print(\"Decision 2\")\n",
    "                                opacity = op2\n",
    "                            else:\n",
    "                                print(\"Decision 1\")\n",
    "                                g.add_edge(i, j)\n",
    "                                g.remove_edge(j,k)\n",
    "                                opacity = op1\n",
    "                            \n",
    "                            \n",
    "                            \n",
    "                            # a_opacity_calc(i, k, opacity, degrees, degrees_count)\n",
    "                        "
   ]
  },
  {
   "cell_type": "code",
   "execution_count": null,
   "metadata": {
    "collapsed": false
   },
   "outputs": [],
   "source": [
    "def incr(L,theta, g,degrees, degrees_count):\n",
    "    \n",
    "    vals = degrees.values()\n",
    "    opacity = np.zeros((max(vals),max(vals)))\n",
    "    \n",
    "    dist = g.number_of_edges()\n",
    "    prev_degs = []\n",
    "  \n",
    "    for i in g.nodes():\n",
    "        prev_degs.append(g.degree(i))\n",
    "    cl1 = clust_coef(g)\n",
    "\n",
    "    \n",
    "    # First level \n",
    "    calc_incr(theta, g,degrees, degrees_count, opacity)\n",
    "\n",
    "    prev_op = np.copy(opacity)\n",
    "    for l in range(2, L+1):\n",
    "        done = False\n",
    "        while not done:\n",
    "            opacity = np.copy(prev_op)\n",
    "            # print(\"Op2 \", np.max(prev_op))\n",
    "            try: \n",
    "                for i in g.nodes():\n",
    "                    for j in g.nodes():\n",
    "                        path = None\n",
    "                        top = False\n",
    "                        try:\n",
    "                            path=nx.shortest_path(g, i, j)\n",
    "                            top = i < j and len(path)== l+1\n",
    "                        except:\n",
    "                            pass\n",
    "                        if top: \n",
    "                            opacity_calc(i, j, opacity, degrees, degrees_count)\n",
    "                            if np.max(opacity) > theta: \n",
    "                                \n",
    "                                ir = random.randint(0, l-1)\n",
    "                                \n",
    "                                rem1 = path[ir]\n",
    "                                rem2 = path[ir+1]\n",
    "                                \n",
    "                                g.remove_edge(rem1, rem2)\n",
    "                                # print(rem1,\" \", rem2, \" removed\")\n",
    "                                # print(np.max(opacity))\n",
    "                                raise StopIteration\n",
    "                done= True\n",
    "            except StopIteration:\n",
    "                pass\n",
    "            \n",
    "            \n",
    "        prev_op = np.copy(opacity)\n",
    "        # print(opacity)\n",
    "        # Calculate the frontiers\n",
    "        \n",
    "                    \n",
    "    dist = (dist-g.number_of_edges())/dist\n",
    "\n",
    "    print(dist*100, \" % removed\")\n",
    "    cur_degs = []\n",
    "    for i in g.nodes():\n",
    "        cur_degs.append(g.degree(i))\n",
    "    emd = 0.0\n",
    "\n",
    "    for k in range(0, len(prev_degs)):\n",
    "        emd += (prev_degs[k]-cur_degs[k])/prev_degs[k]\n",
    "\n",
    "    print(\"EMD \", emd)\n",
    "    cl2 = clust_coef(g)\n",
    "    print(\"Cc coef \", np.mean(cl1 - cl2))\n",
    "\n",
    "    print(\"Max opacity \", np.max(opacity))\n",
    "\n",
    "                \n",
    "            \n",
    "                \n",
    "                "
   ]
  },
  {
   "cell_type": "code",
   "execution_count": null,
   "metadata": {
    "collapsed": false
   },
   "outputs": [],
   "source": []
  },
  {
   "cell_type": "code",
   "execution_count": null,
   "metadata": {
    "collapsed": false
   },
   "outputs": [],
   "source": [
    "g.number_of_nodes()"
   ]
  },
  {
   "cell_type": "code",
   "execution_count": null,
   "metadata": {
    "collapsed": true
   },
   "outputs": [],
   "source": []
  },
  {
   "cell_type": "code",
   "execution_count": null,
   "metadata": {
    "collapsed": true
   },
   "outputs": [],
   "source": []
  },
  {
   "cell_type": "code",
   "execution_count": null,
   "metadata": {
    "collapsed": false,
    "scrolled": true
   },
   "outputs": [],
   "source": [
    "L = 3\n",
    "for th in range(1, 11):\n",
    "    g = nx.Graph(edge_list)\n",
    "    theta = th / 10.0\n",
    "    print(\"THETA \", theta)\n",
    "    incr(L, theta, g,degrees, degrees_count)"
   ]
  },
  {
   "cell_type": "code",
   "execution_count": null,
   "metadata": {
    "collapsed": false
   },
   "outputs": [],
   "source": []
  },
  {
   "cell_type": "code",
   "execution_count": null,
   "metadata": {
    "collapsed": true
   },
   "outputs": [],
   "source": []
  },
  {
   "cell_type": "code",
   "execution_count": null,
   "metadata": {
    "collapsed": false
   },
   "outputs": [],
   "source": []
  },
  {
   "cell_type": "code",
   "execution_count": null,
   "metadata": {
    "collapsed": true
   },
   "outputs": [],
   "source": []
  },
  {
   "cell_type": "code",
   "execution_count": null,
   "metadata": {
    "collapsed": false
   },
   "outputs": [],
   "source": [
    "def calc_graph(g, L, degrees, degrees_count, debug=False):\n",
    "    # preparation\n",
    "   \n",
    "    # Main routine: \n",
    "    # 1. Calculate Opacity before deleting\n",
    "    op = lapsp(L, g, degrees, degrees_count)\n",
    "    \n",
    "    if debug:\n",
    "        print(np.array(op))\n",
    "    \n",
    "    # 2. Get all violated vertex pair\n",
    "    degs = get_violated_paths(g, op, degrees)\n",
    "    \n",
    "    if debug:\n",
    "        print(\"Vertex pair for removal: \")\n",
    "        print(degs)\n",
    "    \n",
    "    if degs == None:\n",
    "        print(\"Finished\")\n",
    "        return  (np.max(op), np.argmax(op))\n",
    "    \n",
    "    # 3. Get full path of removal \n",
    "    s = calc_to_remove(g, degs)\n",
    "    \n",
    "    if debug:\n",
    "        print(\"Full path, can be removed : \")\n",
    "        print(s)\n",
    "        \n",
    "    # 4. Get candidates for removal\n",
    "    vertex_pairs = removal_decision(s)\n",
    "    \n",
    "    if debug: \n",
    "        print(\"Candidates for removal: \")\n",
    "        print(vertex_pairs)\n",
    "    \n",
    "    # 5. For each candidate full recalc:\n",
    "    effects = []\n",
    "    for cand in vertex_pairs:\n",
    "        # try to remove\n",
    "        g.remove_edge(cand[0], cand[1])\n",
    "        op2 = lapsp(L, g, degrees, degrees_count)\n",
    "        effects.append(calc_effect(op, op2, max(degrees.values()), theta))\n",
    "        g.add_edge(cand[0],cand[1])\n",
    "    if debug:\n",
    "        print(\"EFFECTS:\")\n",
    "        print(vertex_pairs)\n",
    "        print(effects)\n",
    "    \n",
    "    # If animation wanted:  Before removal\n",
    "        #pos=nx.spring_layout(g) \n",
    "        #nx.draw(g, pos)\n",
    "    \n",
    "    # 6. Final decision and removal \n",
    "    if len(effects)!=0:\n",
    "        max_effect = max(effects)\n",
    "        remove_candidates = []\n",
    "        for i in range(0, len(effects)):\n",
    "            if effects[i] == max_effect:\n",
    "                remove_candidates.append([i])\n",
    "    # TODO: Fix, choose randomly:  \n",
    "    # If we have more than one candidate, choose randomly\n",
    "    r = remove_candidates[0]\n",
    "    val = list(vertex_pairs)\n",
    "\n",
    "    if debug:\n",
    "        print(remove_candidates)\n",
    "        \n",
    "    k1 = val[r[0]][0]\n",
    "    k2 = val[r[0]][1]\n",
    "    \n",
    "    #print(np.argmax(op)//len(op) + 1,\" \", np.argmax(op)%len(op) +1 )\n",
    "    g.remove_edge(k1, k2)\n",
    "    \n",
    "    # Animation after removal:\n",
    "        #pos=nx.spring_layout(g) \n",
    "        #nx.draw(g, pos)\n",
    "    #if debug:\n",
    "    #print(\"Edge \", k1, \" \", k2, \" removed\")\n",
    "    #print(\"\")\n",
    "        \n",
    "    # 7.  Opacity after deleting\n",
    "    op_f = lapsp(L, g, degrees, degrees_count)\n",
    "    #print((np.max(op_f), np.argmax(op_f)))\n",
    "    \n",
    "    if debug:\n",
    "        print(np.array(op_f))\n",
    "        \n",
    "    return (np.max(op_f), np.argmax(op_f))\n",
    "    \n",
    "    "
   ]
  },
  {
   "cell_type": "code",
   "execution_count": null,
   "metadata": {
    "collapsed": false
   },
   "outputs": [],
   "source": [
    "def classical(L, theta, g, degrees, degrees_count):\n",
    "    i = 0\n",
    "    op_0 = lapsp(L, g, degrees, degrees_count)\n",
    "    k = np.max(op_0)\n",
    "    #print(\"iter \" , i)\n",
    "    #print(\"     K = \", k, ' |E| = ', g.number_of_edges())\n",
    "    cl1 = clust_coef(g)\n",
    "    t1 = g.number_of_edges()\n",
    "    prev_degs = []\n",
    "    for i in g.nodes():\n",
    "        prev_degs.append(g.degree(i))\n",
    "\n",
    "\n",
    "    k = [1,]\n",
    "    i = 0 \n",
    "    while k[0] > theta:\n",
    "        k = calc_graph(g, L, degrees, degrees_count, debug= False)\n",
    "        i += 1\n",
    "        # print(\"iter \" , i)\n",
    "        t =  np.max(degrees.values())\n",
    "        #print(\"     K = \", k[0],\" from \", k[1]//t, \"to \" , k[1]%t, ' |E| = ', g.number_of_edges())\n",
    "    print(\"Totaly \", (t1-g.number_of_edges())/t1 * 100, \" % edges removed\") \n",
    "    cur_degs = []\n",
    "    for i in g.nodes():\n",
    "        cur_degs.append(g.degree(i))\n",
    "    emd = 0.0\n",
    "\n",
    "    for k in range(0, len(prev_degs)):\n",
    "        emd += (prev_degs[k]-cur_degs[k])/prev_degs[k]\n",
    "\n",
    "    print(\"EMD \", emd)\n",
    "    cl2 = clust_coef(g)\n",
    "    print(\"Cc coef \", np.mean(cl1 - cl2))\n",
    "\n",
    "    \n",
    "    \n",
    "    "
   ]
  },
  {
   "cell_type": "code",
   "execution_count": null,
   "metadata": {
    "collapsed": false
   },
   "outputs": [],
   "source": [
    "L = 3\n",
    "for th in range(1, 11):\n",
    "    g = nx.Graph(edge_list)\n",
    "    theta = th / 10.0\n",
    "    print(\"THETA \", theta)\n",
    "    classical(L, theta, g, degrees, degrees_count)\n",
    "    #calc_incr(theta, g, degrees, degrees_count)"
   ]
  },
  {
   "cell_type": "code",
   "execution_count": null,
   "metadata": {
    "collapsed": true
   },
   "outputs": [],
   "source": []
  },
  {
   "cell_type": "code",
   "execution_count": null,
   "metadata": {
    "collapsed": false
   },
   "outputs": [],
   "source": [
    "print(k)"
   ]
  },
  {
   "cell_type": "code",
   "execution_count": null,
   "metadata": {
    "collapsed": false
   },
   "outputs": [],
   "source": [
    " # Animation after removal:\n",
    "#pos=nx.spring_layout(g) \n",
    "\n",
    "pylab.figure(1,figsize=(8,8))\n",
    "nx.draw(g,font_size=8, with_labels=True)\n",
    "#nx.draw(G,pos,font_size=10)\n",
    "pylab.show()"
   ]
  },
  {
   "cell_type": "code",
   "execution_count": null,
   "metadata": {
    "collapsed": false
   },
   "outputs": [],
   "source": []
  },
  {
   "cell_type": "code",
   "execution_count": null,
   "metadata": {
    "collapsed": false
   },
   "outputs": [],
   "source": []
  },
  {
   "cell_type": "code",
   "execution_count": null,
   "metadata": {
    "collapsed": false
   },
   "outputs": [],
   "source": [
    "g.number_of_nodes()\n"
   ]
  },
  {
   "cell_type": "code",
   "execution_count": null,
   "metadata": {
    "collapsed": false
   },
   "outputs": [],
   "source": [
    "k = [100, 26]"
   ]
  },
  {
   "cell_type": "code",
   "execution_count": null,
   "metadata": {
    "collapsed": false
   },
   "outputs": [],
   "source": []
  },
  {
   "cell_type": "code",
   "execution_count": null,
   "metadata": {
    "collapsed": false
   },
   "outputs": [],
   "source": []
  },
  {
   "cell_type": "code",
   "execution_count": null,
   "metadata": {
    "collapsed": true
   },
   "outputs": [],
   "source": []
  },
  {
   "cell_type": "code",
   "execution_count": null,
   "metadata": {
    "collapsed": true
   },
   "outputs": [],
   "source": []
  },
  {
   "cell_type": "code",
   "execution_count": null,
   "metadata": {
    "collapsed": false
   },
   "outputs": [],
   "source": []
  },
  {
   "cell_type": "code",
   "execution_count": null,
   "metadata": {
    "collapsed": false
   },
   "outputs": [],
   "source": []
  },
  {
   "cell_type": "code",
   "execution_count": null,
   "metadata": {
    "collapsed": false
   },
   "outputs": [],
   "source": [
    "   \n"
   ]
  },
  {
   "cell_type": "code",
   "execution_count": null,
   "metadata": {
    "collapsed": false
   },
   "outputs": [],
   "source": [
    "\n"
   ]
  },
  {
   "cell_type": "code",
   "execution_count": null,
   "metadata": {
    "collapsed": false
   },
   "outputs": [],
   "source": []
  },
  {
   "cell_type": "code",
   "execution_count": null,
   "metadata": {
    "collapsed": true
   },
   "outputs": [],
   "source": []
  },
  {
   "cell_type": "code",
   "execution_count": null,
   "metadata": {
    "collapsed": false
   },
   "outputs": [],
   "source": [
    "\n",
    "     \n"
   ]
  },
  {
   "cell_type": "code",
   "execution_count": null,
   "metadata": {
    "collapsed": false
   },
   "outputs": [],
   "source": []
  },
  {
   "cell_type": "code",
   "execution_count": null,
   "metadata": {
    "collapsed": true
   },
   "outputs": [],
   "source": []
  },
  {
   "cell_type": "code",
   "execution_count": null,
   "metadata": {
    "collapsed": false
   },
   "outputs": [],
   "source": []
  },
  {
   "cell_type": "code",
   "execution_count": null,
   "metadata": {
    "collapsed": true
   },
   "outputs": [],
   "source": []
  },
  {
   "cell_type": "code",
   "execution_count": null,
   "metadata": {
    "collapsed": false
   },
   "outputs": [],
   "source": []
  },
  {
   "cell_type": "code",
   "execution_count": null,
   "metadata": {
    "collapsed": false
   },
   "outputs": [],
   "source": []
  },
  {
   "cell_type": "code",
   "execution_count": null,
   "metadata": {
    "collapsed": false
   },
   "outputs": [],
   "source": []
  },
  {
   "cell_type": "code",
   "execution_count": null,
   "metadata": {
    "collapsed": true
   },
   "outputs": [],
   "source": []
  },
  {
   "cell_type": "code",
   "execution_count": null,
   "metadata": {
    "collapsed": false
   },
   "outputs": [],
   "source": []
  },
  {
   "cell_type": "code",
   "execution_count": null,
   "metadata": {
    "collapsed": false
   },
   "outputs": [],
   "source": []
  },
  {
   "cell_type": "code",
   "execution_count": null,
   "metadata": {
    "collapsed": false
   },
   "outputs": [],
   "source": []
  },
  {
   "cell_type": "code",
   "execution_count": null,
   "metadata": {
    "collapsed": true
   },
   "outputs": [],
   "source": []
  },
  {
   "cell_type": "code",
   "execution_count": null,
   "metadata": {
    "collapsed": true
   },
   "outputs": [],
   "source": []
  },
  {
   "cell_type": "code",
   "execution_count": null,
   "metadata": {
    "collapsed": false
   },
   "outputs": [],
   "source": []
  },
  {
   "cell_type": "code",
   "execution_count": null,
   "metadata": {
    "collapsed": false
   },
   "outputs": [],
   "source": []
  },
  {
   "cell_type": "code",
   "execution_count": null,
   "metadata": {
    "collapsed": true
   },
   "outputs": [],
   "source": []
  },
  {
   "cell_type": "code",
   "execution_count": null,
   "metadata": {
    "collapsed": false
   },
   "outputs": [],
   "source": []
  },
  {
   "cell_type": "code",
   "execution_count": null,
   "metadata": {
    "collapsed": false
   },
   "outputs": [],
   "source": []
  },
  {
   "cell_type": "code",
   "execution_count": null,
   "metadata": {
    "collapsed": true
   },
   "outputs": [],
   "source": []
  }
 ],
 "metadata": {
  "kernelspec": {
   "display_name": "Python 3",
   "language": "python",
   "name": "python3"
  },
  "language_info": {
   "codemirror_mode": {
    "name": "ipython",
    "version": 3
   },
   "file_extension": ".py",
   "mimetype": "text/x-python",
   "name": "python",
   "nbconvert_exporter": "python",
   "pygments_lexer": "ipython3",
   "version": "3.5.1"
  }
 },
 "nbformat": 4,
 "nbformat_minor": 0
}
