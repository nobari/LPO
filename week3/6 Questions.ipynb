{
 "metadata": {
  "name": "",
  "signature": "sha256:d52b764d27f376f914dd39a522dff9a7c99c93f7ec007b2bf1c5249a3fc64c56"
 },
 "nbformat": 3,
 "nbformat_minor": 0,
 "worksheets": [
  {
   "cells": [
    {
     "cell_type": "markdown",
     "metadata": {},
     "source": [
      "##Task 1\n",
      "(**Total** 5 points) Write a function ***is_prime*** that identifies if the positive integer number is prime. Note: a prime number is the one that can be divided only by 1 and itself. Number 1 is excluded (that is it is not prime). For example, 2,3,5 are prime numbers.\n",
      "* Write a function ***is_prime*** that checks if the integer is prime. For example: is_prime(5) --> True; is_prime(219) --> False. Use *for* loop to check possible divisors. (2 points)\n",
      "* Make a *for* loop return False once it found a divisor. (.5 points)\n",
      "* Make a *for* loop go up until the square root of the input. (1 point)\n",
      "* Make a *for* loop exclude even numbers, except 2. (1 point)\n",
      "* Print how much time it takes you to test primality of the number 100,000,000,000,0037 (.5 points) Beware: If it takes more than 5 minutes, you better stop execution and optimize your code. Note: you can use the following pattern of measuring time of implementation:"
     ]
    },
    {
     "cell_type": "code",
     "collapsed": false,
     "input": [
      "import time\n",
      "start = time.time()\n",
      "your_func()\n",
      "print(time.time()-start)"
     ],
     "language": "python",
     "metadata": {},
     "outputs": []
    },
    {
     "cell_type": "markdown",
     "metadata": {},
     "source": [
      "## Task 2\n",
      "(**Total** 5 points)\n",
      "This is a task on recursion. So all *for/while* loops are prohibited. \n",
      "* Write a function ***map_multiply_func*** that multiply each element in the list *xs* by input parameter *k*. (2.5 points) Usage: map_multiply_func([1,2,3], 3, []) --> [3,6,9]. Remark: together with *reduce* function they combine a popular *MapReduce* paradigm.\n",
      "* Write a function ***filter_positive_func*** that only selects those elements in the list that are positive. (2.5 points) Usage: filter_positive_func([-1,0,1,-3,2], []) --> [1,2] "
     ]
    },
    {
     "cell_type": "code",
     "collapsed": false,
     "input": [],
     "language": "python",
     "metadata": {},
     "outputs": []
    }
   ],
   "metadata": {}
  }
 ]
}