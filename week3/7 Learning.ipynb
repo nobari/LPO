{
 "metadata": {
  "name": "",
  "signature": "sha256:f55220eb527a09193c83238c8a5c8a96857430c495559b4b941900962b63e0b3"
 },
 "nbformat": 3,
 "nbformat_minor": 0,
 "worksheets": [
  {
   "cells": [
    {
     "cell_type": "heading",
     "level": 1,
     "metadata": {},
     "source": [
      "Iteration"
     ]
    },
    {
     "cell_type": "heading",
     "level": 3,
     "metadata": {},
     "source": [
      "Multiple Assignment"
     ]
    },
    {
     "cell_type": "markdown",
     "metadata": {},
     "source": [
      "It is legal to make more than one assignment to the same variable. A new assignment makes an existing variable refer to a new value (and stop referring to the old value)."
     ]
    },
    {
     "cell_type": "code",
     "collapsed": false,
     "input": [
      "bruce = 5\n",
      "print bruce,\n",
      "bruce = 7\n",
      "print bruce"
     ],
     "language": "python",
     "metadata": {},
     "outputs": [
      {
       "output_type": "stream",
       "stream": "stdout",
       "text": [
        "5 7\n"
       ]
      }
     ],
     "prompt_number": 1
    },
    {
     "cell_type": "heading",
     "level": 3,
     "metadata": {},
     "source": [
      "Updating variables"
     ]
    },
    {
     "cell_type": "markdown",
     "metadata": {},
     "source": [
      "One of the most common forms of multiple assignment is an update, where the new value of the variable depends on the old. Before you can update a variable, you have to initialize it, usually with a simple assignment:"
     ]
    },
    {
     "cell_type": "code",
     "collapsed": false,
     "input": [
      "x = 0\n",
      "x = x + 1"
     ],
     "language": "python",
     "metadata": {},
     "outputs": [
      {
       "output_type": "stream",
       "stream": "stdout",
       "text": [
        "1\n"
       ]
      }
     ],
     "prompt_number": 5
    },
    {
     "cell_type": "markdown",
     "metadata": {},
     "source": [
      "Useful update operators: \n",
      "+=, -=, *=, /=, //=, **=, %="
     ]
    },
    {
     "cell_type": "code",
     "collapsed": false,
     "input": [
      "x = 6\n",
      "print \"x =\", x\n",
      "x += 1 \n",
      "print \"x += 1:\", x\n",
      "x -= 1 \n",
      "print \"x -= 1:\", x\n",
      "x *= 4 \n",
      "print \"x *= 4:\", x\n",
      "x /= 6 \n",
      "print \"x /= 6:\", x\n",
      "x //= 2 \n",
      "print \"x //= 2:\", x\n",
      "x **= 7\n",
      "print \"x **= 7:\", x\n",
      "x %= 100\n",
      "print \"x %= 100:\", x"
     ],
     "language": "python",
     "metadata": {},
     "outputs": [
      {
       "output_type": "stream",
       "stream": "stdout",
       "text": [
        "x = 6\n",
        "x += 1: 7\n",
        "x -= 1: 6\n",
        "x *= 4: 24\n",
        "x /= 6: 4\n",
        "x //= 2: 2\n",
        "x **= 7: 128\n",
        "x %= 100: 28\n"
       ]
      }
     ],
     "prompt_number": 30
    },
    {
     "cell_type": "heading",
     "level": 3,
     "metadata": {},
     "source": [
      "The while statement"
     ]
    },
    {
     "cell_type": "markdown",
     "metadata": {},
     "source": [
      "Repetition of the similar tasks can be done with a while statement in Python. \n",
      "Here is the flow of execution for a while statement:\n",
      "\n",
      "1) Evaluate the condition, yielding True or False.\n",
      "\n",
      "2) If the condition is false, exit the while statement and continue execution at the next statement.\n",
      "\n",
      "3) If the condition is true, execute the body and then go back to step 1.\n",
      "\n",
      "This type of flow is called a loop because the third step loops back around to the top.\n",
      "The body of the loop should change the value of one or more variables so that eventually the condition becomes false and the loop terminates. Otherwise the loop will repeat forever, which is called an infinite loop."
     ]
    },
    {
     "cell_type": "code",
     "collapsed": false,
     "input": [
      "def countdown(n):\n",
      "    while n > 0:\n",
      "        print n\n",
      "        n = n-1\n",
      "    print 'Yo, Skoltech!'\n",
      "    \n",
      "countdown(5)"
     ],
     "language": "python",
     "metadata": {},
     "outputs": [
      {
       "output_type": "stream",
       "stream": "stdout",
       "text": [
        "5\n",
        "4\n",
        "3\n",
        "2\n",
        "1\n",
        "Yo, Skoltech!\n"
       ]
      }
     ],
     "prompt_number": 34
    },
    {
     "cell_type": "heading",
     "level": 3,
     "metadata": {},
     "source": [
      "break"
     ]
    },
    {
     "cell_type": "markdown",
     "metadata": {},
     "source": [
      "Sometimes you don\u2019t know it\u2019s time to end a loop until you get half way through the body. In that case you can use the break statement to jump out of the loop. \n",
      "\n",
      "For example, suppose you want to take input from the user until they type done. You could write:"
     ]
    },
    {
     "cell_type": "code",
     "collapsed": false,
     "input": [
      "while True:\n",
      "    line = raw_input('> ')\n",
      "    if line == 'done':\n",
      "        break\n",
      "    print line\n",
      "\n",
      "print 'Done!'"
     ],
     "language": "python",
     "metadata": {},
     "outputs": [
      {
       "name": "stdout",
       "output_type": "stream",
       "stream": "stdout",
       "text": [
        "> dafd\n"
       ]
      },
      {
       "output_type": "stream",
       "stream": "stdout",
       "text": [
        "dafd\n"
       ]
      },
      {
       "name": "stdout",
       "output_type": "stream",
       "stream": "stdout",
       "text": [
        "> adsf\n"
       ]
      },
      {
       "output_type": "stream",
       "stream": "stdout",
       "text": [
        "adsf\n"
       ]
      },
      {
       "name": "stdout",
       "output_type": "stream",
       "stream": "stdout",
       "text": [
        "> done\n"
       ]
      },
      {
       "output_type": "stream",
       "stream": "stdout",
       "text": [
        "Done!\n"
       ]
      }
     ],
     "prompt_number": 1
    },
    {
     "cell_type": "markdown",
     "metadata": {},
     "source": [
      "The loop condition is True, which is always true, so the loop runs until it hits the break statement.\n",
      "Each time through, it prompts the user with an angle bracket. If the user types done, the break statement exits the loop. Otherwise the program echoes whatever the user types and goes back to the top of the loop."
     ]
    },
    {
     "cell_type": "heading",
     "level": 3,
     "metadata": {},
     "source": [
      "Square roots"
     ]
    },
    {
     "cell_type": "markdown",
     "metadata": {},
     "source": [
      "Loops are often used in programs that compute numerical results by starting with an approximate answer and iteratively improving it.\n",
      "\n",
      "For example, one way of computing square roots is Newton\u2019s method. Suppose that you want to know the square root of a. If you start with almost any estimate, x, you can compute a better estimate with the following formula: y = (x + a/x)/2"
     ]
    },
    {
     "cell_type": "code",
     "collapsed": false,
     "input": [
      "a = 49 \n",
      "x = 2\n",
      "while True:\n",
      "    print x\n",
      "    y = (x + a/x) / 2\n",
      "    if y == x:\n",
      "        break\n",
      "    x = y"
     ],
     "language": "python",
     "metadata": {},
     "outputs": [
      {
       "output_type": "stream",
       "stream": "stdout",
       "text": [
        "2\n",
        "13\n",
        "8\n",
        "7\n"
       ]
      }
     ],
     "prompt_number": 13
    },
    {
     "cell_type": "markdown",
     "metadata": {},
     "source": [
      "For most values of a this works fine, but in general it is dangerous to test float equality. Floating-point values are only approximately right: most rational numbers, like 1/3, and irrational numbers, like \u221a2, can\u2019t be represented exactly with a float.\n",
      "\n",
      "Rather than checking whether x and y are exactly equal, it is safer to use the built-in function abs to compute the absolute value, or magnitude, of the difference between them:"
     ]
    },
    {
     "cell_type": "code",
     "collapsed": false,
     "input": [
      "a = 144 \n",
      "x = 2\n",
      "epsilon = 0.0000001 \n",
      "while True:\n",
      "    print x\n",
      "    y = (x + a/x) / 2\n",
      "    if abs(y-x) < epsilon:\n",
      "        break\n",
      "    x = y"
     ],
     "language": "python",
     "metadata": {},
     "outputs": [
      {
       "output_type": "stream",
       "stream": "stdout",
       "text": [
        "2\n",
        "37\n",
        "20\n",
        "13\n",
        "12\n"
       ]
      }
     ],
     "prompt_number": 18
    },
    {
     "cell_type": "heading",
     "level": 3,
     "metadata": {},
     "source": [
      "Algorithms"
     ]
    },
    {
     "cell_type": "markdown",
     "metadata": {},
     "source": [
      "Newton\u2019s method is an example of an algorithm: it is a mechanical process for solving a category of problems (in this case, computing square roots).\n",
      "\n",
      "But if you were \u201clazy,\u201d you probably cheated by learning a few tricks. For example, to find the product of n and 9, you can write n\u22121 as the first digit and 10\u2212n as the second digit. This trick is a general solution for multiplying any single-digit number by 9. That\u2019s an algorithm!"
     ]
    },
    {
     "cell_type": "code",
     "collapsed": false,
     "input": [
      "n = 7\n",
      "print n*9\n",
      "print str(n-1)+str(10-n)"
     ],
     "language": "python",
     "metadata": {},
     "outputs": [
      {
       "output_type": "stream",
       "stream": "stdout",
       "text": [
        "63\n",
        "63\n"
       ]
      }
     ],
     "prompt_number": 20
    },
    {
     "cell_type": "heading",
     "level": 3,
     "metadata": {},
     "source": [
      "Debugging"
     ]
    },
    {
     "cell_type": "markdown",
     "metadata": {},
     "source": [
      "Usual way - \u201cdebugging by bisection.\u201d E.g. checking 100 lines one at a time, 100 steps.\n",
      "\n",
      "Tips'n'Tricks: try to break the problem in half. \n",
      "\n",
      "1) Look at the middle of the program, or near it, for an intermediate value you can check. \n",
      "\n",
      "2) Add a print statement (or something else that has a verifiable effect) and run the program.\n",
      "\n",
      "3) If the mid-point check is incorrect, there must be a problem in the first half of the program. If it is correct, the problem is in the second half.\n",
      "\n",
      "Every time you perform a check like this, you halve the number of lines you have to search. After six steps (which is fewer than 100), you would be down to one or two lines of code, at least in theory.\n",
      "\n",
      "In practice it is not always clear what the \u201cmiddle of the program\u201d is and not always possible to check it. It doesn\u2019t make sense to count lines and find the exact midpoint. Instead, think about places in the program where there might be errors and places where it is easy to put a check. Then choose a spot where you think the chances are about the same that the bug is before or after the check."
     ]
    }
   ],
   "metadata": {}
  }
 ]
}