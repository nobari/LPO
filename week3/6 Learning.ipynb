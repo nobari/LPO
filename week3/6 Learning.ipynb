{
 "metadata": {
  "name": "",
  "signature": "sha256:42b2d3a4df8484a7d13dab9f1682b4ac9436897eb4d730bf94f837b25b15052b"
 },
 "nbformat": 3,
 "nbformat_minor": 0,
 "worksheets": [
  {
   "cells": [
    {
     "cell_type": "markdown",
     "metadata": {},
     "source": [
      "##Return Values\n",
      "We have seen the restart statement before, but in a fruitful function the restart statement\n",
      "includes an expression. This statement means: \u201cReturn immediately from this function\n",
      "and use the following expression as a return value.\u201d "
     ]
    },
    {
     "cell_type": "code",
     "collapsed": false,
     "input": [
      "def abs_v(x):\n",
      "    if x >=0:\n",
      "        return x\n",
      "    else:\n",
      "        return -x\n",
      "    \n",
      "import math, numpy\n",
      "\n",
      "def f(x):\n",
      "    if x>= 0:\n",
      "        return x\n",
      "    def g(y):\n",
      "        return x*y**2\n",
      "    return g\n",
      "\n",
      "# print(type(f(-10)))\n",
      "h = f(-10)\n",
      "h(2)\n",
      "\n",
      "def f(x,y):\n",
      "    return x*y**2\n",
      "x = 3\n",
      "if x>=0:\n",
      "    def g(y):\n",
      "        return x*y**2\n",
      "else:\n",
      "    def g(y):\n",
      "        return -x*y**2\n",
      "    \n",
      "def f(x):\n",
      "    def g(y):\n",
      "        return abs_v(x)*y**2\n",
      "    return g\n",
      "g = f(x)\n",
      "\n",
      "\n",
      "\n",
      "def f(x):\n",
      "    def g(y):\n",
      "        return x*y**2\n",
      "    return g"
     ],
     "language": "python",
     "metadata": {},
     "outputs": []
    },
    {
     "cell_type": "code",
     "collapsed": false,
     "input": [
      "def f(x):\n",
      "    def g(y):\n",
      "        return x*y**2\n",
      "    return g\n",
      "\n",
      "def print_f(iterations):\n",
      "    for i in range(iterations):\n",
      "        print(i)\n",
      "#         return('Return after the first iteration')\n",
      "\n",
      "def is_there_negative(xs):\n",
      "    for x in xs:\n",
      "        print_f(x)\n",
      "#         print(\"Yes, there is a negative number. Element=%s\" %x)\n",
      "    else:\n",
      "        print(\"No, there is not a negative number.\")\n",
      "    print(\"Finished for loop\")\n",
      "\n",
      "# %timeit xs = [2,3,4,-1]\n",
      "# is_there_negative(xs)\n",
      "import time\n",
      "x = 1\n",
      "start=  time.time()\n",
      "x += 1\n",
      "print time.time() - start\n",
      "x = x + 1\n",
      "print time.time() - start"
     ],
     "language": "python",
     "metadata": {},
     "outputs": [
      {
       "output_type": "stream",
       "stream": "stdout",
       "text": [
        "6.31809234619e-05\n",
        "0.000166177749634\n"
       ]
      }
     ],
     "prompt_number": 6
    },
    {
     "cell_type": "markdown",
     "metadata": {},
     "source": [
      "##Incremental development\n",
      "The key aspects of the process are:\n",
      "1. Start with a working program and make small incremental changes. At any point, if\n",
      "there is an error, you should have a good idea where it is.\n",
      "2. Use temporary variables to hold intermediate values so you can display and check\n",
      "them.\n",
      "3. Once the program is working, you might want to remove some of the scaffolding or\n",
      "consolidate multiple statements into compound expressions, but only if it does not\n",
      "make the program dif\ufb01cult to read.\n"
     ]
    },
    {
     "cell_type": "code",
     "collapsed": false,
     "input": [
      "def multipliers_of_x_up_to_y(x,y):\n",
      "    '''Finds multipliers of x that are no greater than y.\n",
      "    x = 10 y = 4 --> 1,2\n",
      "    '''\n",
      "    # check for types\n",
      "    assert isinstance(x, int), \"We require first argument to be int, got %s instead\" %(type(x))\n",
      "    assert isinstance(y, int), \"We require second argument to be int, got %s instead\" %(type(x))\n",
      "    # check that y <= x\n",
      "    assert y <= x, \"Second argument %s should be no greater than the first argument %s\" %(x,y)\n",
      "    \n",
      "    \n",
      "    return \n",
      "\n",
      "multipliers_of_x_up_to_y(3., 2)"
     ],
     "language": "python",
     "metadata": {},
     "outputs": [
      {
       "ename": "AssertionError",
       "evalue": "We require first argument to be int, got <type 'float'> instead",
       "output_type": "pyerr",
       "traceback": [
        "\u001b[1;31m---------------------------------------------------------------------------\u001b[0m\n\u001b[1;31mAssertionError\u001b[0m                            Traceback (most recent call last)",
        "\u001b[1;32m<ipython-input-42-a605d9ed08f6>\u001b[0m in \u001b[0;36m<module>\u001b[1;34m()\u001b[0m\n\u001b[0;32m     12\u001b[0m     \u001b[1;32mreturn\u001b[0m\u001b[1;33m\u001b[0m\u001b[0m\n\u001b[0;32m     13\u001b[0m \u001b[1;33m\u001b[0m\u001b[0m\n\u001b[1;32m---> 14\u001b[1;33m \u001b[0mmultipliers_of_x_up_to_y\u001b[0m\u001b[1;33m(\u001b[0m\u001b[1;36m3.\u001b[0m\u001b[1;33m,\u001b[0m \u001b[1;36m2\u001b[0m\u001b[1;33m)\u001b[0m\u001b[1;33m\u001b[0m\u001b[0m\n\u001b[0m",
        "\u001b[1;32m<ipython-input-42-a605d9ed08f6>\u001b[0m in \u001b[0;36mmultipliers_of_x_up_to_y\u001b[1;34m(x, y)\u001b[0m\n\u001b[0;32m      4\u001b[0m     '''\n\u001b[0;32m      5\u001b[0m     \u001b[1;31m# check for types\u001b[0m\u001b[1;33m\u001b[0m\u001b[1;33m\u001b[0m\u001b[0m\n\u001b[1;32m----> 6\u001b[1;33m     \u001b[1;32massert\u001b[0m \u001b[0misinstance\u001b[0m\u001b[1;33m(\u001b[0m\u001b[0mx\u001b[0m\u001b[1;33m,\u001b[0m \u001b[0mint\u001b[0m\u001b[1;33m)\u001b[0m\u001b[1;33m,\u001b[0m \u001b[1;34m\"We require first argument to be int, got %s instead\"\u001b[0m \u001b[1;33m%\u001b[0m\u001b[1;33m(\u001b[0m\u001b[0mtype\u001b[0m\u001b[1;33m(\u001b[0m\u001b[0mx\u001b[0m\u001b[1;33m)\u001b[0m\u001b[1;33m)\u001b[0m\u001b[1;33m\u001b[0m\u001b[0m\n\u001b[0m\u001b[0;32m      7\u001b[0m     \u001b[1;32massert\u001b[0m \u001b[0misinstance\u001b[0m\u001b[1;33m(\u001b[0m\u001b[0my\u001b[0m\u001b[1;33m,\u001b[0m \u001b[0mint\u001b[0m\u001b[1;33m)\u001b[0m\u001b[1;33m,\u001b[0m \u001b[1;34m\"We require second argument to be int, got %s instead\"\u001b[0m \u001b[1;33m%\u001b[0m\u001b[1;33m(\u001b[0m\u001b[0mtype\u001b[0m\u001b[1;33m(\u001b[0m\u001b[0mx\u001b[0m\u001b[1;33m)\u001b[0m\u001b[1;33m)\u001b[0m\u001b[1;33m\u001b[0m\u001b[0m\n\u001b[0;32m      8\u001b[0m     \u001b[1;31m# check that y <= x\u001b[0m\u001b[1;33m\u001b[0m\u001b[1;33m\u001b[0m\u001b[0m\n",
        "\u001b[1;31mAssertionError\u001b[0m: We require first argument to be int, got <type 'float'> instead"
       ]
      }
     ],
     "prompt_number": 42
    },
    {
     "cell_type": "markdown",
     "metadata": {},
     "source": [
      "## Composition\n",
      "As you should expect by now, you can call one function from within another. This ability\n",
      "is called composition."
     ]
    },
    {
     "cell_type": "code",
     "collapsed": false,
     "input": [
      "from __future__ import print_function\n",
      "\n",
      "# create a decorator\n",
      "def named(func):\n",
      "    def print_func_name(*args, **kwargs):\n",
      "        print(\"The function name is\", func.__name__)\n",
      "        res = func(*args, **kwargs)\n",
      "        return res\n",
      "    return print_func_name\n",
      "\n",
      "# @named\n",
      "def some_name():\n",
      "    \n",
      "    print(\"Inside some_name\")\n",
      "    \n",
      "# some_name()\n",
      "\n",
      "g=  named(some_name)\n",
      "g()\n",
      "\n",
      "\n",
      "import time\n",
      "\n",
      "def timed(func):\n",
      "    def print_time(*args, **kwargs):\n",
      "        start = time.time()\n",
      "        res = func(*args, **kwargs)\n",
      "        finish = time.time()\n",
      "        print(\"Function name: %s Execution time: %.2f sec\" %(func.__name__, finish - start))\n",
      "        return res\n",
      "    return print_time\n",
      "\n",
      "@timed\n",
      "def increment(xs):\n",
      "    for i in range(len(xs)):\n",
      "        xs[i] += 10\n",
      "    return xs\n",
      "\n",
      "@timed\n",
      "def multiply(xs, ys):\n",
      "    zs = []\n",
      "    for i in range(len(xs)):\n",
      "        zs.append(xs[i]*ys[i])\n",
      "        \n",
      "    return zs\n",
      "        \n",
      "multiply(range(10**6), range(10**6))\n",
      "increment(range(10**8))"
     ],
     "language": "python",
     "metadata": {},
     "outputs": [
      {
       "output_type": "stream",
       "stream": "stdout",
       "text": [
        "The function name is some_name\n",
        "Inside some_name\n",
        "Function name: multiply Execution time: 0.16 sec"
       ]
      }
     ]
    },
    {
     "cell_type": "markdown",
     "metadata": {},
     "source": [
      "## Boolean functions\n",
      "Functions can return boolean values that is 0 and 1. "
     ]
    },
    {
     "cell_type": "code",
     "collapsed": false,
     "input": [
      "def in_between(x, m, M):\n",
      "    if m < x < M:\n",
      "        return True\n",
      "    return False"
     ],
     "language": "python",
     "metadata": {},
     "outputs": [],
     "prompt_number": 22
    },
    {
     "cell_type": "markdown",
     "metadata": {},
     "source": [
      "##More recursion\n",
      "A recursive definition is similar to a circular de\ufb01nition, in the sense that the de\ufb01nition contains a reference to the thing being\n",
      "de\ufb01ned.\n"
     ]
    },
    {
     "cell_type": "code",
     "collapsed": false,
     "input": [
      "def reduce_sum_func(xs, acc):\n",
      "    assert isinstance(xs, list), \"First argument should be of type list, got %s instead\" %(type(xs))\n",
      "    if len(xs) == 0:\n",
      "        return acc\n",
      "    else:\n",
      "        return reduce_sum_func(xs[:len(xs)-1], acc + xs[len(xs)-1])"
     ],
     "language": "python",
     "metadata": {},
     "outputs": [],
     "prompt_number": 27
    },
    {
     "cell_type": "markdown",
     "metadata": {},
     "source": [
      " ##Checking types\n",
      " We can use the built-in function ***isinstance*** to verify the type of the argument. W"
     ]
    },
    {
     "cell_type": "code",
     "collapsed": false,
     "input": [
      "xs = [1,2,3]\n",
      "print(isinstance(xs, list))\n",
      "xs = set([1,2,3])\n",
      "print(isinstance(xs, list))\n",
      "xs = tuple([1,2,3])\n",
      "print(isinstance(xs, list))"
     ],
     "language": "python",
     "metadata": {},
     "outputs": [],
     "prompt_number": 29
    }
   ],
   "metadata": {}
  }
 ]
}