{
 "metadata": {
  "name": "",
  "signature": "sha256:a0a1ebb72151bf2f4d85580f37cceb3f70d2a5b13daf0e8a8c35dc1faff99ac9"
 },
 "nbformat": 3,
 "nbformat_minor": 0,
 "worksheets": [
  {
   "cells": [
    {
     "cell_type": "markdown",
     "metadata": {},
     "source": [
      "##Return Values\n",
      "We have seen the restart statement before, but in a fruitful function the restart statement\n",
      "includes an expression. This statement means: \u201cReturn immediately from this function\n",
      "and use the following expression as a return value.\u201d "
     ]
    },
    {
     "cell_type": "code",
     "collapsed": false,
     "input": [
      "def f(x):\n",
      "    def g(y):\n",
      "        return x*y**2\n",
      "    return g\n",
      "\n",
      "def print_f(iterations):\n",
      "    for i in range(iterations):\n",
      "        print(i)\n",
      "        return('Return after the first iteration')\n",
      "\n",
      "def is_there_negative(xs):\n",
      "    for x in xs:\n",
      "        if x < 0:\n",
      "            print(\"Yes, there is a negative number.\")\n",
      "            break\n",
      "    else:\n",
      "        print(\"No, there is not a negative number.\")"
     ],
     "language": "python",
     "metadata": {},
     "outputs": [],
     "prompt_number": 34
    },
    {
     "cell_type": "markdown",
     "metadata": {},
     "source": [
      "##Incremental development\n",
      "The key aspects of the process are:\n",
      "1. Start with a working program and make small incremental changes. At any point, if\n",
      "there is an error, you should have a good idea where it is.\n",
      "2. Use temporary variables to hold intermediate values so you can display and check\n",
      "them.\n",
      "3. Once the program is working, you might want to remove some of the scaffolding or\n",
      "consolidate multiple statements into compound expressions, but only if it does not\n",
      "make the program dif\ufb01cult to read.\n"
     ]
    },
    {
     "cell_type": "code",
     "collapsed": false,
     "input": [
      "def multipliers_of_x_up_to_y(x,y):\n",
      "    '''Finds multipliers of x that are no greater than y.\n",
      "    '''\n",
      "    # check that y <= x\n",
      "    assert y <= x, \"Second argument %s should be no greater than the first argument %s\" %(x,y)\n",
      "    # check for types\n",
      "    assert isinstance(x, int), \"We require first argument to be int, got %s instead\" %(type(x))\n",
      "    assert isinstance(y, int), \"We require second argument to be int, got %s instead\" %(type(x))\n",
      "    \n",
      "    return \n",
      "\n",
      "multipliers_of_x_up_to_y(3., 2)"
     ],
     "language": "python",
     "metadata": {},
     "outputs": [],
     "prompt_number": 9
    },
    {
     "cell_type": "markdown",
     "metadata": {},
     "source": [
      "## Composition\n",
      "As you should expect by now, you can call one function from within another. This ability\n",
      "is called composition."
     ]
    },
    {
     "cell_type": "code",
     "collapsed": false,
     "input": [
      "from __future__ import print_function\n",
      "\n",
      "# create a decorator\n",
      "def named(func):\n",
      "    def print_func_name(*args, **kwargs):\n",
      "        print(\"The function name is\", func.__name__)\n",
      "        res = func(*args, **kwargs)\n",
      "        return res\n",
      "    return print_func_name\n",
      "\n",
      "@named\n",
      "def some_name():\n",
      "    print(\"Inside some_name\")"
     ],
     "language": "python",
     "metadata": {},
     "outputs": [],
     "prompt_number": 17
    },
    {
     "cell_type": "markdown",
     "metadata": {},
     "source": [
      "## Boolean functions\n",
      "Functions can return boolean values that is 0 and 1. "
     ]
    },
    {
     "cell_type": "code",
     "collapsed": false,
     "input": [
      "def in_between(x, m, M):\n",
      "    if m < x < M:\n",
      "        return True\n",
      "    return False"
     ],
     "language": "python",
     "metadata": {},
     "outputs": [],
     "prompt_number": 22
    },
    {
     "cell_type": "markdown",
     "metadata": {},
     "source": [
      "##More recursion\n",
      "A recursive definition is similar to a circular de\ufb01nition, in the sense that the de\ufb01nition contains a reference to the thing being\n",
      "de\ufb01ned.\n"
     ]
    },
    {
     "cell_type": "code",
     "collapsed": false,
     "input": [
      "def reduce_sum_func(xs, acc):\n",
      "    assert isinstance(xs, list), \"First argument should be of type list, got %s instead\" %(type(xs))\n",
      "    if len(xs) == 0:\n",
      "        return acc\n",
      "    else:\n",
      "        return reduce_sum_func(xs[:len(xs)-1], acc + xs[len(xs)-1])"
     ],
     "language": "python",
     "metadata": {},
     "outputs": [],
     "prompt_number": 27
    },
    {
     "cell_type": "markdown",
     "metadata": {},
     "source": [
      " ##Checking types\n",
      " We can use the built-in function ***isinstance*** to verify the type of the argument. W"
     ]
    },
    {
     "cell_type": "code",
     "collapsed": false,
     "input": [
      "xs = [1,2,3]\n",
      "print(isinstance(xs, list))\n",
      "xs = set([1,2,3])\n",
      "print(isinstance(xs, list))\n",
      "xs = tuple([1,2,3])\n",
      "print(isinstance(xs, list))"
     ],
     "language": "python",
     "metadata": {},
     "outputs": [],
     "prompt_number": 29
    }
   ],
   "metadata": {}
  }
 ]
}