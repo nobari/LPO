{
 "metadata": {
  "name": "",
  "signature": "sha256:361128dee6952b749d577579be452acec3d2c99d0ec5c57f3287ae4983f64e14"
 },
 "nbformat": 3,
 "nbformat_minor": 0,
 "worksheets": [
  {
   "cells": [
    {
     "cell_type": "markdown",
     "metadata": {},
     "source": [
      "1) How to print last char of a string?\n",
      "\n",
      "2) What is traversal?\n",
      "\n",
      "3) Write a function that prints only half of the word\n",
      "\n",
      "4) Write a function that checks the string for a censored word (you pick one). If this word is found, function replaces it with \"###\".\n",
      "\n",
      "5) Write a function that takes your surname as an argument and outputs the string with your Surname in reverse: \"Surname_emanruS\"."
     ]
    }
   ],
   "metadata": {}
  }
 ]
}