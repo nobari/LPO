{
 "metadata": {
  "name": "",
  "signature": "sha256:62ef483950be05b9bd1f5280641ba915b64437af15f593e2e1ceb69e426461c0"
 },
 "nbformat": 3,
 "nbformat_minor": 0,
 "worksheets": [
  {
   "cells": [
    {
     "cell_type": "heading",
     "level": 1,
     "metadata": {},
     "source": [
      "7 Questions"
     ]
    },
    {
     "cell_type": "markdown",
     "metadata": {},
     "source": [
      "1) What is multiple assignment? Give an example.\n",
      "\n",
      "2) Write one code example for each update operator : +=, -=, =, /=, //=, *=, %=. The result of each operation should be equal to your day of birth. E.g. (31.07.1990 - my birthday): "
     ]
    },
    {
     "cell_type": "code",
     "collapsed": false,
     "input": [
      "x = 32\n",
      "x -= 1\n",
      "print x\n",
      "\n",
      "x = 31\n",
      "x %= 63\n",
      "print x "
     ],
     "language": "python",
     "metadata": {},
     "outputs": [
      {
       "output_type": "stream",
       "stream": "stdout",
       "text": [
        "31\n",
        "31\n"
       ]
      }
     ],
     "prompt_number": 6
    },
    {
     "cell_type": "markdown",
     "metadata": {},
     "source": [
      "3) What value should the while condition have to exit the loop? "
     ]
    },
    {
     "cell_type": "markdown",
     "metadata": {},
     "source": [
      "4) How to compute square roots in Python without using math.sqrt() function?"
     ]
    },
    {
     "cell_type": "markdown",
     "metadata": {},
     "source": [
      "5) Practicing algorithms. Write a program that shows how many Skoltech ECTS you have for now. And recommends - how many courses you still have to take to meet the degree requirements. "
     ]
    }
   ],
   "metadata": {}
  }
 ]
}