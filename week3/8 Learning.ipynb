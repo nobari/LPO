{
 "metadata": {
  "name": "",
  "signature": "sha256:8270c0971e73de5b177e1e310cb9f3d8ac02cf9f5eee12c2c04d356b3b03c4b0"
 },
 "nbformat": 3,
 "nbformat_minor": 0,
 "worksheets": [
  {
   "cells": [
    {
     "cell_type": "heading",
     "level": 2,
     "metadata": {},
     "source": [
      "A string is a sequence"
     ]
    },
    {
     "cell_type": "markdown",
     "metadata": {},
     "source": [
      "A string is a sequence of characters. You can access the characters one at a time with the bracket operator. The expression in brackets is an integer and called an index:"
     ]
    },
    {
     "cell_type": "code",
     "collapsed": false,
     "input": [
      "uni = 'Skoltech'\n",
      "print uni[4], uni[0], uni[len(uni)-1]"
     ],
     "language": "python",
     "metadata": {},
     "outputs": [
      {
       "output_type": "stream",
       "stream": "stdout",
       "text": [
        " t S h\n"
       ]
      }
     ],
     "prompt_number": 10
    },
    {
     "cell_type": "heading",
     "level": 2,
     "metadata": {},
     "source": [
      "len"
     ]
    },
    {
     "cell_type": "markdown",
     "metadata": {},
     "source": [
      "len is a built-in function that returns the number of characters in a string:"
     ]
    },
    {
     "cell_type": "code",
     "collapsed": false,
     "input": [
      "uni = 'Skoltech'\n",
      "print len(uni), uni[len(uni)-1]"
     ],
     "language": "python",
     "metadata": {},
     "outputs": [
      {
       "output_type": "stream",
       "stream": "stdout",
       "text": [
        "8 h\n"
       ]
      }
     ],
     "prompt_number": 11
    },
    {
     "cell_type": "heading",
     "level": 2,
     "metadata": {},
     "source": [
      "Traversal with a for loop"
     ]
    },
    {
     "cell_type": "markdown",
     "metadata": {},
     "source": [
      "A lot of computations involve processing a string one character at a time. Often they start at the beginning, select each character in turn, do something to it, and continue until the end. This pattern of processing is called a traversal. One way to write a traversal is with a while loop:"
     ]
    },
    {
     "cell_type": "code",
     "collapsed": false,
     "input": [
      "index = 0\n",
      "while index < len(uni):\n",
      "    letter = uni[index]\n",
      "    print letter\n",
      "    index = index + 1"
     ],
     "language": "python",
     "metadata": {},
     "outputs": [
      {
       "output_type": "stream",
       "stream": "stdout",
       "text": [
        "S\n",
        "k\n",
        "o\n",
        "l\n",
        "t\n",
        "e\n",
        "c\n",
        "h\n"
       ]
      }
     ],
     "prompt_number": 12
    },
    {
     "cell_type": "markdown",
     "metadata": {},
     "source": [
      "This loop traverses the string and displays each letter on a line by itself. The loop condition is index < len(fruit), so when index is equal to the length of the string, the condition is false, and the body of the loop is not executed. The last character accessed is the one with the index len(fruit)-1, which is the last character in the string."
     ]
    },
    {
     "cell_type": "markdown",
     "metadata": {},
     "source": [
      "Another way to write a traversal is with a for loop:"
     ]
    },
    {
     "cell_type": "code",
     "collapsed": false,
     "input": [
      "for char in uni:\n",
      "    print char"
     ],
     "language": "python",
     "metadata": {},
     "outputs": [
      {
       "output_type": "stream",
       "stream": "stdout",
       "text": [
        "S\n",
        "k\n",
        "o\n",
        "l\n",
        "t\n",
        "e\n",
        "c\n",
        "h\n"
       ]
      }
     ],
     "prompt_number": 13
    },
    {
     "cell_type": "markdown",
     "metadata": {},
     "source": [
      "Each time through the loop, the next character in the string is assigned to the variable char. The loop continues until no characters are left."
     ]
    },
    {
     "cell_type": "heading",
     "level": 2,
     "metadata": {},
     "source": [
      "String slices"
     ]
    },
    {
     "cell_type": "markdown",
     "metadata": {},
     "source": [
      "A segment of a string is called a slice. Selecting a slice is similar to selecting a character:"
     ]
    },
    {
     "cell_type": "code",
     "collapsed": false,
     "input": [
      "s = 'Jack is a cowboy'\n",
      "print s[0:10] + s[len(s)-3:]\n",
      "print s[3:]\n",
      "print s[:]"
     ],
     "language": "python",
     "metadata": {},
     "outputs": [
      {
       "output_type": "stream",
       "stream": "stdout",
       "text": [
        "Jack is a boy\n",
        "k is a cowboy\n",
        "Jack is a cowboy\n"
       ]
      }
     ],
     "prompt_number": 20
    },
    {
     "cell_type": "markdown",
     "metadata": {},
     "source": [
      "The operator [n:m] - returns the part of the string from the \u201cn-eth\u201d character to the \u201cm-eth\u201d character, including the first but excluding the last (as we already know, counting in strings starts from 0). \n",
      "\n",
      "The operator [n:] - returns everything from n till the end.\n",
      "\n",
      "The operator [:m] - returns everything till m.\n",
      "\n",
      "The operator [:] - returns the whole string."
     ]
    },
    {
     "cell_type": "heading",
     "level": 2,
     "metadata": {},
     "source": [
      "Strings are immutable"
     ]
    },
    {
     "cell_type": "markdown",
     "metadata": {},
     "source": [
      "It is tempting to use the [] operator on the left side of an assignment, with the intention of changing a character in a string. For example:"
     ]
    },
    {
     "cell_type": "code",
     "collapsed": false,
     "input": [
      "greeting = 'Hello, world!'\n",
      "greeting[0] = 'J'"
     ],
     "language": "python",
     "metadata": {},
     "outputs": [
      {
       "ename": "TypeError",
       "evalue": "'str' object does not support item assignment",
       "output_type": "pyerr",
       "traceback": [
        "\u001b[1;31m---------------------------------------------------------------------------\u001b[0m\n\u001b[1;31mTypeError\u001b[0m                                 Traceback (most recent call last)",
        "\u001b[1;32m<ipython-input-21-230884f26c44>\u001b[0m in \u001b[0;36m<module>\u001b[1;34m()\u001b[0m\n\u001b[0;32m      1\u001b[0m \u001b[0mgreeting\u001b[0m \u001b[1;33m=\u001b[0m \u001b[1;34m'Hello, world!'\u001b[0m\u001b[1;33m\u001b[0m\u001b[0m\n\u001b[1;32m----> 2\u001b[1;33m \u001b[0mgreeting\u001b[0m\u001b[1;33m[\u001b[0m\u001b[1;36m0\u001b[0m\u001b[1;33m]\u001b[0m \u001b[1;33m=\u001b[0m \u001b[1;34m'J'\u001b[0m\u001b[1;33m\u001b[0m\u001b[0m\n\u001b[0m",
        "\u001b[1;31mTypeError\u001b[0m: 'str' object does not support item assignment"
       ]
      }
     ],
     "prompt_number": 21
    },
    {
     "cell_type": "markdown",
     "metadata": {},
     "source": [
      "The \u201cobject\u201d in this case is the string and the \u201citem\u201d is the character you tried to assign. For now, an object is the same thing as a value, but we will refine that definition later. An item is one of the values in a sequence.\n",
      "\n",
      "The reason for the error is that strings are immutable, which means you can\u2019t change an existing string. The best you can do is create a new string that is a variation on the original:"
     ]
    },
    {
     "cell_type": "code",
     "collapsed": false,
     "input": [
      "greeting = 'Hello, world!'\n",
      "new_greeting = 'J' + greeting[1:]\n",
      "print new_greeting"
     ],
     "language": "python",
     "metadata": {},
     "outputs": [
      {
       "output_type": "stream",
       "stream": "stdout",
       "text": [
        "Jello, world!\n"
       ]
      }
     ],
     "prompt_number": 22
    },
    {
     "cell_type": "heading",
     "level": 2,
     "metadata": {},
     "source": [
      "Searching"
     ]
    },
    {
     "cell_type": "code",
     "collapsed": false,
     "input": [
      "def find(word, letter):\n",
      "    index = 0\n",
      "    while index < len(word):\n",
      "        if word[index] == letter:\n",
      "            return index\n",
      "        index = index + 1\n",
      "    return -1\n",
      "find('karaoke', 'a')"
     ],
     "language": "python",
     "metadata": {},
     "outputs": [
      {
       "metadata": {},
       "output_type": "pyout",
       "prompt_number": 24,
       "text": [
        "1"
       ]
      }
     ],
     "prompt_number": 24
    },
    {
     "cell_type": "markdown",
     "metadata": {},
     "source": [
      "In a sense, find is the opposite of the [] operator. Instead of taking an index and extracting the corresponding character, it takes a character and finds the index where that character appears. If the character is not found, the function returns -1."
     ]
    },
    {
     "cell_type": "code",
     "collapsed": false,
     "input": [
      "def find_all(word, letter):\n",
      "    index = 0\n",
      "    global result \n",
      "    result = []\n",
      "    while index < len(word):\n",
      "        if word[index] == letter:\n",
      "             result.append(index)\n",
      "        index = index + 1\n",
      "    print result\n",
      "\n",
      "find_all('abrakadabra', 'a')\n",
      "\n",
      "x = result[1]\n",
      "print x"
     ],
     "language": "python",
     "metadata": {},
     "outputs": [
      {
       "output_type": "stream",
       "stream": "stdout",
       "text": [
        "[0, 3, 5, 7, 10]\n",
        "3\n"
       ]
      }
     ],
     "prompt_number": 36
    },
    {
     "cell_type": "heading",
     "level": 2,
     "metadata": {},
     "source": [
      "Looping and counting"
     ]
    },
    {
     "cell_type": "markdown",
     "metadata": {},
     "source": [
      "The following program counts the number of times the letter a appears in a string:"
     ]
    },
    {
     "cell_type": "code",
     "collapsed": false,
     "input": [
      "word = 'entrepreneur'\n",
      "count = 0\n",
      "for letter in word:\n",
      "    if letter == 'e':\n",
      "        count = count + 1\n",
      "print count"
     ],
     "language": "python",
     "metadata": {},
     "outputs": [
      {
       "output_type": "stream",
       "stream": "stdout",
       "text": [
        "4\n"
       ]
      }
     ],
     "prompt_number": 38
    },
    {
     "cell_type": "markdown",
     "metadata": {},
     "source": [
      "This program demonstrates another pattern of computation called a counter. The variable count is initialized to 0 and then incremented each time an a is found. When the loop exits, count contains the result\u2014the total number of a\u2019s."
     ]
    },
    {
     "cell_type": "heading",
     "level": 2,
     "metadata": {},
     "source": [
      "String methods"
     ]
    },
    {
     "cell_type": "markdown",
     "metadata": {},
     "source": [
      "A method is similar to a function\u2014it takes arguments and returns a value\u2014but the syntax is different. For example, the method upper takes a string and returns a new string with all uppercase letters:\n",
      "Instead of the function syntax upper(word), it uses the method syntax word.upper()."
     ]
    },
    {
     "cell_type": "code",
     "collapsed": false,
     "input": [
      "word = 'banana'\n",
      "new_word = word.upper()\n",
      "print new_word"
     ],
     "language": "python",
     "metadata": {},
     "outputs": [
      {
       "output_type": "stream",
       "stream": "stdout",
       "text": [
        "BANANA\n"
       ]
      }
     ],
     "prompt_number": 39
    },
    {
     "cell_type": "markdown",
     "metadata": {},
     "source": [
      "This form of dot notation specifies the name of the method, upper, and the name of the string to apply the method to, word. The empty parentheses indicate that this method takes no argument.\n",
      "A method call is called an invocation; in this case, we would say that we are invoking upper on the word."
     ]
    },
    {
     "cell_type": "markdown",
     "metadata": {},
     "source": [
      "All String Methods can be found here:\n",
      "\n",
      "https://docs.python.org/2/library/stdtypes.html#string-methods"
     ]
    },
    {
     "cell_type": "code",
     "collapsed": false,
     "input": [
      "s = \"The glass is half empty.\" \n",
      "new_s = s.replace(\"empty\",\"full\")\n",
      "print s"
     ],
     "language": "python",
     "metadata": {},
     "outputs": [
      {
       "output_type": "stream",
       "stream": "stdout",
       "text": [
        "The glass is half empty.\n"
       ]
      }
     ],
     "prompt_number": 43
    },
    {
     "cell_type": "heading",
     "level": 2,
     "metadata": {},
     "source": [
      "The in operator"
     ]
    },
    {
     "cell_type": "markdown",
     "metadata": {},
     "source": [
      "The word in is a boolean operator that takes two strings and returns True if the first appears as a substring in the second"
     ]
    },
    {
     "cell_type": "code",
     "collapsed": false,
     "input": [
      "\"leo\" in \"bamboleo\""
     ],
     "language": "python",
     "metadata": {},
     "outputs": [
      {
       "metadata": {},
       "output_type": "pyout",
       "prompt_number": 44,
       "text": [
        "True"
       ]
      }
     ],
     "prompt_number": 44
    },
    {
     "cell_type": "code",
     "collapsed": false,
     "input": [
      "\"Python\" in \"bamboleo\""
     ],
     "language": "python",
     "metadata": {},
     "outputs": [
      {
       "metadata": {},
       "output_type": "pyout",
       "prompt_number": 45,
       "text": [
        "False"
       ]
      }
     ],
     "prompt_number": 45
    },
    {
     "cell_type": "markdown",
     "metadata": {},
     "source": [
      "For example, the following function prints all the letters from word1 that also appear in word2:"
     ]
    },
    {
     "cell_type": "code",
     "collapsed": false,
     "input": [
      "def in_both(word1, word2):\n",
      "    for letter in word1:\n",
      "        if letter in word2:\n",
      "            print letter\n",
      "in_both(\"Skolkovo\", \"Skoltech\")"
     ],
     "language": "python",
     "metadata": {},
     "outputs": [
      {
       "output_type": "stream",
       "stream": "stdout",
       "text": [
        "S\n",
        "k\n",
        "o\n",
        "l\n",
        "k\n",
        "o\n",
        "o\n"
       ]
      }
     ],
     "prompt_number": 47
    },
    {
     "cell_type": "markdown",
     "metadata": {},
     "source": [
      "With well-chosen variable names, Python sometimes reads like English. You could read this loop, \u201cfor (each) letter in (the first) word, if (the) letter (appears) in (the second) word, print (the) letter.\u201d"
     ]
    },
    {
     "cell_type": "heading",
     "level": 2,
     "metadata": {},
     "source": [
      "String comparison"
     ]
    },
    {
     "cell_type": "markdown",
     "metadata": {},
     "source": [
      "The relational operators work on strings. To see if two strings are equal:"
     ]
    },
    {
     "cell_type": "code",
     "collapsed": false,
     "input": [
      "word = \"new\"\n",
      "if word == 'new':\n",
      "    print 'All right, newbies.'"
     ],
     "language": "python",
     "metadata": {},
     "outputs": [
      {
       "output_type": "stream",
       "stream": "stdout",
       "text": [
        "All right, newbies.\n"
       ]
      }
     ],
     "prompt_number": 48
    },
    {
     "cell_type": "markdown",
     "metadata": {},
     "source": [
      "Other relational operations are useful for putting words in alphabetical order:"
     ]
    },
    {
     "cell_type": "code",
     "collapsed": false,
     "input": [
      "\"banana\" < \"Banana\""
     ],
     "language": "python",
     "metadata": {},
     "outputs": [
      {
       "metadata": {},
       "output_type": "pyout",
       "prompt_number": 51,
       "text": [
        "False"
       ]
      }
     ],
     "prompt_number": 51
    },
    {
     "cell_type": "heading",
     "level": 2,
     "metadata": {},
     "source": [
      "Order: z, y, x, ..., a, Z, Y, X, ..., A, "
     ]
    },
    {
     "cell_type": "code",
     "collapsed": false,
     "input": [
      "\"Apple\" < \"Zoo\""
     ],
     "language": "python",
     "metadata": {},
     "outputs": [
      {
       "metadata": {},
       "output_type": "pyout",
       "prompt_number": 66,
       "text": [
        "True"
       ]
      }
     ],
     "prompt_number": 66
    },
    {
     "cell_type": "code",
     "collapsed": false,
     "input": [
      "\"Z\" > \"A\""
     ],
     "language": "python",
     "metadata": {},
     "outputs": [
      {
       "metadata": {},
       "output_type": "pyout",
       "prompt_number": 68,
       "text": [
        "True"
       ]
      }
     ],
     "prompt_number": 68
    },
    {
     "cell_type": "code",
     "collapsed": false,
     "input": [
      "\"Z\" < \"z\""
     ],
     "language": "python",
     "metadata": {},
     "outputs": [
      {
       "metadata": {},
       "output_type": "pyout",
       "prompt_number": 69,
       "text": [
        "True"
       ]
      }
     ],
     "prompt_number": 69
    },
    {
     "cell_type": "code",
     "collapsed": false,
     "input": [
      "\"z\" < \"a\""
     ],
     "language": "python",
     "metadata": {},
     "outputs": [
      {
       "metadata": {},
       "output_type": "pyout",
       "prompt_number": 64,
       "text": [
        "False"
       ]
      }
     ],
     "prompt_number": 64
    },
    {
     "cell_type": "code",
     "collapsed": false,
     "input": [
      "\"X\" < \"x\""
     ],
     "language": "python",
     "metadata": {},
     "outputs": [
      {
       "metadata": {},
       "output_type": "pyout",
       "prompt_number": 70,
       "text": [
        "True"
       ]
      }
     ],
     "prompt_number": 70
    },
    {
     "cell_type": "markdown",
     "metadata": {},
     "source": [
      "When operating with strings it is better to convert strings to a standard format, such as all lowercase, before performing the comparison. "
     ]
    }
   ],
   "metadata": {}
  }
 ]
}