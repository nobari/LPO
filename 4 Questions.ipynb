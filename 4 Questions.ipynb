{
 "metadata": {
  "name": "",
  "signature": "sha256:90e2e01909bb93f626071638f0ff891fd74701d50e33f95e76b3ee6c40f5a8b4"
 },
 "nbformat": 3,
 "nbformat_minor": 0,
 "worksheets": [
  {
   "cells": [
    {
     "cell_type": "markdown",
     "metadata": {},
     "source": [
      "1. What is package?\n",
      "2. What is module? How does it look like?\n",
      "3. Write appropriate specifications (=docstrings) for polygon, arc, circle\n",
      "4. What is encapsulation?\n",
      "5. What is the difference in turtle behavior when drawing the square using for loop and using function?\n",
      "6. What was the reason to add one more parameter to square function?\n",
      "7. What is refactoring?\n",
      "8. Why we decided to use refactoring with the code for arc function?\n",
      "9. What is our set of functions after refactoring?\n",
      "10. The letters of the alphabet can be constructed from a moderate number of basic elements, like vertical and horizontal lines and a few curves. Design a font that can be drawn with a minimal number of basic elements and then write functions that draw letters of the alphabet. Pick up 4 (ONLY 4) letters (2 vowels and 2 consonants) to work with. Write one function for each letter, with names draw_a, draw_b, etc. PLEASE DO NOT WRITE CODE FOR ALL ALPHABET LETTERS! ONLY FOUR! You can use alphabeth of any language you like."
     ]
    }
   ],
   "metadata": {}
  }
 ]
}