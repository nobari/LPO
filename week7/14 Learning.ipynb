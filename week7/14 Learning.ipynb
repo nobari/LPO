{
 "metadata": {
  "name": "",
  "signature": "sha256:fdcce84fa90dfa330b34f0d4e39eea870523cbedca1269230e1352f0b7c001fb"
 },
 "nbformat": 3,
 "nbformat_minor": 0,
 "worksheets": [
  {
   "cells": [
    {
     "cell_type": "markdown",
     "metadata": {},
     "source": [
      "##Persistence\n",
      "Files are persistent object meaning that they exist even when no used. Thus, you should close file when you are done with it. "
     ]
    },
    {
     "cell_type": "code",
     "collapsed": false,
     "input": [
      "f = open('./me.txt', 'w+') \n",
      "f.write('first string')\n",
      "f.close()"
     ],
     "language": "python",
     "metadata": {},
     "outputs": [],
     "prompt_number": 3
    },
    {
     "cell_type": "markdown",
     "metadata": {},
     "source": [
      "r - reading\n",
      "\n",
      "w - writing\n",
      "\n",
      "a - append\n",
      "\n",
      "b - binary\n",
      "\n",
      "+: \n",
      "    \n",
      "r+ -- reading/writing with throwing exception if no file exists\n",
      "\n",
      "w+ -- reading/writing create file if doesnt exists and overwrite if it exists\n",
      "\n",
      "a+ -- reading/writing open file (no matter exists or not) with the cursor at the end of it\n",
      "\n",
      "When a file is opened with **r+**, you add content starting from the beginning of the file. So you'll start overwriting content with new information. "
     ]
    },
    {
     "cell_type": "markdown",
     "metadata": {},
     "source": [
      "##Writing and Reading File\n",
      "There are different modes for input/output work with file."
     ]
    },
    {
     "cell_type": "code",
     "collapsed": false,
     "input": [
      "\n",
      "# open just for reading\n",
      "f = open('newfile.txt', 'r')\n",
      "# open just for writing\n",
      "f = open('file1.txt', 'w')\n",
      "f.write('1 2\\n')\n",
      "# open to append to the end of a file\n",
      "f = open('file1.txt', 'a')\n",
      "\n",
      "# Note: use \\n as a default carriage return "
     ],
     "language": "python",
     "metadata": {},
     "outputs": [],
     "prompt_number": 2
    },
    {
     "cell_type": "markdown",
     "metadata": {},
     "source": [
      "##Catching exceptions\n",
      "Use *with* operator to avoid exceptions. It closes the file even if there is an exception encountered. "
     ]
    },
    {
     "cell_type": "code",
     "collapsed": false,
     "input": [
      "with open('file1.txt') as f:\n",
      "    content = f.read()\n",
      "    print(content)\n",
      "    for line in f:\n",
      "        print(line)\n",
      "    f.seek(1)\n"
     ],
     "language": "python",
     "metadata": {},
     "outputs": [
      {
       "output_type": "stream",
       "stream": "stdout",
       "text": [
        "1 2\n",
        "\n"
       ]
      }
     ],
     "prompt_number": 4
    },
    {
     "cell_type": "markdown",
     "metadata": {},
     "source": [
      "##Looking for files\n",
      "In cases when you need to check the presence of a file in a folder, you can use *os* library. "
     ]
    },
    {
     "cell_type": "code",
     "collapsed": false,
     "input": [
      "import os\n",
      "print os.getcwd()\n",
      "cwd = os.getcwd()\n",
      "print os.listdir(cwd)"
     ],
     "language": "python",
     "metadata": {},
     "outputs": [
      {
       "output_type": "stream",
       "stream": "stdout",
       "text": [
        "/home/sergey/studies/online python\n",
        "['.ipynb_checkpoints', '10 Questions - Rodichenko.ipynb', '[6 Questions.ipynb][Prilepskiy].py', '6_Answers.ipynb', 'Chapter 9 Solutions S. Ivanov Lists.ipynb', 'Chapter 9 Lecture S. Ivanov Lists.ipynb', 'Chapter 14 Files Lecture S. Ivanov.ipynb', '12 Questions S. Ivanov.ipynb', 'file1.txt', 'Q6 - Rodichenko.ipynb', 'newfile.txt', 'Chapter 6 Lecture S. Ivanov.ipynb', 'Untitled0.ipynb', 'Answers_10.ipynb', 'Chapter 6 Solutions S. Ivanov.ipynb', 'Chapter 14 Files Assignment S. Ivanov.ipynb', 'task2.py', 'Chapter 9 Assignments S. Ivanov Lists.ipynb']\n"
       ]
      }
     ],
     "prompt_number": 5
    },
    {
     "cell_type": "markdown",
     "metadata": {},
     "source": [
      "##Pickle\n",
      "Pickle is a library that allows you to transform different types of data (dictionaries, tuples, classes, etc.) into a string format such that you can write it ot the file. There are analogues such as json or xml for common data structures."
     ]
    },
    {
     "cell_type": "code",
     "collapsed": false,
     "input": [
      "import pickle\n",
      "d = pickle.dumps([1,2,3, 'Str'])\n",
      "print(d.replace('\\n','\\\\n'))\n",
      "ud = pickle.loads(d)\n",
      "print ud"
     ],
     "language": "python",
     "metadata": {},
     "outputs": [
      {
       "output_type": "stream",
       "stream": "stdout",
       "text": [
        "(lp0\\nI1\\naI2\\naI3\\naS'Str'\\np1\\na.\n",
        "[1, 2, 3, 'Str']\n"
       ]
      }
     ],
     "prompt_number": 8
    },
    {
     "cell_type": "markdown",
     "metadata": {},
     "source": [
      "##Pipes\n",
      "You can use python to run shell commands withtin the code by using pipes -- an object that represents a running program."
     ]
    },
    {
     "cell_type": "code",
     "collapsed": false,
     "input": [
      "cmd = 'ls -l'\n",
      "fp = os.popen(cmd)\n",
      "print(fp.read())"
     ],
     "language": "python",
     "metadata": {},
     "outputs": [
      {
       "output_type": "stream",
       "stream": "stdout",
       "text": [
        "total 128\n",
        "-rw-r----- 1 sergey sergey  8454 Oct 30 19:44 10 Questions - Rodichenko.ipynb\n",
        "-rw-r----- 1 sergey sergey 10411 Nov  5 12:08 12 Questions S. Ivanov.ipynb\n",
        "-rw-r----- 1 sergey sergey  4042 Oct 22 12:19 6_Answers.ipynb\n",
        "-rw-r----- 1 sergey sergey   559 Oct 22 12:25 [6 Questions.ipynb][Prilepskiy].py\n",
        "-rw-r----- 1 sergey sergey  7065 Oct 30 09:37 Answers_10.ipynb\n",
        "-rw-r--r-- 1 sergey sergey  4456 Nov 19 16:26 Chapter 14 Files Lecture S. Ivanov.ipynb\n",
        "-rw-r--r-- 1 sergey sergey 10851 Oct 18 18:55 Chapter 6 Lecture S. Ivanov.ipynb\n",
        "-rw-r--r-- 1 sergey sergey  4660 Oct 22 12:39 Chapter 6 Solutions S. Ivanov.ipynb\n",
        "-rw-r--r-- 1 sergey sergey  2211 Oct 28 09:55 Chapter 9 Assignments S. Ivanov Lists.ipynb\n",
        "-rw-r--r-- 1 sergey sergey  6108 Oct 23 14:50 Chapter 9 Lecture S. Ivanov Lists.ipynb\n",
        "-rw-r--r-- 1 sergey sergey  3258 Oct 30 09:52 Chapter 9 Solutions S. Ivanov Lists.ipynb\n",
        "-rw-r--r-- 1 sergey sergey     3 Nov 19 16:15 file1.txt\n",
        "-rw-r--r-- 1 sergey sergey     0 Nov 19 16:00 newfile.txt\n",
        "-rw-r----- 1 sergey sergey  3484 Oct 23 13:17 Q6 - Rodichenko.ipynb\n",
        "-rw-r----- 1 sergey sergey   403 Oct 22 12:13 task2.py\n",
        "-rw-r--r-- 1 sergey sergey   936 Oct 28 09:15 Untitled0.ipynb\n",
        "\n"
       ]
      }
     ],
     "prompt_number": 17
    },
    {
     "cell_type": "markdown",
     "metadata": {},
     "source": [
      "##Importing modules\n",
      "You can consider python files that you wrote as a module (or library) that you can import in other programs. The problem arises when you have some execution of code inside the file (not just functions/classes declarations). In this scenario you use contruction *if _name_ == \"_main_\":* and put all executable code below that statement. "
     ]
    },
    {
     "cell_type": "code",
     "collapsed": false,
     "input": [
      "import os\n",
      "def f():\n",
      "    print (__name__)\n",
      "    if __name__ == \"__main__\":\n",
      "        _cwd = os.getcwd()\n",
      "        print(_cwd)\n",
      "    \n",
      "f()"
     ],
     "language": "python",
     "metadata": {},
     "outputs": [
      {
       "output_type": "stream",
       "stream": "stdout",
       "text": [
        "__main__\n",
        "/home/sergey/studies/online python\n"
       ]
      }
     ],
     "prompt_number": 9
    },
    {
     "cell_type": "markdown",
     "metadata": {},
     "source": [
      "##Decorators\n",
      "Decorators are special construction in Python that takes some function as an input and surround it with user-specified content."
     ]
    },
    {
     "cell_type": "code",
     "collapsed": false,
     "input": [
      "import time\n",
      "\n",
      "def timed(func):\n",
      "    def print_time(*args, **kwargs):\n",
      "        start = time.time()\n",
      "        res = func(*args, **kwargs)\n",
      "        finish = time.time()\n",
      "        print(\"Function name: %s; Execution time: %.4f sec\" %(func.__name__, finish - start))\n",
      "        return res\n",
      "    return print_time\n",
      "\n",
      "@timed\n",
      "def increment(xs):\n",
      "    for i in range(len(xs)):\n",
      "        xs[i] += 10\n",
      "        \n",
      "@timed\n",
      "def decrement(xs):\n",
      "    for i in range(len(xs)):\n",
      "        xs[i] -= 10"
     ],
     "language": "python",
     "metadata": {},
     "outputs": [],
     "prompt_number": 10
    },
    {
     "cell_type": "code",
     "collapsed": false,
     "input": [
      "increment(range(10000))"
     ],
     "language": "python",
     "metadata": {},
     "outputs": [
      {
       "output_type": "stream",
       "stream": "stdout",
       "text": [
        "Function name: increment; Execution time: 0.0018 sec\n"
       ]
      }
     ],
     "prompt_number": 11
    }
   ],
   "metadata": {}
  }
 ]
}