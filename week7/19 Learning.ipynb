{
 "metadata": {
  "name": "",
  "signature": "sha256:dac10677bf730ccb93f38a46e8c7af27f91fc33985a7379477d85dfb298f7764"
 },
 "nbformat": 3,
 "nbformat_minor": 0,
 "worksheets": [
  {
   "cells": [
    {
     "cell_type": "heading",
     "level": 1,
     "metadata": {},
     "source": [
      "TkInter"
     ]
    },
    {
     "cell_type": "markdown",
     "metadata": {},
     "source": [
      "Materials used:\n",
      "1. Tkinter 8.5 reference: a GUI for Python (http://infohost.nmt.edu/tcc/help/pubs/tkinter/web/index.html)\n",
      "2. Tkinter tutorial (http://zetcode.com/gui/tkinter/)\n",
      "3. Think Python: How to Think Like a Computer Scientist (http://www.greenteapress.com/thinkpython/html/thinkpython020.html)"
     ]
    },
    {
     "cell_type": "heading",
     "level": 2,
     "metadata": {},
     "source": [
      "TkInter Glossary [1]"
     ]
    },
    {
     "cell_type": "markdown",
     "metadata": {},
     "source": [
      "__window__\n",
      "\n",
      "This term has different meanings in different contexts, but in general it refers to a rectangular area somewhere on your display screen.\n",
      "\n",
      "__top-level window__\n",
      "\n",
      "A window that exists independently on your screen. It will be decorated with the standard frame and controls for your system's desktop manager. You can move it around on your desktop. You can generally resize it, although your application can prevent this\n",
      "\n",
      "__widget__\n",
      "\n",
      "The generic term for any of the building blocks that make up an application in a graphical user interface. Examples of widgets: buttons, radiobuttons, text fields, frames, and text labels.\n",
      "\n",
      "__frame__\n",
      "\n",
      "In Tkinter, the Frame widget is the basic unit of organization for complex layouts. A frame is a rectangular area that can contain other widgets.\n",
      "\n",
      "__child, parent__\n",
      "\n",
      "When any widget is created, a parent-child relationship is created. For example, if you place a text label inside a frame, the frame is the parent of the label."
     ]
    },
    {
     "cell_type": "markdown",
     "metadata": {},
     "source": [
      "__Note:__ 'Tkinter' is now called 'tkinter' in python3"
     ]
    },
    {
     "cell_type": "heading",
     "level": 2,
     "metadata": {},
     "source": [
      "A Trivial Program [1]"
     ]
    },
    {
     "cell_type": "code",
     "collapsed": false,
     "input": [
      "import tkinter as tk       \n",
      "\n",
      "# Your application class must inherit from Tkinter's Frame class.\n",
      "class Application(tk.Frame): \n",
      "    # Calls the constructor for the parent class, Frame.\n",
      "    def __init__(self, master=None):\n",
      "        # Necessary to make the application actually appear on the screen.\n",
      "        tk.Frame.__init__(self, master)   \n",
      "        self.grid()                       \n",
      "        self.createWidgets()\n",
      "\n",
      "    def createWidgets(self):\n",
      "        # Creates a button labeled \u201cQuit\u201d.\n",
      "        self.quitButton = tk.Button(self, text='Quit', command=self.quit)            \n",
      "        # Places the button on the application.\n",
      "        self.quitButton.grid()            \n",
      "\n",
      "app = Application()   \n",
      "# This method call sets the title of the window to \u201cSample application\u201d.\n",
      "app.master.title('Sample application')    \n",
      "# Starts the application's main loop, waiting for mouse and keyboard events.\n",
      "app.mainloop()  "
     ],
     "language": "python",
     "metadata": {},
     "outputs": [],
     "prompt_number": 11
    },
    {
     "cell_type": "heading",
     "level": 2,
     "metadata": {},
     "source": [
      "Layout management [1]"
     ]
    },
    {
     "cell_type": "markdown",
     "metadata": {},
     "source": [
      "Although there are three different \u201cgeometry managers\u201d in Tkinter, the author strongly prefers the .grid() geometry manager for pretty much everything. This manager treats every window or frame as a table\u2014a gridwork of rows and columns.\n",
      "\n",
      "- A cell is the area at the intersection of one row and one column.\n",
      "- The width of each column is the width of the widest cell in that column.\n",
      "- The height of each row is the height of the largest cell in that row.\n",
      "- For widgets that do not fill the entire cell, you can specify what happens to the extra space. You can either leave the extra space outside the widget, or stretch the widget to fit it, in either the horizontal or vertical dimension.\n",
      "- You can combine multiple cells into one larger area, a process called spanning."
     ]
    },
    {
     "cell_type": "markdown",
     "metadata": {},
     "source": [
      "When you create a widget, it does not appear until you register it with a geometry manager. Hence, construction and placing of a widget is a two-step process that goes something like this:"
     ]
    },
    {
     "cell_type": "code",
     "collapsed": false,
     "input": [
      "self.thing = tk.Constructor(parent, ...)\n",
      "self.thing.grid(...)"
     ],
     "language": "python",
     "metadata": {},
     "outputs": []
    },
    {
     "cell_type": "markdown",
     "metadata": {},
     "source": [
      "where Constructor is one of the widget classes like Button, Frame, and so on, and parent is the parent widget in which this child widget is being constructed. All widgets have a .grid() method that you can use to tell the geometry manager where to put it."
     ]
    },
    {
     "cell_type": "heading",
     "level": 2,
     "metadata": {},
     "source": [
      "The .grid() method"
     ]
    },
    {
     "cell_type": "markdown",
     "metadata": {},
     "source": [
      "To display a widget w on your application screen:"
     ]
    },
    {
     "cell_type": "code",
     "collapsed": false,
     "input": [
      "w = tk.Button(parent=self, text='Im a button', command=None)\n",
      "w.grid(option=value, ...)\n",
      "w.grid(row = 10, column=9)\n",
      "\n",
      "w1.grid(row = 20, column=90, rowspan = 2)"
     ],
     "language": "python",
     "metadata": {},
     "outputs": []
    },
    {
     "cell_type": "heading",
     "level": 3,
     "metadata": {},
     "source": [
      "Arguments of the .grid() geometry manager"
     ]
    },
    {
     "cell_type": "markdown",
     "metadata": {},
     "source": [
      "- __column__\tThe column number where you want the widget gridded, counting from zero. The default value is zero.\n",
      "- __columnspan__\tNormally a widget occupies only one cell in the grid. However, you can grab multiple cells of a row and merge them into one larger cell by setting the columnspan option to the number of cells. For example, w.grid(row=0, column=2, columnspan=3) would place widget w in a cell that spans columns 2, 3, and 4 of row 0.\n",
      "- __in\\___\tTo register w as a child of some widget w2, use in_=w2. The new parent w2 must be a descendant of the parent widget used when w was created.\n",
      "- __ipadx__\tInternal x padding. This dimension is added inside the widget inside its left and right sides.\n",
      "- __ipady__\tInternal y padding. This dimension is added inside the widget inside its top and bottom borders.\n",
      "- __padx__\tExternal x padding. This dimension is added to the left and right outside the widget.\n",
      "- __pady__\tExternal y padding. This dimension is added above and below the widget.\n",
      "- __row__\tThe row number into which you want to insert the widget, counting from 0. The default is the next higher-numbered unoccupied row.\n",
      "- __rowspan__\tNormally a widget occupies only one cell in the grid. You can grab multiple adjacent cells of a column, however, by setting the rowspan option to the number of cells to grab. This option can be used in combination with the columnspan option to grab a block of cells. For example, w.grid(row=3, column=2, rowspan=4, columnspan=5) would place widget w in an area formed by merging 20 cells, with row numbers 3\u20136 and column numbers 2\u20136.\n",
      "- __sticky__\tThis option determines how to distribute any extra space within the cell that is not taken up by the widget at its natural size. See below."
     ]
    },
    {
     "cell_type": "markdown",
     "metadata": {},
     "source": [
      "__Note:__ You don\u2019t have to specify the size of the grid beforehand; the manager automatically determines that from the widgets in it."
     ]
    },
    {
     "cell_type": "heading",
     "level": 3,
     "metadata": {},
     "source": [
      "Specific cases"
     ]
    },
    {
     "cell_type": "markdown",
     "metadata": {},
     "source": [
      "- If you do not provide a sticky attribute, the default behavior is to center the widget in the cell.\n",
      "\n",
      "- You can position the widget in a corner of the cell by using sticky=tk.NE (top right), tk.SE (bottom right), tk.SW (bottom left), or tk.NW (top left).\n",
      "\n",
      "- You can position the widget centered against one side of the cell by using sticky=tk.N (top center), tk.E (right center), tk.S (bottom center), or tk.W (left center).\n",
      "\n",
      "- Use sticky=tk.N+tk.S to stretch the widget vertically but leave it centered horizontally.\n",
      "\n",
      "- Use sticky=tk.E+tk.W to stretch it horizontally but leave it centered vertically.\n",
      "\n",
      "- Use sticky=tk.N+tk.E+tk.S+tk.W to stretch the widget both horizontally and vertically to fill the cell.\n",
      "\n",
      "- The other combinations will also work. For example, sticky=tk.N+tk.S+tk.W will stretch the widget vertically and place it against the west (left) wall."
     ]
    },
    {
     "cell_type": "heading",
     "level": 3,
     "metadata": {},
     "source": [
      "Configuring column and row sizes"
     ]
    },
    {
     "cell_type": "markdown",
     "metadata": {},
     "source": [
      "Unless you take certain measures, the width of a grid column inside a given widget will be equal to the width of its widest cell, and the height of a grid row will be the height of its tallest cell. The sticky attribute on a widget controls only where it will be placed if it doesn't completely fill the cell.\n",
      "\n",
      "If you want to override this automatic sizing of columns and rows, use these methods on the parent widget w that contains the grid layout:\n",
      "\n",
      "__w.columnconfigure(N, option=value, ...)__\n",
      "\n",
      "- In the grid layout inside widget w, configure column N so that the given option has the given value. For options, see the table below.\n",
      "\n",
      "__ w.rowconfigure(N, option=value, ...)__\n",
      "\n",
      "- In the grid layout inside widget w, configure row N so that the given option has the given value. For options, see the table below."
     ]
    },
    {
     "cell_type": "heading",
     "level": 3,
     "metadata": {},
     "source": [
      "Column and row configuration options for the .grid() geometry manager"
     ]
    },
    {
     "cell_type": "markdown",
     "metadata": {},
     "source": [
      "- __minsize__\tThe column or row's minimum size in pixels. If there is nothing in the given column or row, it will not appear, even if you use this option.\n",
      "- __pad__\tA number of pixels that will be added to the given column or row, over and above the largest cell in the column or row.\n",
      "- __weight__\tTo make a column or row stretchable, use this option and supply a value that gives the relative weight of this column or row when distributing the extra space. For example, if a widget w contains a grid layout, these lines will distribute three-fourths of the extra space to the first column and one-fourth to the second column:\n",
      "    __w.columnconfigure(0, weight=3)__, __w.columnconfigure(1, weight=1)__. If this option is not used, the column or row will not stretch."
     ]
    },
    {
     "cell_type": "heading",
     "level": 3,
     "metadata": {},
     "source": [
      "Simple examples"
     ]
    },
    {
     "cell_type": "code",
     "collapsed": false,
     "input": [
      "import tkinter\n",
      "root = tkinter.Tk()\n",
      "for r in range(3):\n",
      "    for c in range(4):\n",
      "        tkinter.Label(root, text='R%s/C%s'%(r,c),\n",
      "            borderwidth=1 ).grid(row=r,column=c)\n",
      "root.mainloop(  )"
     ],
     "language": "python",
     "metadata": {},
     "outputs": [],
     "prompt_number": 1
    },
    {
     "cell_type": "heading",
     "level": 3,
     "metadata": {},
     "source": [
      "Advanced example"
     ]
    },
    {
     "cell_type": "code",
     "collapsed": false,
     "input": [
      "from tkinter import *\n",
      "\n",
      "class GridDemo( Frame ):\n",
      "   def __init__( self ):\n",
      "      Frame.__init__( self ) # Inherited constructor \n",
      "      self.master.title( \"Grid Demo\" ) \n",
      "\n",
      "      self.master.rowconfigure( 0, weight = 1 ) \n",
      "      self.master.columnconfigure( 0, weight = 1 )\n",
      "      self.grid( sticky = W+E+N+S )\n",
      "  \n",
      "      self.text1 = Text(self, width = 15, height = 5 ) # tkinter.Text\n",
      "\n",
      "      self.text1.grid( rowspan = 3, sticky = W+E+N+S ) #\n",
      "      self.text1.insert( INSERT, \"Text1\" )\n",
      "\n",
      "      self.button1 = Button(self, text = \"Button 1\", width = 25 )\n",
      "      self.button1.grid( row = 0, column = 1, columnspan = 2, sticky = W+E+N+S )\n",
      "\n",
      "      self.button2 = Button( self, text = \"Button 2\" )\n",
      "      self.button2.grid( row = 1, column = 1, sticky = W+E+N+S )\n",
      "\n",
      "      self.button3 = Button( self, text = \"Button 3\" )\n",
      "      self.button3.grid( row = 1, column = 2, sticky = W+E+N+S )\n",
      "\n",
      "      self.button4 = Button( self, text = \"Button 4\" )\n",
      "      self.button4.grid( row = 2, column = 1, columnspan = 2, sticky = W+E+N+S )\n",
      "\n",
      "      self.entry = Entry( self )\n",
      "      self.entry.grid( row = 3, columnspan = 2, sticky = W+E+N+S )\n",
      "      self.entry.insert( INSERT, \"Entry\" )\n",
      "\n",
      "      self.text2 = Text( self, width = 2, height = 2 )\n",
      "      self.text2.grid( row = 3, column = 2, sticky = W+E+N+S )\n",
      "      self.text2.insert( INSERT, \"Text2\" )\n",
      "\n",
      "      self.rowconfigure( 1, weight = 1 )\n",
      "      self.columnconfigure( 1, weight = 1 )\n",
      "\n",
      "def main():\n",
      "   GridDemo().mainloop()   \n",
      "\n",
      "if __name__ == \"__main__\":\n",
      "   main()"
     ],
     "language": "python",
     "metadata": {},
     "outputs": []
    },
    {
     "cell_type": "heading",
     "level": 2,
     "metadata": {},
     "source": [
      "Tkinter Widgets [2]"
     ]
    },
    {
     "cell_type": "markdown",
     "metadata": {},
     "source": [
      "Widgets are basic building blocks of a GUI application. Over the years, several widgets became a standard in all toolkits on all OS platforms. For example a button, a check box or a scroll bar. Some of them might have a different name. For instance, a check box is called a check button in Tkinter. Tkinter has a small set of widgets which cover the basic programming needs. More specialised components can be created as custom widgets."
     ]
    },
    {
     "cell_type": "heading",
     "level": 3,
     "metadata": {},
     "source": [
      "Checkbutton"
     ]
    },
    {
     "cell_type": "markdown",
     "metadata": {},
     "source": [
      "The Checkbutton is a widget that has two states: on and off. The on state is visualized by a check mark. It is used to denote some boolean property. The Checkbutton widget provides a check box with a text label."
     ]
    },
    {
     "cell_type": "code",
     "collapsed": false,
     "input": [
      "\"\"\"\n",
      "ZetCode Tkinter tutorial\n",
      "\n",
      "This program toggles the title of the\n",
      "window with the Checkbutton widget\n",
      "\n",
      "author: Jan Bodnar\n",
      "last modified: December 2010\n",
      "website: www.zetcode.com\n",
      "\"\"\"\n",
      "\n",
      "\n",
      "from tkinter import Tk, Frame, Checkbutton\n",
      "from tkinter import IntVar, BOTH\n",
      "\n",
      "\n",
      "class Example(Frame):\n",
      "  \n",
      "    def __init__(self, parent):\n",
      "        Frame.__init__(self, parent)   \n",
      "         \n",
      "        self.parent = parent        \n",
      "        self.initUI()\n",
      "        \n",
      "    def initUI(self):\n",
      "      \n",
      "        self.parent.title(\"Checkbutton\")\n",
      "\n",
      "        self.pack(fill=BOTH, expand=1)\n",
      "        \n",
      "        self.var = IntVar() # We create an IntVar object. \n",
      "                            # It is a value holder for integer values for widgets in Tkinter.\n",
      "        \n",
      "        cb = Checkbutton(self, text=\"Show title\", variable=self.var, command=self.onClick)\n",
      "        cb.select() # Initially, the title is shown in the titlebar. \n",
      "                    # So at the start, we make it checked with the select() method.\n",
      "        cb.place(x=50, y=50)\n",
      "\n",
      "\n",
      "    def onClick(self):\n",
      "       \n",
      "        if self.var.get() == 1:\n",
      "            self.master.title(\"Checkbutton\")\n",
      "        else:\n",
      "            self.master.title(\"\")\n",
      "\n",
      "\n",
      "def main():\n",
      "  \n",
      "    root = Tk()\n",
      "    root.geometry(\"250x150+300+300\")    # Sets or gets the window geometry. \n",
      "                                        # If called with an argument, this changes the geometry. \n",
      "                                        # The argument should have the following format:\n",
      "                                        # \"%dx%d%+d%+d\" % (width, height, xoffset, yoffset)\n",
      "    app = Example(root)\n",
      "    root.mainloop()  \n",
      "\n",
      "\n",
      "if __name__ == '__main__':\n",
      "    main()  "
     ],
     "language": "python",
     "metadata": {},
     "outputs": []
    },
    {
     "cell_type": "heading",
     "level": 3,
     "metadata": {},
     "source": [
      "Scale"
     ]
    },
    {
     "cell_type": "code",
     "collapsed": false,
     "input": [
      "\"\"\"\n",
      "ZetCode Tkinter tutorial\n",
      "\n",
      "In this script, we show how to\n",
      "use the Scale widget.\n",
      "\n",
      "author: Jan Bodnar\n",
      "last modified: December 2010\n",
      "website: www.zetcode.com\n",
      "\"\"\"\n",
      "\n",
      "from tkinter.ttk import Frame, Label, Scale, Style\n",
      "from tkinter import Tk, BOTH, IntVar\n",
      "\n",
      "\n",
      "class Example(Frame):\n",
      "  \n",
      "    def __init__(self, parent):\n",
      "        Frame.__init__(self, parent)   \n",
      "         \n",
      "        self.parent = parent        \n",
      "        self.initUI()\n",
      "        \n",
      "    def initUI(self):\n",
      "      \n",
      "        self.parent.title(\"Scale\")\n",
      "        self.style = Style()\n",
      "        #self.style.theme_use(\"default\") \n",
      "        self.style.theme_use(\"clam\")\n",
      "                             \n",
      "        self.pack(fill=BOTH, expand=1)\n",
      "\n",
      "        scale = Scale(self, from_=0, to=100, \n",
      "            command=self.onScale)\n",
      "        scale.place(x=20, y=20)\n",
      "\n",
      "        self.var = IntVar()\n",
      "        self.label = Label(self, text=0, textvariable=self.var)        \n",
      "        self.label.place(x=130, y=70)\n",
      "\n",
      "    def onScale(self, val):\n",
      "     \n",
      "        v = int(float(val))\n",
      "        self.var.set(v)\n",
      "         \n",
      "\n",
      "def main():\n",
      "  \n",
      "    root = Tk()\n",
      "    ex = Example(root)\n",
      "    root.geometry(\"300x150+300+300\")\n",
      "    root.mainloop()  \n",
      "\n",
      "\n",
      "if __name__ == '__main__':\n",
      "    main()  \n"
     ],
     "language": "python",
     "metadata": {},
     "outputs": []
    },
    {
     "cell_type": "heading",
     "level": 3,
     "metadata": {},
     "source": [
      "Listbox"
     ]
    },
    {
     "cell_type": "code",
     "collapsed": false,
     "input": [
      "\"\"\"\n",
      "ZetCode Tkinter tutorial\n",
      "\n",
      "In this script, we show how to\n",
      "use the Listbox widget.\n",
      "\n",
      "author: Jan Bodar\n",
      "last modified: December 2010\n",
      "website: www.zetcode.com\n",
      "\"\"\"\n",
      "\n",
      "from tkinter.ttk import Frame, Label, Style\n",
      "from tkinter import Tk, BOTH, Listbox, StringVar, END\n",
      "\n",
      "\n",
      "class Example(Frame):\n",
      "  \n",
      "    def __init__(self, parent):\n",
      "        Frame.__init__(self, parent)   \n",
      "         \n",
      "        self.parent = parent        \n",
      "        self.initUI()\n",
      "        \n",
      "    def initUI(self):\n",
      "      \n",
      "        self.parent.title(\"Listbox\") \n",
      "        \n",
      "        self.pack(fill=BOTH, expand=1)\n",
      "\n",
      "        acts = ['Scarlett Johansson', 'Rachel Weiss', \n",
      "            'Natalie Portman', 'Jessica Alba']\n",
      "\n",
      "        lb = Listbox(self)\n",
      "        for i in acts:\n",
      "            lb.insert(END, i)\n",
      "            \n",
      "        lb.bind(\"<<ListboxSelect>>\", self.onSelect)    \n",
      "            \n",
      "        lb.place(x=20, y=20)\n",
      "\n",
      "        self.var = StringVar()\n",
      "        self.label = Label(self, text=0, textvariable=self.var)        \n",
      "        self.label.place(x=20, y=210)\n",
      "\n",
      "    def onSelect(self, val):\n",
      "      \n",
      "        sender = val.widget\n",
      "        idx = sender.curselection()\n",
      "        value = sender.get(idx)   \n",
      "\n",
      "        self.var.set(value)\n",
      "         \n",
      "\n",
      "def main():\n",
      "  \n",
      "    root = Tk()\n",
      "    ex = Example(root)\n",
      "    root.geometry(\"300x250+300+300\")\n",
      "    root.mainloop()  \n",
      "\n",
      "\n",
      "if __name__ == '__main__':\n",
      "    main()  "
     ],
     "language": "python",
     "metadata": {},
     "outputs": [],
     "prompt_number": 5
    },
    {
     "cell_type": "heading",
     "level": 2,
     "metadata": {},
     "source": [
      "Message boxes"
     ]
    },
    {
     "cell_type": "code",
     "collapsed": false,
     "input": [
      "\"\"\"\n",
      "ZetCode Tkinter tutorial\n",
      "\n",
      "In this program, we show various\n",
      "message boxes.\n",
      "\n",
      "author: Jan Bodnar\n",
      "last modified: January 2011\n",
      "website: www.zetcode.com\n",
      "\"\"\"\n",
      "\n",
      "from tkinter.ttk import Frame, Button, Style\n",
      "from tkinter import Tk, BOTH\n",
      "import tkinter.messagebox as box\n",
      "\n",
      "\n",
      "class Example(Frame):\n",
      "  \n",
      "    def __init__(self, parent):\n",
      "        Frame.__init__(self, parent)   \n",
      "         \n",
      "        self.parent = parent        \n",
      "        self.initUI()\n",
      "        \n",
      "    def initUI(self):\n",
      "      \n",
      "        self.parent.title(\"Message boxes\")\n",
      "        self.style = Style()\n",
      "        self.style.theme_use(\"default\")        \n",
      "        self.pack()\n",
      "        \n",
      "        error = Button(self, text=\"Error\", command=self.onError)\n",
      "        error.grid()\n",
      "        warning = Button(self, text=\"Warning\", command=self.onWarn)\n",
      "        warning.grid(row=1, column=0)\n",
      "        question = Button(self, text=\"Question\", command=self.onQuest)\n",
      "        question.grid(row=0, column=1)\n",
      "        inform = Button(self, text=\"Information\", command=self.onInfo)\n",
      "        inform.grid(row=1, column=1)\n",
      "\n",
      "\n",
      "    def onError(self):\n",
      "        box.showerror(\"Error\", \"Could not open file\")\n",
      "        \n",
      "    def onWarn(self):\n",
      "        box.showwarning(\"Warning\", \"Deprecated function call\")\n",
      "        \n",
      "    def onQuest(self):\n",
      "        box.askquestion(\"Question\", \"Are you sure to quit?\")\n",
      "        \n",
      "    def onInfo(self):\n",
      "        box.showinfo(\"Information\", \"Download completed\")\n",
      "         \n",
      "\n",
      "def main():\n",
      "  \n",
      "    root = Tk()\n",
      "    ex = Example(root)\n",
      "    root.geometry(\"300x150+300+300\")\n",
      "    root.mainloop()  \n",
      "\n",
      "\n",
      "if __name__ == '__main__':\n",
      "    main() "
     ],
     "language": "python",
     "metadata": {},
     "outputs": [],
     "prompt_number": 10
    },
    {
     "cell_type": "code",
     "collapsed": false,
     "input": [],
     "language": "python",
     "metadata": {},
     "outputs": []
    }
   ],
   "metadata": {}
  }
 ]
}