{
 "metadata": {
  "name": "",
  "signature": "sha256:54c382d32e7577aef9b8f9fab47253059b5e2b037cb9b914fe15e60440ad6365"
 },
 "nbformat": 3,
 "nbformat_minor": 0,
 "worksheets": [
  {
   "cells": [
    {
     "cell_type": "markdown",
     "metadata": {},
     "source": [
      "##Files (5 points)\n",
      "You want to write information in a file but you are not sure whether you have a file in a path or not. You have two alternatives: one is to check whether it exists and write to the end of the file, and the second is to append information to the file in a force manner. Implement these two alternatives.\n",
      "\n",
      "1) Write a function add_content1(filename, content) that appends content to file *filename*. Use os.listdir command to check the presence of a file and open it with mode **r+** to add content to the end of file (use *seek* command).\n",
      "\n",
      "2) Write a function add_content2(filename, content) that appends content to file *filename*. You want to open file in a force manner a) with **r+** mode and handle exception if doesn't exist (you can use os.popen with 'touch filename' to create a file) and b) with **a+** mode."
     ]
    },
    {
     "cell_type": "markdown",
     "metadata": {},
     "source": [
      "##Decorators (5 points)\n",
      "This is a creative task: you should write a useful decorator. Imagine you are using some functionality a lot (such as printing the name of a function while debugging or checking the execution time) for many different functions. It is time to use decorators. Maybe you want to remind yourself what day of the week it is when you invoke a function; or you want to check how much memory does the function uses. Be creative! "
     ]
    }
   ],
   "metadata": {}
  }
 ]
}