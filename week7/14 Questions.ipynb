{
 "metadata": {
  "name": "",
  "signature": "sha256:473aec9f62a363b4c993f8387e1a81627b87720c1203248f08636a0a6eec55e7"
 },
 "nbformat": 3,
 "nbformat_minor": 0,
 "worksheets": [
  {
   "cells": [
    {
     "cell_type": "markdown",
     "metadata": {},
     "source": [
      "##Files (5 points)\n",
      "You are not sure whether you have a file in a path or not. You have two alternatives: one is to check whether it exists first and the second to create file in a force manner. Please, write a code to check if there is a file 'myfile.txt' in the folder that includes your script (that is it should be one directory away from your current working directory; use .. to specify path). In addition, explroe three different options for opening file r+/w+/a+ and check, which works when there is no file exising in a folder. "
     ]
    },
    {
     "cell_type": "markdown",
     "metadata": {},
     "source": [
      "##Decorators (5 points)\n",
      "This is a creative task: you should write a useful decorator. Imagine you are using some functionality a lot (such as printing the name of a function while debugging or checking the execution time) for many different functions. It is time to use decorators. Maybe you want to remind yourself what day of the week it is when you invoke a function; or you want to check how much memory does the function uses. Be creative! "
     ]
    }
   ],
   "metadata": {}
  }
 ]
}