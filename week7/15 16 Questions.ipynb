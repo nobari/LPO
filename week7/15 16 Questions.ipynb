{
 "metadata": {
  "name": "",
  "signature": "sha256:116baabb682186c096165cf62423b2a8b3b1cfa8fdb9cf4b2df813149d9b1a0c"
 },
 "nbformat": 3,
 "nbformat_minor": 0,
 "worksheets": [
  {
   "cells": [
    {
     "cell_type": "markdown",
     "metadata": {},
     "source": [
      "***Exercise 1 ***\n",
      "Write a function called distance_between_points that takes two Points as arguments and returns the distance between them (use Point object from the lecture)."
     ]
    },
    {
     "cell_type": "markdown",
     "metadata": {},
     "source": [
      "***Exercise 2 *** \n",
      "Write a function called print_time that takes a Time object and prints it in the form hour:minute:second. Hint: the format sequence '%.2d' prints an integer using at least two digits, including a leading zero if necessary.\n"
     ]
    },
    {
     "cell_type": "markdown",
     "metadata": {},
     "source": [
      "***Exercise 3  ***\n",
      "Write a boolean function called is_after that takes two Time objects, t1 and t2, and returns True if t1 follows t2 chronologically and False otherwise. Don\u2019t use an if statement."
     ]
    },
    {
     "cell_type": "markdown",
     "metadata": {},
     "source": [
      "***Exercise 4 - create a good Increment function (see lecture). You should go througth the next steps:*** \n",
      "- Write a version of increment that doesn\u2019t contain any loops.\n",
      "- Then write a \u201cpure\u201d version of increment that creates and returns a new Time object rather than modifying the parameter.\n",
      "- And finally rewrite increment using time_to_int and int_to_time."
     ]
    },
    {
     "cell_type": "code",
     "collapsed": false,
     "input": [],
     "language": "python",
     "metadata": {},
     "outputs": []
    }
   ],
   "metadata": {}
  }
 ]
}