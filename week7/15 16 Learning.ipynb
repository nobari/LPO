{
 "metadata": {
  "name": "",
  "signature": "sha256:3b31cefd5ef392f26794bf076496ec3976434bb69772f13d493017098686e6b8"
 },
 "nbformat": 3,
 "nbformat_minor": 0,
 "worksheets": [
  {
   "cells": [
    {
     "cell_type": "heading",
     "level": 2,
     "metadata": {},
     "source": [
      "Classes and Objects"
     ]
    },
    {
     "cell_type": "markdown",
     "metadata": {},
     "source": [
      "- Let's say we want to store coordinates.\n",
      "- We can store them as two variables, as a tuple, or we can create new TYPE to represent POINT as an Object."
     ]
    },
    {
     "cell_type": "markdown",
     "metadata": {},
     "source": [
      "- A user-defined type is also called a class. A class definition looks like this:"
     ]
    },
    {
     "cell_type": "code",
     "collapsed": false,
     "input": [
      "class Point(object):\n",
      "    \"\"\"Represents a point in 2-D space.\"\"\""
     ],
     "language": "python",
     "metadata": {},
     "outputs": [],
     "prompt_number": 1
    },
    {
     "cell_type": "markdown",
     "metadata": {},
     "source": [
      "- Defining a class named Point creates a class object."
     ]
    },
    {
     "cell_type": "code",
     "collapsed": false,
     "input": [
      "print Point"
     ],
     "language": "python",
     "metadata": {},
     "outputs": [
      {
       "output_type": "stream",
       "stream": "stdout",
       "text": [
        "<class '__main__.Point'>\n"
       ]
      }
     ],
     "prompt_number": 4
    },
    {
     "cell_type": "markdown",
     "metadata": {},
     "source": [
      "- To create a Point, you call Point as if it were a function."
     ]
    },
    {
     "cell_type": "code",
     "collapsed": false,
     "input": [
      "blank = Point()\n",
      "print blank"
     ],
     "language": "python",
     "metadata": {},
     "outputs": [
      {
       "output_type": "stream",
       "stream": "stdout",
       "text": [
        "<__main__.Point object at 0x1043484d0>\n"
       ]
      }
     ],
     "prompt_number": 5
    },
    {
     "cell_type": "markdown",
     "metadata": {},
     "source": [
      "- Creating a new object is called instantiation, and the object is an instance of the class."
     ]
    },
    {
     "cell_type": "heading",
     "level": 3,
     "metadata": {},
     "source": [
      "Attributes."
     ]
    },
    {
     "cell_type": "markdown",
     "metadata": {},
     "source": [
      "- You can assign values to an instance using dot notation:"
     ]
    },
    {
     "cell_type": "code",
     "collapsed": false,
     "input": [
      "blank.x = 3.0\n",
      "blank.y = 4.0"
     ],
     "language": "python",
     "metadata": {},
     "outputs": [],
     "prompt_number": 7
    },
    {
     "cell_type": "markdown",
     "metadata": {},
     "source": [
      "- This syntax is similar to the syntax for selecting a variable from a module, such as math.pi or string.whitespace. \n",
      "- In this case, though, we are assigning values to named elements of an object. \n",
      "- These elements are called attributes."
     ]
    },
    {
     "cell_type": "markdown",
     "metadata": {},
     "source": [
      "- You can use dot notation as part of any expression. For example:"
     ]
    },
    {
     "cell_type": "code",
     "collapsed": false,
     "input": [
      "import math\n",
      "print '(%g, %g)' % (blank.x, blank.y)\n",
      "distance = math.sqrt(blank.x**2 + blank.y**2)\n",
      "print distance"
     ],
     "language": "python",
     "metadata": {},
     "outputs": [
      {
       "output_type": "stream",
       "stream": "stdout",
       "text": [
        "(3, 4)\n",
        "5.0\n"
       ]
      }
     ],
     "prompt_number": 10
    },
    {
     "cell_type": "markdown",
     "metadata": {},
     "source": [
      "- You can pass an instance as an argument in the usual way. For example:"
     ]
    },
    {
     "cell_type": "code",
     "collapsed": false,
     "input": [
      "def print_point(p):\n",
      "    print '(%g, %g)' % (p.x, p.y)"
     ],
     "language": "python",
     "metadata": {},
     "outputs": [],
     "prompt_number": 12
    },
    {
     "cell_type": "code",
     "collapsed": false,
     "input": [
      "print_point(blank)"
     ],
     "language": "python",
     "metadata": {},
     "outputs": [
      {
       "output_type": "stream",
       "stream": "stdout",
       "text": [
        "(3, 4)\n"
       ]
      }
     ],
     "prompt_number": 13
    },
    {
     "cell_type": "markdown",
     "metadata": {},
     "source": [
      "- Let's use another example. First, we create Rectangle class and instantiate a Box object"
     ]
    },
    {
     "cell_type": "code",
     "collapsed": false,
     "input": [
      "class Rectangle(object):\n",
      "    \"\"\"Represents a rectangle. \n",
      "\n",
      "    attributes: width, height, corner.\n",
      "    \"\"\"\n",
      "    \n",
      "box = Rectangle()\n",
      "box.width = 100.0\n",
      "box.height = 200.0\n",
      "box.corner = Point()\n",
      "box.corner.x = 0.0\n",
      "box.corner.y = 0.0"
     ],
     "language": "python",
     "metadata": {},
     "outputs": [],
     "prompt_number": 14
    },
    {
     "cell_type": "markdown",
     "metadata": {},
     "source": [
      "- Instances can be returned:"
     ]
    },
    {
     "cell_type": "code",
     "collapsed": false,
     "input": [
      "def find_center(rect):\n",
      "    p = Point()\n",
      "    p.x = rect.corner.x + rect.width/2.0\n",
      "    p.y = rect.corner.y + rect.height/2.0\n",
      "    return p"
     ],
     "language": "python",
     "metadata": {},
     "outputs": [],
     "prompt_number": 15
    },
    {
     "cell_type": "code",
     "collapsed": false,
     "input": [
      "center = find_center(box)\n",
      "print_point(center)"
     ],
     "language": "python",
     "metadata": {},
     "outputs": [
      {
       "output_type": "stream",
       "stream": "stdout",
       "text": [
        "(50, 100)\n"
       ]
      }
     ],
     "prompt_number": 16
    },
    {
     "cell_type": "markdown",
     "metadata": {},
     "source": [
      "- Objects are mutable."
     ]
    },
    {
     "cell_type": "code",
     "collapsed": false,
     "input": [
      "box.width = box.width + 50\n",
      "box.height = box.width + 100\n",
      "\n",
      "def grow_rectangle(rect, dwidth, dheight):\n",
      "    rect.width += dwidth\n",
      "    rect.height += dheight"
     ],
     "language": "python",
     "metadata": {},
     "outputs": [],
     "prompt_number": 17
    },
    {
     "cell_type": "code",
     "collapsed": false,
     "input": [
      "print box.width\n",
      "print box.height\n",
      "grow_rectangle(box, 50, 100)\n",
      "print box.width\n",
      "print box.height"
     ],
     "language": "python",
     "metadata": {},
     "outputs": [
      {
       "output_type": "stream",
       "stream": "stdout",
       "text": [
        "150.0\n",
        "250.0\n",
        "200.0\n",
        "350.0\n"
       ]
      }
     ],
     "prompt_number": 18
    },
    {
     "cell_type": "heading",
     "level": 3,
     "metadata": {},
     "source": [
      "Copying instead of Aliasing"
     ]
    },
    {
     "cell_type": "code",
     "collapsed": false,
     "input": [
      "p1 = Point()\n",
      "p1.x = 3.0\n",
      "p1.y = 4.0\n",
      "\n",
      "import copy\n",
      "p2 = copy.copy(p1)"
     ],
     "language": "python",
     "metadata": {},
     "outputs": [],
     "prompt_number": 20
    },
    {
     "cell_type": "markdown",
     "metadata": {},
     "source": [
      "- p1 and p2 contain the same data, but they are not the same Point."
     ]
    },
    {
     "cell_type": "code",
     "collapsed": false,
     "input": [
      "print_point(p1)\n",
      "print_point(p2)\n",
      "print p1 is p2\n",
      "print p1 == p2"
     ],
     "language": "python",
     "metadata": {},
     "outputs": [
      {
       "output_type": "stream",
       "stream": "stdout",
       "text": [
        "(3, 4)\n",
        "(3, 4)\n",
        "False\n",
        "False\n"
       ]
      }
     ],
     "prompt_number": 21
    },
    {
     "cell_type": "heading",
     "level": 3,
     "metadata": {},
     "source": [
      "Shallow copying - it copies the object and any references it contains, but not the embedded objects"
     ]
    },
    {
     "cell_type": "code",
     "collapsed": false,
     "input": [
      "box2 = copy.copy(box)\n",
      "print box2 is box\n",
      "print box2.corner is box.corner ## It didn't copied the Point() object we creted. It may lead to errors in future\n",
      "#any manipulations with one corner will affect another"
     ],
     "language": "python",
     "metadata": {},
     "outputs": [
      {
       "output_type": "stream",
       "stream": "stdout",
       "text": [
        "False\n",
        "True\n"
       ]
      }
     ],
     "prompt_number": 24
    },
    {
     "cell_type": "heading",
     "level": 3,
     "metadata": {},
     "source": [
      "Solution - Deep Copy."
     ]
    },
    {
     "cell_type": "code",
     "collapsed": false,
     "input": [
      "box3 = copy.deepcopy(box)\n",
      "print box3 is box\n",
      "print box3.corner is box.corner"
     ],
     "language": "python",
     "metadata": {},
     "outputs": [
      {
       "output_type": "stream",
       "stream": "stdout",
       "text": [
        "False\n",
        "False\n"
       ]
      }
     ],
     "prompt_number": 25
    },
    {
     "cell_type": "heading",
     "level": 2,
     "metadata": {},
     "source": [
      "Classes and Functions."
     ]
    },
    {
     "cell_type": "markdown",
     "metadata": {},
     "source": [
      "- As another example of a user-defined type, we\u2019ll define a class called Time that records the time of day. \n",
      "- The class definition looks like this:"
     ]
    },
    {
     "cell_type": "code",
     "collapsed": false,
     "input": [
      "class Time(object):\n",
      "    \"\"\"Represents the time of day.\n",
      "       \n",
      "    attributes: hour, minute, second\n",
      "    \"\"\""
     ],
     "language": "python",
     "metadata": {},
     "outputs": [],
     "prompt_number": 26
    },
    {
     "cell_type": "markdown",
     "metadata": {},
     "source": [
      "- Then we create a new object: "
     ]
    },
    {
     "cell_type": "code",
     "collapsed": false,
     "input": [
      "time = Time()\n",
      "time.hour = 11\n",
      "time.minute = 59\n",
      "time.second = 30\n",
      "\n",
      "def print_time(time):\n",
      "    print '%.2d:%.2d:%.2d' % (time.hour, time.minute, time.second)"
     ],
     "language": "python",
     "metadata": {},
     "outputs": [],
     "prompt_number": 30
    },
    {
     "cell_type": "markdown",
     "metadata": {},
     "source": [
      " - a pure function does not modify any of the objects passed to it as arguments and it has no effect, like displaying a value or getting user input, other than returning a value."
     ]
    },
    {
     "cell_type": "markdown",
     "metadata": {},
     "source": [
      " - let's create a prototype of a function that increases time"
     ]
    },
    {
     "cell_type": "code",
     "collapsed": false,
     "input": [
      "def add_time(t1, t2):\n",
      "    sum = Time()\n",
      "    sum.hour = t1.hour + t2.hour\n",
      "    sum.minute = t1.minute + t2.minute\n",
      "    sum.second = t1.second + t2.second\n",
      "    return sum"
     ],
     "language": "python",
     "metadata": {},
     "outputs": [],
     "prompt_number": 31
    },
    {
     "cell_type": "code",
     "collapsed": false,
     "input": [
      "start = Time()\n",
      "start.hour = 9\n",
      "start.minute = 45\n",
      "start.second =  0\n",
      "\n",
      "duration = Time()\n",
      "duration.hour = 1\n",
      "duration.minute = 35\n",
      "duration.second = 0\n",
      "\n",
      "done = add_time(start, duration)\n",
      "print_time(done)"
     ],
     "language": "python",
     "metadata": {},
     "outputs": [
      {
       "output_type": "stream",
       "stream": "stdout",
       "text": [
        "10:80:00\n"
       ]
      }
     ],
     "prompt_number": 32
    },
    {
     "cell_type": "markdown",
     "metadata": {},
     "source": [
      "- That's not exactly what we are looking for. So let's modify a function a little bit."
     ]
    },
    {
     "cell_type": "code",
     "collapsed": false,
     "input": [
      "def add_time(t1, t2):\n",
      "    sum = Time()\n",
      "    sum.hour = t1.hour + t2.hour\n",
      "    sum.minute = t1.minute + t2.minute\n",
      "    sum.second = t1.second + t2.second\n",
      "\n",
      "    if sum.second >= 60:\n",
      "        sum.second -= 60\n",
      "        sum.minute += 1\n",
      "\n",
      "    if sum.minute >= 60:\n",
      "        sum.minute -= 60\n",
      "        sum.hour += 1\n",
      "\n",
      "    return sum"
     ],
     "language": "python",
     "metadata": {},
     "outputs": [],
     "prompt_number": 33
    },
    {
     "cell_type": "code",
     "collapsed": false,
     "input": [
      "done = add_time(start, duration)\n",
      "print_time(done)"
     ],
     "language": "python",
     "metadata": {},
     "outputs": [
      {
       "output_type": "stream",
       "stream": "stdout",
       "text": [
        "11:20:00\n"
       ]
      }
     ],
     "prompt_number": 34
    },
    {
     "cell_type": "markdown",
     "metadata": {},
     "source": [
      " - Another type of functions are modifiers - they modify their parameters."
     ]
    },
    {
     "cell_type": "code",
     "collapsed": false,
     "input": [
      "def increment(time, seconds):\n",
      "    time.second += seconds\n",
      "\n",
      "    if time.second >= 60:\n",
      "        time.second -= 60\n",
      "        time.minute += 1\n",
      "\n",
      "    if time.minute >= 60:\n",
      "        time.minute -= 60\n",
      "        time.hour += 1"
     ],
     "language": "python",
     "metadata": {},
     "outputs": [],
     "prompt_number": 36
    },
    {
     "cell_type": "markdown",
     "metadata": {},
     "source": [
      "- NOTE: This function is not really correct and will appear in the hometask."
     ]
    },
    {
     "cell_type": "markdown",
     "metadata": {},
     "source": [
      " - There is a recoomendation that you write pure functions whenever it is reasonable and resort to modifiers only if there is a compelling advantage. This approach might be called a functional programming style."
     ]
    },
    {
     "cell_type": "heading",
     "level": 3,
     "metadata": {},
     "source": [
      "Prototyping vs planning"
     ]
    },
    {
     "cell_type": "markdown",
     "metadata": {},
     "source": [
      " - One development plan  is called \u201cprototype and patch.\u201d For each function, you write a prototype that performs the basic calculation and then test it, patching errors along the way."
     ]
    },
    {
     "cell_type": "markdown",
     "metadata": {},
     "source": [
      " - An alternative is planned development, in which high-level insight into the problem can make the programming much easier. We can convert Time objects to integers and take advantage of the fact that the computer knows how to do integer arithmetic."
     ]
    },
    {
     "cell_type": "code",
     "collapsed": false,
     "input": [
      "def time_to_int(time):\n",
      "    minutes = time.hour * 60 + time.minute\n",
      "    seconds = minutes * 60 + time.second\n",
      "    return seconds"
     ],
     "language": "python",
     "metadata": {},
     "outputs": [],
     "prompt_number": 38
    },
    {
     "cell_type": "code",
     "collapsed": false,
     "input": [
      "def int_to_time(seconds):\n",
      "    time = Time()\n",
      "    minutes, time.second = divmod(seconds, 60)\n",
      "    time.hour, time.minute = divmod(minutes, 60)\n",
      "    return time"
     ],
     "language": "python",
     "metadata": {},
     "outputs": [],
     "prompt_number": 39
    },
    {
     "cell_type": "code",
     "collapsed": false,
     "input": [
      "def add_time(t1, t2):\n",
      "    seconds = time_to_int(t1) + time_to_int(t2)\n",
      "    return int_to_time(seconds)"
     ],
     "language": "python",
     "metadata": {},
     "outputs": [],
     "prompt_number": 40
    },
    {
     "cell_type": "heading",
     "level": 2,
     "metadata": {},
     "source": [
      "Invariants"
     ]
    },
    {
     "cell_type": "markdown",
     "metadata": {},
     "source": [
      "Values of minute and second are between 0 and 60 (including 0 but not 60) and hour is positive. Hour and minute should be integral values, but we might allow second to have a fraction part."
     ]
    },
    {
     "cell_type": "code",
     "collapsed": false,
     "input": [
      "def valid_time(time):\n",
      "    if time.hour < 0 or time.minute < 0 or time.second < 0:\n",
      "        return False\n",
      "    if time.minute >= 60 or time.second >= 60:\n",
      "        return False\n",
      "    return True"
     ],
     "language": "python",
     "metadata": {},
     "outputs": [],
     "prompt_number": 41
    },
    {
     "cell_type": "code",
     "collapsed": false,
     "input": [],
     "language": "python",
     "metadata": {},
     "outputs": []
    }
   ],
   "metadata": {}
  }
 ]
}