{
 "metadata": {
  "name": "",
  "signature": "sha256:18b8db98495974734c7907f7ab62edc3eae36d1e01ceecf80675e6160a9ba7d0"
 },
 "nbformat": 3,
 "nbformat_minor": 0,
 "worksheets": [
  {
   "cells": [
    {
     "cell_type": "heading",
     "level": 1,
     "metadata": {},
     "source": [
      "The task"
     ]
    },
    {
     "cell_type": "markdown",
     "metadata": {},
     "source": [
      "Create a Tkinter window application that uses (in one application)\n",
      "- grid layout manager (1 point)\n",
      "- sticky option on each element (1 point)\n",
      "- Checkbuttons (1 points)\n",
      "- Scales (1 points)\n",
      "- Listboxes (1 points)\n",
      "- Callbacks on checkbuttons/scales that update some object (created by you) (3 points)\n",
      "- outputs updated object state to a listbox (2 points)"
     ]
    }
   ],
   "metadata": {}
  }
 ]
}