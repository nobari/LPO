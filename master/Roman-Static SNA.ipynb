{
 "metadata": {
  "name": "",
  "signature": "sha256:73323bb9df3f98ddf2c6526839aad0c2216c29f143c883b49a7ef314d5b24837"
 },
 "nbformat": 3,
 "nbformat_minor": 0,
 "worksheets": [
  {
   "cells": [
    {
     "cell_type": "markdown",
     "metadata": {},
     "source": [
      "# Static Social Network Analysis (SNA)\n",
      "## *Use case: vk.com*"
     ]
    },
    {
     "cell_type": "markdown",
     "metadata": {},
     "source": [
      "## SNA can be:\n",
      "* Static  (study of different metrics/network models)\n",
      "* Dynamic (change of static metrics over time; meta-networks; information propagation)"
     ]
    },
    {
     "cell_type": "markdown",
     "metadata": {},
     "source": [
      "## Static SNA Metrics\n",
      "* Degree (# of friends/followers)\n",
      "* Betweenness (# shortest paths that go through a node)\n",
      "* Distance (longest shortest path from a node to any other node)\n",
      "* PageRank (Google original ranking system)\n",
      "* Clustering coefficient (how dense the network is)"
     ]
    },
    {
     "cell_type": "markdown",
     "metadata": {},
     "source": [
      "## Project Definition \n",
      "Static Social Network Analysis\n",
      "**\u201cUsing Python to analysis the largest Russian social networking service in Europe (VKontakte)\u201d.**\n",
      "\n",
      "Output:\n",
      "Python scripts that:\n",
      "1. download data\n",
      "2. calculate characteristics\n",
      "3. calculate directions that user choose\n",
      "4. run 1. and 2. automatically"
     ]
    },
    {
     "cell_type": "markdown",
     "metadata": {},
     "source": [
      "## Project Plan\n",
      "1. Define key characteristics and directions (following)\n",
      "2. Download data (vk.com for this project)\n",
      "3. Calculate key characteristics\n",
      "4. Implement different directions/applicaitons\n",
      "5. Plot my social graph"
     ]
    },
    {
     "cell_type": "markdown",
     "metadata": {},
     "source": [
      "## Directions:\n",
      "Find info about your social network that could be useful and applied in the future.\n",
      "* Which social network connections generate the most value for a particular niche?\n",
      "    * Looking for a job in a particular company(-ies)\n",
      "    * Promotion of your product/startup/business\n",
      "    * Finding friends that admin the most popular groups\n",
      "    * Need to sell the car/flat/property\n",
      "* Who from my friends has the biggest number of common interests with me? \n",
      "* Who are the most influential/popular people in a social network?\n",
      "* How to identify social groups among my friends?\n",
      "* Calculate static SNA metrics. \n",
      "* Plot my social graph"
     ]
    },
    {
     "cell_type": "markdown",
     "metadata": {},
     "source": [
      "# Sample code\n",
      "* Retrieve vk user id by his screen name\n",
      "* Retrieve vk user friends' ids by user id\n",
      "* Write friends' ids to file\n",
      "* Retrieve 100 recent posts from wall per user (20 people only for now)\n",
      "* Get top 5 posts according to flag (likes/comments/reposts) per user\n",
      "* Get top 5 people (including me) according to flag"
     ]
    },
    {
     "cell_type": "heading",
     "level": 2,
     "metadata": {},
     "source": [
      "Creation and authorization of the application"
     ]
    },
    {
     "cell_type": "markdown",
     "metadata": {},
     "source": [
      "To get the **full** access to API Vkontakte, one way is to create a Standalone-app. After this we can use all desired methods of API. \n",
      "\n",
      "1. To create a Standalone-app we will need to validate the process with the code which will be sent to our mobile phone. \n",
      "2. In Settings tab we get app_ID necessary to get access_token.\n",
      "3. Then we authorize the app in 3 stages.\n",
      "    * https://oauth.vk.com/authorize?client_id=ID\u043f\u0440\u0438\u043b\u043e\u0436\u0435\u043d\u0438\u044f&scope=friends,offline&redirect_uri=https://oauth.vk.com/blank.html&display=page&v=5.21&response_type=token\n",
      "    * https://oauth.vk.com/blank.html#access_token=ACCESS_TOKEN&expires_in=0&user_id=USER_ID\n",
      "\n",
      "https://oauth.vk.com/authorize?client_id=ID\u043f\u0440\u0438\u043b\u043e\u0436\u0435\u043d\u0438\u044f&scope=friends,offline&redirect_uri=https://oauth.vk.com/blank.html&display=page&v=5.21&response_type=token"
     ]
    },
    {
     "cell_type": "heading",
     "level": 2,
     "metadata": {},
     "source": [
      "The Code"
     ]
    },
    {
     "cell_type": "code",
     "collapsed": false,
     "input": [
      "__author__ = 'Roman'\n",
      "\n",
      "import urllib, json\n",
      "\n",
      "API = 'https://api.vk.com/method/'\n",
      "default_id = '801017'\n",
      "token = ''\n",
      "\n",
      "def get_user_id(uid = default_id):\n",
      "    raw_data = urllib.urlopen(API + 'users.get?user_ids=%s&v=5.27' % default_id)\n",
      "    data = json.load(raw_data)\n",
      "    print data['response'][0]['first_name'], data['response'][0]['last_name']\n",
      "    return data['response'][0]['id']\n",
      "\n",
      "\n",
      "def get_user_friends(uid):\n",
      "    raw_data = urllib.urlopen(API + 'friends.get?user_id=%s&v=5.27' % uid)\n",
      "    data = json.load(raw_data)\n",
      "    return data['response']['items']\n",
      "\n",
      "\n",
      "def get_posts_data(uid, num):\n",
      "    raw_data = urllib.urlopen(API + 'wall.get?owner_id=%i&filter=owner&count=%i&v=5.27&access_token=%s' % (uid, num, token) )\n",
      "    data = json.load(raw_data)\n",
      "    return data['response']['items']\n",
      "\n",
      "\n",
      "def calc_top_posts(uid, rec, num, flag):\n",
      "    sort_list_dict(rec,flag)\n",
      "    small_rec = []\n",
      "    j = 0\n",
      "    for j in range(num):\n",
      "        if j != len(rec):\n",
      "            small_rec.append({'id':rec[j]['id'],\n",
      "                              'likes':rec[j]['likes']['count'],\n",
      "                              'comments':rec[j]['comments']['count'],\n",
      "                              'reposts':rec[j]['reposts']['count']})\n",
      "        else:\n",
      "            break\n",
      "\n",
      "    return small_rec\n",
      "\n",
      "def sort_list_dict(item, flag):\n",
      "\n",
      "    def swap(arr, i, j):\n",
      "        arr[i], arr[j] = arr[j], arr[i]\n",
      "\n",
      "    def bubble_sort(arr):\n",
      "        i = len(arr)\n",
      "        while i > 1:\n",
      "            for j in xrange(i - 1):\n",
      "                if flag == 'likes':\n",
      "                    if arr[j]['likes']['count'] < arr[j + 1]['likes']['count']:\n",
      "                        swap(arr, j, j + 1)\n",
      "                elif flag == 'comments':\n",
      "                    if arr[j]['comments']['count'] < arr[j + 1]['comments']['count']:\n",
      "                        swap(arr, j, j + 1)\n",
      "                elif flag == 'reposts':\n",
      "                    if arr[j]['reposts']['count'] < arr[j + 1]['reposts']['count']:\n",
      "                        swap(arr, j, j + 1)\n",
      "            i -= 1\n",
      "\n",
      "    bubble_sort(item)\n",
      "\n",
      "\n",
      "\n",
      "def calc_top_users(uid_top_data, friends, num, flag, num_people, num_posts):\n",
      "    top_data = [{'user_id':uid, 'top_posts':uid_top_data}]\n",
      "    k = 1\n",
      "    for i in friends:\n",
      "        if k == num_people:\n",
      "            break\n",
      "        friend_data = get_posts_data(i, num_posts)\n",
      "        friend_top_data = calc_top_posts(i, friend_data, num, flag)\n",
      "        top_data.append({'user_id':i, 'top_posts':friend_top_data})\n",
      "        print k,\n",
      "        k+=1\n",
      "    sort_list_dict_new(top_data,flag)\n",
      "\n",
      "    result = []\n",
      "    j = 0\n",
      "    for j in range(num):\n",
      "        if j != len(top_data):\n",
      "            result.append(top_data[j])\n",
      "        else:\n",
      "            break\n",
      "\n",
      "    return result\n",
      "\n",
      "def sort_list_dict_new(item, flag):\n",
      "\n",
      "    def swap(arr, i, j):\n",
      "        arr[i], arr[j] = arr[j], arr[i]\n",
      "\n",
      "    def bubble_sort(arr):\n",
      "        i = len(arr)\n",
      "        while i > 1:\n",
      "            for j in xrange(i - 1):\n",
      "                if flag == 'likes':\n",
      "                    if arr[j]['top_posts'][0]['likes'] < arr[j + 1]['top_posts'][0]['likes']:\n",
      "                        swap(arr, j, j + 1)\n",
      "                elif flag == 'comments':\n",
      "                    if arr[j]['top_posts'][0]['comments'] < arr[j + 1]['top_posts'][0]['comments']:\n",
      "                        swap(arr, j, j + 1)\n",
      "                elif flag == 'reposts':\n",
      "                    if arr[j]['top_posts'][0]['reposts'] < arr[j + 1]['top_posts'][0]['reposts']:\n",
      "                        swap(arr, j, j + 1)\n",
      "            i -= 1\n",
      "\n",
      "    bubble_sort(item)\n",
      "\n",
      "def print_result(top_posts,top_num,flag, num_people, num_posts):\n",
      "    uid_top_data = calc_top_posts(uid, rec, top_posts, flag)\n",
      "    top_users = calc_top_users(uid_top_data, friends, top_num, flag, num_people, num_posts)\n",
      "    print\n",
      "    print '='*15 + ' ' + flag.upper() + ' ' + '='*15\n",
      "    for i in range(top_num):\n",
      "        print '%i from TOP-%i' % (i+1, top_num)\n",
      "        print 'User: http://vk.com/id%s'% (top_users[i]['user_id'])\n",
      "        print 'TOP post: http://vk.com/id%s?w=wall%s_%s' % ( top_users[i]['user_id'], top_users[i]['user_id'], top_users[i]['top_posts'][0]['id'] )\n",
      "        print 'Likes: %i' % top_users[i]['top_posts'][0]['likes']\n",
      "        print 'Comments: %i' % top_users[i]['top_posts'][0]['comments']\n",
      "        print 'Reposts: %i\\n' % top_users[i]['top_posts'][0]['reposts']\n",
      "\n",
      "    print '='*15 + ' END %s' % (flag.upper()) + '='*15\n",
      "    print\n",
      "\n",
      "uid = get_user_id()\n",
      "print(uid)\n",
      "\n",
      "flag = 'likes'\n",
      "flag1 = 'comments'\n",
      "flag2 = 'reposts'\n",
      "\n",
      "top_posts = 5\n",
      "top_num = 5\n",
      "num_people = 20\n",
      "num_posts = 100\n",
      "\n",
      "friends = get_user_friends(uid)\n",
      "rec = get_posts_data(uid, num_posts)\n",
      "\n",
      "print_result(top_posts, top_num, flag, num_people, num_posts)\n",
      "print_result(top_posts, top_num, flag1, num_people, num_posts)\n",
      "print_result(top_posts, top_num, flag2, num_people, num_posts)\n",
      "\n",
      "with open('friends_of_%s.json' %uid, 'w+') as fp:\n",
      "    json.dump(friends,fp)"
     ],
     "language": "python",
     "metadata": {},
     "outputs": [
      {
       "output_type": "stream",
       "stream": "stdout",
       "text": [
        "\u0420\u043e\u043c\u0430\u043d \u041f\u0440\u0438\u043b\u0435\u043f\u0441\u043a\u0438\u0439\n",
        "801017\n",
        "1"
       ]
      },
      {
       "output_type": "stream",
       "stream": "stdout",
       "text": [
        " 2 "
       ]
      },
      {
       "output_type": "stream",
       "stream": "stdout",
       "text": [
        "3 "
       ]
      },
      {
       "output_type": "stream",
       "stream": "stdout",
       "text": [
        "4 "
       ]
      },
      {
       "output_type": "stream",
       "stream": "stdout",
       "text": [
        "5 "
       ]
      },
      {
       "output_type": "stream",
       "stream": "stdout",
       "text": [
        "6 "
       ]
      },
      {
       "output_type": "stream",
       "stream": "stdout",
       "text": [
        "7 "
       ]
      },
      {
       "output_type": "stream",
       "stream": "stdout",
       "text": [
        "8 "
       ]
      },
      {
       "output_type": "stream",
       "stream": "stdout",
       "text": [
        "9 "
       ]
      },
      {
       "output_type": "stream",
       "stream": "stdout",
       "text": [
        "10 "
       ]
      },
      {
       "output_type": "stream",
       "stream": "stdout",
       "text": [
        "11 "
       ]
      },
      {
       "output_type": "stream",
       "stream": "stdout",
       "text": [
        "12 "
       ]
      },
      {
       "output_type": "stream",
       "stream": "stdout",
       "text": [
        "13 "
       ]
      },
      {
       "output_type": "stream",
       "stream": "stdout",
       "text": [
        "14 "
       ]
      },
      {
       "output_type": "stream",
       "stream": "stdout",
       "text": [
        "15 "
       ]
      },
      {
       "output_type": "stream",
       "stream": "stdout",
       "text": [
        "16 "
       ]
      },
      {
       "output_type": "stream",
       "stream": "stdout",
       "text": [
        "17 "
       ]
      },
      {
       "output_type": "stream",
       "stream": "stdout",
       "text": [
        "18 "
       ]
      },
      {
       "output_type": "stream",
       "stream": "stdout",
       "text": [
        "19\n",
        "=============== LIKES ===============\n",
        "1 from TOP-5\n",
        "User: http://vk.com/id801017\n",
        "TOP post: http://vk.com/id801017?w=wall801017_10980\n",
        "Likes: 1074\n",
        "Comments: 15\n",
        "Reposts: 192\n",
        "\n",
        "2 from TOP-5\n",
        "User: http://vk.com/id2186\n",
        "TOP post: http://vk.com/id2186?w=wall2186_2190\n",
        "Likes: 159\n",
        "Comments: 23\n",
        "Reposts: 4\n",
        "\n",
        "3 from TOP-5\n",
        "User: http://vk.com/id12316\n",
        "TOP post: http://vk.com/id12316?w=wall12316_1876\n",
        "Likes: 143\n",
        "Comments: 15\n",
        "Reposts: 16\n",
        "\n",
        "4 from TOP-5\n",
        "User: http://vk.com/id11930\n",
        "TOP post: http://vk.com/id11930?w=wall11930_1025\n",
        "Likes: 101\n",
        "Comments: 5\n",
        "Reposts: 6\n",
        "\n",
        "5 from TOP-5\n",
        "User: http://vk.com/id2150\n",
        "TOP post: http://vk.com/id2150?w=wall2150_11680\n",
        "Likes: 88\n",
        "Comments: 51\n",
        "Reposts: 0\n",
        "\n",
        "=============== END LIKES===============\n",
        "\n",
        "1"
       ]
      },
      {
       "output_type": "stream",
       "stream": "stdout",
       "text": [
        " 2 "
       ]
      },
      {
       "output_type": "stream",
       "stream": "stdout",
       "text": [
        "3 "
       ]
      },
      {
       "output_type": "stream",
       "stream": "stdout",
       "text": [
        "4 "
       ]
      },
      {
       "output_type": "stream",
       "stream": "stdout",
       "text": [
        "5 "
       ]
      },
      {
       "output_type": "stream",
       "stream": "stdout",
       "text": [
        "6 "
       ]
      },
      {
       "output_type": "stream",
       "stream": "stdout",
       "text": [
        "7 "
       ]
      },
      {
       "output_type": "stream",
       "stream": "stdout",
       "text": [
        "8 "
       ]
      },
      {
       "output_type": "stream",
       "stream": "stdout",
       "text": [
        "9 "
       ]
      },
      {
       "output_type": "stream",
       "stream": "stdout",
       "text": [
        "10 "
       ]
      },
      {
       "output_type": "stream",
       "stream": "stdout",
       "text": [
        "11 "
       ]
      },
      {
       "output_type": "stream",
       "stream": "stdout",
       "text": [
        "12 "
       ]
      },
      {
       "output_type": "stream",
       "stream": "stdout",
       "text": [
        "13 "
       ]
      },
      {
       "output_type": "stream",
       "stream": "stdout",
       "text": [
        "14 "
       ]
      },
      {
       "output_type": "stream",
       "stream": "stdout",
       "text": [
        "15 "
       ]
      },
      {
       "output_type": "stream",
       "stream": "stdout",
       "text": [
        "16 "
       ]
      },
      {
       "output_type": "stream",
       "stream": "stdout",
       "text": [
        "17 "
       ]
      },
      {
       "output_type": "stream",
       "stream": "stdout",
       "text": [
        "18 "
       ]
      },
      {
       "output_type": "stream",
       "stream": "stdout",
       "text": [
        "19\n",
        "=============== COMMENTS ===============\n",
        "1 from TOP-5\n",
        "User: http://vk.com/id15592\n",
        "TOP post: http://vk.com/id15592?w=wall15592_4268\n",
        "Likes: 13\n",
        "Comments: 65\n",
        "Reposts: 0\n",
        "\n",
        "2 from TOP-5\n",
        "User: http://vk.com/id2150\n",
        "TOP post: http://vk.com/id2150?w=wall2150_11680\n",
        "Likes: 88\n",
        "Comments: 51\n",
        "Reposts: 0\n",
        "\n",
        "3 from TOP-5\n",
        "User: http://vk.com/id11930\n",
        "TOP post: http://vk.com/id11930?w=wall11930_1083\n",
        "Likes: 6\n",
        "Comments: 36\n",
        "Reposts: 0\n",
        "\n",
        "4 from TOP-5\n",
        "User: http://vk.com/id801017\n",
        "TOP post: http://vk.com/id801017?w=wall801017_11000\n",
        "Likes: 16\n",
        "Comments: 29\n",
        "Reposts: 1\n",
        "\n",
        "5 from TOP-5\n",
        "User: http://vk.com/id23012\n",
        "TOP post: http://vk.com/id23012?w=wall23012_825\n",
        "Likes: 5\n",
        "Comments: 28\n",
        "Reposts: 2\n",
        "\n",
        "=============== END COMMENTS===============\n",
        "\n",
        "1"
       ]
      },
      {
       "output_type": "stream",
       "stream": "stdout",
       "text": [
        " 2 "
       ]
      },
      {
       "output_type": "stream",
       "stream": "stdout",
       "text": [
        "3 "
       ]
      },
      {
       "output_type": "stream",
       "stream": "stdout",
       "text": [
        "4 "
       ]
      },
      {
       "output_type": "stream",
       "stream": "stdout",
       "text": [
        "5 "
       ]
      },
      {
       "output_type": "stream",
       "stream": "stdout",
       "text": [
        "6 "
       ]
      },
      {
       "output_type": "stream",
       "stream": "stdout",
       "text": [
        "7 "
       ]
      },
      {
       "output_type": "stream",
       "stream": "stdout",
       "text": [
        "8 "
       ]
      },
      {
       "output_type": "stream",
       "stream": "stdout",
       "text": [
        "9 "
       ]
      },
      {
       "output_type": "stream",
       "stream": "stdout",
       "text": [
        "10 "
       ]
      },
      {
       "output_type": "stream",
       "stream": "stdout",
       "text": [
        "11 "
       ]
      },
      {
       "output_type": "stream",
       "stream": "stdout",
       "text": [
        "12 "
       ]
      },
      {
       "output_type": "stream",
       "stream": "stdout",
       "text": [
        "13 "
       ]
      },
      {
       "output_type": "stream",
       "stream": "stdout",
       "text": [
        "14 "
       ]
      },
      {
       "output_type": "stream",
       "stream": "stdout",
       "text": [
        "15 "
       ]
      },
      {
       "output_type": "stream",
       "stream": "stdout",
       "text": [
        "16 "
       ]
      },
      {
       "output_type": "stream",
       "stream": "stdout",
       "text": [
        "17 "
       ]
      },
      {
       "output_type": "stream",
       "stream": "stdout",
       "text": [
        "18 "
       ]
      },
      {
       "output_type": "stream",
       "stream": "stdout",
       "text": [
        "19\n",
        "=============== REPOSTS ===============\n",
        "1 from TOP-5\n",
        "User: http://vk.com/id801017\n",
        "TOP post: http://vk.com/id801017?w=wall801017_10980\n",
        "Likes: 1074\n",
        "Comments: 15\n",
        "Reposts: 192\n",
        "\n",
        "2 from TOP-5\n",
        "User: http://vk.com/id12316\n",
        "TOP post: http://vk.com/id12316?w=wall12316_1826\n",
        "Likes: 83\n",
        "Comments: 8\n",
        "Reposts: 17\n",
        "\n",
        "3 from TOP-5\n",
        "User: http://vk.com/id16865\n",
        "TOP post: http://vk.com/id16865?w=wall16865_2342\n",
        "Likes: 23\n",
        "Comments: 0\n",
        "Reposts: 12\n",
        "\n",
        "4 from TOP-5\n",
        "User: http://vk.com/id8894\n",
        "TOP post: http://vk.com/id8894?w=wall8894_8976\n",
        "Likes: 54\n",
        "Comments: 0\n",
        "Reposts: 11\n",
        "\n",
        "5 from TOP-5\n",
        "User: http://vk.com/id2150\n",
        "TOP post: http://vk.com/id2150?w=wall2150_12284\n",
        "Likes: 54\n",
        "Comments: 3\n",
        "Reposts: 10\n",
        "\n",
        "=============== END REPOSTS===============\n",
        "\n"
       ]
      }
     ],
     "prompt_number": 1
    },
    {
     "cell_type": "markdown",
     "metadata": {},
     "source": [
      "## Next steps:\n",
      "* Write script for searching communities\n",
      "* Write script that crawls data periodically\n",
      "* Write script that plots dynamics of metrics' changes"
     ]
    },
    {
     "cell_type": "markdown",
     "metadata": {},
     "source": [
      "## References\n",
      "* [Social Networks Analysis for Startups (2011)](http://www.amazon.com/Social-Network-Analysis-Startups-connections/dp/1449306462) \n",
      "* [Analyzing the Social Web](http://analyzingthesocialweb.com/index.shtml) \n",
      "* [Analysis of friendship connections in VK with Python, part1](http://habrahabr.ru/post/221251/)\n",
      "* [Analysis of friendship connections in VK with Python, part2](http://habrahabr.ru/post/243229/)\n",
      "* [Social Network Analysis (Wiki)](http://en.wikipedia.org/wiki/Social_network_analysis)\n",
      "* [VK API methods](https://vk.com/dev/methods)"
     ]
    },
    {
     "cell_type": "code",
     "collapsed": false,
     "input": [],
     "language": "python",
     "metadata": {},
     "outputs": []
    }
   ],
   "metadata": {}
  }
 ]
}