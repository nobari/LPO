{
 "metadata": {
  "name": "",
  "signature": "sha256:155a3ad3d72e1060b7b6436ef9047b209779a114beb6a69e8ee044211077ad5f"
 },
 "nbformat": 3,
 "nbformat_minor": 0,
 "worksheets": [
  {
   "cells": [
    {
     "cell_type": "markdown",
     "metadata": {},
     "source": [
      "# Dynamic Social Network Analysis (SNA)\n",
      "## *Use case: vk.com*"
     ]
    },
    {
     "cell_type": "markdown",
     "metadata": {},
     "source": [
      "## SNA can be:\n",
      "* Static  (study of different metrics/network models)\n",
      "* Dynamic (change of static metrics over time; meta-networks; information propagation)"
     ]
    },
    {
     "cell_type": "markdown",
     "metadata": {},
     "source": [
      "## Static SNA Metrics\n",
      "* Degree (# of friends/followers)\n",
      "* Betweenness (# shortest paths that go through a node)\n",
      "* Distance (longest shortest path from a node to any other node)\n",
      "* PageRank (Google original ranking system)\n",
      "* Clustering coefficient (how dense the network is)"
     ]
    },
    {
     "cell_type": "markdown",
     "metadata": {},
     "source": [
      "## Static SNA models\n",
      "* Random (eg. Erdos-Renyi '59)\n",
      "* Small-world (eg. Watts-Strogatz '98)\n",
      "* Scale-free (eg. Barabasi-Albert '99)"
     ]
    },
    {
     "cell_type": "markdown",
     "metadata": {},
     "source": [
      "## Meta-Networks\n",
      "* Multi-mode (different types of nodes: people, companies, products)\n",
      "* Multi-links (different types of edges: follow, friend, post)\n",
      "* Multi-level (different layers in a network: people, organization)"
     ]
    },
    {
     "cell_type": "markdown",
     "metadata": {},
     "source": [
      "## Information Propagation Problems\n",
      "* Influence Maximization problem\n",
      "* Resource Allocation problem\n",
      "* Link Prediction problem"
     ]
    },
    {
     "cell_type": "markdown",
     "metadata": {},
     "source": [
      "## Project Definition \n",
      "Dynamic Social Network Analysis\n",
      "*Study how key characteristics of social networks are changing over time.*\n",
      "Output:\n",
      "Python scripts that:\n",
      "1. download data\n",
      "2. calculate characteristics\n",
      "3. run 1. and 2. automatically\n"
     ]
    },
    {
     "cell_type": "markdown",
     "metadata": {},
     "source": [
      "## Project Plan\n",
      "1. Define key characteristics (following)\n",
      "2. Download data (vk.com for this project)\n",
      "3. Calculate key characteristics\n",
      "4. Repeat 2 and 3 for several timestamps\n",
      "5. Compare results for different timestamps\n",
      "6. Plot results"
     ]
    },
    {
     "cell_type": "markdown",
     "metadata": {},
     "source": [
      "## Directions:\n",
      "Check how centrality is changing over tiem in a community.\n",
      "* Find several communities (eg. university-level) by providing a search query \n",
      "* Calculate degree/clustering coefficients for provided timestamps. \n",
      "* Plot graphs of dynamic changes\n",
      "* Extra: find possible outliers"
     ]
    },
    {
     "cell_type": "markdown",
     "metadata": {},
     "source": [
      "# Sample code\n",
      "* Retrieve vk user id by his screen name\n",
      "* Retrieve vk user friends' ids by user id\n",
      "* Write friends' ids to file"
     ]
    },
    {
     "cell_type": "code",
     "collapsed": false,
     "input": [
      "import urllib, json\n",
      "\n",
      "API = \"https://api.vk.com/method/\"\n",
      "default_id = \"dm\"\n",
      "\n",
      "def get_user_id(uid=default_id):\n",
      "\traw_data = urllib.urlopen(API + 'users.get?user_ids=%s&v=5.26' % uid)\n",
      "\tdata = json.load(raw_data)\n",
      "\tprint data['response'][0]['first_name'], data['response'][0]['last_name']\n",
      "\treturn data['response'][0]['id']\n",
      "\n",
      "uid = get_user_id()\n",
      "print uid\n",
      "\n",
      "def get_user_friends(uid):\n",
      "\traw_data = urllib.urlopen(API + 'friends.get?user_id=%s&v=5.26' % uid)\n",
      "\tdata = json.load(raw_data)\n",
      "\treturn data['response']['items']\n",
      "\n",
      "friends = get_user_friends(uid)\n",
      "\n",
      "with open('friends_of_%s.json' %uid, 'w+') as fp:\n",
      "\tjson.dump(friends, fp)"
     ],
     "language": "python",
     "metadata": {},
     "outputs": [
      {
       "output_type": "stream",
       "stream": "stdout",
       "text": [
        "\u0414\u043c\u0438\u0442\u0440\u0438\u0439 \u041c\u0435\u0434\u0432\u0435\u0434\u0435\u0432\n",
        "53083705\n"
       ]
      }
     ],
     "prompt_number": 1
    },
    {
     "cell_type": "markdown",
     "metadata": {},
     "source": [
      "## Next steps:\n",
      "* Write script for searching communities\n",
      "* Write script that crawls data periodically\n",
      "* Write script that plots dynamics of metrics' changes"
     ]
    },
    {
     "cell_type": "markdown",
     "metadata": {},
     "source": [
      "## References\n",
      "* [Social Networks Analysis for Startups (2011)](http://www.amazon.com/Social-Network-Analysis-Startups-connections/dp/1449306462) \n",
      "* [Dynamic Social Network Analysis (Wiki)](http://en.wikipedia.org/wiki/Dynamic_network_analysis)\n",
      "* [Social Network Analysis (Wiki)](http://en.wikipedia.org/wiki/Social_network_analysis)\n",
      "* [VK API methods](https://vk.com/dev/methods)"
     ]
    }
   ],
   "metadata": {}
  }
 ]
}