{
 "metadata": {
  "name": "",
  "signature": "sha256:9a5b60ff945f2a0cb5a40d83bc87d723f0c98755990aec858f9b88ee780c695e"
 },
 "nbformat": 3,
 "nbformat_minor": 0,
 "worksheets": [
  {
   "cells": [
    {
     "cell_type": "heading",
     "level": 2,
     "metadata": {},
     "source": [
      "Documentation."
     ]
    },
    {
     "cell_type": "markdown",
     "metadata": {},
     "source": [
      "A README file at the root directory should give general information to both users and maintainers of a project. It should be raw text or written in some very easy to read markup, such as reStructuredText or Markdown."
     ]
    },
    {
     "cell_type": "markdown",
     "metadata": {},
     "source": [
      "It should contain a few lines explaining the purpose of the project or library (without assuming the user knows anything about the project), the url of the main source for the software, and some basic credit information. This file is the main entry point for readers of the code."
     ]
    },
    {
     "cell_type": "code",
     "collapsed": false,
     "input": [
      "from IPython.display import HTML\n",
      "HTML('<iframe src=https://www.drupal.org/node/2181737 width=700 height=350></iframe>')"
     ],
     "language": "python",
     "metadata": {},
     "outputs": [
      {
       "html": [
        "<iframe src=https://www.drupal.org/node/2181737 width=700 height=350></iframe>"
       ],
       "metadata": {},
       "output_type": "pyout",
       "prompt_number": 1,
       "text": [
        "<IPython.core.display.HTML at 0x104045810>"
       ]
      }
     ],
     "prompt_number": 1
    },
    {
     "cell_type": "markdown",
     "metadata": {},
     "source": [
      "An INSTALL file is less necessary with Python. The installation instructions are often reduced to one command, such as pip install module or python setup.py install and added to the README file.\n",
      "\n",
      "A LICENSE file should always be present and specify the license under which the software is made available to the public.\n",
      "\n",
      "A TODO file or a TODO section in README should list the planned development for the code.\n",
      "\n",
      "A CHANGELOG file or section in README should compile a short overview of the changes in the code base for the latest versions."
     ]
    },
    {
     "cell_type": "heading",
     "level": 3,
     "metadata": {},
     "source": [
      "Project Publication"
     ]
    },
    {
     "cell_type": "markdown",
     "metadata": {},
     "source": [
      "Depending on the project, your documentation might include some or all of the following components:\n",
      "\n",
      "- An introduction should show a very short overview of what can be done with the product, using one or two extremely simplified use cases. This is the thirty-second pitch for your project.\n",
      "- A tutorial should show some primary use cases in more detail. The reader will follow a step-by-step procedure to set-up a working prototype.\n",
      "- An API reference is typically generated from the code (see docstrings later). It will list all publicly available interfaces, parameters, and return values.\n",
      "- Developer documentation is intended for potential contributors. This can include code convention and general design strategy of the project."
     ]
    },
    {
     "cell_type": "code",
     "collapsed": false,
     "input": [
      "HTML('<iframe src=https://pythonhosted.org/an_example_pypi_project/sphinx.html width=1000 height=350></iframe>')"
     ],
     "language": "python",
     "metadata": {},
     "outputs": [
      {
       "html": [
        "<iframe src=https://pythonhosted.org/an_example_pypi_project/sphinx.html width=1000 height=350></iframe>"
       ],
       "metadata": {},
       "output_type": "pyout",
       "prompt_number": 3,
       "text": [
        "<IPython.core.display.HTML at 0x104456ad0>"
       ]
      }
     ],
     "prompt_number": 3
    },
    {
     "cell_type": "heading",
     "level": 3,
     "metadata": {},
     "source": [
      "Code Documentation Advice"
     ]
    },
    {
     "cell_type": "code",
     "collapsed": false,
     "input": [
      "def square_and_rooter(x):\n",
      "    \"\"\"Returns the square root of self times self.\"\"\""
     ],
     "language": "python",
     "metadata": {},
     "outputs": [],
     "prompt_number": 5
    },
    {
     "cell_type": "markdown",
     "metadata": {},
     "source": [
      "https://www.python.org/dev/peps/pep-0008/"
     ]
    },
    {
     "cell_type": "markdown",
     "metadata": {},
     "source": [
      "Do not use triple-quote strings to comment code. This is not a good practice, because line-oriented command-line tools such as grep will not be aware that the commented code is inactive. It is better to add hashes at the proper indentation level for every commented line. "
     ]
    },
    {
     "cell_type": "markdown",
     "metadata": {},
     "source": [
      "Docstrings versus Block comments aren\u2019t interchangeable. For a function or class, the leading comment block is a programmer\u2019s note. The docstring describes the operation of the function or class:"
     ]
    },
    {
     "cell_type": "code",
     "collapsed": false,
     "input": [
      "# This function slows down program execution for some reason.\n",
      "def square_and_rooter(x):\n",
      "    \"\"\"Returns the square root of self times self.\"\"\""
     ],
     "language": "python",
     "metadata": {},
     "outputs": [],
     "prompt_number": 15
    },
    {
     "cell_type": "markdown",
     "metadata": {},
     "source": [
      "To sum up: the markup used for the Python documentation is reStructuredText (however, plain text is fine, too), developed by the docutils project, amended by using a toolset named Sphinx to post-process the HTML output."
     ]
    },
    {
     "cell_type": "markdown",
     "metadata": {},
     "source": [
      "For geeks: https://docs.python.org/devguide/documenting.html"
     ]
    },
    {
     "cell_type": "heading",
     "level": 2,
     "metadata": {},
     "source": [
      "Testing"
     ]
    },
    {
     "cell_type": "markdown",
     "metadata": {},
     "source": [
      "Getting used to writing the testing code and the running code in parallel is now considered a good habit. Used wisely, this method helps you define more precisely your code\u2019s intent and have a more decoupled architecture."
     ]
    },
    {
     "cell_type": "markdown",
     "metadata": {},
     "source": [
      "Some general rules of testing:\n",
      "\n",
      "- A testing unit should focus on one ***tiny bit of functionality*** and ***prove it correct***.\n",
      "- Each test unit must be ***fully independent***. Each of them must be able to run alone, and also within the test suite, regardless of the order they are called. The implication of this rule is that each test must be loaded with a ***fresh dataset*** and may have to do some cleanup afterwards. This is usually handled by setUp() and tearDown() methods.\n",
      "- Try hard to make tests that ***run fast***. If one single test needs more than a few millisecond to run, development will be slowed down or the tests will not be run as often as desirable. In some cases, tests can\u2019t be fast because they need a complex data structure to work on, and this data structure must be loaded every time the test runs. Keep these heavier tests in a separate test suite that is run by some scheduled task, and run all other tests as often as needed.\n",
      "- Learn your tools and learn how to run a single test or a test case. Then, when developing a function inside a module, run this function\u2019s tests very often, ideally ***automatically when you save the code***.\n",
      "- Always run ***the full test suite*** before a coding session, and run it again after. This will give you more confidence that you did not break anything in the rest of the code.\n",
      "- It is a good idea to ***implement a hook*** that runs all tests before pushing code to a shared repository.\n",
      "- If you are in the middle of a development session and have to interrupt your work, it is a good idea ***to write a broken unit test*** about what you want to develop next. When coming back to work, you will have a pointer to where you were and get back on track faster.\n",
      "- The first step when you are debugging your code is ***to write a new test pinpointing the bug***. While it is not always possible to do, those bug catching tests are among the most valuable pieces of code in your project.\n",
      "- Use ***long and descriptive names for testing functions***. The style guide here is slightly different than that of running code, where short names are often preferred. The reason is testing functions are never called explicitly. square() or even sqr() is ok in running code, but in testing code you would have names such as test_square_of_number_2(), test_square_negative_number(). These function names are displayed when a test fails, and should be as descriptive as possible.\n",
      "- When something goes wrong or has to be changed, and if your code has a good set of tests, you or other maintainers will rely largely on the testing suite to fix the problem or modify a given behavior. Therefore the testing code ***will be read as much as or even more than the running code***. A unit test whose purpose is unclear is not very helpful is this case.\n",
      "- Another use of the testing code is as an introduction ***to new developers***. When someone will have to work on the code base, running and reading the related testing code is often the best they can do. They will or should discover the hot spots, where most difficulties arise, and the corner cases. If they have to add some functionality, the first step should be to add a test and, by this means, ensure the new functionality is not already a working path that has not been plugged into the interface."
     ]
    },
    {
     "cell_type": "heading",
     "level": 3,
     "metadata": {},
     "source": [
      "Basic"
     ]
    },
    {
     "cell_type": "heading",
     "level": 4,
     "metadata": {},
     "source": [
      "UnitTest"
     ]
    },
    {
     "cell_type": "markdown",
     "metadata": {},
     "source": [
      "unittest is the batteries-included test module in the Python standard library. Its API will be familiar to anyone who has used any of the JUnit/nUnit/CppUnit series of tools.\n",
      "\n",
      "Creating test cases is accomplished by subclassing unittest.TestCase."
     ]
    },
    {
     "cell_type": "code",
     "collapsed": false,
     "input": [
      "import unittest\n",
      "\n",
      "def fun(x):\n",
      "    return x + 1\n",
      "\n",
      "class MyTest(unittest.TestCase):\n",
      "    def test(self):\n",
      "        self.assertEqual(fun(3), 4)"
     ],
     "language": "python",
     "metadata": {},
     "outputs": [],
     "prompt_number": 17
    },
    {
     "cell_type": "code",
     "collapsed": false,
     "input": [
      "# Here's our \"unit\".\n",
      "def IsOdd(n):\n",
      "    return n % 2 == 1\n",
      "\n",
      "# Here's our \"unit tests\".\n",
      "class IsOddTests(unittest.TestCase):\n",
      "\n",
      "    def testOne(self):\n",
      "        self.failUnless(IsOdd(1))\n",
      "\n",
      "    def testTwo(self):\n",
      "        self.failIf(IsOdd(2))"
     ],
     "language": "python",
     "metadata": {},
     "outputs": [],
     "prompt_number": 30
    },
    {
     "cell_type": "markdown",
     "metadata": {},
     "source": [
      "In order to run a unittest in the ipython notebook, in a new cell, create a test suite and then run it using TextTestRunner,"
     ]
    },
    {
     "cell_type": "code",
     "collapsed": false,
     "input": [
      "suite = unittest.TestLoader().loadTestsFromTestCase(IsOddTests)\n",
      "unittest.TextTestRunner().run(suite)"
     ],
     "language": "python",
     "metadata": {},
     "outputs": [
      {
       "output_type": "stream",
       "stream": "stderr",
       "text": [
        "."
       ]
      },
      {
       "output_type": "stream",
       "stream": "stderr",
       "text": [
        "."
       ]
      },
      {
       "output_type": "stream",
       "stream": "stderr",
       "text": [
        "\n",
        "----------------------------------------------------------------------\n",
        "Ran 2 tests in 0.002s\n",
        "\n",
        "OK\n"
       ]
      },
      {
       "metadata": {},
       "output_type": "pyout",
       "prompt_number": 29,
       "text": [
        "<unittest.runner.TextTestResult run=2 errors=0 failures=0>"
       ]
      }
     ],
     "prompt_number": 29
    },
    {
     "cell_type": "code",
     "collapsed": false,
     "input": [
      "suite = unittest.TestLoader().loadTestsFromTestCase(MyTest)\n",
      "unittest.TextTestRunner().run(suite)"
     ],
     "language": "python",
     "metadata": {},
     "outputs": [
      {
       "output_type": "stream",
       "stream": "stderr",
       "text": [
        "."
       ]
      },
      {
       "output_type": "stream",
       "stream": "stderr",
       "text": [
        "\n",
        "----------------------------------------------------------------------\n",
        "Ran 1 test in 0.001s\n",
        "\n",
        "OK\n"
       ]
      },
      {
       "metadata": {},
       "output_type": "pyout",
       "prompt_number": 31,
       "text": [
        "<unittest.runner.TextTestResult run=1 errors=0 failures=0>"
       ]
      }
     ],
     "prompt_number": 31
    },
    {
     "cell_type": "code",
     "collapsed": false,
     "input": [
      "class DatePattern:\n",
      "\n",
      "    def __init__(self, year, month, day):\n",
      "        pass\n",
      "\n",
      "    def matches(self, date):\n",
      "        return True\n",
      "    \n",
      "\n",
      "class MyTestNew(unittest.TestCase):\n",
      "    \n",
      "    def testMatches(self):\n",
      "        p = DatePattern(2004, 9, 28)\n",
      "        d = datetime.date(2004, 9, 28)\n",
      "        self.failUnless(p.matches(d))"
     ],
     "language": "python",
     "metadata": {},
     "outputs": [],
     "prompt_number": 37
    },
    {
     "cell_type": "code",
     "collapsed": false,
     "input": [
      "suite = unittest.TestLoader().loadTestsFromTestCase(MyTestNew)\n",
      "unittest.TextTestRunner().run(suite)"
     ],
     "language": "python",
     "metadata": {},
     "outputs": [
      {
       "output_type": "stream",
       "stream": "stderr",
       "text": [
        "E"
       ]
      },
      {
       "output_type": "stream",
       "stream": "stderr",
       "text": [
        "\n",
        "======================================================================\n",
        "ERROR: testMatches (__main__.MyTestNew)\n",
        "----------------------------------------------------------------------\n",
        "Traceback (most recent call last):\n",
        "  File \"<ipython-input-37-22147778710d>\", line 14, in testMatches\n",
        "    d = datetime.date(2004, 9, 28)\n",
        "NameError: global name 'datetime' is not defined\n",
        "\n",
        "----------------------------------------------------------------------\n",
        "Ran 1 test in 0.011s\n",
        "\n",
        "FAILED (errors=1)\n"
       ]
      },
      {
       "metadata": {},
       "output_type": "pyout",
       "prompt_number": 38,
       "text": [
        "<unittest.runner.TextTestResult run=1 errors=1 failures=0>"
       ]
      }
     ],
     "prompt_number": 38
    },
    {
     "cell_type": "code",
     "collapsed": false,
     "input": [
      "import datetime\n",
      "class DatePattern:\n",
      "\n",
      "    def __init__(self, year, month, day):\n",
      "        pass\n",
      "\n",
      "    def matches(self, date):\n",
      "        return True\n",
      "    \n",
      "\n",
      "class MyTestNew(unittest.TestCase):\n",
      "    \n",
      "    def testMatches(self):\n",
      "        p = DatePattern(2004, 9, 28)\n",
      "        d = datetime.date(2004, 9, 28)\n",
      "        self.failUnless(p.matches(d))"
     ],
     "language": "python",
     "metadata": {},
     "outputs": [],
     "prompt_number": 39
    },
    {
     "cell_type": "code",
     "collapsed": false,
     "input": [
      "suite = unittest.TestLoader().loadTestsFromTestCase(MyTestNew)\n",
      "unittest.TextTestRunner().run(suite)"
     ],
     "language": "python",
     "metadata": {},
     "outputs": [
      {
       "output_type": "stream",
       "stream": "stderr",
       "text": [
        "."
       ]
      },
      {
       "output_type": "stream",
       "stream": "stderr",
       "text": [
        "\n",
        "----------------------------------------------------------------------\n",
        "Ran 1 test in 0.008s\n",
        "\n",
        "OK\n"
       ]
      },
      {
       "metadata": {},
       "output_type": "pyout",
       "prompt_number": 40,
       "text": [
        "<unittest.runner.TextTestResult run=1 errors=0 failures=0>"
       ]
      }
     ],
     "prompt_number": 40
    },
    {
     "cell_type": "heading",
     "level": 4,
     "metadata": {},
     "source": [
      "Doctest"
     ]
    },
    {
     "cell_type": "markdown",
     "metadata": {},
     "source": [
      "The doctest module searches for pieces of text that look like interactive Python sessions in docstrings, and then executes those sessions to verify that they work exactly as shown.\n",
      "\n",
      "Doctests have a different use case than proper unit tests: they are usually less detailed and don\u2019t catch special cases or obscure regression bugs. They are useful as an expressive documentation of the main use cases of a module and its components. However, doctests should run automatically each time the full test suite runs."
     ]
    },
    {
     "cell_type": "code",
     "collapsed": false,
     "input": [
      "def square(x):\n",
      "    \"\"\"Squares x.\n",
      "\n",
      "    >>> square(2)\n",
      "    4\n",
      "    >>> square(-2)\n",
      "    4\n",
      "    \"\"\"\n",
      "\n",
      "    return x * x"
     ],
     "language": "python",
     "metadata": {},
     "outputs": [],
     "prompt_number": 41
    },
    {
     "cell_type": "code",
     "collapsed": false,
     "input": [
      "import doctest\n",
      "doctest.testmod()"
     ],
     "language": "python",
     "metadata": {},
     "outputs": [
      {
       "metadata": {},
       "output_type": "pyout",
       "prompt_number": 42,
       "text": [
        "TestResults(failed=0, attempted=2)"
       ]
      }
     ],
     "prompt_number": 42
    },
    {
     "cell_type": "code",
     "collapsed": false,
     "input": [
      "def factorial(n):\n",
      "    \"\"\"Return the factorial of n, an exact integer >= 0.\n",
      "\n",
      "    If the result is small enough to fit in an int, return an int.\n",
      "    Else return a long.\n",
      "\n",
      "    >>> [factorial(n) for n in range(6)]\n",
      "    [1, 1, 2, 6, 24, 120]\n",
      "    >>> [factorial(long(n)) for n in range(6)]\n",
      "    [1, 1, 2, 6, 24, 120]\n",
      "    >>> factorial(30)\n",
      "    265252859812191058636308480000000L\n",
      "    >>> factorial(30L)\n",
      "    265252859812191058636308480000000L\n",
      "    >>> factorial(-1)\n",
      "    Traceback (most recent call last):\n",
      "        ...\n",
      "    ValueError: n must be >= 0\n",
      "\n",
      "    Factorials of floats are OK, but the float must be an exact integer:\n",
      "    >>> factorial(30.1)\n",
      "    Traceback (most recent call last):\n",
      "        ...\n",
      "    ValueError: n must be exact integer\n",
      "    >>> factorial(30.0)\n",
      "    265252859812191058636308480000000L\n",
      "\n",
      "    It must also not be ridiculously large:\n",
      "    >>> factorial(1e100)\n",
      "    Traceback (most recent call last):\n",
      "        ...\n",
      "    OverflowError: n too large\n",
      "    \"\"\"\n",
      "\n",
      "    import math\n",
      "    if not n >= 0:\n",
      "        raise ValueError(\"n must be >= 0\")\n",
      "    if math.floor(n) != n:\n",
      "        raise ValueError(\"n must be exact integer\")\n",
      "    if n+1 == n:  # catch a value like 1e300\n",
      "        raise OverflowError(\"n too large\")\n",
      "    result = 1\n",
      "    factor = 2\n",
      "    while factor <= n:\n",
      "        result *= factor\n",
      "        factor += 1\n",
      "    return result"
     ],
     "language": "python",
     "metadata": {},
     "outputs": [],
     "prompt_number": 45
    },
    {
     "cell_type": "code",
     "collapsed": false,
     "input": [
      "doctest.testmod()"
     ],
     "language": "python",
     "metadata": {},
     "outputs": [
      {
       "metadata": {},
       "output_type": "pyout",
       "prompt_number": 46,
       "text": [
        "TestResults(failed=0, attempted=10)"
       ]
      }
     ],
     "prompt_number": 46
    },
    {
     "cell_type": "heading",
     "level": 4,
     "metadata": {},
     "source": [
      "External tools"
     ]
    },
    {
     "cell_type": "heading",
     "level": 4,
     "metadata": {},
     "source": [
      "py.test"
     ]
    },
    {
     "cell_type": "code",
     "collapsed": false,
     "input": [
      "%%writefile test_my_add.py\n",
      "def my_add(a,b):\n",
      "    return a + b\n",
      "\n",
      "def test_my_add():\n",
      "    assert my_add(2,3) == 5"
     ],
     "language": "python",
     "metadata": {},
     "outputs": [
      {
       "output_type": "stream",
       "stream": "stdout",
       "text": [
        "Writing test_my_add.py\n"
       ]
      }
     ],
     "prompt_number": 58
    },
    {
     "cell_type": "markdown",
     "metadata": {},
     "source": [
      "Run the following command in the directory with the file:\n",
      "\n",
      "py.test"
     ]
    },
    {
     "cell_type": "code",
     "collapsed": false,
     "input": [
      "from IPython.display import Image\n",
      "Image(filename='testing.png')"
     ],
     "language": "python",
     "metadata": {},
     "outputs": [
      {
       "metadata": {},
       "output_type": "pyout",
       "png": "[encoded data removed]",
       "prompt_number": 59,
       "text": [
        "<IPython.core.display.Image at 0x10376d210>"
       ]
      }
     ],
     "prompt_number": 59
    },
    {
     "cell_type": "code",
     "collapsed": false,
     "input": [
      "Image(filename='testing1.png')"
     ],
     "language": "python",
     "metadata": {},
     "outputs": [
      {
       "metadata": {},
       "output_type": "pyout",
       "png": "[encoded data removed]",
       "prompt_number": 61,
       "text": [
        "<IPython.core.display.Image at 0x104b8e210>"
       ]
      }
     ],
     "prompt_number": 61
    },
    {
     "cell_type": "code",
     "collapsed": false,
     "input": [],
     "language": "python",
     "metadata": {},
     "outputs": []
    }
   ],
   "metadata": {}
  }
 ]
}