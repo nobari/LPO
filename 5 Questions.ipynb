{
 "metadata": {
  "name": "",
  "signature": "sha256:bf342ecfc7f6e75e65dc458b0d1a497541699b53ca99b1d6ed306fa1862f8350"
 },
 "nbformat": 3,
 "nbformat_minor": 0,
 "worksheets": [
  {
   "cells": [
    {
     "cell_type": "markdown",
     "metadata": {},
     "source": [
      "1. Read \"A note on Boolean Operators\" in http://en.wikibooks.org/wiki/Non-Programmer's_Tutorial_for_Python_3/Boolean_Expressions. Compare such behavior to any other programming language you are familiar with.\n",
      "2. Write a function to test if an integer is divisible by another integer\n",
      "3. Write a function to calculate the 100th number in Fibonacci sequence (1 and 1 are the first and second numbers)\n",
      "4. Write a program to determine and print all prime numbers less than 1000"
     ]
    },
    {
     "cell_type": "code",
     "collapsed": false,
     "input": [],
     "language": "python",
     "metadata": {},
     "outputs": []
    }
   ],
   "metadata": {}
  }
 ]
}