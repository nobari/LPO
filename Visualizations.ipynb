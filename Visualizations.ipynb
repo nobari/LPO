{
 "cells": [
  {
   "cell_type": "code",
   "execution_count": 1,
   "metadata": {
    "collapsed": false
   },
   "outputs": [
    {
     "name": "stdout",
     "output_type": "stream",
     "text": [
      "Populating the interactive namespace from numpy and matplotlib\n"
     ]
    }
   ],
   "source": [
    "%pylab inline"
   ]
  },
  {
   "cell_type": "code",
   "execution_count": null,
   "metadata": {
    "collapsed": true
   },
   "outputs": [],
   "source": []
  },
  {
   "cell_type": "code",
   "execution_count": null,
   "metadata": {
    "collapsed": true
   },
   "outputs": [],
   "source": []
  },
  {
   "cell_type": "code",
   "execution_count": 2,
   "metadata": {
    "collapsed": true
   },
   "outputs": [],
   "source": [
    "from time import time"
   ]
  },
  {
   "cell_type": "code",
   "execution_count": 3,
   "metadata": {
    "collapsed": true
   },
   "outputs": [],
   "source": [
    "import networkx as nx\n",
    "import matplotlib.pyplot as plt\n",
    "import matplotlib.ticker as mtick"
   ]
  },
  {
   "cell_type": "code",
   "execution_count": 112,
   "metadata": {
    "collapsed": true
   },
   "outputs": [],
   "source": [
    "def pplot(to_draw):\n",
    "    ax = plt.subplot(111)\n",
    "    # Hide the right and top spines\n",
    "    ax.spines['right'].set_visible(False)\n",
    "    ax.spines['top'].set_visible(False)\n",
    "    # Only show ticks on the left and bottom spines\n",
    "    ax.yaxis.set_ticks_position('left')\n",
    "    ax.xaxis.set_ticks_position('bottom')\n",
    "    #fmt = to_draw[0]['xfmt'] # Format you want the ticks, e.g. '40%'\n",
    "    #xticks = mtick.FormatStrFormatter(fmt)\n",
    "    #ax.xaxis.set_major_formatter(xticks)\n",
    "    #fmt = to_draw[0]['yfmt'] #'%.0f%%' # Format you want the ticks, e.g. '40%'\n",
    "    #xticks = mtick.FormatStrFormatter(fmt)\n",
    "    #ax.yaxis.set_major_formatter(xticks)\n",
    "    \n",
    "    plt.xlabel(to_draw[0]['xlab'])\n",
    "    plt.ylabel(to_draw[0]['ylab'])\n",
    "\n",
    "    \n",
    "    legends = []\n",
    "    for t in to_draw:\n",
    "        l1, = ax.plot(t['x'], t['y'], '-', label = t['label'], fillstyle='none', marker = t['mark'])\n",
    "        legends.append(l1)\n",
    "    ax.legend(handles=legends)\n",
    "    \n",
    "    plt.savefig(to_draw[0]['file'], bbox_inches='tight')\n",
    "    plt.show()\n",
    "\n",
    "\n"
   ]
  },
  {
   "cell_type": "code",
   "execution_count": 113,
   "metadata": {
    "collapsed": true
   },
   "outputs": [],
   "source": [
    "loc_label = 'Local'\n",
    "glob_label = 'Global'\n",
    "loc_mark = 'o'\n",
    "glob_mark = 'v'"
   ]
  },
  {
   "cell_type": "code",
   "execution_count": 114,
   "metadata": {
    "collapsed": true
   },
   "outputs": [],
   "source": []
  },
  {
   "cell_type": "code",
   "execution_count": 115,
   "metadata": {
    "collapsed": true
   },
   "outputs": [],
   "source": [
    "opac = ['0','10','20','30','40','50','60','70','80','90','100']"
   ]
  },
  {
   "cell_type": "code",
   "execution_count": 116,
   "metadata": {
    "collapsed": true
   },
   "outputs": [],
   "source": [
    "#[1,0.235,0.145,0.02,0.01,0.0005,0,0,0,0,0] "
   ]
  },
  {
   "cell_type": "code",
   "execution_count": 153,
   "metadata": {
    "collapsed": false
   },
   "outputs": [],
   "source": [
    "# CC L 3 DENSE\n",
    "#l_emd = [1,0.868421053,0.862573099,0.847953216,0.839181287,0.833333333,0.830457,0.815784,0.795637,0.789684,0]\n",
    "#g_emd = [1,0.85964,0.85646,0.83045,0.795327,0.777,0.76023,0.754385,0.7485312,0.637426,0]\n",
    "\n",
    "#l_emd = [0.1,0.092460,0.092223803,0.088430536,0.0853,0.0829,0.078236131,0.075865339,0.071123755,0.068752963,0] - EMD L 3\n",
    "#g_emd = [0.1,0.0900,0.08108,0.075865,0.068752,0.06638,0.06401138,0.0592697,0.054528,0.054054,0]\n",
    "\n",
    "#l_emd = [0.7,0.66,0.655555556,0.644444444,0.637777778,0.63,0.6311,0.5777,0.5377,0.53333,0] - EMD L 1 \n",
    "#g_emd = [0.7,0.6533,0.651,0.631,0.604,0.591,0.577,0.57333,0.5688,0.484444,0]  - CC  L2 \n",
    "\n",
    "#l_emd = [0.1,0.065878378,0.065709459,0.063006757,\n",
    "#         0.060810811,0.059121622,0.055743243,0.002077703,0.001385135,0.001165541,0]\n",
    "#g_emd = [0.1,0.064189189,0.05777027,0.054054054,\n",
    "#         0.048986486,0.047297297,0.045608108,0.005793919,0.001570946,0.00116554,0]   - EMD L 2\n",
    "\n",
    "#l_emd = [0.7,0.622666667,0.553333333,0.408888889,0.26,0.131111111,0.073333333,0.042222222,0.026111111,0.023,0] CC L 1\n",
    "#g_emd = [0.7,0.653333333,0.642222222,0.631111111,0.604444444,0.58,0.142222222,0.110444444,0.029777778,0.023,0]\n",
    "\n",
    "#l_emd = [0.07,0.04527027,0.037432432,0.021621622,0.012162162,            -DENSE EMD L 1 \n",
    "#         0.005540541,0.003094595,0.001662162,0.001108108,0.000932432,0]\n",
    "\n",
    "#g_emd = [0.07,0.04959459,0.046216216,0.043243243,0.039189189,\n",
    "#         0.035810811,0.006202703,0.004635135,0.001256757,0.000932432,0]\n",
    "\n",
    "g_emd = [0.03,0.0189333333,0.011916667,0.00335,0.00151,3.33333E-05,0,0,0,0,0]\n",
    "l_emd = [0.03,0.019166667,0.012086,0.003533333,0.001516667,6.66667E-05,0,0,0,0,0]\n",
    "\n",
    "\n",
    "#g_emd = [0.03,0.0169333333,0.010816667,0.00335,0.0015,3.33333E-05,0,0,0,0,0] # CC 2 \n",
    "#l_emd = [0.03,0.018166667,0.01186,0.003533333,0.001516667,6.66667E-05,0,0,0,0,0]\n",
    "\n",
    "#g_emd = [0.03,0.013166667,0.009416667,0.002166667,0.000833333,0.000111667,0,0,0,0,0] #CC 1 g\n",
    "#l_emd = [0.03,0.009833333,0.003708333,0.0015,0.000666667,0.000111667,0,0,0,0,0]  #CC 1\n",
    "\n",
    "\n",
    "#[0.059,0.023462162,0.013627027,0.002527027,0.00121270,0.000975676,0.000202703,2.02703e-05,0,0,0] L =3 global emd\n",
    "#[0.059,0.012905405,0.003332432,0.001054054,0.000310811,3.10811E-05,0,0,0,0,0] L = 1 L \n",
    "#[0.059,0.022162162,0.012027027,0.002027027,0.00120270,0.000675676,0.000202703,2.02703e-05,0,0,0] L =2 L\n",
    "\n",
    "#[0.059,0.024972973,0.013783784,0.002837838,0.00122973,0.001121622,0.000405405,4.05405e-05,0,0,0] L =3 local emd\n",
    "\n",
    "#l_emd = [0.059,0.021013514,0.011608108,0.001013514,0.000306757,3.10811E-05,0,0,0,0,0] #L = 1 G\n",
    "#g_emd = [0.059,0.022972973,0.013783784,0.002837838,0.00122973,0.001121622,0.000405405,4.05405e-05,0,0,0]# l =2 G\n",
    "\n",
    "\n",
    "\n",
    "\n",
    "#l_emd = [0.059,0.025810811,0.006664865,0.002108108,0.0012,     0.00087,0,   0,   0,   0, 0] #EMD sparse L = 1\n",
    "#g_emd = [0.59,0.042027027,0.023216216,0.002027027,0.001927027,0,     0,0,0,0, 0] #- EMD sparse L = 1\n",
    "\n",
    "#g_emd = [0.1,0.0504324324,0.024054054,0.004054054,0.002405405,0.001351351,0,0,0,0,0]\n",
    "#l_emd = [0.1,0.056945946,0.027567568,0.005675676,0.002459459,0.002159459,0.001859459,0.001859459,0,0,0] "
   ]
  },
  {
   "cell_type": "code",
   "execution_count": 154,
   "metadata": {
    "collapsed": false
   },
   "outputs": [],
   "source": [
    "to_draw = []"
   ]
  },
  {
   "cell_type": "code",
   "execution_count": 155,
   "metadata": {
    "collapsed": false
   },
   "outputs": [],
   "source": [
    "\n",
    "loc = {}\n",
    "loc ['x'] = opac\n",
    "loc ['y'] = l_emd\n",
    "loc ['label'] = loc_label\n",
    "loc ['mark'] = loc_mark\n",
    "\n",
    "# Global parameters \n",
    "loc ['xfmt'] = '%.0f%%'\n",
    "loc ['yfmt'] = '%.0f%%'\n",
    "loc ['xlab'] = \"Confidence($\\\\theta$)\"\n",
    "#loc ['ylab'] = \"EMD of degree distributions\"\n",
    "loc ['ylab'] = \"Mean of the differences of CCs\"\n",
    "loc['file'] = 'CC_L3_Sparse.pdf'\n",
    "\n",
    "to_draw.append(loc)"
   ]
  },
  {
   "cell_type": "code",
   "execution_count": 156,
   "metadata": {
    "collapsed": true
   },
   "outputs": [],
   "source": [
    "loc = {}\n",
    "loc ['x'] = opac\n",
    "loc ['y'] = g_emd\n",
    "loc ['label'] = glob_label\n",
    "loc ['mark'] = glob_mark\n",
    "to_draw.append(loc)"
   ]
  },
  {
   "cell_type": "code",
   "execution_count": 157,
   "metadata": {
    "collapsed": false
   },
   "outputs": [
    {
     "data": {
      "image/png": "[encoded data removed]",
      "text/plain": [
       "<matplotlib.figure.Figure at 0x7f6eb2b96be0>"
      ]
     },
     "metadata": {},
     "output_type": "display_data"
    }
   ],
   "source": [
    "pplot(to_draw)"
   ]
  },
  {
   "cell_type": "code",
   "execution_count": null,
   "metadata": {
    "collapsed": true
   },
   "outputs": [],
   "source": []
  },
  {
   "cell_type": "code",
   "execution_count": 163,
   "metadata": {
    "collapsed": true
   },
   "outputs": [],
   "source": [
    "def pplot(to_draw):\n",
    "    ax = plt.subplot(111)\n",
    "    # Hide the right and top spines\n",
    "    ax.spines['right'].set_visible(False)\n",
    "    ax.spines['top'].set_visible(False)\n",
    "    # Only show ticks on the left and bottom spines\n",
    "    ax.yaxis.set_ticks_position('left')\n",
    "    ax.xaxis.set_ticks_position('bottom')\n",
    "    fmt = to_draw[0]['xfmt'] # Format you want the ticks, e.g. '40%'\n",
    "    xticks = mtick.FormatStrFormatter(fmt)\n",
    "    ax.xaxis.set_major_formatter(xticks)\n",
    "    fmt = to_draw[0]['yfmt'] #'%.0f%%' # Format you want the ticks, e.g. '40%'\n",
    "    xticks = mtick.FormatStrFormatter(fmt)\n",
    "    ax.yaxis.set_major_formatter(xticks)\n",
    "    \n",
    "    plt.xlabel(to_draw[0]['xlab'])\n",
    "    plt.ylabel(to_draw[0]['ylab'])\n",
    "    #ax.set_yscale('log')\n",
    "    \n",
    "    legends = []\n",
    "    for t in to_draw:\n",
    "        l1, = ax.plot(t['x'], t['y'], '-', label = t['label'], fillstyle='none', marker = t['mark'])\n",
    "        legends.append(l1)\n",
    "    ax.legend(handles=legends)\n",
    "    \n",
    "    plt.savefig(to_draw[0]['file'], bbox_inches='tight')\n",
    "    plt.show()\n",
    "\n"
   ]
  },
  {
   "cell_type": "code",
   "execution_count": 164,
   "metadata": {
    "collapsed": true
   },
   "outputs": [],
   "source": [
    "loc_label = 'Local'\n",
    "glob_label = 'Global'\n",
    "loc_mark = 'o'\n",
    "glob_mark = 'v'"
   ]
  },
  {
   "cell_type": "code",
   "execution_count": 165,
   "metadata": {
    "collapsed": true
   },
   "outputs": [],
   "source": [
    "to_draw = []"
   ]
  },
  {
   "cell_type": "code",
   "execution_count": 166,
   "metadata": {
    "collapsed": true
   },
   "outputs": [],
   "source": [
    "opac = ['0','10','20','30','40','50','60','70','80','90','100']"
   ]
  },
  {
   "cell_type": "code",
   "execution_count": 167,
   "metadata": {
    "collapsed": false
   },
   "outputs": [],
   "source": [
    "#local_opt =  [1,0.60625,0.6,0.575,0.56875,0.5625,0.525,0.50625,0.425,0.4,0]\n",
    "# [1,0.859649123,0.850877193,0.842105263,0.833333333,\n",
    " #             0.807017544,0.794736842,0.789473684,0.789473684,0.789473684,0] Dense L 3\n",
    "\n",
    "#[1,0.60625,0.6,0.575,0.56875,0.5625,0.525,0.50625,0.425,0.4,0] - DENSE L =  2 \n",
    "#[1,0.442631579,0.368421053,0.222105263,0.121052632,\n",
    "#              0.052631579,0.031578947,0.016842105,0.010526316,0.009210526,0]  - DENSE L = 1\n",
    "#_____________________________\n",
    "\n",
    "\n",
    "#______________________\n",
    "# \n",
    "#[1,0.36,0.2,0.09,0.06,0.02,0.006666667,0.000666667,0,0,0] Sparse L =3 \n",
    "local_opt = [1,0.353333333,0.18,0.066666667,0.04,0.02,0.006666667,0.000666667,0,0,0] #- Spare local L =2 \n",
    "# [1,0.155,0.04915,0.01635,0.005,0.0005,0,0,0,0,0] - Sparse local L = 1\n",
    "\n",
    "#[1,0.53,0.27,0.1,0.06,0.03,0,0,0,0,0]\n",
    "#[1, 0.21,0.0983,0.0327,0.02,0,0,0,0,0,0] - Sparse L = 1\n",
    "#[1,0.68,0.64,0.60,0.51,0.44,0.26,0.15,0.09,0.05,0]\n",
    "#[1,0.62,0.60,0.58,0.45,0.42,0.16,0.105,0.08,0.001,0]\n",
    "#[1,0.31,0.22,0.1,0.045,0.032,0.026,0.017,0.012,0.001,0]\n",
    "#[1,0.841,0.7,0.422,0.23,0.1,0.06,0.032,0.02,0.0175,0]\n",
    "\n",
    "local_opt =  [100 * i for i in local_opt]\n",
    "\n",
    "loc = {}\n",
    "loc ['x'] = opac\n",
    "loc ['y'] = local_opt\n",
    "loc ['label'] = loc_label\n",
    "loc ['mark'] = loc_mark\n",
    "\n",
    "# Global parameters \n",
    "loc ['xfmt'] = '%.0f%%'\n",
    "loc ['yfmt'] = '%.0f%%'\n",
    "loc ['xlab'] = \"Confidence($\\\\theta$)\"\n",
    "loc ['ylab'] = \"Edit Distance ratio (distortion)\"\n",
    "loc['file'] = 'Dist_L2_Sparse.pdf'\n",
    "\n",
    "to_draw.append(loc)"
   ]
  },
  {
   "cell_type": "code",
   "execution_count": 168,
   "metadata": {
    "collapsed": false
   },
   "outputs": [],
   "source": [
    "#glob_opt = [1,0.6,0.5875,0.51875,0.49375,0.4375,0.425,0.39375,0.35625,0.325,0]\n",
    "\n",
    "#[1,0.824561404,0.745614035,0.736842105,0.701754386,\n",
    " #            0.657894737,0.640350877,0.622807018,0.614035088,0.526315789,0] - Dense L = 3\n",
    "\n",
    "\n",
    "#[1,0.6,0.5875,0.51875,0.49375,0.4375,0.425,0.39375,0.35625,0.325,0] - Dense L =2 \n",
    "\n",
    "# [1,0.482631579,0.452105263,0.426315789,0.384210526,\n",
    "#            0.352631579,0.063157895,0.047368421,0.012105263,0.009210526,0] - Dense L =1 \n",
    "\n",
    "#___________________\n",
    "# [1,0.27,0.16,0.07,0.045,0.025,0.01,0.001,0,0,0] \n",
    "\n",
    "# ---------------------------\n",
    "#[1,0.31,0.19,0.085,0.05,0.025,0.01,0.001,0,0,0] Sparse gloabl L = 3\n",
    "glob_opt = [1,0.27,0.16,0.07,0.045,0.025,0.01,0.001,0,0,0] #Sparse global L =2 \n",
    "# [1,0.235,0.145,0.02,0.01,0.0005,0,0,0,0,0]  - Sparse global L = 1\n",
    "#[1,0.27,0.16,0.1,0.04,0.03,0,0,0,0,0]\n",
    "#[1,0.31,0.22,0.1,0.045,0.032,0.026,0.017,0.012,0.001,0]\n",
    "#[1,0.65,0.55,0.45,0.35,0.17,0.1,0.06,0.01,0.001,0]\n",
    "#[1,0.917,0.859,0.81,0.73,0.67,0.12,0.09,0.023,0.0175,0]\n",
    "#[1,0.31,0.22,0.1,0.045,0.032,0.026,0.017,0.012,0.001,0]\n",
    "glob_opt =  [100 * i for i in glob_opt]\n",
    "\n",
    "loc = {}\n",
    "loc ['x'] = opac\n",
    "loc ['y'] = glob_opt\n",
    "loc ['label'] = glob_label\n",
    "loc ['mark'] = glob_mark\n",
    "to_draw.append(loc)"
   ]
  },
  {
   "cell_type": "code",
   "execution_count": 169,
   "metadata": {
    "collapsed": false
   },
   "outputs": [
    {
     "data": {
      "image/png": "[encoded data removed]",
      "text/plain": [
       "<matplotlib.figure.Figure at 0x7f6eb2acc898>"
      ]
     },
     "metadata": {},
     "output_type": "display_data"
    }
   ],
   "source": [
    "pplot(to_draw)"
   ]
  },
  {
   "cell_type": "code",
   "execution_count": 170,
   "metadata": {
    "collapsed": true
   },
   "outputs": [],
   "source": [
    "nod = 10000"
   ]
  },
  {
   "cell_type": "code",
   "execution_count": 171,
   "metadata": {
    "collapsed": true
   },
   "outputs": [],
   "source": [
    "num = 2*10**(6)"
   ]
  },
  {
   "cell_type": "code",
   "execution_count": null,
   "metadata": {
    "collapsed": false
   },
   "outputs": [],
   "source": []
  },
  {
   "cell_type": "code",
   "execution_count": null,
   "metadata": {
    "collapsed": true
   },
   "outputs": [],
   "source": []
  },
  {
   "cell_type": "code",
   "execution_count": 172,
   "metadata": {
    "collapsed": false
   },
   "outputs": [
    {
     "name": "stdout",
     "output_type": "stream",
     "text": [
      "[100, 82.4561404, 74.5614035, 73.6842105, 70.17543859999999, 65.7894737, 64.0350877, 62.2807018, 61.4035088, 52.6315789, 0]\n"
     ]
    }
   ],
   "source": [
    "print(glob_opt)"
   ]
  },
  {
   "cell_type": "code",
   "execution_count": 173,
   "metadata": {
    "collapsed": false
   },
   "outputs": [],
   "source": [
    "g_opt = [num*i/100 for i in glob_opt]\n",
    "l_opt = [num*i/100 for i in local_opt]"
   ]
  },
  {
   "cell_type": "code",
   "execution_count": 174,
   "metadata": {
    "collapsed": true
   },
   "outputs": [],
   "source": [
    "deg = 2*num / nod"
   ]
  },
  {
   "cell_type": "code",
   "execution_count": 175,
   "metadata": {
    "collapsed": false
   },
   "outputs": [
    {
     "name": "stdout",
     "output_type": "stream",
     "text": [
      "[2000000.0, 1649122.8079999997, 1491228.07, 1473684.21, 1403508.7719999999, 1315789.4740000002, 1280701.754, 1245614.036, 1228070.176, 1052631.578, 0.0]\n",
      "[2000000.0, 1719298.246, 1701754.386, 1684210.5259999998, 1666666.6660000002, 1614035.0880000002, 1589473.6840000001, 1578947.368, 1578947.368, 1578947.368, 0.0]\n"
     ]
    }
   ],
   "source": [
    "print(g_opt)\n",
    "print(l_opt)"
   ]
  },
  {
   "cell_type": "code",
   "execution_count": 176,
   "metadata": {
    "collapsed": false
   },
   "outputs": [],
   "source": [
    "from random import random"
   ]
  },
  {
   "cell_type": "code",
   "execution_count": 177,
   "metadata": {
    "collapsed": false
   },
   "outputs": [
    {
     "name": "stdout",
     "output_type": "stream",
     "text": [
      "0.8397197970927315\n"
     ]
    }
   ],
   "source": [
    "k = random()\n",
    "print(k)"
   ]
  },
  {
   "cell_type": "code",
   "execution_count": 178,
   "metadata": {
    "collapsed": false
   },
   "outputs": [],
   "source": [
    "deg = deg - k*100"
   ]
  },
  {
   "cell_type": "code",
   "execution_count": 179,
   "metadata": {
    "collapsed": false
   },
   "outputs": [
    {
     "name": "stdout",
     "output_type": "stream",
     "text": [
      "316.0280202907269\n"
     ]
    }
   ],
   "source": [
    "print(deg)"
   ]
  },
  {
   "cell_type": "code",
   "execution_count": 180,
   "metadata": {
    "collapsed": true
   },
   "outputs": [],
   "source": [
    "L = 3"
   ]
  },
  {
   "cell_type": "code",
   "execution_count": 181,
   "metadata": {
    "collapsed": true
   },
   "outputs": [],
   "source": [
    "p = 1024\n",
    "p2 = 100"
   ]
  },
  {
   "cell_type": "code",
   "execution_count": 182,
   "metadata": {
    "collapsed": true
   },
   "outputs": [],
   "source": [
    "op_cost = 10**(-7)"
   ]
  },
  {
   "cell_type": "code",
   "execution_count": 183,
   "metadata": {
    "collapsed": false
   },
   "outputs": [
    {
     "name": "stdout",
     "output_type": "stream",
     "text": [
      "30.92166839491497\n"
     ]
    }
   ],
   "source": [
    "num_vert = nod\n",
    "tot_time = num_vert* op_cost\n",
    "for i in range(1, L):\n",
    "    add = 1 if num_vert*(deg**i) < p else num_vert*(deg**i)/p\n",
    "    left = p - num_vert*(deg**i)\n",
    "     \n",
    "    p2 = left if left > 0 else 1\n",
    "    add2 = 1 if deg < p2 else deg/p2\n",
    "    tot_time += add*add2*op_cost\n",
    "\n",
    "\n",
    "print(tot_time)\n",
    "    "
   ]
  },
  {
   "cell_type": "code",
   "execution_count": 184,
   "metadata": {
    "collapsed": true
   },
   "outputs": [],
   "source": [
    "apsp_time = tot_time"
   ]
  },
  {
   "cell_type": "code",
   "execution_count": 185,
   "metadata": {
    "collapsed": false
   },
   "outputs": [
    {
     "name": "stdout",
     "output_type": "stream",
     "text": [
      "0.006164927095075011\n"
     ]
    }
   ],
   "source": [
    "num_vert = 2\n",
    "tot_time = 2*op_cost\n",
    "for i in range(1, L):\n",
    "    add = 1 if num_vert*(deg**i) < p else num_vert*(deg**i)/p\n",
    "    left = p - num_vert*(deg**i)\n",
    "     \n",
    "    p2 = left if left > 0 else 1\n",
    "    add2 = 1 if deg < p2 else deg/p2\n",
    "    tot_time += add*add2*op_cost \n",
    "\n",
    "\n",
    "print(tot_time)\n"
   ]
  },
  {
   "cell_type": "code",
   "execution_count": 186,
   "metadata": {
    "collapsed": true
   },
   "outputs": [],
   "source": [
    "incr_time = tot_time"
   ]
  },
  {
   "cell_type": "code",
   "execution_count": 187,
   "metadata": {
    "collapsed": false
   },
   "outputs": [
    {
     "name": "stdout",
     "output_type": "stream",
     "text": [
      "30.92166839491497\n"
     ]
    }
   ],
   "source": [
    "print(apsp_time)"
   ]
  },
  {
   "cell_type": "code",
   "execution_count": 213,
   "metadata": {
    "collapsed": false
   },
   "outputs": [],
   "source": [
    "apsp_times = [((apsp_time*i)+apsp_time)/60 for i in g_opt]"
   ]
  },
  {
   "cell_type": "code",
   "execution_count": 214,
   "metadata": {
    "collapsed": false
   },
   "outputs": [
    {
     "name": "stdout",
     "output_type": "stream",
     "text": [
      "[1030722.7951916389, 849894.3255522569, 768521.5133899575, 759480.0897018439, 723314.3959801119, 678107.2785702666, 660024.4311940393, 641941.5848485345, 632900.161160421, 542485.9253100078, 0.5153611399152495]\n"
     ]
    }
   ],
   "source": [
    "print(apsp_times)"
   ]
  },
  {
   "cell_type": "code",
   "execution_count": 215,
   "metadata": {
    "collapsed": false
   },
   "outputs": [
    {
     "name": "stdout",
     "output_type": "stream",
     "text": [
      "0.006164927095075011\n"
     ]
    }
   ],
   "source": [
    "print(incr_time)"
   ]
  },
  {
   "cell_type": "code",
   "execution_count": 216,
   "metadata": {
    "collapsed": false
   },
   "outputs": [],
   "source": [
    "incr_times = [((incr_time*i)+apsp_time)/60 for i in g_opt]"
   ]
  },
  {
   "cell_type": "code",
   "execution_count": 217,
   "metadata": {
    "collapsed": false
   },
   "outputs": [
    {
     "name": "stdout",
     "output_type": "stream",
     "text": [
      "[206.01293097574893, 169.9607258423383, 153.7372333679055, 151.93462307013544, 144.72418208455284, 135.71113080120023, 132.1059102056601, 128.5006898156176, 126.69807951784755, 108.67197674564467, 0.5153611399152495]\n"
     ]
    }
   ],
   "source": [
    "print(incr_times)"
   ]
  },
  {
   "cell_type": "code",
   "execution_count": null,
   "metadata": {
    "collapsed": false
   },
   "outputs": [],
   "source": []
  },
  {
   "cell_type": "code",
   "execution_count": null,
   "metadata": {
    "collapsed": true
   },
   "outputs": [],
   "source": []
  },
  {
   "cell_type": "code",
   "execution_count": 218,
   "metadata": {
    "collapsed": true
   },
   "outputs": [],
   "source": [
    "opac = ['0','10','20','30','40','50','60','70','80','90','100']"
   ]
  },
  {
   "cell_type": "code",
   "execution_count": 219,
   "metadata": {
    "collapsed": false
   },
   "outputs": [],
   "source": [
    "#Local time del\n",
    "l_del = 0\n",
    "for i in range(1, L+1):\n",
    "    l_del += 10**(-8) * (deg**(i-1))"
   ]
  },
  {
   "cell_type": "code",
   "execution_count": 220,
   "metadata": {
    "collapsed": false
   },
   "outputs": [
    {
     "name": "stdout",
     "output_type": "stream",
     "text": [
      "0.0010019073762916682\n"
     ]
    }
   ],
   "source": [
    "print(l_del)"
   ]
  },
  {
   "cell_type": "code",
   "execution_count": 221,
   "metadata": {
    "collapsed": false
   },
   "outputs": [
    {
     "name": "stdout",
     "output_type": "stream",
     "text": [
      "[33.912273682970856, 29.224987718460703, 28.932032339416896, 28.63907696037309, 28.34612158132929, 27.467255477594787, 27.057117946933452, 26.88134471950717, 26.88134471950717, 26.88134471950717, 0.5153611399152495]\n"
     ]
    }
   ],
   "source": [
    "local_time = [(i*l_del+apsp_time)/60 for i in l_opt]\n",
    "print(local_time)"
   ]
  },
  {
   "cell_type": "code",
   "execution_count": 222,
   "metadata": {
    "collapsed": true
   },
   "outputs": [],
   "source": [
    "def pplot(to_draw):\n",
    "    ax = plt.subplot(111)\n",
    "    # Hide the right and top spines\n",
    "    ax.spines['right'].set_visible(False)\n",
    "    ax.spines['top'].set_visible(False)\n",
    "    # Only show ticks on the left and bottom spines\n",
    "    ax.yaxis.set_ticks_position('left')\n",
    "    ax.xaxis.set_ticks_position('bottom')\n",
    "    #fmt = to_draw[0]['xfmt'] # Format you want the ticks, e.g. '40%'\n",
    "    #xticks = mtick.FormatStrFormatter(fmt)\n",
    "    #ax.xaxis.set_major_formatter(xticks)\n",
    "    #fmt = to_draw[0]['yfmt'] #'%.0f%%' # Format you want the ticks, e.g. '40%'\n",
    "    #xticks = mtick.FormatStrFormatter(fmt)\n",
    "    #ax.yaxis.set_major_formatter(xticks)\n",
    "    \n",
    "    plt.xlabel(to_draw[0]['xlab'])\n",
    "    plt.ylabel(to_draw[0]['ylab'])\n",
    "    ax.set_yscale('log')\n",
    "    \n",
    "    legends = []\n",
    "    for t in to_draw:\n",
    "        l1, = ax.plot(t['x'], t['y'], '-', label = t['label'], fillstyle='none', marker = t['mark'])\n",
    "        legends.append(l1)\n",
    "    ax.legend(handles=legends)\n",
    "    \n",
    "    plt.savefig(to_draw[0]['file'], bbox_inches='tight')\n",
    "    plt.show()\n",
    "\n",
    "\n"
   ]
  },
  {
   "cell_type": "code",
   "execution_count": 226,
   "metadata": {
    "collapsed": true
   },
   "outputs": [],
   "source": [
    "to_draw = []"
   ]
  },
  {
   "cell_type": "code",
   "execution_count": 227,
   "metadata": {
    "collapsed": true
   },
   "outputs": [],
   "source": [
    "#local_opt = [1501.85546875, 675.8349609375, 630.779296875, 225.2783203125, \n",
    "#             135.1669921875, 90.111328125, 30.037109375, 25.53154296875, 18.022265625, 1.50185546875, 0.0]\n",
    "#[34.70107460021973, 15.615483570098878, 14.574451332092286, 5.205161190032959, \n",
    "# 3.1230967140197756, 2.0820644760131835, 0.6940214920043946, 0.5899182682037354, 0.4164128952026367, 0.034701074600219727, 0.0]\n",
    "\n",
    "#[107.275390625, 33.25537109375, 23.6005859375, 10.7275390625, \n",
    "#             4.827392578125, 3.4328125, 2.78916015625, 1.823681640625, 1.2873046875, 0.107275390625, 0.0]\n",
    "#local_opt =  [100 * i for i in local_opt]\n",
    "\n",
    "# local_time for local time\n",
    "#local_opt = [0.065, 0.03055, 0.01885, 0.006500000000000001, 0.0026, 0.0, 0.0, 0.0, 0.0, 0.0, 0.0]\n",
    "\n",
    "loc = {}\n",
    "loc ['x'] = opac\n",
    "loc ['y'] = local_time\n",
    "loc ['label'] = 'Local'\n",
    "loc ['mark'] = 'o' \n",
    "\n",
    "# Global parameters \n",
    "#loc ['xfmt'] = '%.0f%'\n",
    "#loc ['yfmt'] = '%.0f%%'\n",
    "loc ['xlab'] = \"Confidence($\\\\theta$)\"\n",
    "loc ['ylab'] = \"Runtime (Min)\"\n",
    "loc['file'] = 'Run_L3_Dense.pdf'\n",
    "\n",
    "to_draw.append(loc)"
   ]
  },
  {
   "cell_type": "code",
   "execution_count": 228,
   "metadata": {
    "collapsed": true
   },
   "outputs": [],
   "source": [
    "# Using incremental\n",
    "#glob_opt = [107.27539062500001, 50.41943359375001, 31.10986328125,\n",
    "#             10.727539062500002, 4.291015625000001, 0.0, 0.0, 0.0, 0.0, 0.0, 0.0]\n",
    "\n",
    "#        [173.61111111111111, 53.81944444444444, 38.19444444444444, 17.36111111111111, \n",
    "#            7.8125, 5.555555555555555, 4.513888888888888, 2.951388888888889, \n",
    "#            2.0833333333333335, 0.1736111111111111, 0.0005555555555555556]\n",
    "#[0.13, 0.058499999999999996,\n",
    "#            0.054599999999999996, 0.0195, 0.0117, 0.0078, 0.0026, 0.0022099999999999997, 0.00156, 0.00013, 0.0]\n",
    "#[0.065, 0.020149999999999998, 0.0143, 0.0065, 0.002925, \n",
    " #           0.00208, 0.0016899999999999999, 0.0011049999999999999, 0.00078, 6.5e-05, 0.0]\n",
    "# glob_opt =  [100 * i for i in glob_opt]\n",
    "\n",
    "loc = {}\n",
    "loc ['x'] = opac\n",
    "loc ['y'] = incr_times\n",
    "loc ['label'] =  'Incr Global' #glob_label\n",
    "loc ['mark'] = 'v' #glob_mark\n",
    "to_draw.append(loc)"
   ]
  },
  {
   "cell_type": "code",
   "execution_count": 119,
   "metadata": {
    "collapsed": true
   },
   "outputs": [],
   "source": [
    "# Using apsp \n",
    "#glob_opt = [107.27539062500001, 50.41943359375001, 31.10986328125,\n",
    "#             10.727539062500002, 4.291015625000001, 0.0, 0.0, 0.0, 0.0, 0.0, 0.0]\n",
    "\n",
    "#        [173.61111111111111, 53.81944444444444, 38.19444444444444, 17.36111111111111, \n",
    "#            7.8125, 5.555555555555555, 4.513888888888888, 2.951388888888889, \n",
    "#            2.0833333333333335, 0.1736111111111111, 0.0005555555555555556]\n",
    "#[0.13, 0.058499999999999996,\n",
    "#            0.054599999999999996, 0.0195, 0.0117, 0.0078, 0.0026, 0.0022099999999999997, 0.00156, 0.00013, 0.0]\n",
    "#[0.065, 0.020149999999999998, 0.0143, 0.0065, 0.002925, \n",
    " #           0.00208, 0.0016899999999999999, 0.0011049999999999999, 0.00078, 6.5e-05, 0.0]\n",
    "# glob_opt =  [100 * i for i in glob_opt]\n",
    "\n",
    "loc = {}\n",
    "loc ['x'] = opac\n",
    "loc ['y'] = apsp_times\n",
    "loc ['label'] =  'APSP Global' #glob_label\n",
    "loc ['mark'] = '^' #glob_mark\n",
    "to_draw.append(loc)"
   ]
  },
  {
   "cell_type": "code",
   "execution_count": 229,
   "metadata": {
    "collapsed": false
   },
   "outputs": [
    {
     "data": {
      "image/png": "[encoded data removed]",
      "text/plain": [
       "<matplotlib.figure.Figure at 0x7f4fd280a630>"
      ]
     },
     "metadata": {},
     "output_type": "display_data"
    }
   ],
   "source": [
    "pplot(to_draw)"
   ]
  },
  {
   "cell_type": "code",
   "execution_count": null,
   "metadata": {
    "collapsed": true
   },
   "outputs": [],
   "source": []
  },
  {
   "cell_type": "code",
   "execution_count": null,
   "metadata": {
    "collapsed": true
   },
   "outputs": [],
   "source": []
  }
 ],
 "metadata": {
  "kernelspec": {
   "display_name": "Python 3",
   "language": "python",
   "name": "python3"
  },
  "language_info": {
   "codemirror_mode": {
    "name": "ipython",
    "version": 3
   },
   "file_extension": ".py",
   "mimetype": "text/x-python",
   "name": "python",
   "nbconvert_exporter": "python",
   "pygments_lexer": "ipython3",
   "version": "3.5.1"
  }
 },
 "nbformat": 4,
 "nbformat_minor": 0
}
